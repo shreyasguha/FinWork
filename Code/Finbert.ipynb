{
 "cells": [
  {
   "cell_type": "code",
   "execution_count": 13,
   "metadata": {},
   "outputs": [
    {
     "name": "stderr",
     "output_type": "stream",
     "text": [
      "huggingface/tokenizers: The current process just got forked, after parallelism has already been used. Disabling parallelism to avoid deadlocks...\n",
      "To disable this warning, you can either:\n",
      "\t- Avoid using `tokenizers` before the fork if possible\n",
      "\t- Explicitly set the environment variable TOKENIZERS_PARALLELISM=(true | false)\n",
      "Some weights of the model checkpoint at yiyanghkust/finbert-pretrain were not used when initializing BertForMaskedLM: ['bert.pooler.dense.bias', 'bert.pooler.dense.weight', 'cls.seq_relationship.bias', 'cls.seq_relationship.weight']\n",
      "- This IS expected if you are initializing BertForMaskedLM from the checkpoint of a model trained on another task or with another architecture (e.g. initializing a BertForSequenceClassification model from a BertForPreTraining model).\n",
      "- This IS NOT expected if you are initializing BertForMaskedLM from the checkpoint of a model that you expect to be exactly identical (initializing a BertForSequenceClassification model from a BertForSequenceClassification model).\n"
     ]
    }
   ],
   "source": [
    "# Load model directly\n",
    "from transformers import AutoTokenizer, AutoModelForSequenceClassification, AutoModel, AutoModelForMaskedLM, pipeline\n",
    "\n",
    "# tokenizer = AutoTokenizer.from_pretrained(\"ProsusAI/finbert\")\n",
    "tokenizer = AutoTokenizer.from_pretrained(\"yiyanghkust/finbert-pretrain\")\n",
    "# model = AutoModelForSequenceClassification.from_pretrained(\"ProsusAI/finbert\")\n",
    "model = AutoModelForMaskedLM.from_pretrained(\"yiyanghkust/finbert-pretrain\")"
   ]
  },
  {
   "cell_type": "code",
   "execution_count": 14,
   "metadata": {},
   "outputs": [
    {
     "name": "stderr",
     "output_type": "stream",
     "text": [
      "Device set to use mps:0\n"
     ]
    }
   ],
   "source": [
    "# pipe = pipeline(\"text-classification\", model=model, tokenizer=tokenizer)\n",
    "pipe = pipeline(\"fill-mask\", model=model, tokenizer=tokenizer)"
   ]
  },
  {
   "cell_type": "code",
   "execution_count": 16,
   "metadata": {},
   "outputs": [
    {
     "data": {
      "text/plain": [
       "[{'score': 0.8233453631401062,\n",
       "  'token': 37,\n",
       "  'token_str': 'company',\n",
       "  'sequence': 'the company is the largest bank in the world.'},\n",
       " {'score': 0.09306269884109497,\n",
       "  'token': 230,\n",
       "  'token_str': 'bank',\n",
       "  'sequence': 'the bank is the largest bank in the world.'},\n",
       " {'score': 0.032768987119197845,\n",
       "  'token': 611,\n",
       "  'token_str': 'corporation',\n",
       "  'sequence': 'the corporation is the largest bank in the world.'},\n",
       " {'score': 0.03126588091254234,\n",
       "  'token': 803,\n",
       "  'token_str': 'firm',\n",
       "  'sequence': 'the firm is the largest bank in the world.'},\n",
       " {'score': 0.002442786702886224,\n",
       "  'token': 2391,\n",
       "  'token_str': 'union',\n",
       "  'sequence': 'the union is the largest bank in the world.'}]"
      ]
     },
     "execution_count": 16,
     "metadata": {},
     "output_type": "execute_result"
    }
   ],
   "source": [
    "text = \"The [MASK] is the largest bank in the world.\"\n",
    "pipe(text)"
   ]
  },
  {
   "cell_type": "code",
   "execution_count": null,
   "metadata": {},
   "outputs": [],
   "source": []
  }
 ],
 "metadata": {
  "kernelspec": {
   "display_name": "base",
   "language": "python",
   "name": "python3"
  },
  "language_info": {
   "codemirror_mode": {
    "name": "ipython",
    "version": 3
   },
   "file_extension": ".py",
   "mimetype": "text/x-python",
   "name": "python",
   "nbconvert_exporter": "python",
   "pygments_lexer": "ipython3",
   "version": "3.12.2"
  }
 },
 "nbformat": 4,
 "nbformat_minor": 2
}

{
  "cells": [
    {
      "cell_type": "code",
      "execution_count": 1,
      "metadata": {
        "colab": {
          "base_uri": "https://localhost:8080/"
        },
        "id": "o4-qIq-Rt179",
        "outputId": "9ef17960-bab9-40dc-acca-b361ab81d8e0"
      },
      "outputs": [
        {
          "output_type": "stream",
          "name": "stdout",
          "text": [
            "Requirement already satisfied: datasets in /usr/local/lib/python3.11/dist-packages (2.14.4)\n",
            "Collecting transformers==4.18.0\n",
            "  Downloading transformers-4.18.0-py3-none-any.whl.metadata (70 kB)\n",
            "\u001b[2K     \u001b[90m━━━━━━━━━━━━━━━━━━━━━━━━━━━━━━━━━━━━━━━━\u001b[0m \u001b[32m70.3/70.3 kB\u001b[0m \u001b[31m3.5 MB/s\u001b[0m eta \u001b[36m0:00:00\u001b[0m\n",
            "\u001b[?25hRequirement already satisfied: sentencepiece in /usr/local/lib/python3.11/dist-packages (0.2.0)\n",
            "Requirement already satisfied: filelock in /usr/local/lib/python3.11/dist-packages (from transformers==4.18.0) (3.18.0)\n",
            "Requirement already satisfied: huggingface-hub<1.0,>=0.1.0 in /usr/local/lib/python3.11/dist-packages (from transformers==4.18.0) (0.32.4)\n",
            "Requirement already satisfied: numpy>=1.17 in /usr/local/lib/python3.11/dist-packages (from transformers==4.18.0) (2.0.2)\n",
            "Requirement already satisfied: packaging>=20.0 in /usr/local/lib/python3.11/dist-packages (from transformers==4.18.0) (24.2)\n",
            "Requirement already satisfied: pyyaml>=5.1 in /usr/local/lib/python3.11/dist-packages (from transformers==4.18.0) (6.0.2)\n",
            "Requirement already satisfied: regex!=2019.12.17 in /usr/local/lib/python3.11/dist-packages (from transformers==4.18.0) (2024.11.6)\n",
            "Requirement already satisfied: requests in /usr/local/lib/python3.11/dist-packages (from transformers==4.18.0) (2.32.3)\n",
            "Collecting sacremoses (from transformers==4.18.0)\n",
            "  Downloading sacremoses-0.1.1-py3-none-any.whl.metadata (8.3 kB)\n",
            "Collecting tokenizers!=0.11.3,<0.13,>=0.11.1 (from transformers==4.18.0)\n",
            "  Downloading tokenizers-0.12.1.tar.gz (220 kB)\n",
            "\u001b[2K     \u001b[90m━━━━━━━━━━━━━━━━━━━━━━━━━━━━━━━━━━━━━━━\u001b[0m \u001b[32m220.7/220.7 kB\u001b[0m \u001b[31m4.6 MB/s\u001b[0m eta \u001b[36m0:00:00\u001b[0m\n",
            "\u001b[?25h  Installing build dependencies ... \u001b[?25l\u001b[?25hdone\n",
            "  Getting requirements to build wheel ... \u001b[?25l\u001b[?25hdone\n",
            "  Preparing metadata (pyproject.toml) ... \u001b[?25l\u001b[?25hdone\n",
            "Requirement already satisfied: tqdm>=4.27 in /usr/local/lib/python3.11/dist-packages (from transformers==4.18.0) (4.67.1)\n",
            "Requirement already satisfied: pyarrow>=8.0.0 in /usr/local/lib/python3.11/dist-packages (from datasets) (18.1.0)\n",
            "Requirement already satisfied: dill<0.3.8,>=0.3.0 in /usr/local/lib/python3.11/dist-packages (from datasets) (0.3.7)\n",
            "Requirement already satisfied: pandas in /usr/local/lib/python3.11/dist-packages (from datasets) (2.2.2)\n",
            "Requirement already satisfied: xxhash in /usr/local/lib/python3.11/dist-packages (from datasets) (3.5.0)\n",
            "Requirement already satisfied: multiprocess in /usr/local/lib/python3.11/dist-packages (from datasets) (0.70.15)\n",
            "Requirement already satisfied: fsspec>=2021.11.1 in /usr/local/lib/python3.11/dist-packages (from fsspec[http]>=2021.11.1->datasets) (2025.3.2)\n",
            "Requirement already satisfied: aiohttp in /usr/local/lib/python3.11/dist-packages (from datasets) (3.11.15)\n",
            "Requirement already satisfied: aiohappyeyeballs>=2.3.0 in /usr/local/lib/python3.11/dist-packages (from aiohttp->datasets) (2.6.1)\n",
            "Requirement already satisfied: aiosignal>=1.1.2 in /usr/local/lib/python3.11/dist-packages (from aiohttp->datasets) (1.3.2)\n",
            "Requirement already satisfied: attrs>=17.3.0 in /usr/local/lib/python3.11/dist-packages (from aiohttp->datasets) (25.3.0)\n",
            "Requirement already satisfied: frozenlist>=1.1.1 in /usr/local/lib/python3.11/dist-packages (from aiohttp->datasets) (1.6.0)\n",
            "Requirement already satisfied: multidict<7.0,>=4.5 in /usr/local/lib/python3.11/dist-packages (from aiohttp->datasets) (6.4.4)\n",
            "Requirement already satisfied: propcache>=0.2.0 in /usr/local/lib/python3.11/dist-packages (from aiohttp->datasets) (0.3.1)\n",
            "Requirement already satisfied: yarl<2.0,>=1.17.0 in /usr/local/lib/python3.11/dist-packages (from aiohttp->datasets) (1.20.0)\n",
            "Requirement already satisfied: typing-extensions>=3.7.4.3 in /usr/local/lib/python3.11/dist-packages (from huggingface-hub<1.0,>=0.1.0->transformers==4.18.0) (4.14.0)\n",
            "Requirement already satisfied: hf-xet<2.0.0,>=1.1.2 in /usr/local/lib/python3.11/dist-packages (from huggingface-hub<1.0,>=0.1.0->transformers==4.18.0) (1.1.2)\n",
            "Requirement already satisfied: charset-normalizer<4,>=2 in /usr/local/lib/python3.11/dist-packages (from requests->transformers==4.18.0) (3.4.2)\n",
            "Requirement already satisfied: idna<4,>=2.5 in /usr/local/lib/python3.11/dist-packages (from requests->transformers==4.18.0) (3.10)\n",
            "Requirement already satisfied: urllib3<3,>=1.21.1 in /usr/local/lib/python3.11/dist-packages (from requests->transformers==4.18.0) (2.4.0)\n",
            "Requirement already satisfied: certifi>=2017.4.17 in /usr/local/lib/python3.11/dist-packages (from requests->transformers==4.18.0) (2025.4.26)\n",
            "Requirement already satisfied: python-dateutil>=2.8.2 in /usr/local/lib/python3.11/dist-packages (from pandas->datasets) (2.9.0.post0)\n",
            "Requirement already satisfied: pytz>=2020.1 in /usr/local/lib/python3.11/dist-packages (from pandas->datasets) (2025.2)\n",
            "Requirement already satisfied: tzdata>=2022.7 in /usr/local/lib/python3.11/dist-packages (from pandas->datasets) (2025.2)\n",
            "Requirement already satisfied: click in /usr/local/lib/python3.11/dist-packages (from sacremoses->transformers==4.18.0) (8.2.1)\n",
            "Requirement already satisfied: joblib in /usr/local/lib/python3.11/dist-packages (from sacremoses->transformers==4.18.0) (1.5.1)\n",
            "Requirement already satisfied: six>=1.5 in /usr/local/lib/python3.11/dist-packages (from python-dateutil>=2.8.2->pandas->datasets) (1.17.0)\n",
            "Downloading transformers-4.18.0-py3-none-any.whl (4.0 MB)\n",
            "\u001b[2K   \u001b[90m━━━━━━━━━━━━━━━━━━━━━━━━━━━━━━━━━━━━━━━━\u001b[0m \u001b[32m4.0/4.0 MB\u001b[0m \u001b[31m33.7 MB/s\u001b[0m eta \u001b[36m0:00:00\u001b[0m\n",
            "\u001b[?25hDownloading sacremoses-0.1.1-py3-none-any.whl (897 kB)\n",
            "\u001b[2K   \u001b[90m━━━━━━━━━━━━━━━━━━━━━━━━━━━━━━━━━━━━━━━━\u001b[0m \u001b[32m897.5/897.5 kB\u001b[0m \u001b[31m43.0 MB/s\u001b[0m eta \u001b[36m0:00:00\u001b[0m\n",
            "\u001b[?25hBuilding wheels for collected packages: tokenizers\n",
            "  \u001b[1;31merror\u001b[0m: \u001b[1msubprocess-exited-with-error\u001b[0m\n",
            "  \n",
            "  \u001b[31m×\u001b[0m \u001b[32mBuilding wheel for tokenizers \u001b[0m\u001b[1;32m(\u001b[0m\u001b[32mpyproject.toml\u001b[0m\u001b[1;32m)\u001b[0m did not run successfully.\n",
            "  \u001b[31m│\u001b[0m exit code: \u001b[1;36m1\u001b[0m\n",
            "  \u001b[31m╰─>\u001b[0m See above for output.\n",
            "  \n",
            "  \u001b[1;35mnote\u001b[0m: This error originates from a subprocess, and is likely not a problem with pip.\n",
            "  Building wheel for tokenizers (pyproject.toml) ... \u001b[?25l\u001b[?25herror\n",
            "\u001b[31m  ERROR: Failed building wheel for tokenizers\u001b[0m\u001b[31m\n",
            "\u001b[0mFailed to build tokenizers\n",
            "\u001b[31mERROR: ERROR: Failed to build installable wheels for some pyproject.toml based projects (tokenizers)\u001b[0m\u001b[31m\n",
            "\u001b[0m"
          ]
        }
      ],
      "source": [
        "!pip install datasets transformers==4.18.0 sentencepiece"
      ]
    },
    {
      "cell_type": "code",
      "execution_count": 1,
      "metadata": {
        "id": "cJ5SzANft-Lx",
        "colab": {
          "base_uri": "https://localhost:8080/"
        },
        "outputId": "b2e51338-7128-405e-9949-c66ff234dfb3"
      },
      "outputs": [
        {
          "output_type": "stream",
          "name": "stderr",
          "text": [
            "TAPAS models are not usable since `tensorflow_probability` can't be loaded. It seems you have `tensorflow_probability` installed with the wrong tensorflow version. Please try to reinstall it following the instructions here: https://github.com/tensorflow/probability.\n",
            "GroupViT models are not usable since `tensorflow_probability` can't be loaded. It seems you have `tensorflow_probability` installed with the wrong tensorflow version.Please try to reinstall it following the instructions here: https://github.com/tensorflow/probability.\n"
          ]
        }
      ],
      "source": [
        "from datasets import *\n",
        "from transformers import *\n",
        "from tokenizers import *\n",
        "import os\n",
        "import json"
      ]
    },
    {
      "cell_type": "code",
      "source": [
        "pip install --upgrade datasets fsspec"
      ],
      "metadata": {
        "id": "B-IehwQakUId",
        "outputId": "f53353d6-7a87-47f7-aea9-9dc25c07a12d",
        "colab": {
          "base_uri": "https://localhost:8080/",
          "height": 1000
        }
      },
      "execution_count": 4,
      "outputs": [
        {
          "output_type": "stream",
          "name": "stdout",
          "text": [
            "Requirement already satisfied: datasets in /usr/local/lib/python3.11/dist-packages (2.14.4)\n",
            "Collecting datasets\n",
            "  Downloading datasets-3.6.0-py3-none-any.whl.metadata (19 kB)\n",
            "Requirement already satisfied: fsspec in /usr/local/lib/python3.11/dist-packages (2025.3.2)\n",
            "Collecting fsspec\n",
            "  Downloading fsspec-2025.5.1-py3-none-any.whl.metadata (11 kB)\n",
            "Requirement already satisfied: filelock in /usr/local/lib/python3.11/dist-packages (from datasets) (3.18.0)\n",
            "Requirement already satisfied: numpy>=1.17 in /usr/local/lib/python3.11/dist-packages (from datasets) (2.0.2)\n",
            "Requirement already satisfied: pyarrow>=15.0.0 in /usr/local/lib/python3.11/dist-packages (from datasets) (18.1.0)\n",
            "Requirement already satisfied: dill<0.3.9,>=0.3.0 in /usr/local/lib/python3.11/dist-packages (from datasets) (0.3.7)\n",
            "Requirement already satisfied: pandas in /usr/local/lib/python3.11/dist-packages (from datasets) (2.2.2)\n",
            "Requirement already satisfied: requests>=2.32.2 in /usr/local/lib/python3.11/dist-packages (from datasets) (2.32.3)\n",
            "Requirement already satisfied: tqdm>=4.66.3 in /usr/local/lib/python3.11/dist-packages (from datasets) (4.67.1)\n",
            "Requirement already satisfied: xxhash in /usr/local/lib/python3.11/dist-packages (from datasets) (3.5.0)\n",
            "Requirement already satisfied: multiprocess<0.70.17 in /usr/local/lib/python3.11/dist-packages (from datasets) (0.70.15)\n",
            "  Downloading fsspec-2025.3.0-py3-none-any.whl.metadata (11 kB)\n",
            "Requirement already satisfied: huggingface-hub>=0.24.0 in /usr/local/lib/python3.11/dist-packages (from datasets) (0.32.4)\n",
            "Requirement already satisfied: packaging in /usr/local/lib/python3.11/dist-packages (from datasets) (24.2)\n",
            "Requirement already satisfied: pyyaml>=5.1 in /usr/local/lib/python3.11/dist-packages (from datasets) (6.0.2)\n",
            "Requirement already satisfied: aiohttp!=4.0.0a0,!=4.0.0a1 in /usr/local/lib/python3.11/dist-packages (from fsspec[http]<=2025.3.0,>=2023.1.0->datasets) (3.11.15)\n",
            "Requirement already satisfied: typing-extensions>=3.7.4.3 in /usr/local/lib/python3.11/dist-packages (from huggingface-hub>=0.24.0->datasets) (4.14.0)\n",
            "Requirement already satisfied: hf-xet<2.0.0,>=1.1.2 in /usr/local/lib/python3.11/dist-packages (from huggingface-hub>=0.24.0->datasets) (1.1.2)\n",
            "Requirement already satisfied: charset-normalizer<4,>=2 in /usr/local/lib/python3.11/dist-packages (from requests>=2.32.2->datasets) (3.4.2)\n",
            "Requirement already satisfied: idna<4,>=2.5 in /usr/local/lib/python3.11/dist-packages (from requests>=2.32.2->datasets) (3.10)\n",
            "Requirement already satisfied: urllib3<3,>=1.21.1 in /usr/local/lib/python3.11/dist-packages (from requests>=2.32.2->datasets) (2.4.0)\n",
            "Requirement already satisfied: certifi>=2017.4.17 in /usr/local/lib/python3.11/dist-packages (from requests>=2.32.2->datasets) (2025.4.26)\n",
            "Requirement already satisfied: python-dateutil>=2.8.2 in /usr/local/lib/python3.11/dist-packages (from pandas->datasets) (2.9.0.post0)\n",
            "Requirement already satisfied: pytz>=2020.1 in /usr/local/lib/python3.11/dist-packages (from pandas->datasets) (2025.2)\n",
            "Requirement already satisfied: tzdata>=2022.7 in /usr/local/lib/python3.11/dist-packages (from pandas->datasets) (2025.2)\n",
            "Requirement already satisfied: aiohappyeyeballs>=2.3.0 in /usr/local/lib/python3.11/dist-packages (from aiohttp!=4.0.0a0,!=4.0.0a1->fsspec[http]<=2025.3.0,>=2023.1.0->datasets) (2.6.1)\n",
            "Requirement already satisfied: aiosignal>=1.1.2 in /usr/local/lib/python3.11/dist-packages (from aiohttp!=4.0.0a0,!=4.0.0a1->fsspec[http]<=2025.3.0,>=2023.1.0->datasets) (1.3.2)\n",
            "Requirement already satisfied: attrs>=17.3.0 in /usr/local/lib/python3.11/dist-packages (from aiohttp!=4.0.0a0,!=4.0.0a1->fsspec[http]<=2025.3.0,>=2023.1.0->datasets) (25.3.0)\n",
            "Requirement already satisfied: frozenlist>=1.1.1 in /usr/local/lib/python3.11/dist-packages (from aiohttp!=4.0.0a0,!=4.0.0a1->fsspec[http]<=2025.3.0,>=2023.1.0->datasets) (1.6.0)\n",
            "Requirement already satisfied: multidict<7.0,>=4.5 in /usr/local/lib/python3.11/dist-packages (from aiohttp!=4.0.0a0,!=4.0.0a1->fsspec[http]<=2025.3.0,>=2023.1.0->datasets) (6.4.4)\n",
            "Requirement already satisfied: propcache>=0.2.0 in /usr/local/lib/python3.11/dist-packages (from aiohttp!=4.0.0a0,!=4.0.0a1->fsspec[http]<=2025.3.0,>=2023.1.0->datasets) (0.3.1)\n",
            "Requirement already satisfied: yarl<2.0,>=1.17.0 in /usr/local/lib/python3.11/dist-packages (from aiohttp!=4.0.0a0,!=4.0.0a1->fsspec[http]<=2025.3.0,>=2023.1.0->datasets) (1.20.0)\n",
            "Requirement already satisfied: six>=1.5 in /usr/local/lib/python3.11/dist-packages (from python-dateutil>=2.8.2->pandas->datasets) (1.17.0)\n",
            "Downloading datasets-3.6.0-py3-none-any.whl (491 kB)\n",
            "\u001b[2K   \u001b[90m━━━━━━━━━━━━━━━━━━━━━━━━━━━━━━━━━━━━━━━━\u001b[0m \u001b[32m491.5/491.5 kB\u001b[0m \u001b[31m16.7 MB/s\u001b[0m eta \u001b[36m0:00:00\u001b[0m\n",
            "\u001b[?25hDownloading fsspec-2025.3.0-py3-none-any.whl (193 kB)\n",
            "\u001b[2K   \u001b[90m━━━━━━━━━━━━━━━━━━━━━━━━━━━━━━━━━━━━━━━━\u001b[0m \u001b[32m193.6/193.6 kB\u001b[0m \u001b[31m19.3 MB/s\u001b[0m eta \u001b[36m0:00:00\u001b[0m\n",
            "\u001b[?25hInstalling collected packages: fsspec, datasets\n",
            "  Attempting uninstall: fsspec\n",
            "    Found existing installation: fsspec 2025.3.2\n",
            "    Uninstalling fsspec-2025.3.2:\n",
            "      Successfully uninstalled fsspec-2025.3.2\n",
            "  Attempting uninstall: datasets\n",
            "    Found existing installation: datasets 2.14.4\n",
            "    Uninstalling datasets-2.14.4:\n",
            "      Successfully uninstalled datasets-2.14.4\n",
            "\u001b[31mERROR: pip's dependency resolver does not currently take into account all the packages that are installed. This behaviour is the source of the following dependency conflicts.\n",
            "torch 2.6.0+cu124 requires nvidia-cublas-cu12==12.4.5.8; platform_system == \"Linux\" and platform_machine == \"x86_64\", but you have nvidia-cublas-cu12 12.5.3.2 which is incompatible.\n",
            "torch 2.6.0+cu124 requires nvidia-cuda-cupti-cu12==12.4.127; platform_system == \"Linux\" and platform_machine == \"x86_64\", but you have nvidia-cuda-cupti-cu12 12.5.82 which is incompatible.\n",
            "torch 2.6.0+cu124 requires nvidia-cuda-nvrtc-cu12==12.4.127; platform_system == \"Linux\" and platform_machine == \"x86_64\", but you have nvidia-cuda-nvrtc-cu12 12.5.82 which is incompatible.\n",
            "torch 2.6.0+cu124 requires nvidia-cuda-runtime-cu12==12.4.127; platform_system == \"Linux\" and platform_machine == \"x86_64\", but you have nvidia-cuda-runtime-cu12 12.5.82 which is incompatible.\n",
            "torch 2.6.0+cu124 requires nvidia-cudnn-cu12==9.1.0.70; platform_system == \"Linux\" and platform_machine == \"x86_64\", but you have nvidia-cudnn-cu12 9.3.0.75 which is incompatible.\n",
            "torch 2.6.0+cu124 requires nvidia-cufft-cu12==11.2.1.3; platform_system == \"Linux\" and platform_machine == \"x86_64\", but you have nvidia-cufft-cu12 11.2.3.61 which is incompatible.\n",
            "torch 2.6.0+cu124 requires nvidia-curand-cu12==10.3.5.147; platform_system == \"Linux\" and platform_machine == \"x86_64\", but you have nvidia-curand-cu12 10.3.6.82 which is incompatible.\n",
            "torch 2.6.0+cu124 requires nvidia-cusolver-cu12==11.6.1.9; platform_system == \"Linux\" and platform_machine == \"x86_64\", but you have nvidia-cusolver-cu12 11.6.3.83 which is incompatible.\n",
            "torch 2.6.0+cu124 requires nvidia-cusparse-cu12==12.3.1.170; platform_system == \"Linux\" and platform_machine == \"x86_64\", but you have nvidia-cusparse-cu12 12.5.1.3 which is incompatible.\n",
            "torch 2.6.0+cu124 requires nvidia-nvjitlink-cu12==12.4.127; platform_system == \"Linux\" and platform_machine == \"x86_64\", but you have nvidia-nvjitlink-cu12 12.5.82 which is incompatible.\n",
            "gcsfs 2025.3.2 requires fsspec==2025.3.2, but you have fsspec 2025.3.0 which is incompatible.\u001b[0m\u001b[31m\n",
            "\u001b[0mSuccessfully installed datasets-3.6.0 fsspec-2025.3.0\n"
          ]
        },
        {
          "output_type": "display_data",
          "data": {
            "application/vnd.colab-display-data+json": {
              "pip_warning": {
                "packages": [
                  "datasets",
                  "fsspec"
                ]
              },
              "id": "af77fc0035ee4c2e8d1bb1895f2d0f28"
            }
          },
          "metadata": {}
        }
      ]
    },
    {
      "cell_type": "code",
      "execution_count": 2,
      "metadata": {
        "colab": {
          "base_uri": "https://localhost:8080/",
          "height": 241,
          "referenced_widgets": [
            "5c3ff787b37c40e4a88a5c0c9008db0c",
            "25f38261f7c148e691b04ef2aebbbfb2",
            "09551de47d7e43899888a57b4f522943",
            "d8ee64be3368445282274e55facd5c15",
            "8c8385d6463b47749bb503cffac72c4c",
            "8d95f0c34eb44bd7bfa21217c5b2baf8",
            "22c7ea7c05374b0f8198c43bc5024f7a",
            "ddb2620bc13f4a8ea7655ffabb80ec77",
            "d4a4933158e54cf1839c8e3bd82941b8",
            "60e1fc4d9dfb4197abdb54a2b69f87e5",
            "8022e21766534cee854ac9f344ffc58a",
            "7b6c698fa3654bae8c005031560577a5",
            "4f9ff82bd009450f95d83e5b3134b191",
            "d8a387f40d1d46e58d4a5168be07d0ec",
            "c5faff38f8944756bcecb3ca43798f81",
            "7cc9189f4af4441f96dd7d52ef72f974",
            "70f28fb652c446a182b521c7ffe1ff47",
            "748acb6a31594a8f962a8a2e1125f45e",
            "65895e6c786f45d0bd51b4b017b48c6f",
            "f8e357bc21cf4364b1597d455fa4c5d1",
            "a3c3c2286b0646d9b89581abf4d3b29c",
            "c6975ef367074583ac8948efbb0a414f",
            "65deb23fe6054528822b5fffa74c7031",
            "d24679331da44a748964f2ff8617852e",
            "a053511eb22346f29c11a1e260ca9185",
            "274702260fb54832ae6fbf1588ecab76",
            "f67e3c34d6f2426986b4f97193fd6ea9",
            "e18e30e2a9414f70b2651ce55b42d595",
            "7d19c85c92da497b92f37a943a554a36",
            "4f336025149244e68ac74bb1a43ea660",
            "e2c50d83994343b8a8f139f9876b0648",
            "99e161a5369c46ce8aad471b7c65e0c5",
            "d4c8cb91b83748b3b6f9db0350708723",
            "bc02bb8189214409bfaaea26ed2f3a1c",
            "91d29c287bbc477381cf3b5499a0d2f8",
            "858693e998074c3cbf28c324b90601cf",
            "bb0baf8d13454e9aac4b743b4a087d40",
            "49e7171f080f4e0eb1b2cd2acaea60e6",
            "5413ca44c9e4403c85f0006ddbea6e73",
            "a85852db3e154897bfabe0d142a47ca9",
            "89b2d435aca642fab81386ad849415d4",
            "a038c36118cc402ca3769f77aa4d2127",
            "ba0fa06bcb1744e8aa596fef10106e54",
            "a24e70bb1d43448cb7ca1821f64ab7ed",
            "bfbc8d7081434ebbbdb3fb14694b9908",
            "942af90d2e9f4111b7dff041b7ced6a4",
            "9b1dda51a11d4752917a1295ea83499a",
            "c0b2419c67004f1b9a0623291b2c35d8",
            "6a0e9be1e67949f58c40a12cd8b07e39",
            "1d2339b6e6fc40ab8b366c9a4939ff0f",
            "280b26fb389f4cd2a4a664229df90897",
            "abf6c26f3559410b9b19179c24821eb9",
            "f31c83c25d93452c923d89735daa789f",
            "46b245ff5fc4499989f155d243f56937",
            "36288d7391db4923bc366beb792d03ce",
            "808880d0807248abb95bb87c6c79a79b",
            "db8c1155f0b349d9adaa4582e581c7d6",
            "ef15758d1c974ed4b608fdef4aed9fd2",
            "c9726f0d1e3c4f79b370148cc3c6c331",
            "29aaf7f51fa843df95c97b509cbb2bc3",
            "ae43e344fb614a1881e98c43443cb306",
            "2b9ac0d32b7949649220a1bc9a001e82",
            "646d1ce06621459d929d4f39cb5ea3b9",
            "ebd4f36d4d2b413e8a4eb0cbdd9e2f40",
            "2a27845c879246789ecde9ba990d5a50",
            "f302c8d540a1443681f3f3a7c078333b",
            "eaddbf9a120f4d3d96d5893285da1ccd",
            "ed739785f2814de5b14ece3f136730c5",
            "39b45ce297b445b09f74a1a3feed2be2",
            "7c00e73405844d10b82d93b759a887ce",
            "061dcb59cc1b4fcbb450af98ee8f398a",
            "dd01c1d1a18f49f68637216c0fb7891e",
            "1c553bc6e9f54ea69bd32f27e48d37b1",
            "0c1d0819498645e7be63e95132a5a918",
            "374311c7c77d4d91833cf04b70b6d5f0",
            "b4ae4cd932cf43e489a0e5783c883959",
            "e8fd13f844f6424a990f8c481c477807"
          ]
        },
        "id": "QEvDxUpYuARd",
        "outputId": "067d821b-886b-42c8-f93b-c87d89fb83b9"
      },
      "outputs": [
        {
          "output_type": "display_data",
          "data": {
            "text/plain": [
              "README.md:   0%|          | 0.00/7.57k [00:00<?, ?B/s]"
            ],
            "application/vnd.jupyter.widget-view+json": {
              "version_major": 2,
              "version_minor": 0,
              "model_id": "5c3ff787b37c40e4a88a5c0c9008db0c"
            }
          },
          "metadata": {}
        },
        {
          "output_type": "display_data",
          "data": {
            "text/plain": [
              "train-00000-of-00005.parquet:   0%|          | 0.00/211M [00:00<?, ?B/s]"
            ],
            "application/vnd.jupyter.widget-view+json": {
              "version_major": 2,
              "version_minor": 0,
              "model_id": "7b6c698fa3654bae8c005031560577a5"
            }
          },
          "metadata": {}
        },
        {
          "output_type": "display_data",
          "data": {
            "text/plain": [
              "train-00001-of-00005.parquet:   0%|          | 0.00/234M [00:00<?, ?B/s]"
            ],
            "application/vnd.jupyter.widget-view+json": {
              "version_major": 2,
              "version_minor": 0,
              "model_id": "65deb23fe6054528822b5fffa74c7031"
            }
          },
          "metadata": {}
        },
        {
          "output_type": "display_data",
          "data": {
            "text/plain": [
              "train-00002-of-00005.parquet:   0%|          | 0.00/219M [00:00<?, ?B/s]"
            ],
            "application/vnd.jupyter.widget-view+json": {
              "version_major": 2,
              "version_minor": 0,
              "model_id": "bc02bb8189214409bfaaea26ed2f3a1c"
            }
          },
          "metadata": {}
        },
        {
          "output_type": "display_data",
          "data": {
            "text/plain": [
              "train-00003-of-00005.parquet:   0%|          | 0.00/245M [00:00<?, ?B/s]"
            ],
            "application/vnd.jupyter.widget-view+json": {
              "version_major": 2,
              "version_minor": 0,
              "model_id": "bfbc8d7081434ebbbdb3fb14694b9908"
            }
          },
          "metadata": {}
        },
        {
          "output_type": "display_data",
          "data": {
            "text/plain": [
              "train-00004-of-00005.parquet:   0%|          | 0.00/215M [00:00<?, ?B/s]"
            ],
            "application/vnd.jupyter.widget-view+json": {
              "version_major": 2,
              "version_minor": 0,
              "model_id": "808880d0807248abb95bb87c6c79a79b"
            }
          },
          "metadata": {}
        },
        {
          "output_type": "display_data",
          "data": {
            "text/plain": [
              "Generating train split:   0%|          | 0/708241 [00:00<?, ? examples/s]"
            ],
            "application/vnd.jupyter.widget-view+json": {
              "version_major": 2,
              "version_minor": 0,
              "model_id": "eaddbf9a120f4d3d96d5893285da1ccd"
            }
          },
          "metadata": {}
        }
      ],
      "source": [
        "# download and prepare cc_news dataset\n",
        "dataset = load_dataset(\"cc_news\", split=\"train\")"
      ]
    },
    {
      "cell_type": "code",
      "source": [
        "dataset"
      ],
      "metadata": {
        "id": "GeahLaajk91O",
        "outputId": "da259fb5-fead-4bca-e418-d15368c3306f",
        "colab": {
          "base_uri": "https://localhost:8080/"
        }
      },
      "execution_count": 8,
      "outputs": [
        {
          "output_type": "execute_result",
          "data": {
            "text/plain": [
              "Dataset({\n",
              "    features: ['title', 'text', 'domain', 'date', 'description', 'url', 'image_url'],\n",
              "    num_rows: 708241\n",
              "})"
            ]
          },
          "metadata": {},
          "execution_count": 8
        }
      ]
    },
    {
      "cell_type": "code",
      "source": [
        "print(dataset[0]['title'])\n",
        "print(\"\\n\")\n",
        "print(dataset[0]['text'])\n",
        "print(\"\\n\")\n",
        "print(dataset[0]['domain'])\n",
        "print(\"\\n\")\n",
        "print(dataset[0]['date'])\n",
        "print(\"\\n\")\n",
        "print(dataset[0]['description'])\n",
        "print(\"\\n\")\n",
        "print(dataset[0]['url'])\n",
        "print(\"\\n\")\n",
        "print(dataset[0]['image_url'])"
      ],
      "metadata": {
        "id": "L1eyd_KUlBLA",
        "outputId": "be490e06-51c3-460f-d082-1cfcd2141edd",
        "colab": {
          "base_uri": "https://localhost:8080/"
        }
      },
      "execution_count": 5,
      "outputs": [
        {
          "output_type": "stream",
          "name": "stdout",
          "text": [
            "Daughter Duo is Dancing in The Same Company\n",
            "\n",
            "\n",
            "There's a surprising twist to Regina Willoughby's last season with Columbia City Ballet: It's also her 18-year-old daughter Melina's first season with the company. Regina, 40, will retire from the stage in March, just as her daughter starts her own career as a trainee. But for this one season, they're sharing the stage together.\n",
            "Performing Side-By-Side In The Nutcracker\n",
            "Regina and Melina are not only dancing in the same Nutcracker this month, they're onstage at the same time: Regina is doing Snow Queen, while Melina is in the snow corps, and they're both in the Arabian divertissement. \"It's very surreal to be dancing it together,\" says Regina. \"I don't know that I ever thought Melina would take ballet this far.\"\n",
            "Left: Regina and Melina with another company member post-snow scene in 2003. Right: The pair post-snow scene in 2017 (in the same theater)\n",
            "Keep reading at dancemagazine.com.\n",
            "\n",
            "\n",
            "www.pointemagazine.com\n",
            "\n",
            "\n",
            "2017-12-11 20:19:05\n",
            "\n",
            "\n",
            "There's a surprising twist to Regina Willoughby's last season with Columbia City Ballet: It's also her 18-year-old daughter Melina's first season with the company.\n",
            "\n",
            "\n",
            "http://www.pointemagazine.com/mother-daughter-duo-dancing-2516681965.html\n",
            "\n",
            "\n",
            "https://pointe-img.rbl.ms/simage/https%3A%2F%2Fassets.rbl.ms%2F16807693%2F980x.png/2000%2C2000/3VnhNGWp75K4SwMx/img.png\n"
          ]
        }
      ]
    },
    {
      "cell_type": "code",
      "execution_count": 7,
      "metadata": {
        "colab": {
          "base_uri": "https://localhost:8080/",
          "height": 329
        },
        "id": "i8soLvAgXprN",
        "outputId": "ee661a7e-81fe-4674-b167-5d8d8773a035"
      },
      "outputs": [
        {
          "output_type": "error",
          "ename": "KeyboardInterrupt",
          "evalue": "",
          "traceback": [
            "\u001b[0;31m---------------------------------------------------------------------------\u001b[0m",
            "\u001b[0;31mKeyboardInterrupt\u001b[0m                         Traceback (most recent call last)",
            "\u001b[0;32m<ipython-input-7-3133710047>\u001b[0m in \u001b[0;36m<cell line: 0>\u001b[0;34m()\u001b[0m\n\u001b[0;32m----> 1\u001b[0;31m \u001b[0;32mfor\u001b[0m \u001b[0mt\u001b[0m \u001b[0;32min\u001b[0m \u001b[0md\u001b[0m\u001b[0;34m[\u001b[0m\u001b[0;34m\"train\"\u001b[0m\u001b[0;34m]\u001b[0m\u001b[0;34m[\u001b[0m\u001b[0;34m\"text\"\u001b[0m\u001b[0;34m]\u001b[0m\u001b[0;34m[\u001b[0m\u001b[0;34m:\u001b[0m\u001b[0;36m3\u001b[0m\u001b[0;34m]\u001b[0m\u001b[0;34m:\u001b[0m\u001b[0;34m\u001b[0m\u001b[0;34m\u001b[0m\u001b[0m\n\u001b[0m\u001b[1;32m      2\u001b[0m   \u001b[0mprint\u001b[0m\u001b[0;34m(\u001b[0m\u001b[0mt\u001b[0m\u001b[0;34m)\u001b[0m\u001b[0;34m\u001b[0m\u001b[0;34m\u001b[0m\u001b[0m\n\u001b[1;32m      3\u001b[0m   \u001b[0mprint\u001b[0m\u001b[0;34m(\u001b[0m\u001b[0;34m\"=\"\u001b[0m\u001b[0;34m*\u001b[0m\u001b[0;36m50\u001b[0m\u001b[0;34m)\u001b[0m\u001b[0;34m\u001b[0m\u001b[0;34m\u001b[0m\u001b[0m\n",
            "\u001b[0;32m/usr/local/lib/python3.11/dist-packages/datasets/arrow_dataset.py\u001b[0m in \u001b[0;36m__getitem__\u001b[0;34m(self, key)\u001b[0m\n\u001b[1;32m   2775\u001b[0m     \u001b[0;32mdef\u001b[0m \u001b[0m__getitem__\u001b[0m\u001b[0;34m(\u001b[0m\u001b[0mself\u001b[0m\u001b[0;34m,\u001b[0m \u001b[0mkey\u001b[0m\u001b[0;34m)\u001b[0m\u001b[0;34m:\u001b[0m  \u001b[0;31m# noqa: F811\u001b[0m\u001b[0;34m\u001b[0m\u001b[0;34m\u001b[0m\u001b[0m\n\u001b[1;32m   2776\u001b[0m         \u001b[0;34m\"\"\"Can be used to index columns (by string names) or rows (by integer index or iterable of indices or bools).\"\"\"\u001b[0m\u001b[0;34m\u001b[0m\u001b[0;34m\u001b[0m\u001b[0m\n\u001b[0;32m-> 2777\u001b[0;31m         \u001b[0;32mreturn\u001b[0m \u001b[0mself\u001b[0m\u001b[0;34m.\u001b[0m\u001b[0m_getitem\u001b[0m\u001b[0;34m(\u001b[0m\u001b[0mkey\u001b[0m\u001b[0;34m)\u001b[0m\u001b[0;34m\u001b[0m\u001b[0;34m\u001b[0m\u001b[0m\n\u001b[0m\u001b[1;32m   2778\u001b[0m \u001b[0;34m\u001b[0m\u001b[0m\n\u001b[1;32m   2779\u001b[0m     \u001b[0;32mdef\u001b[0m \u001b[0m__getitems__\u001b[0m\u001b[0;34m(\u001b[0m\u001b[0mself\u001b[0m\u001b[0;34m,\u001b[0m \u001b[0mkeys\u001b[0m\u001b[0;34m:\u001b[0m \u001b[0mlist\u001b[0m\u001b[0;34m)\u001b[0m \u001b[0;34m->\u001b[0m \u001b[0mlist\u001b[0m\u001b[0;34m:\u001b[0m\u001b[0;34m\u001b[0m\u001b[0;34m\u001b[0m\u001b[0m\n",
            "\u001b[0;32m/usr/local/lib/python3.11/dist-packages/datasets/arrow_dataset.py\u001b[0m in \u001b[0;36m_getitem\u001b[0;34m(self, key, **kwargs)\u001b[0m\n\u001b[1;32m   2760\u001b[0m         \u001b[0mformatter\u001b[0m \u001b[0;34m=\u001b[0m \u001b[0mget_formatter\u001b[0m\u001b[0;34m(\u001b[0m\u001b[0mformat_type\u001b[0m\u001b[0;34m,\u001b[0m \u001b[0mfeatures\u001b[0m\u001b[0;34m=\u001b[0m\u001b[0mself\u001b[0m\u001b[0;34m.\u001b[0m\u001b[0m_info\u001b[0m\u001b[0;34m.\u001b[0m\u001b[0mfeatures\u001b[0m\u001b[0;34m,\u001b[0m \u001b[0;34m**\u001b[0m\u001b[0mformat_kwargs\u001b[0m\u001b[0;34m)\u001b[0m\u001b[0;34m\u001b[0m\u001b[0;34m\u001b[0m\u001b[0m\n\u001b[1;32m   2761\u001b[0m         \u001b[0mpa_subtable\u001b[0m \u001b[0;34m=\u001b[0m \u001b[0mquery_table\u001b[0m\u001b[0;34m(\u001b[0m\u001b[0mself\u001b[0m\u001b[0;34m.\u001b[0m\u001b[0m_data\u001b[0m\u001b[0;34m,\u001b[0m \u001b[0mkey\u001b[0m\u001b[0;34m,\u001b[0m \u001b[0mindices\u001b[0m\u001b[0;34m=\u001b[0m\u001b[0mself\u001b[0m\u001b[0;34m.\u001b[0m\u001b[0m_indices\u001b[0m\u001b[0;34m)\u001b[0m\u001b[0;34m\u001b[0m\u001b[0;34m\u001b[0m\u001b[0m\n\u001b[0;32m-> 2762\u001b[0;31m         formatted_output = format_table(\n\u001b[0m\u001b[1;32m   2763\u001b[0m             \u001b[0mpa_subtable\u001b[0m\u001b[0;34m,\u001b[0m \u001b[0mkey\u001b[0m\u001b[0;34m,\u001b[0m \u001b[0mformatter\u001b[0m\u001b[0;34m=\u001b[0m\u001b[0mformatter\u001b[0m\u001b[0;34m,\u001b[0m \u001b[0mformat_columns\u001b[0m\u001b[0;34m=\u001b[0m\u001b[0mformat_columns\u001b[0m\u001b[0;34m,\u001b[0m \u001b[0moutput_all_columns\u001b[0m\u001b[0;34m=\u001b[0m\u001b[0moutput_all_columns\u001b[0m\u001b[0;34m\u001b[0m\u001b[0;34m\u001b[0m\u001b[0m\n\u001b[1;32m   2764\u001b[0m         )\n",
            "\u001b[0;32m/usr/local/lib/python3.11/dist-packages/datasets/formatting/formatting.py\u001b[0m in \u001b[0;36mformat_table\u001b[0;34m(table, key, formatter, format_columns, output_all_columns)\u001b[0m\n\u001b[1;32m    651\u001b[0m     \u001b[0mpython_formatter\u001b[0m \u001b[0;34m=\u001b[0m \u001b[0mPythonFormatter\u001b[0m\u001b[0;34m(\u001b[0m\u001b[0mfeatures\u001b[0m\u001b[0;34m=\u001b[0m\u001b[0mformatter\u001b[0m\u001b[0;34m.\u001b[0m\u001b[0mfeatures\u001b[0m\u001b[0;34m)\u001b[0m\u001b[0;34m\u001b[0m\u001b[0;34m\u001b[0m\u001b[0m\n\u001b[1;32m    652\u001b[0m     \u001b[0;32mif\u001b[0m \u001b[0mformat_columns\u001b[0m \u001b[0;32mis\u001b[0m \u001b[0;32mNone\u001b[0m\u001b[0;34m:\u001b[0m\u001b[0;34m\u001b[0m\u001b[0;34m\u001b[0m\u001b[0m\n\u001b[0;32m--> 653\u001b[0;31m         \u001b[0;32mreturn\u001b[0m \u001b[0mformatter\u001b[0m\u001b[0;34m(\u001b[0m\u001b[0mpa_table\u001b[0m\u001b[0;34m,\u001b[0m \u001b[0mquery_type\u001b[0m\u001b[0;34m=\u001b[0m\u001b[0mquery_type\u001b[0m\u001b[0;34m)\u001b[0m\u001b[0;34m\u001b[0m\u001b[0;34m\u001b[0m\u001b[0m\n\u001b[0m\u001b[1;32m    654\u001b[0m     \u001b[0;32melif\u001b[0m \u001b[0mquery_type\u001b[0m \u001b[0;34m==\u001b[0m \u001b[0;34m\"column\"\u001b[0m\u001b[0;34m:\u001b[0m\u001b[0;34m\u001b[0m\u001b[0;34m\u001b[0m\u001b[0m\n\u001b[1;32m    655\u001b[0m         \u001b[0;32mif\u001b[0m \u001b[0mkey\u001b[0m \u001b[0;32min\u001b[0m \u001b[0mformat_columns\u001b[0m\u001b[0;34m:\u001b[0m\u001b[0;34m\u001b[0m\u001b[0;34m\u001b[0m\u001b[0m\n",
            "\u001b[0;32m/usr/local/lib/python3.11/dist-packages/datasets/formatting/formatting.py\u001b[0m in \u001b[0;36m__call__\u001b[0;34m(self, pa_table, query_type)\u001b[0m\n\u001b[1;32m    406\u001b[0m             \u001b[0;32mreturn\u001b[0m \u001b[0mself\u001b[0m\u001b[0;34m.\u001b[0m\u001b[0mformat_row\u001b[0m\u001b[0;34m(\u001b[0m\u001b[0mpa_table\u001b[0m\u001b[0;34m)\u001b[0m\u001b[0;34m\u001b[0m\u001b[0;34m\u001b[0m\u001b[0m\n\u001b[1;32m    407\u001b[0m         \u001b[0;32melif\u001b[0m \u001b[0mquery_type\u001b[0m \u001b[0;34m==\u001b[0m \u001b[0;34m\"column\"\u001b[0m\u001b[0;34m:\u001b[0m\u001b[0;34m\u001b[0m\u001b[0;34m\u001b[0m\u001b[0m\n\u001b[0;32m--> 408\u001b[0;31m             \u001b[0;32mreturn\u001b[0m \u001b[0mself\u001b[0m\u001b[0;34m.\u001b[0m\u001b[0mformat_column\u001b[0m\u001b[0;34m(\u001b[0m\u001b[0mpa_table\u001b[0m\u001b[0;34m)\u001b[0m\u001b[0;34m\u001b[0m\u001b[0;34m\u001b[0m\u001b[0m\n\u001b[0m\u001b[1;32m    409\u001b[0m         \u001b[0;32melif\u001b[0m \u001b[0mquery_type\u001b[0m \u001b[0;34m==\u001b[0m \u001b[0;34m\"batch\"\u001b[0m\u001b[0;34m:\u001b[0m\u001b[0;34m\u001b[0m\u001b[0;34m\u001b[0m\u001b[0m\n\u001b[1;32m    410\u001b[0m             \u001b[0;32mreturn\u001b[0m \u001b[0mself\u001b[0m\u001b[0;34m.\u001b[0m\u001b[0mformat_batch\u001b[0m\u001b[0;34m(\u001b[0m\u001b[0mpa_table\u001b[0m\u001b[0;34m)\u001b[0m\u001b[0;34m\u001b[0m\u001b[0;34m\u001b[0m\u001b[0m\n",
            "\u001b[0;32m/usr/local/lib/python3.11/dist-packages/datasets/formatting/formatting.py\u001b[0m in \u001b[0;36mformat_column\u001b[0;34m(self, pa_table)\u001b[0m\n\u001b[1;32m    457\u001b[0m \u001b[0;34m\u001b[0m\u001b[0m\n\u001b[1;32m    458\u001b[0m     \u001b[0;32mdef\u001b[0m \u001b[0mformat_column\u001b[0m\u001b[0;34m(\u001b[0m\u001b[0mself\u001b[0m\u001b[0;34m,\u001b[0m \u001b[0mpa_table\u001b[0m\u001b[0;34m:\u001b[0m \u001b[0mpa\u001b[0m\u001b[0;34m.\u001b[0m\u001b[0mTable\u001b[0m\u001b[0;34m)\u001b[0m \u001b[0;34m->\u001b[0m \u001b[0mlist\u001b[0m\u001b[0;34m:\u001b[0m\u001b[0;34m\u001b[0m\u001b[0;34m\u001b[0m\u001b[0m\n\u001b[0;32m--> 459\u001b[0;31m         \u001b[0mcolumn\u001b[0m \u001b[0;34m=\u001b[0m \u001b[0mself\u001b[0m\u001b[0;34m.\u001b[0m\u001b[0mpython_arrow_extractor\u001b[0m\u001b[0;34m(\u001b[0m\u001b[0;34m)\u001b[0m\u001b[0;34m.\u001b[0m\u001b[0mextract_column\u001b[0m\u001b[0;34m(\u001b[0m\u001b[0mpa_table\u001b[0m\u001b[0;34m)\u001b[0m\u001b[0;34m\u001b[0m\u001b[0;34m\u001b[0m\u001b[0m\n\u001b[0m\u001b[1;32m    460\u001b[0m         \u001b[0mcolumn\u001b[0m \u001b[0;34m=\u001b[0m \u001b[0mself\u001b[0m\u001b[0;34m.\u001b[0m\u001b[0mpython_features_decoder\u001b[0m\u001b[0;34m.\u001b[0m\u001b[0mdecode_column\u001b[0m\u001b[0;34m(\u001b[0m\u001b[0mcolumn\u001b[0m\u001b[0;34m,\u001b[0m \u001b[0mpa_table\u001b[0m\u001b[0;34m.\u001b[0m\u001b[0mcolumn_names\u001b[0m\u001b[0;34m[\u001b[0m\u001b[0;36m0\u001b[0m\u001b[0;34m]\u001b[0m\u001b[0;34m)\u001b[0m\u001b[0;34m\u001b[0m\u001b[0;34m\u001b[0m\u001b[0m\n\u001b[1;32m    461\u001b[0m         \u001b[0;32mreturn\u001b[0m \u001b[0mcolumn\u001b[0m\u001b[0;34m\u001b[0m\u001b[0;34m\u001b[0m\u001b[0m\n",
            "\u001b[0;32m/usr/local/lib/python3.11/dist-packages/datasets/formatting/formatting.py\u001b[0m in \u001b[0;36mextract_column\u001b[0;34m(self, pa_table)\u001b[0m\n\u001b[1;32m    144\u001b[0m \u001b[0;34m\u001b[0m\u001b[0m\n\u001b[1;32m    145\u001b[0m     \u001b[0;32mdef\u001b[0m \u001b[0mextract_column\u001b[0m\u001b[0;34m(\u001b[0m\u001b[0mself\u001b[0m\u001b[0;34m,\u001b[0m \u001b[0mpa_table\u001b[0m\u001b[0;34m:\u001b[0m \u001b[0mpa\u001b[0m\u001b[0;34m.\u001b[0m\u001b[0mTable\u001b[0m\u001b[0;34m)\u001b[0m \u001b[0;34m->\u001b[0m \u001b[0mlist\u001b[0m\u001b[0;34m:\u001b[0m\u001b[0;34m\u001b[0m\u001b[0;34m\u001b[0m\u001b[0m\n\u001b[0;32m--> 146\u001b[0;31m         \u001b[0;32mreturn\u001b[0m \u001b[0mpa_table\u001b[0m\u001b[0;34m.\u001b[0m\u001b[0mcolumn\u001b[0m\u001b[0;34m(\u001b[0m\u001b[0;36m0\u001b[0m\u001b[0;34m)\u001b[0m\u001b[0;34m.\u001b[0m\u001b[0mto_pylist\u001b[0m\u001b[0;34m(\u001b[0m\u001b[0;34m)\u001b[0m\u001b[0;34m\u001b[0m\u001b[0;34m\u001b[0m\u001b[0m\n\u001b[0m\u001b[1;32m    147\u001b[0m \u001b[0;34m\u001b[0m\u001b[0m\n\u001b[1;32m    148\u001b[0m     \u001b[0;32mdef\u001b[0m \u001b[0mextract_batch\u001b[0m\u001b[0;34m(\u001b[0m\u001b[0mself\u001b[0m\u001b[0;34m,\u001b[0m \u001b[0mpa_table\u001b[0m\u001b[0;34m:\u001b[0m \u001b[0mpa\u001b[0m\u001b[0;34m.\u001b[0m\u001b[0mTable\u001b[0m\u001b[0;34m)\u001b[0m \u001b[0;34m->\u001b[0m \u001b[0mdict\u001b[0m\u001b[0;34m:\u001b[0m\u001b[0;34m\u001b[0m\u001b[0;34m\u001b[0m\u001b[0m\n",
            "\u001b[0;31mKeyboardInterrupt\u001b[0m: "
          ]
        }
      ],
      "source": [
        "for t in d[\"train\"][\"text\"][:3]:\n",
        "  print(t)\n",
        "  print(\"=\"*50)"
      ]
    },
    {
      "cell_type": "code",
      "execution_count": 14,
      "metadata": {
        "id": "juzb37W-86iq",
        "colab": {
          "base_uri": "https://localhost:8080/"
        },
        "outputId": "6729bbb1-a566-4099-db8f-e4c4b7a086f0"
      },
      "outputs": [
        {
          "output_type": "stream",
          "name": "stdout",
          "text": [
            "h\n"
          ]
        }
      ],
      "source": [
        "# if you have your custom dataset\n",
        "# need a tokenizer\n",
        "\n",
        "# dataset2 = LineByLineTextDataset(\n",
        "#     tokenizer=tokenizer,\n",
        "#     file_path=\"/content/finbert_pretrain_clean.txt\",\n",
        "#     block_size=64,\n",
        "# )"
      ]
    },
    {
      "cell_type": "code",
      "execution_count": 9,
      "metadata": {
        "id": "5d4HxoYNqfdU",
        "colab": {
          "base_uri": "https://localhost:8080/",
          "height": 49,
          "referenced_widgets": [
            "6e1a4d219ca441719448bd5cafc10efe",
            "31d5620c83ba490eaf6f203354348c8d",
            "381c4bb8da684e64986fc90d4ccee5e4",
            "c69fbb27538f4c9b8bacadf5f4702bbe",
            "f315e0eec04147e79c2cdb8e65da38b6",
            "41d51228f32649dd8541ad7b12b1a6e4",
            "aba6b8925bd04717a7a97b078178b0a1",
            "9e27b048282440aa9b9ec9b8de354394",
            "898be2e0f8aa442187f07877fe6e220e",
            "5dacedee21e24ea8a87fd75e9934fa70",
            "357dfc9fbb40446585b32773e549e8b3"
          ]
        },
        "outputId": "4088e423-948e-470a-b6c1-22f88420d745"
      },
      "outputs": [
        {
          "output_type": "display_data",
          "data": {
            "text/plain": [
              "Generating train split: 0 examples [00:00, ? examples/s]"
            ],
            "application/vnd.jupyter.widget-view+json": {
              "version_major": 2,
              "version_minor": 0,
              "model_id": "6e1a4d219ca441719448bd5cafc10efe"
            }
          },
          "metadata": {}
        }
      ],
      "source": [
        "# or if you have huge custom dataset separated into files\n",
        "# load the splitted files\n",
        "# files = [\"train1.txt\", \"train2.txt\"] # train3.txt, etc.\n",
        "dataset = load_dataset(\"text\", data_files=\"/content/finbert_pretrain_clean.txt\", split=\"train\")"
      ]
    },
    {
      "cell_type": "code",
      "source": [
        "dataset"
      ],
      "metadata": {
        "colab": {
          "base_uri": "https://localhost:8080/"
        },
        "id": "KEdwfI13skqw",
        "outputId": "d3dedd74-f28b-4b8d-ec5d-05536d99b8f8"
      },
      "execution_count": 11,
      "outputs": [
        {
          "output_type": "execute_result",
          "data": {
            "text/plain": [
              "Dataset({\n",
              "    features: ['text'],\n",
              "    num_rows: 71909\n",
              "})"
            ]
          },
          "metadata": {},
          "execution_count": 11
        }
      ]
    },
    {
      "cell_type": "code",
      "source": [
        "len(dataset)"
      ],
      "metadata": {
        "colab": {
          "base_uri": "https://localhost:8080/"
        },
        "id": "MRN7ch10se_1",
        "outputId": "e3ba70b5-63e7-4f74-8b14-7c4d113b1e42"
      },
      "execution_count": 10,
      "outputs": [
        {
          "output_type": "execute_result",
          "data": {
            "text/plain": [
              "71909"
            ]
          },
          "metadata": {},
          "execution_count": 10
        }
      ]
    },
    {
      "cell_type": "code",
      "source": [
        "dataset[0]['text']"
      ],
      "metadata": {
        "colab": {
          "base_uri": "https://localhost:8080/",
          "height": 1000
        },
        "collapsed": true,
        "id": "MNDxwAxQsluk",
        "outputId": "15c521a9-5c07-450d-a665-f6265e894466"
      },
      "execution_count": 12,
      "outputs": [
        {
          "output_type": "execute_result",
          "data": {
            "text/plain": [
              "'\"Mad Money\" host Jim Cramer recommended buying four companies that are supporting vaccine developers. \"Mad Money\" host Jim Cramer rings the lightning round bell, which means he\\'s giving his answers to callers\\' stock questions at rapid speed. \"We\\'ll pay more for the earnings of the non-Covid companies if The Lancet publishes some good news from AstraZeneca\\'s vaccine trial,\" Cramer said. Keith Bliss, IQ Capital CEO, joins \"Closing Bell\" to talk about the broader markets, including the performance of the S&P 500 and the Nasdaq. \"Look for the stocks of high-quality companies that are going lower even though they deserve to go higher,\" the \"Mad Money\" host advised. \"Mad Money\" host Jim Cramer rings the lightning round bell, which means he\\'s giving his answers to callers\\' stock questions at rapid speed. Investing $5 per day can compound to $70,000 by the time a child reaches adulthood, said Noah Kerner, CEO of micro-investing app Acorns. Hundreds of companies have cut or suspended their dividends so far this year, and the second half of the year is when investors will feel those reductions the most. \"We\\'ve been able to capture these cultural moments,\" like ESPN\\'s release of the \"The Last Dance\" earlier this year, CEO Scott Cutler said on \"Mad Money. \"Biohaven CEO Vlad Coric said the company brought on Khloe Kardashian to promote its migraine treatment to break the stigma around it. \"Mad Money\" host Jim Cramer rings the lightning round bell, which means he\\'s giving his answers to callers\\' stock questions at rapid speed. \"We figured we\\'d have maybe the virus contained in early fall, but we botched the reopening and now states are being forced to shut down again,\" the \"Mad Money\" host said. \"Mad Money\" host Jim Cramer rings the lightning round bell, which means he\\'s giving his answers to callers\\' stock questions at rapid speed. \"This market is divided into four camps,\" the \"Mad Money\" host said. The charts, as interpreted by Larry Williams, suggest the S&P 500 could climb another 5% in coming weeks before equities begin to retreat, Cramer said. Salesforce CEO Marc Benioff told CNBC\\'s Jim Cramer that face masks can stop the coronavirus crisis in the U. S. in \"just three weeks. \" The two are sponsoring a mask design challenge. Either Crown Castle becomes a leaner, meaner cell tower play with a high dividend, or the company ups its game to fend off Elliott Management\\'s activist position, the \"Mad Money\" host said. Ellevest CEO Sallie Krawcheck, who co-founded the digital investment firm for women, explained how the pandemic is affecting women, and women of color even more severly. \"Mad Money\" host Jim Cramer rings the lightning round bell, which means he\\'s giving his answers to callers\\' stock questions at rapid speed. \"This is the week when we find out if the real world is going to intrude on the stock market world,\" the \"Mad Money\" host said. Washington Crossing Advisors\\' Chad Morganlander says he sees earnings per share potential staying quite robust over the next 24 months, and to stay invested in high-quality sectors and growth names to avoid getting out of the market at the wrong time. Hou Wey Fook of DBS Bank says the U. S. equity rally has been broad, which is a positive indicator. He also explains why the entry of retail investors is a good thing for the markets. Hirtle Callaghan\\'s Jonathan Hirtle thinks this recession is one of design, and gives his range predictions for the S&P 500 and the U. S. 10-year treasury. \"The stock market is not a proxy for the economy, it\\'s a proxy for big business,\" the \"Mad Money\" host said. \"Mad Money\" host Jim Cramer rings the lightning round bell, which means he\\'s giving his answers to callers\\' stock questions at rapid speed. Apeel will bring limes to Wakefern Food grocery stores in July. The deal is striving to save 1. 4 million limes from going bad each year. \"The whole market\\'s being upended by the pandemic and the lines they are shifting,\" the \"Mad Money\" host said. \"Mad Money\" host Jim Cramer rings the lightning round bell, which means he\\'s giving his answers to callers\\' stock questions at rapid speed. The S&P 500 could be riding into a \"make-or-break moment\" in the short term, the \"Mad Money\" host said. \"Mrs. Butterworth\\'s was really architected to resemble a loving grandmother, but we can understand how some people may view it differently, may find it offensive,\" Conagra CEO Sean Connolly said. \"Mad Money\" host Jim Cramer rings the lightning round bell, which means he\\'s giving his answers to callers\\' stock questions at rapid speed. The best stocks of the second quarter were the ones with \"a lot of ingenuity and a lot more good luck,\" the \"Mad Money\" host said. \"We had a lot of encouraging signs today, but keep in mind that this market loves veering from one extreme to the other,\" Cramer said. \"Mad Money\" host Jim Cramer rings the lightning round bell, which means he\\'s giving his answers to callers\\' stock questions at rapid speed. Popeyes\\' viral chicken sandwich brought in new customers who are \"now experimenting and exploring the entire menu,\" Restaurant Brands CEO Jose Cil said. \"When you look at the biggest winners in the index, they\\'re overwhelmingly tech companies that help facilitate the stay-at-home economy, and a lot of these got hit today,\" the \"Mad Money\" host said. \"This is a time where every company needs to reassess its relevance to maintain its market share and innovation,\" Salesforce CEO Marc Benioff said in a \"Mad Money\" interview. \"Mad Money\" host Jim Cramer rings the lightning round bell, which means he\\'s giving his answers to callers\\' stock questions at rapid speed. After Texas put a pause on its reopening, \"many of today\\'s winners were the usual suspects that benefit from the pandemic,\" the \"Mad Money\" host said. \"I want you to raise a little cash so you can put it to work buying stocks at lower levels,\" the \"Mad Money\" host advised after a brutal sell-off on Wall Street. \"Mad Money\" host Jim Cramer rings the lightning round bell, which means he\\'s giving his answers to callers\\' stock questions at rapid speed. Rhode Island Gov. Gina Raimondo said she is considering new mitigation actions after neighboring states announced a quarantine for some inbound travelers. \"It\\'s definitely not best of breed, but it\\'s not garbage either,\" the \"Mad Money\" host said. Byron Wien, vice chairman at Private Wealth Solutions Group at Blackstone, weighs in on the shape of the economic recovery. Erik Knutzen of Neuberger Berman says he\\'s cautious about the trajectory of the market and economic recoveries, and explains why his base case scenario is for U. S. GDP to contract 6% this year. \"If you want a short-term trade with a terrific track record, [Larry] Williams says you should buy the S&P two days before July 4,\" the \"Mad Money\" host said. \"Mad Money\" host Jim Cramer rings the lightning round bell, which means he\\'s giving his answers to callers\\' stock questions at rapid speed. \"That transformation is inevitable,\" Impossible Foods founder and CEO Patrick Brown said after Starbucks launched the Impossible Breakfast Sandwich. Wall Street has finally bought into Spotify\\'s podcasting strategy and \"what matters here is subscriber growth,\" the \"Mad Money\" host said. \"This was a day when both the recession stocks and the recovery stocks worked\" and \"someone, one of these two groups, has to be wrong,\" sooner or later, the \"Mad Money\" host said. \"I\\'m enjoying the stock stuff . . . It\\'s been fun . . . but I\\'m a sports guy. I\\'m a sports better,\" Barstool Sports founder Dave Portnoy said after jumping into day trading. \"Mad Money\" host Jim Cramer rings the lightning round bell, which means he\\'s giving his answers to callers\\' stock questions at rapid speed. \"I\\'m fortunate to have a very diverse team helping me and they encouraged me last year to take the title on,\" Nielsen CEO David Kenny said on CNBC on Friday. \"If the S&P 500 really does surge to 3,400, up 9. 1% from these levels, maybe take something off the table,\" the \"Mad Money\" host said. \"Mad Money\" host Jim Cramer rings the lightning round bell, which means he\\'s giving his answers to callers\\' stock questions at rapid speed. The 10 bull markets \"will keep working as America reopens,\" the \"Mad Money\" host said. \"Mad Money\" host Jim Cramer rings the lightning round bell, which means he\\'s giving his answers to callers\\' stock questions at rapid speed. \"We are seeing the e-commerce demand flow through to our rail business,\" Union Pacific CEO Lance Fritz told CNBC\\'s Jim Cramer. \"I think the story is so compelling that it\\'s worth putting on a small position even up here,\" the \"Mad Money\" host said. \"These social distancing stocks have become some of the best investments around. I think they\\'ll stay that way until we get a vaccine,\" the \"Mad Money\" host said. \"Mad Money\" host Jim Cramer broke down what drove Tuesday\\'s market rally. CNBC\\'s Jim Cramer weighs his favorite stock picks amid talks of the Trump administration considering a massive infrastructure spending package. \"Mad Money\" host Jim Cramer rings the lightning round bell, which means he\\'s giving his answers to callers\\' stock questions at rapid speed. \"My assumption is that 2022, for me, is the magic number,\" he said in a \"Mad Money\" interview. \"I think the behaviors that were built in the last several months have the real potential to continue to provide a catalyst for improved results,\" CEO Mark Clouse said in a \"Mad Money\" interview. \"Mad Money\" host Jim Cramer rings the lightning round bell, which means he\\'s giving his answers to callers\\' stock questions at rapid speed. \"As Zoom goes, so go Zscaler and CrowdStrike and Cramer-fave RingCentral,\" the \"Mad Money\" host said. \"If the combination\\'s over 40, you\\'ve got a good one. If it\\'s under 40, you\\'ve got a riskier one,\" the \"Mad Money\" host said. \"As long as you think we aren\\'t going into a second lockdown, even as Covid cases spike, then you want to buy your favorite stocks into weakness here,\" Cramer said. \"One of the things we have to do to correct this is improve the educational system in the inner city,\" health insurer Centene CEO Michael Neidorff said. \"Mad Money\" host Jim Cramer rings the lightning round bell, which means he\\'s giving his answers to callers\\' stock questions at rapid speed. Daryl Guppy of Guppytraders. com gives technical analysis on key U. S. market indices and VIX. \"The competition of the future, the war fight of the future, is going to be based on new technology,\" L3Harris CEO Bill Brown said on \"Mad Money. \"PVH, the parent company of such brands as Tommy Hilfiger and Calvin Klein, plans to develop \"meaningful targets\" and be accountable, CEO Manny Chirico said. \"Mad Money\" host Jim Cramer rings the lightning round bell, which means he\\'s giving his answers to callers\\' stock questions at rapid speed. \"In a tough market, you need to circle the wagons around the few good names you feel comfortable buying and then buying more if they go lower,\" Cramer said. \"Mad Money\" host Jim Cramer rings the lightning round bell, which means he\\'s giving his answers to callers\\' stock questions at rapid speed. \"No broad-based rally from this level is sustainable without a major scientific breakthrough in the fight against Covid-19,\" the \"Mad Money\" host said. \"This is a company that benefits enormously from the V-shaped recovery thesis, and it also works with a slower recovery,\" Cramer said. \"It doesn\\'t matter how little you pay for a stock, when it goes to zero, you lose everything,\" the \"Mad Money\" host said. \"Mad Money\" host Jim Cramer rings the lightning round bell, which means he\\'s giving his answers to callers\\' stock questions at rapid speed. Cramer said Facebook, AMD, Apple, Amazon and Nvidia can go higher based on their strengths. \"That\\'s why I keep going back to them, and you should too. \"As the S&P 500 wipes its 2020 losses and Nasdaq closes at a record high, Jeremy Siegel of the University of Pennsylvania explains why he thinks the markets could go higher still. Sam Stovall of CFRA discusses the U. S. economy amid the current crisis and a looming recession. Sam foresees that Fed will not be too quick to remove the stimulus, ahead of the FOMC meeting this week. \"Mad Money\" host Jim Cramer says the stocks of Ping Identity and Biohaven Pharmaceuticals are worth a buy. The Nasdaq\\'s rally is \"more representative of this market than the endless rebound in the hospitality and travel stocks\" due to reopening, Cramer said. \"You really only have to stop to get gas,\" Thor Industries CEO Bob Martin said in explaining the benefits of RV travel. The magnitude of the rally in U. S. stocks since March has come as a surprise, says Tuan Huynh of Deutsche Bank Wealth Management. With the markets pricing in a \"blue sky\" scenario, he says now is the time to take some profits off the table. \"We stand with our black merchants, our black employees and the black community worldwide,\" Shopify COO Harley Finkelstein said amid civil unrest in America. \"Mad Money\" host Jim Cramer rings the lightning round bell, which means he\\'s giving his answers to callers\\' stock questions at rapid speed. \"I think we\\'re looking at a V-shaped recovery in the stock market, and that has almost nothing to do with a V-shaped recovery in the economy,\" the \"Mad Money\" host said. \"Let\\'s take this moment to be an inflection point . . . that we are going to not just proceed incrementally, but in a very strong way to do things differently,\" the House Speaker said. Brian Belski of BMO Capital Markets says in addition to Fed support on liquidity, the fundamentals of economy and quality of U. S. stocks supported the 40% rally from the March lows. He sees further upside in market based on projected recovery in second half of the year. The remote work wave is a \"subset of digital transformation\" and was sped up over night by the coronavirus pandemic, CEO George Kurtz said in a \"Mad Money\" interview. \"Mad Money\" host Jim Cramer rings the lightning round bell, which means he\\'s giving his answers to callers\\' stock questions at rapid speed. \"Normalcy is shop until you drop. And today\\'s action says that\\'s exactly where we\\'re headed,\" the \"Mad Money\" host said. China is showing \"very positive signs of production resuming,\" Marvell Technology CEO Matt Murphy said. \"Mad Money\" host Jim Cramer rings the lightning round bell, which means he\\'s giving his answers to callers\\' stock questions at rapid speed. \"If the rest of the world\\'s in better shape, well, that is fantastic news for our companies that do lots of business overseas,\" the \"Mad Money\" host said. \"I think the pandemic has given the industry a huge long-term boost,\" the \"Mad Money\" host said. \"Fortunately, all of our employees have been safe,\" Chipotle CEO Brian Niccol said in a \"Mad Money\" interview. The \"Mad Money\" host worries how the nationwide protests, which he generally supports, could impact the fight against coronavirus. \"Mad Money\" host Jim Cramer rings the lightning round bell, which means he\\'s giving his answers to callers\\' stock questions at rapid speed. \"Mad Money\" host Jim Cramer rings the lightning round bell, which means he\\'s giving his answers to callers\\' stock questions at rapid speed. The \"Mad Money\" host said \"history tells me that you\\'ve gotta buy them when they\\'re weak. \"\"Right now, our economy\\'s struggling and any kind of retaliation from China will make it even more difficult for us to recover. \"Dan Niles of AlphaOne Capital Partners says the market is increasingly traded technically. Based on valuations, equity investors who mainly take long positions can consider taking profits at the current levels. \"Mad Money\" host Jim Cramer rings the lightning round bell, which means he\\'s giving his answers to callers\\' stock questions at rapid speed. \"I think the \\'V for victory\\' crowd may have gotten ahead of themselves,\" the \"Mad Money\" host said. \"This is a transformational opportunity for AT&T wireless,\" Salesforce CEO Marc Benioff told CNBC\\'s Jim Cramer. \"[W]e are going to stay committed to the principles that we shared in the value plan,\" HP CEO Enrique Lores said on \"Mad Money. \"\"Mad Money\" host Jim Cramer rings the lightning round bell, which means he\\'s giving his answers to callers\\' stock questions at rapid speed. \"I\\'m betting the field will be spread out by the time we get to the homestretch, and many of the current winners will fall behind,\" the \"Mad Money\" host said. \"Only 1% of our second half revenue is dependent on any of the products that come out of Midland,\" CEO Jim Collins said. \"If we don\\'t have a giant outbreak in the states that are aggressively reopening — a big if — then a V-shaped recovery is actually on the table,\" the \"Mad Money\" host said. \"Mad Money\" host Jim Cramer rings the lightning round bell, which means he\\'s giving his answers to callers\\' stock questions at rapid speed. \"The market\\'s gotten more confident that we\\'ll have a speedy, V-shaped recovery . . . and that makes the recession stocks less attractive,\" the \"Mad Money\" host said. \"We\\'re building market share and I think most importantly . . . we built trust with American consumers during the pandemic,\" Target CEO Brian Cornell said. \"Just remember, even as we reopen for business, the new normal is not the old normal,\" the \"Mad Money\" host said. \"Mad Money\" host Jim Cramer rings the lightning round bell, which means he\\'s giving his answers to callers\\' stock questions at rapid speed. \"I think we should hold off on another trade war until the economy\\'s in better shape,\" the \"Mad Money\" host said. \"Mad Money\" host Jim Cramer rings the lightning round bell, which means he\\'s giving his answers to callers\\' stock questions at rapid speed. \"This market\\'s been going through leadership groups like there\\'s no tomorrow,\" the \"Mad Money\" host said. \"To all my fellow CEOs out there running large companies: Let\\'s do our part to help the small businesses get back up and going,\" Lowe\\'s CEO Marvin Ellison said. Kirk Hartman of Wells Fargo Asset Management says the gap between U. S. small caps and large caps is closing. He sees some value in the small-cap space, but the key is to have the economy recover first. Five9 CEO Rowan Trollope said the cloud-based communications provider saw an acceleration of new companies adopting the service to continue operations. \"I\\'m not saying this market\\'s done going down. There\\'s always the possibility that we get more sell-offs,\" the \"Mad Money\" host said. \"Mad Money\" host Jim Cramer rings the lightning round bell, which means he\\'s giving his answers to callers\\' stock questions at rapid speed. \"This is still a very uncertain moment,\" the \"Mad Money\" host said. \"Mad Money\" host Jim Cramer rings the lightning round bell, which means he\\'s giving his answers to callers\\' stock questions at rapid speed. The \"Mad Money\" host explained why investors should shape their portfolio to account for more positive and negative information on the coronavirus fight. The stock market\\'s divergence from its dismal economic backdrop can be explained, ETF analysts say. \"I think what it shows you is there\\'s a lot of pent-up demand for sports,\" DraftKings CEO Jason Robins said. \"Mad Money\" host Jim Cramer rings the lightning round bell, which means he\\'s giving his answers to callers\\' stock questions at rapid speed. Jim Cramer, the host of \"Mad Money,\" delivered his game plan for the week ahead full of retail earnings reports. Brian Jacobsen of Wells Fargo Asset Management discusses the concerns among investors about possible rebound in cases as the U. S. begins reopening. He also highlights the risks stemming from escalating U. S. -China tensions, one of the key reasons behind his preference over U. S. stocks. \"[I\\'m] really encouraged by what I\\'m seeing,\" Planet Fitness CEO Chris Rondeau said as the budget gym chain reopens locations. \"Mad Money\" host Jim Cramer rings the lightning round bell, which means he\\'s giving his answers to callers\\' stock questions at rapid speed. \"Without more stimulus, I think you should just buy the big chains that can survive the lockdown and a slow reopening of the economy,\" Cramer said. Jim Cramer, host of \"Mad Money,\" took some pointers from volatility expert Mark Sebastian to understand why the market could sell off more. Cisco Systems CEO Chuck Robbins said the coronavirus pandemic will \"change things like how we think about talent in the future. \"\"Mad Money\" host Jim Cramer rings the lightning round bell, which means he\\'s giving his answers to callers\\' stock questions at rapid speed. \"In a market that\\'s suddenly rolling over . . . we need to circle the wagons around high-quality stocks that we can confidently buy into this newfound weakness,\" the \"Mad Money\" host said. The \"Mad Money\" host instructs investors to keep their eyes on the food and drug stocks as a sign to start building a position in the market. \"[W]ithout more aggressive action from the federal government, we may have no choice but to reopen as the economy spirals into a depression,\" the \"Mad Money\" host said. \"In one fell swoop, this deal would create an incredible amount of value for Uber and GrubHub\\'s shareholders,\" the \"Mad Money\" host said. \"Mad Money\" host Jim Cramer rings the lightning round bell, which means he\\'s giving his answers to callers\\' stock questions at rapid speed. \"I think that there\\'s an opportunity here for us because this is only centered — only centered — on the coronavirus,\" the top Democrat in Congress told CNBC\\'s Jim Cramer. Kevin O\\'Leary, chairman of O\\'Shares ETFs, makes his case for why investors should consider actively managed exchange-traded funds. LivePerson CEO Rob Locascio told CNBC\\'s Jim Cramer that demand for its cloud-based customer messaging system spiked amid the coronavirus pandemic. \"Mad Money\" host Jim Cramer rings the lightning round bell, which means he\\'s giving his answers to callers\\' stock questions at rapid speed. \"Remember, there\\'s nothing irrational about these rallies. The stay-at-home names are simply the right stocks for this difficult moment,\" Cramer said. \"Shark Tank\" investor Kevin O\\'Leary, the chairman of O\\'Shares ETFs, on what he\\'ll be watching in the market for the rest of the year with CNBC\\'s Bob Pisani. As more and more S&P 500 companies cut or suspend their dividend payments, one issuer speaks to how his dividend-based exchange-traded fund is managing the shift. \"Financials are giving us the warning sign to be very, very cautious with this overall market,\" says Quint Tatro, president of Joule Financial. Norwegian Cruise is working \"shoulder-to-shoulder\" with health officials to \"develop an enhanced protocol\" to relaunch cruise trips, CEO Frank Del Rio said. \"Mad Money\" host Jim Cramer rings the lightning round bell, which means he\\'s giving his answers to callers\\' stock questions at rapid speed. \"This market does have a tendency to bounce between unbridled optimism and total despair — no middle ground,\" the \"Mad Money\" host said. \"When the CDC changed its [face mask] guidelines . . . we all of a sudden saw overwhelming amounts of demand come on to our site,\" Etsy CEO Josh Silverman told CNBC. \"We view this as a massive opportunity for us to drive trial and win consumers over into our segment,\" Beyond Meat CEO Ethan Brown said in a \"Mad Money\" interview. \"The staples and the retailers should be moving in opposite directions\" meaning \"somebody\\'s wrong here,\" the \"Mad Money\" host said. \"Mad Money\" host Jim Cramer rings the lightning round bell, which means he\\'s giving his answers to callers\\' stock questions at rapid speed. \"With this latest quarter, they\\'ve pretty much become the only game in town,\" the \"Mad Money\" host said. After a slew of bad news for the markets since the outbreak of coronavirus, markets are slowly tracing back the recline. Jurrien Timmer of Fidelity Investments says that while we can\\'t precisely guess the future, the markets and a \"resilient\" S&P are moving to look at a light at the end of the tunnel. Masimo CEO Joe Kiani discussed how the medical device maker\\'s telehealth systems can be useful in the fight against coronavirus. \"Mad Money\" host Jim Cramer rings the lightning round bell, which means he\\'s giving his answers to callers\\' stock questions at rapid speed. \"[A]s the country gradually reopens, there are some industries that should do much, much better,\" the \"Mad Money\" host said. \"These rules are safe and healthy for the customer, which is great, but there\\'s simply no way most restaurants can possibly obey them without going right out of business,\" the \"Mad Money\" host said. \"We\\'re here . . . doing everything we can to make sure that a vaccine and treatments are available as soon as possible,\" CEO Robert Kramer said. \"Mad Money\" host Jim Cramer rings the lightning round bell, which means he\\'s giving his answers to callers\\' stock questions at rapid speed. \"I recommend selling\" some position in the S&P 500 index fund \"if the [upward] streak continues,\" the \"Mad Money\" host said. Salesforce\\'s Benioff said it was the Rhode Island governor\\'s idea to pair contact tracing with coronavirus testing as Salesforce sought to launch Work. com. Simeon Hyman of ProShares, Dave Nadig of ETF Trends and Chris Hempstead of IndexIQ talk what could lie ahead for dividend-based ETFs as corporations cut their shareholder payouts. With CNBC\\'s Bob Pisani. Stocks in April had a great month with the S&P 500 notching its best monthly performance in over 40 years despite coronavirus concerns. Standard Chartered Private Bank\\'s Steve Brice weighs in on whether the old adage \"sell in May and go away\" holds true and what the outlook for risk assets is in this environment. \"We\\'re investing in future capacities so that we\\'re better equipped to meet the demand in future surges,\" Clorox CEO Benno Dorer said. \"\\'Sell in May and go away\\' is suboptimal advice, people, but this May, it just so happens that the market\\'s run too much versus the fundamentals,\" the \"Mad Money\" host said. \"Mad Money\" host Jim Cramer rings the lightning round bell, which means he\\'s giving his answers to callers\\' stock questions at rapid speed. \"The consumer finds a way to get the product they want\" and \"found a way to buy our product online more than usual,\" Estee Lauder CEO Fabrizio Freda said. \"I recommend putting on half your position here, and then wait and buy more if it pulls back below $30 after the earnings,\" the \"Mad Money\" host said. \"Mad Money\" host Jim Cramer rings the lightning round bell, which means he\\'s giving his answers to callers\\' stock questions at rapid speed. Stocks on Wall Street have reached levels that are \"too hot\" for Jim Cramer\\'s liking. After weeks of record unemployment claims across the country, \"we have seen a couple of indicators of some bottoming,\" ADP CEO Carlos Rodriguez told CNBC. \"Mad Money\" host Jim Cramer rings the lightning round bell, which means he\\'s giving his answers to callers\\' stock questions at rapid speed. \"This drug makes a big difference, especially if you were worried about a second wave of infections after we reopened the economy,\" the \"Mad Money\" host said. The \"Mad Money\" host offered his thoughts on each companies\\' latest quarterly results and recommended multiple stocks for buys. Large-cap stocks on the U. S. are weighted towards resilient sectors like e-commerce and digital media, leaving them less affected by signs of a recession, says Steven Wieting of Citi Private Bank. He notes that small-cap shares are more likely to bounce back as the economy recovers. \"We are optimistic that we\\'ll see the bottom in Q2 and move out of that as we enter the third and fourth quarters,\" Nucor CEO\"Mad Money\" host Jim Cramer rings the lightning round bell, which means he\\'s giving his answers to callers\\' stock questions at rapid speed. \"Some of these hopes make more sense than others,\" the \"Mad Money\" host said. Technology and financial stocks account for a third of S&P 500 dividend yield. They generally have clean balance sheet and should be able to sustain their dividends, says Savita Subramanian from BofA Securities. She points out pockets of risks in the energy, consumer and small-cap stocks. \"Man, I\\'ve been dreaming about this,\" Nvidia CEO Jensen Huang told CNBC\\'s Jim Cramer. \"You want to remember this list the next time the market rolls over,\" the \"Mad Money\" host said. \"Mad Money\" host Jim Cramer rings the lightning round bell, which means he\\'s giving his answers to callers\\' stock questions at rapid speed. \"So until we get a vaccine, you need to approach this market as though the world has changed,\" the \"Mad Money\" host said. Daryl Guppy of Guppytraders provides technical analysis on oil, S&P 500 and more. \"Mad Money\" host Jim Cramer rings the lightning round bell, which means he\\'s giving his answers to callers\\' stock questions at rapid speed. \"This earnings week is \"chock full of tech stocks, including some household names that have run up substantially from their March lows,\" the \"Mad Money\" host said. \"We are making a lot of money at this time, improving our balance sheet tremendously, and I have never seen such a strong market,\" Nordic American Tankers CEO Herbjørn Hansson said. Impossible Foods CFO David Lee joined CNBC\\'s Jim Cramer to discuss the company\\'s expansion into more grocery stores across the U. S. Wells Fargo investment committee is neutral on pharma stocks in the middle of the coronavirus pandemic. Their strategist Scott Wren shares some areas that they advise their clients to reduce exposure. \"Stop circling the wagons around index funds here,\" the \"Mad Money\" host said. \"We expect to finish enrollment of all 40 volunteers before the end of April,\" Inovio CEO Dr. Joseph Kim said. The biotech firm has begun phase one trials. \"We need to lean in even more to get the messages around value and around how we can safely serve our customers,\" Domino\\'s Pizza CEO Ritch Allison said. \"Mad Money\" host Jim Cramer rings the lightning round bell, which means he\\'s giving his answers to callers\\' stock questions at rapid speed. Markets, especially developed ones, could still hit new lows despite showing resilience and making gains amid the ongoing coronavirus crisis, said Mark Jolley of CCB International Securities. \"We\\'re focused on sustainability because it matters to our customs and because we think it\\'s the right thing to do,\" Digital Realty CEO Bill Stein told CNBC\\'s Jim Cramer. \"Mad Money\" host Jim Cramer rings the lightning round bell, which means he\\'s giving his answers to callers\\' stock questions at rapid speed. Department stores are in trouble and the coronavirus pandemic is pulling the curtain on vulnerabilities for shopping malls, the \"Mad Money\" host said. \"Turns out rewarding your employees and protecting your customers is good for business,\" the \"Mad Money\" host said. Plunging oil prices and broad market uncertainty are pushing the index toward key support levels, technical analyst Mark Newton said. Puritan Medical executive Timothy Templet broke down the private manufacturers efforts to make up to 50 million swabs per month to combat Covid-19. Jurrien Timmer of Fidelity Investments says that the S&P 500 sitting in a trading range of between 2,500 and 2,900 suggests that markets may settle between the middle of a V- and U-shaped recovery in the next few weeks, if not months. \"I\\'m still very worried about this pandemic … but the charts, as interpreted by Larry Williams, suggest that the future might be brighter than we expect,\" Cramer said. \"Mad Money\" host Jim Cramer rings the lightning round bell, which means he\\'s giving his answers to callers\\' stock questions at rapid speed. The stock market is \"rolling back some of those gains\" from the $2. 2 trillion economic rescue package that Congress passed, the \"Mad Money\" host said. Robinhood trading app\\'s top 10 stock picks for March is a \"fantastic list\" for younger investors, the \"Mad Money\" host said. \"I would say that . . . 15% of this is Saudi Arabia and Russia and 85% of it is Covid,\" RBN Energy CEO Rusty Braziel said of the state of the oil market. \"Mad Money\" host Jim Cramer rings the lightning round bell, which means he\\'s giving his answers to callers\\' stock questions at rapid speed. \"The main takeaway from today is that our economy remains closed and when an economy is closed … you don\\'t need a lot of fossil fuels,\" the \"Mad Money\" host said. \"[I]f there is a prolonged lockdown, then I think the banks are in trouble,\" the \"Mad Money\" host said. \"Unfortunately, there are a lot more losers than winners here and many of them have become uninvestible,\" the \"Mad Money\" host said. \"Mad Money\" host Jim Cramer rings the lightning round bell, which means he\\'s giving his answers to callers\\' stock questions at rapid speed. Extending business interruption losses is a \"self-inflicted injury\" and would create \"great uncertainty at a time when we have enough uncertainty,\" Chubb CEO Evan Greenberg told CNBC. The \"Mad Money\" host is convinced Johnson & Johnson\\'s Covid-19 vaccine efforts will \"make you wish you owned a travel and leisure stock. \"\"Mad Money\" host Jim Cramer rings the lightning round bell, which means he\\'s giving his answers to callers\\' stock questions at rapid speed. \"Rule No. 1 for the new abnormal is that you stick with the winners and you leave the raggedy rest to the others,\" the \"Mad Money\" host said. \"My stance is if we don\\'t do something quickly in the face of a pandemic, you are going to cripple this domestic industry on the other side,\" CEO Matt Gallagher told CNBC. Brian Belski of BMO Capital Markets explains why he thinks consumer spending will pick up despite projections to the contrary. \"I agree it\\'s messed up, but the contrast between a roaring stock market and an obliterated job market does tell you a lot about what\\'s happening at this moment,\" he said. \"Mad Money\" host Jim Cramer rings the lightning round bell, which means he\\'s giving his answers to callers\\' stock questions at rapid speed. \"If we\\'re successful … we\\'re hoping to get to hundreds of millions of doses by the end of next year,\" GlaxoSmithKline CEO Emma Walmsley told CNBC\\'s Jim Cramer. Goodly, a San Francisco startup, outfits businesses with student loan assistance programs. CEO Greg Poulin said benefits have become more achievable. \"I fundamentally believe, through this crisis, strong brands are going to emerge from this stronger than ever,\" Levi Strauss CEO Chip Bergh said. \"Mad Money\" host Jim Cramer rings the lightning round bell, which means he\\'s giving his answers to callers\\' stock questions at rapid speed. \"When you look at the facts, I think there\\'s reason to be more hopeful than we have been,\" the \"Mad Money\" host said. \"Now, we just need to nail down that public-health side of the equation,\" the \"Mad Money\" host said. \"Mad Money\" host Jim Cramer rings the lightning round bell, which means he\\'s giving his answers to callers\\' stock questions at rapid speed. \"This is an era of entrepreneurship like none we\\'ve ever seen before because of the challenge to small businesses,\" the House speaker told CNBC. \"With the opening of Wuhan last night it\\'s a whole new ballgame for the second largest economy in the world,\" the \"Mad Money\" host said\"Mad Money\" host Jim Cramer rings the lightning round bell, which means he\\'s giving his answers to callers\\' stock questions at rapid speed. \"Even when the lockdown ends you\\'ve got to be prepared for a new world that looks very different from the old one,\" the \"Mad Money\" host said. \"This is a moment where business has to be the greatest platform for change,\" Salesforce CEO Marc Benioff said after donating medical gear to New York. Australia\\'s coveted \"AAA\" rating came under a cloud on Wednesday as its parliament returned to pass an emergency A$130 billion ($80 billion) stimulus package to cushion the economic blow of the coronavirus pandemic. \"I think it\\'s incredible that there\\'s still an appetite for risky debt here, and that could make a huge difference for an ultimate economic comeback,\" the \"Mad Money\" host said. \"[T]here\\'s no need to chase stocks after this week\\'s rally. You can afford to be patient and buy the dips,\" the \"Mad Money\" host said. \"Mad Money\" host Jim Cramer rings the lightning round bell, which means he\\'s giving his answers to callers\\' stock questions at rapid speed. \"In a U-shaped recovery I\\'m expecting, the stock market will pull back again and that is when you can put some money to work,\" the \"Mad Money\" host said. Working remotely has so many advantages that \"I think we might be witnessing a more permanent shift in that direction,\" the \"Mad Money\" host said. \"Mad Money\" host Jim Cramer rings the lightning round bell, which means he\\'s giving his answers to callers\\' stock questions at rapid speed. The \"Mad Money\" host said he will be more \"sustainably bullish\" about the market after the \"unemployment rate peaks. \"\"Mad Money\" host Jim Cramer rings the lightning round bell, which means he\\'s giving his answers to callers\\' stock questions at rapid speed. \"This is gonna be a brutal period, but if we handle things right, it will be a short depression,\" the \"Mad Money\" host said. \"You see a lot of channel shift, and you see this in many recessionary environments,\" Constellation Brands CEO Bill Newlands told CNBC\\'s Jim Cramer. The pandemic pushed Chipotle into \"tough business situations, but we thought the right thing to do was step in and provide assistance,\" Niccol said. The S&P 500 made a \"death cross\" this week, when the 50-day moving average crossed below the 200-day moving average. Stephane Monier of Lombard Odier Private Bank outlines the two scenarios which could play out for the markets, and gives his potential targets for the S&P 500 under each one. \"People that purchase these gift cards will be able to give 10% of those proceeds, roughly, to health-care organizations,\" CEO Brian Niccol said. \"We\\'re doing all that we can to support our customers at this time of rapid change and uncertainty,\" General Electric CEO Larry Culp said after temporary cuts were made in its aviation business. \"Mad Money\" host Jim Cramer rings the lightning round bell, which means he\\'s giving his answers to callers\\' stock questions at rapid speed. \"This market\\'s so desperate for good news that buyers are willing to grasp even the thinnest of reeds,\" the \"Mad Money\" host said. Judged solely by market capitalization, many companies in the index appear in danger of being kicked out. PVH CEO Manny Chirico said Macy\\'s will be a \"survivor when this is all over and we have a great deal of confidence in that management team. \"During a recent visit to a Bronx hospital, PVH CEO Manny Chirico said he was \"shocked\" to learn that he was positive for COVID-19. \"Mad Money\" host Jim Cramer rings the lightning round bell, which means he\\'s giving his answers to callers\\' stock questions at rapid speed. \"In the end, I think the winners from the first quarter keep winning as long as the pandemic rages, and the losers [will] keep losing,\" the \"Mad Money\" host said. \"I can\\'t blame anyone for selling after that miserable first quarter with very little good news on any front in the battle against COVID,\" the \"Mad Money\" host said. \"Chef Boyardee was growing nicely before COVID. It\\'s doing very well now,\" Conagra Brands CEO Sean Connolly said. \"Mad Money\" host Jim Cramer rings the lightning round bell, which means he\\'s giving his answers to callers\\' stock questions at rapid speed. Macy\\'s is being removed from the S&P 500 Index and replaced by air conditioning company Carrier Global, according to S&P Dow Jones Indices, which oversees the index. The \"Mad Money\" host said investors should \"stick with the staples, the utilities and the stay-at-home tech stocks. \"I think we will come out of this strong both as an economy and as a company,\" Palo Alto CEO Nikesh Arora said in a \"Mad Money\" interview. Abbott Labs teams are working around the clock to ramp up COVID-19 tests and to develop more diagnosis products, outgoing CEO Miles White said. \"Mad Money\" host Jim Cramer rings the lightning round bell, which means he\\'s giving his answers to callers\\' stock questions at rapid speed. Demand for cloud computing services has spiked during the coronavirus outbreak and Microsoft has been a \"huge beneficiary from the lockdowns,\" the \"Mad Money\" host said. \"We need a cure or a vaccine, and in the last 24 hours we\\'ve gotten some serious go-aheads when it comes to potential treatments,\" \"Mad Money\" host Jim Cramer said. Since ramping up personal protective equipment production in January, Owens & Minor CEO Ed Pesicka said it will take \"5 to 6 months to make sure\" they can stretch operations further. \"Mad Money\" host Jim Cramer rings the lightning round bell, which means he\\'s giving his answers to callers\\' stock questions at rapid speed. \"I can assure you . . . we\\'re doing everything we can to be there as fast as we can,\" said Paul Hudson, CEO of the French pharmaceutical giant Sanofi. If coronavirus responses fail to continually progress, \"I think the market will revisit its lows from earlier this week,\" CNBC\\'s Jim Cramer said. Veeva Systems CEO Peter Gassner said its remote meeting application has been made free to help keep doctors and pharma companies connected during coronavirus. \"Mad Money\" host Jim Cramer rings the lightning round bell, which means he\\'s giving his answers to callers\\' stock questions at rapid speed. Gaming and data demands offset weakness in other areas. Those two categories could be a boon for industry peers, the \"Mad Money\" host said. \"I know there\\'s going to be bad news, but at least we\\'re finally fighting back,\" Cramer said after a massive stimulus bill made progress in Congress. \"We think that we will create a great value and we\\'ll create a great opportunity for shareholder value over the long term,\" Lowe\\'s CEO Marvin Ellison told CNBC. \"Mad Money\" host Jim Cramer rings the lightning round bell, which means he\\'s giving his answers to callers\\' stock questions at rapid speed. Apple and Facebook are \"companies that are currently stinking up the joint, but should thrive when things get back to normal,\" the \"Mad Money\" host said. The $2 trillion legislation \"won\\'t create demand in a time when so many consumers are fearful, and it will not defeat the coronavirus,\" he said. \"Mad Money\" host Jim Cramer rings the lightning round bell, which means he\\'s giving his answers to callers\\' stock questions at rapid speed. The 5G rollout is experiencing a \"pause\" and demand for the technologies will return and be met by 2021, Skyworks Solutions CEO Liam Griffin said. The \"Mad Money\" host said Tuesday\\'s rally was a \"machine-driven\" move. \"We still have a lot more bad news to process\" on the coronavirus front, the \"Mad Money\" host said. On Feb. 24, Jonathan Pain of The Pain Report predicted a 20% decline in the U. S. equity markets in a month. He now still sees more downside in the markets and expects the U. S. economy to contract in excess of 5% in the second quarter. Ventas CEO Debra Cafaro cites a \"strong financial condition,\" importance of the dividend in its board\\'s decision to declare its normal dividend, despite challenges during coronavirus outbreak. \"We\\'re happy to work . . . to try to meet the incredible increase in demand\" during the coronavirus crisis, Teladoc Health CEO Jason Gorevic said. The \"Mad Money\" host said the end to the economic damage from COVID-19 will arrive when the U. S. has adequate testing capacity and medical supplies. \"Legislation isn\\'t enough,\" he said. The U. S. is in a \"protracted bear market\" and stock prices could fall further, according to Anthony Scaramucci, an investor and former White House communications director. With the floor of the New York Stock Exchange closed as of Monday, trading will resume electronically. \"When there\\'s chaos and there\\'s this fear in the street that\\'s when the adversary tends to strike hardest,\" Crowdstrike CEO George Kurtz said. AMN Healthcare CEO Services CEO Susan Salka broke down the hospital staffing company\\'s acquisitions of Stratus Video and b4health, and how they are being applied to fight COVID-19. \"Mad Money\" host Jim Cramer rings the lightning round bell, which means he\\'s giving his answers to callers\\' stock questions at rapid speed. \"Mad Money\" host Jim Cramer gave a preview of what he\\'ll be keeping his eye on next week as the coronavirus fight heats up and the oil price war drags on. Stephen Isaacs, chairman of the investment committee at Alvine Capital Management, shares his outlook for markets amid the coronavirus pandemic. \"In less than a week, we have transformed this company dramatically,\" CEO Hans Vestberg said. \"Mad Money\" host Jim Cramer rings the lightning round bell, which means he\\'s giving his answers to callers\\' stock questions at rapid speed. Jim Cramer said, \"It\\'s too late to sell. At this point, if you want out, you\\'ve got to wait for more of a bounce. \"Investors must \"keep our eyes on the prize, and that prize is what works once the smoke clears,\" the \"Mad Money\" host said. \"There\\'s actually a return to normalcy and so our plants are fully staffed,\" Hormel CEO Jim Snee said about business in China. \"Mad Money\" host Jim Cramer rings the lightning round bell, which means he\\'s giving his answers to callers\\' stock questions at rapid speed. \"The rest of the world\\'s looking to China for leadership, not us. That\\'s going to be permanent if we don\\'t get our act together,\" CNBC\\'s Jim Cramer said. \"This could in a very short time give hope to the most critical people,\" Regeneron Chief Scientific Officer Dr. George Yancopoulos told CNBC. While it may be too late for investors to make margin adjustments amid the ongoing coronavirus outbreak, they might want to consider investing in mid to large cap companies and the investment grade corporate market, says Kirk Hartman, president and global chief investment officer of Wells Fargo Asset Management. \"We are at the beginning of the most treacherous phase of this [COVID-19] bear market,\" the \"Mad Money\" host said. \"Mad Money\" host Jim Cramer rings the lightning round bell, which means he\\'s giving his answers to callers\\' stock questions at rapid speed. With 1. 5 million coronavirus tests in stock, Thermo Fisher Scientific expects to produce 5 million per week come April, CEO Marc Casper said. \"I think that tells us that we can see the same thing wash through the economy here,\" Dow Inc. CEO Jim Fitterling told CNBC\\'s Jim Cramer. As the global economy slows, stick to the quality recession-proof stocks when they come down, the \"Mad Money\" host said. \"Mad Money\" host Jim Cramer rings the lightning round bell, which means he\\'s giving his answers to callers\\' stock questions at rapid speed. Jim Cramer and other top market commentators share what they\\'re watching as the coronavirus-crazed stock market plunges yet again. \"It\\'s always darkest before the DAWN,\" says Strategic Wealth Partners chief Mark Tepper as he suggests investors buy shares of Domino\\'s Pizza, Activision Blizzard, Walmart and Netflix to shield their portfolios as the coronavirus spreads. Amplify\\'s Black Swan Growth and Treasury Core ETF (SWAN) is one of several funds leveraging minimum-volatility holdings to bring investors stability in times of market turmoil, says Amplify founder and CEO Christian Magoon. CNBC\\'s Jim Cramer recommended investors start buying stocks with safe dividends, \"although the key is to buy them gradually on the way down. \"\"Mad Money\" host Jim Cramer rings the lightning round bell, which means he\\'s giving his answers to callers\\' stock questions at rapid speed. \"We\\'re starting this because we believe it could work,\" Eli Lilly CEO David Ricks told CNBC in explaining the company\\'s partnership with AbCellera Biologics. The U. S. stock market appears primed for upside that could last longer than recent bounces, says Miller Tabak chief market strategist Matt Maley. The Dow could easily see losses as much as 35%, while the S&P 500 could fall further if it fails to hold support at 2,400, says Daryl Guppy of guppytraders. com. \"Mad Money\" host Jim Cramer rings the lightning round bell, which means he\\'s giving his answers to callers\\' stock questions at rapid speed. \"These are companies that I\\'m picking that have healthy businesses. I believe they\\'ll hold up during the slowdown,\" the \"Mad Money\" host said. \"If we don\\'t do something like this six-part plan, we\\'re going to have a serious financial emergency on top of the public health emergency,\" CNBC\\'s Jim Cramer said. Sen. Elizabeth Warren told CNBC\\'s Jim Cramer she wants a targeted, \"big stimulus package\" that doesn\\'t \"disproportionately\" advantage \"rich folks. \"Matt Maley of Miller Tabak and Mark Tepper of Strategic Wealth Partners talk the path for stocks and bonds with CNBC\\'s Seema Mody. CNBC\\'s Jim Cramer explained what he thinks it will take to quell the spread of the coronavirus in the U. S. The \"Mad Money\" host broke down how the banks will take a hit from the pandemic. \"There\\'s nothing more important than trying to stay home, wash your hands and get your supplies,\" CNBC\\'s Jim Cramer said. \"Mad Money\" host Jim Cramer rings the lightning round bell, which means he\\'s giving his answers to callers\\' stock questions at rapid speed. \"If cruise lines and restaurants and retailers and airlines and oils are in trouble, well, so are their bankers,\" the \"Mad Money\" host said. Craig Johnson of Piper Sandler and Nancy Tengler of Laffer Tengler Investments discuss how they\\'re approaching the stock market sell-off with CNBC\\'s Seema Mody. Nvidia and Netflix stand out among the S&P 500 stocks that have beaten the market since its 2009 bottom, traders say. Cruise stocks have sustained serious losses amid the global spread of the coronavirus, but \"all hope is not lost\" for the group, says Todd Gordon. CNBC\\'s Jim Cramer broke down what stocks can be bought here in a volatile market environment. He warned that investors must pay closer attention to company balance sheets in a slowdown. \"Mad Money\" host Jim Cramer rings the lightning round bell, which means he\\'s giving his answers to callers\\' stock questions at rapid speed. The cruise lines, airlines and oil companies could get \"crushed\" by their balance sheets if a coronavirus cure is not found, Jim Cramer said. \"Until today, I\\'d been adamant the only thing you could buy were high-yielding pharma and a handful of utilities,\" the \"Mad Money\" host said. Stocks rallied into Tuesday\\'s close as the White House opened the door for potential stimulus meant to stem damage tied to the coronavirus outbreak, but some commentators are still preaching caution. \"I think the lows are probably in. But I don\\'t think we\\'re going to get right up and run the hundred yard dash here either,\" Wall Street veteran Jeff Saut said. Gina Sanchez of Chantico Global and Todd Gordon of Ascent Wealth Partners pick their favorite stocks out of those that have outperformed the market since its March 2009 bottom. Low-beta stocks may be coming into focus as investors deal with market volatility damage, but traders warn to pick carefully. Investors would do well to watch one key level in the S&P 500 for a sign that it could fall further, says Fairlead Strategies\\' Katie Stockton. \"If the President wants to reassure the markets, he needs to consider a new approach — and if he takes it, call me a buyer,\" the \"Mad Money\" host said. \"If there\\'s any kind of rumor that the Saudis and the Russians have a new deal to save OPEC and reinstate the old order, I think you use that as a chance to sell,\" the \"Mad Money\" host said. \"Mad Money\" host Jim Cramer rings the lightning round bell, which means he\\'s giving his answers to callers\\' stock questions at rapid speed. \"They just don\\'t think that those under 65 should be able to participate, and you can\\'t really blame them,\" eHealth CEO Scott Flanders told CNBC\\'s Jim Cramer. Katie Stockton of Fairlead Strategies and Quint Tatro of Joule Financial talk low-beta stocks and key market levels to watch with CNBC\\'s Seema Mody. CNBC\\'s Jim Cramer marked 15 years of \"Mad Money. \" Besides celebrating the milestone, the host got down to business to preview the week ahead of corporate earnings with the backdrop of the coronavirus outbreak. \"What works in this difficult environment are companies with products that you can enjoy from the comfort of your home,\" the \"Mad Money\" host said. \"Pay attention to what these companies have to say next week, but don\\'t forget that at least for the moment — COVID-19 is in the driver\\'s seat,\" CNBC\\'s Jim Cramer said. \"Mad Money\" host Jim Cramer rings the lightning round bell, which means he\\'s giving his answers to callers\\' stock questions at rapid speed. CNBC\\'s Jim Cramer recalled Warren Buffett\\'s iconic long-term investment advice from the 2008 financial crisis and relayed what it means for the market today. \"Mad Money\" host Jim Cramer rings the lightning round bell, which means he\\'s giving his answers to callers\\' stock questions at rapid speed. \"Everything else is in trouble, especially in this post-coronavirus world where things are getting a whole lot tougher for the whole industry,\" the \"Mad Money\" host said. \"Just, please, if you\\'re going to buy, buy gradually on the way down,\" CNBC\\'s Jim Cramer advised investors participating in a turbulent stock market. Barrick Gold CEO Mark Bristow said the lessons the company learned from the 2014 Ebola outbreak are informing its response to the ongoing coronavirus outbreak. CNBC\\'s Jim Cramer said his favorite market indicator is showing it\\'s time to buy stocks while also explaining why he\\'s soured on sector ETFs. He also sat down with Barrick Gold CEO Mark Bristow. \"I expect a mild recession based on weakness in travel and entertainment, but right now the oscillator is saying you should buy stocks,\" Jim Cramer said. CNBC\\'s Jim Cramer offers his advice to callers on the stocks of Luckin Coffee, JD. com and Eaton Corporation. \"I know I\\'m early, but anyone who doesn\\'t see this index fund peak on the horizon is fooling themselves,\" said Jim Cramer, the host of \"Mad Money. \"CNBC\\'s Jim Cramer revealed three segments of the market he\\'s bullish on, said the Federal Reserve\\'s emergency rate cut was \"wrong\" and sat down with Chevron CEO Mike Wirth. \"Clearly demand is off with concerns about the coronavirus, and I look forward to seeing what comes out of the meeting,\" said Chevron CEO Mike Wirth. \"Mad Money\" host Jim Cramer rings the lightning round bell, which means he\\'s giving his answers to callers\\' stock questions at rapid speed. \"The problem here is that we have a public health crisis that could do real damage to vast swaths of the economy. A rate cut doesn\\'t change that,\" the \"Mad Money\" host said. Technical indicators suggest \"some stocks might be safer . . . like Apple, but the broader S&P 500 might not be out of the woods yet,\" Cramer said. \"I know I\\'m early, but you can\\'t wait until the selling ends before you start building a position,\" the \"Mad Money\" host said. CNBC\\'s Jim Cramer explained how stocks managed to bounce after a big coronavirus-induced sell-off. He sat down with Beyond Meat CEO to talk international expansion. \"Mad Money\" host Jim Cramer rings the lightning round bell, which means he\\'s giving his answers to callers\\' stock questions at rapid speed. CNBC\\'s Jim Cramer said the best thing Jack Dorsey could do for shareholders is \"retire as CEO of Twitter and focus on running Square full time — or vice versa. \"\"I think stocks soared today because Wall Street realized that the coronavirus might be the equivalent of a severe flu season,\" CNBC\\'s Jim Cramer said. \"Right now is a moment in time for us. It\\'s an opportunity for hyper growth, so I\\'m looking very seriously to Asia,\" CEO Ethan Brown said in a \"Mad Money\" interview. CNBC\\'s Jim Cramer gave a preview of what\\'s on his earnings calendar next week and offered more stock picks for this volatile environment. \"Our investment thesis is based in statistics, physics and economics,\" Hannon Armstrong CEO Jeffrey Eckel said. CNBC\\'s Jim Cramer gave a preview of the corporate earnings and economic data that he has circled on his calendar next week. \"Have a lot of cash on the sidelines and put money to work gradually \\'cause there may be more bad [coronavirus] stories\" next week, Cramer said. \"Mad Money\" host Jim Cramer rings the lightning round bell, which means he\\'s giving his answers to callers\\' stock questions at rapid speed. CNBC\\'s Jim Cramer revealed his top 10 tech stocks that can work in this volatile trading environment. He interviews the CEOs of online marketplace Etsy and digital advertising firm Trade Desk. \"We\\'re feeling really great about the year, of course, as well and that\\'s largely driven by political advertising,\" digital advertising outfit The Trade Desk CEO Jeff Green told CNBC. \"Mad Money\" host Jim Cramer rings the lightning round bell, which means he\\'s giving his answers to callers\\' stock questions at rapid speed. \"A lot of people are worried about their supply chain,\" CEO Josh Silverman said, adding \"Etsy makers are already working from home, so we feel resilient. \"\"If anything, some of them should do even better as this outbreak gets worse,\" the \"Mad Money\" host said. The stock market is at a make-or-break moment that could decide if buying on pullbacks could burn investors, trader Boris Schlossberg says. \"I don\\'t think you\\'ll get [Disney stock] for $115 or $120\" if you wait until the coronavirus outbreak is quelled, CNBC\\'s Jim Cramer says. HP estimates that \"in Q2 [the coronavirus] will have an 8 cents impact on EPS, and this is what we have built in our predictions,\" says CEO Enrique Lores. As coronavirus worries grow worldwide, traders are seeking safe havens in the U. S. market — for now. CNBC\\'s Jim Cramer explains why he thinks the coronavirus-induced sell-off has more to go, hears about Mastercard CEO Ajay Banga and breaks down the chart action in Intel and Caterpillar. Mastercard CEO Ajay Banga explains to CNBC\\'s Jim Cramer why it\\'s time for him to pass the baton in 2021. \"Mad Money\" host Jim Cramer rings the lightning round bell, which means he\\'s giving his answers to callers\\' stock questions at rapid speed. CNBC\\'s Jim Cramer warns of ominous signs in the stock trajectories of Caterpillar and Intel for the broader market. \"If the virus strikes here in a big way, then I think we\\'ll end up having a lot more downside,\" the \"Mad Money\" host says. CNBC\\'s Jim Cramer breaks down the huge coronavirus-induced sell-off on Wall Street and identifies investment factors that investors should consider. \"Mad Money\" host Jim Cramer rings the lightning round bell, which means he\\'s giving his answers to callers\\' stock questions at rapid speed. CNBC\\'s Jim Cramer breaks down five reasons it \"may make sense to start picking at beaten-down stocks, especially if they keep falling. \"CNBC\\'s Jim Cramer breaks down why investors can take a chance on consumer staples, pharmaceuticals, utilities and gold stocks amid the coronavirus. CNBC\\'s Jim Cramer warns investors not to buy shares of companies that are about to have supply chains cut due to coronavirus. Coronavirus fears are overtaking investors\\' fear of missing out on the rally, creating a market tug-of-war, says technical analyst Craig Johnson. Innovator Capital Management CEO Bruce Bond breaks down how his firm\\'s Defined Outcome ETF strategy can help investors buffer against big moves in the S&P 500. CNBC\\'s Jim Cramer warns that coronavirus outbreak updates will continue to influence on the market. He breaks down the earnings reports behind Facebook, Snap, Twitter and Pinterest. CNBC\\'s Jim Cramer breaks down the earnings reports in the top four social media stocks. \"Mad Money\" host Jim Cramer rings the lightning round bell, which means he\\'s giving his answers to callers\\' stock questions at rapid speed. \"If [coronavirus news] remains as fluid . . . or if it remains dynamic, get ready for February to end with a nasty whimper and a bear full of bang,\" CNBC\\'s Jim Cramer says. CNBC\\'s Jim Cramer breaks down Thursday\\'s market sell-off, chats with the CEO of Domino\\'s Pizza after a strong fourth-quarter report and advises buying the dip in Vertex. Market sell-offs like Thursday\\'s \"can extend the life of a rally,\" the \"Mad Money\" host said. \"Mad Money\" host Jim Cramer rings the lightning round bell, which means he\\'s giving his answers to callers\\' stock questions at rapid speed. \"As much as I hate to chase, I honestly don\\'t think you\\'re that late to the party with Vertex if you buy it at these levels,\" the \"Mad Money\" host says. \"While most of the industry is running headlong into delivery . . . [we\\'re] growing that carryout channel,\" CEO Ritch Allison says after shares pop 26% on strong quarter report. CNBC\\'s Jim Cramer advises that investors must stay disciplined with their Tesla holdings. He sits down with Everbridge CEO David Meredith to get insight into the emergency response software company\\'s growth. Everbridge CEO David Meredith explains why the critical event management firm\\'s customer count surged in its latest quarter and how it\\'s well positioned for more growth. \"Mad Money\" host Jim Cramer rings the lightning round bell, which means he\\'s giving his answers to callers\\' stock questions at rapid speed. CNBC\\'s Jim Cramer explains why Tesla shareholders must practice discipline and how they can make their profits work for them after making big gains. Bruce Bond, the co-founder and CEO of Innovator Capital Management, breaks down his firm\\'s Defined Outcome ETF strategy with CNBC\\'s Bob Pisani. Also with Tom Lydon of ETF Trends, John Davi of Astoria Portfolio Advisors and Andrew Chanin of ProcureAM. CNBC\\'s Jim Cramer breaks down why bank stocks fell on Apple\\'s coronavirus warning. He reveals a short list of stocks that can benefit from the outbreak. \"You\\'ve got Clorox, Zoom Video and Teladoc on reality, Gilead on hope. That\\'s about it,\" the \"Mad Money\" host says. \"The banks do better in a rising interest rate environment, not a lower one,\" the \"Mad Money\" host says, explaining why bank stocks dropped during the session. \"Mad Money\" host Jim Cramer rings the lightning round bell, which means he\\'s giving his answers to callers\\' stock questions at rapid speed. Amazon, Alphabet, Facebook, Salesforce and PayPal are Wall Street\\'s most loved stocks, but only one looks especially attractive at its elevated levels, traders say. CNBC\\'s Jim Cramer previews the week ahead in earnings reports. He breaks down the concept of visibility and why it\\'s making a comeback on Wall Street. \"Mad Money\" host Jim Cramer says stocks are rallying into earnings and again afterwards because executives can claim \"the future\\'s brighter than the past. \"\"Mad Money\" host Jim Cramer rings the lightning round bell, which means he\\'s giving his answers to callers\\' stock questions at rapid speed. \"Until the outbreak burns itself out, the coronavirus statistics, and not earnings, will continue to control the day-to-day action,\" \"Mad Money\" host Jim Cramer says. CNBC\\'s Jim Cramer breaks down how objective and subjective valuations are influencing the stock market. He issues a buy call on Ollie\\'s Bargain Outlet stock. \"If you want to go bargain hunting in this market, I urge you to look no further than Ollie\\'s Bargain Outlet Holdings,\" the \"Mad Money\" host says. \"Mad Money\" host Jim Cramer rings the lightning round bell, which means he\\'s giving his answers to callers\\' stock questions at rapid speed. \"I bet it keeps going until the outbreak runs its course,\" CNBC\\'s Jim Cramer says on \"Mad Money. \"CNBC\\'s Jim Cramer breaks down why Carnival shares and the broader market rose in Wednesday\\'s session, coming off the first-in-the-nation primary in New Hampshire. Wall Street is \"blessing any company that spells out its China losses,\" CNBC\\'s Jim Cramer says. \"Mad Money\" host Jim Cramer rings the lightning round bell, which means he\\'s giving his answers to callers\\' stock questions at rapid speed. Direct sales \"is now a steady state, and it\\'s being powered by Shopify. We\\'re at the center of that,\" Shopify COO Harley Finkelstein explains in a \"Mad Money\" interview. CNBC\\'s Jim Cramer reveals what health official he is taking his cue from before he turns bullish on travel and other stocks with China exposure. \"If an oil CEO who believes in the industry wants to put his money where his mouth is, it\\'s time to stand up and make a statement buy like David Simon has done,\" CNBC\\'s Jim Cramer said. Wall Street saw positive trading on new coronavirus data. Jim Cramer says Tuesday\\'s trade is a peek at what could happen when the outbreak is contained. \"Mad Money\" host Jim Cramer rings the lightning round bell, which means he\\'s giving his answers to callers\\' stock questions at rapid speed. CNBC\\'s Jim Cramer breaks down why money managers are rotating from cyclical to secular growth stocks. The \"Mad Money\" host explains why he\\'s more bullish on Uber. \"Mad Money\" host Jim Cramer rings the lightning round bell, which means he\\'s giving his answers to callers\\' stock questions at rapid speed. \"If you own them . . . you might want to ring the register\" on part of your position, \"but you\\'ve definitely got to hold on to something,\" Cramer says. Uber stock can \"sail past $45\" and keep climbing \"as long as management can hit the profitability targets they laid out last week,\" CNBC\\'s Jim Cramer says. CNBC\\'s Jim Cramer gives a preview of what he\\'s looking for in corporate earnings reports in the coming week. CNBC\\'s Jim Cramer gives viewers a preview of what\\'s on his earnings calendar next week. He breaks down the Casper Sleep IPO and what he thinks of the stock. The business world could get to a \"better place\" if companies hired more women and diverse candidates, Taylor Morrison CEO Sheryl Palmer says. \"Mad Money\" host Jim Cramer rings the lightning round bell, which means he\\'s giving his answers to callers\\' stock questions at rapid speed. \"That tells you this red-hot market still has discerning taste, that investors still have a healthy dose of skepticism,\" CNBC\\'s Jim Cramer said. The euro fell to its lowest since October on Friday after German industrial output for December recorded its biggest decline in a decade and strong employment numbers in the United States encouraged investors to buy the dollar. CNBC\\'s Jim Cramer laid out four reasons why Wall Street reversed its fortunes after Friday\\'s big coronavirus-induce sell-off. He checks in with executives of McCormick and Cigna. \"Mad Money\" host Jim Cramer rings the lightning round bell, which means he\\'s giving his answers to callers\\' stock questions at rapid speed. \"To buy on weakness isn\\'t a stooge thing to do; it\\'s the stooges who don\\'t do the buying,\" the \"Mad Money\" host says. McCormick CEO Lawrence Kurzius tells CNBC coronavirus \"can\\'t be a positive\" as parts of China are on lockdown. \"We increased our revenue guidance and our earnings guidance . . . and we ended the year with another beat,\" Cigna CEO David Cordani said. The safe-haven yen and Swiss franc struggled for a fourth straight session against the U. S. dollar on Thursday, as investors\\' tolerance for risk increased, encouraged by the Chinese government\\'s efforts to contain the latest coronavirus and limit the economic fallout. CNBC\\'s Jim Cramer contextualizes what Pete Buttigieg\\'s performance in Iowa means for stocks, chats with the chief of Clorox about the coronavirus outbreak and explains Tesla\\'s fall on the market. \"I don\\'t know when it will come back to $968 again . . . but when it gets back there, I bet it keeps climbing,\" CNBC\\'s Jim Cramer said. Clorox is \"leaning into inventory to be ready, just in case\" demand increases for disinfecting products, CEO Benno Dorer says amid coronavirus outbreak. \"Mad Money\" host Jim Cramer rings the lightning round bell, which means he\\'s giving his answers to callers\\' stock questions at rapid speed. If Pete Buttigieg becomes a serious contender, \"the 2020 election might not be about class war\" and that is a bullish sign for stocks, the \"Mad Money\" host said. CNBC\\'s Jim Cramer says investors should raise some cash after Tuesday\\'s relief rally. He sits down with Chipotle CFO Jack Hartung coming off the restaurant\\'s earnings report. \"The best thing though, Jim, is we haven\\'t really monetized\" the rewards program, Chipotle CFO Jack Hartung says. \"So much of today\\'s rally took place on the backs of hedge funds who were poorly positioned going into the sell-off on Friday,\" CNBC\\'s Jim Cramer said. \"Mad Money\" host Jim Cramer rings the lightning round bell, which means he\\'s giving his answers to callers\\' stock questions at rapid speed. \"I\\'d use this rosy moment to reposition, do some selling in stocks that are too levered to Chinese consumer travel . . . I think those have got downside,\" the \"Mad Money\" host says. CNBC\\'s Jim Cramer says investors should wait for another potential sell-off on the coronavirus before putting money back into the market. \"Mad Money\" host Jim Cramer rings the lightning round bell, which means he\\'s giving his answers to callers\\' stock questions at rapid speed. \"I had to shut down my phone, because, actually, almost everyone is calling us,\" given the coronavirus, Zoom Video Communications CEO Eric Yuan says. CNBC\\'s Jim Cramer says, \"I much prefer the less well-known Trade Desk, which has better financials and I think is a better story. \"\"I am not here, though, to take political stands. My job is to help you try to make money,\" CNBC\\'s Jim Cramer said. \"I don\\'t want you to jump the gun, people. Let\\'s wait for a real dip, the kind we haven\\'t had yet, before we get more bullish on this market,\" CNBC\\'s Jim Cramer says. CNBC\\'s Jim Cramer looks ahead at next week\\'s busy earnings schedule and discusses how the uncertainty around the coronavirus impacts investors. CNBC\\'s Jim Cramer offers stock advice on eBay, Peloton and Luckin Coffee. The economic impact of the coronavirus will be a common thread running through another busy week of quarterly earnings reports, Jim Cramer said. \"There are lots of very smart people in this business, but very few of them are infectious disease experts,\" CNBC\\'s Jim Cramer said. CNBC\\'s Jim Cramer explains why it\\'s too early to tell whether the coronavirus will cause a recession. He also discusses the similarities between Tesla, Netflix and Amazon. \"China\\'s not just exporting a virus, it could potentially export a severe slowdown,\" CNBC\\'s Jim Cramer said Thursday. \"Wall Street never runs out of money for a company that has the best product, flawless execution and off-the-charts demand,\" CNBC\\'s Jim Cramer said. CNBC\\'s Jim Cramer said he prefers Costco over Nordstrom and recommends selling UnitedHealth Group ahead of the Iowa Caucus. CNBC\\'s Jim Cramer breaks down the rallies in the stocks of Apple and General Electric. He sits down with the heads of Barstool Sports and Penn National to get insight into their sports-betting partnership. \"It\\'s easy to assume everyone . . . is totally cynical, but taking that approach kept you out of some monster gains in Apple and in GE,\" Jim Cramer says. \"Mad Money\" host Jim Cramer rings the lightning round bell, which means he\\'s giving his answers to callers\\' stock questions at rapid speed. Barstool Sports founder David Portnoy tells Jim Cramer he hopes to eventually buy a sports team after landing a gambling deal with Penn National. CNBC\\'s Jim Cramer reviews Apple\\'s top- and bottom-line beat in its latest quarterly report, breaks down the high expectations for Tesla\\'s looming quarter and talks with Masimo CEO Joe Kiani about patient privacy. \"I was worried that Apple wouldn\\'t be able to give us enough of an upside surprise to propel the stock higher because it had already run so much,\" the \"Mad Money\" host said. \"Mad Money\" host Jim Cramer rings the lightning round bell, which means he\\'s giving his answers to callers\\' stock questions at rapid speed. Tesla will report earnings Wednesday, and the stock could see a big sell-off if the electric-vehicle maker misses expectations, CNBC\\'s Jim Cramer said. \"Patients should [choose] what\\'s more important: privacy or having their data available in a way that can hopefully save their lives,\" said Masimo CEO Joe Kiani. Wall Street heavyweight Apple is moving higher after topping earnings, but one technician has a warning to bullish investors. CNBC\\'s Jim Cramer warns that the bond market could have a negative impact on the banking sector. He gives a list of stocks worth buying off the coronavirus-induced market sell-off. \"Mad Money\" host Jim Cramer rings the lightning round bell, which means he\\'s giving his answers to callers\\' stock questions at rapid speed. \"Don\\'t panic. It almost never makes sense to sell right into the maw of a big freakout like this one,\" the \"Mad Money\" host says. \"Lately both companies have been encroaching on each other\\'s turf,\" CNBC\\'s Jim Cramer says. \"Lower long-term rates translate to lower earnings for the banks, which is why they\\'ve been coming down so hard,\" CNBC\\'s Jim Cramer says. CNBC\\'s Jim Cramer previews the week ahead of earnings as coronavirus concerns rise. He explains why he\\'s not so bullish about Victoria\\'s Secret-parent L Brands\\' turnaround story. High-quality stocks — unrelated to China or travel — that get hurt on coronavirus fears are worth pouncing on, CNBC\\'s Jim Cramer says. \"Mad Money\" host Jim Cramer makes buy and sell calls on callers\\' favorite stock picks of the day. \"Turnarounds take time and you can lose a fortune while you\\'re waiting for an intractable management to do the right thing,\" CNBC\\'s Jim Cramer says about the downtrodden stock. \"Mad Money\" host Jim Cramer says GE\\'s performances hinges on Boeing, sits down with GrubHub CEO Matt Maloney and gets bullish on Snap. \"Mad Money\" host Jim Cramer gives his thoughts about callers\\' favorite stock picks of the day. \"We would totally evaluate any offer, but we haven\\'t had one yet,\" said GrubHub CEO Matt Maloney, adding \"there\\'s a reckoning coming to the industry\" in 2020. General Electric can\\'t meet Wall Street\\'s estimates without Boeing\\'s 737 Max back in production, CNBC\\'s Jim Cramer says. \"I recommend if you like Snap putting on half your position before the quarter, then if the stock gets hit after the quarter\" buy more, CNBC\\'s Jim Cramer says. \"Mad Money\" host Jim Cramer broke down why Apple, IBM and Netflix are worth buying at current levels. He defined Tesla as a tech company, not a car company. \"Tesla\\'s not really a car company, it\\'s a tech company on wheels. That\\'s what keeps confusing people,\" \"Mad Money\" host Jim Cramer said after the stock raced past the $100 billion valuation mark. \"Mad Money\" host Jim Cramer gave his opinion on the stocks of Six Flags, Danaher, Chimera Investment and more equities. \"Mad Money\" host Jim Cramer says Apple, Netflix and IBM make \"me a believer. It\\'s why I don\\'t want to leave this market . . . even as I\\'d often like to try. \"CNBC\\'s Jim Cramer broke down how the newly discovered coronavirus could impact the stock market, got a read on Costco\\'s business model and explained five things that can help the market sustain its high levels. CNBC\\'s Jim Cramer made a list of 5 things to watch for in order to determine whether the stock market is overvalued. Oppenheimer upgraded Costco\\'s stock on Tuesday. In a \"Mad Money\" interview, Costco CEO Craig Jelinek said \"we\\'ll always look at\" paying a special dividend. CNBC\\'s Jim Cramer said, \"If the whole market sells off on the coronavirus tomorrow, that might be your chance to pick up some high-quality stocks into weakness. \"\"Mad Money\" host Jim Cramer gave his answers to callers\\' stock questions at rapid speed. Jim Cramer learned the hard way — here\\'s his lesson on the key signals that mean it\\'s time to sell. Jim Cramer flags one chart pattern that can tell you a stock is ready to skyrocket. Jim Cramer shares how he uses charts to pinpoint the best time to buy or sell a given stock. Jim Cramer explains why a technical eye is crucial to getting ahead of professional money managers. Jim Cramer shares the top lessons he learned from useful — and sometimes scary — stock charts. CNBC\\'s Jim Cramer broke down why capitalism is becoming more eco-friendly and sat down with the CEOs of Microsoft and GW Pharma. \"It\\'s an incredible launch year for any medication [that] I think proves that this kind of medicine is really making a difference to patients,\" GW Pharma CEO Justin Gover told CNBC\\'s Jim Cramer. \"Mad Money\" host Jim Cramer rings the lightning round bell, which means he\\'s giving his answers to callers\\' stock questions at rapid speed. \"Profitable is the key word, but problems is the other key word for people and planet,\" Microsoft CEO Satya Nadella told \"Mad Money\" host Jim Cramer. \"Whether or not Microsoft can save the environment, what matters is that they\\'re making the attempt and the stock wasn\\'t punished for it at all,\" the \"Mad Money\" host said. CNBC\\'s Jim Cramer broke down the biggest beneficiaries of the phase-one trade deal and landed an exclusive with XPO Logistics CEO Bradley Jacobs about the company\\'s potential spinoff. XPO Logistics CEO Bradley Jacobs told \"Mad Money\" host Jim Cramer the company is looking to unlock value by breaking up the company. The less-than-truckload shipping business is off the table. Moderna CEO Stephane Bancel said the biotech company is using the \"software of life\" to develop treatments for diseases. \"If your business isn\\'t personalizing and the other guy is, you\\'re gonna get eaten alive,\" CNBC\\'s Jim Cramer said on \"Mad Money. \"\"If the stocks of any of these companies with new access to China get hit, I think you need to be a buyer into weakness,\" the \"Mad Money\" host said. Investors should \"aggressively own these names\" as they head into 2021, says Wedbush Securities\\' Daniel Ives, who explains why top tech companies like Apple and Amazon have his attention as an investor. \"Mad Money\" host Jim Cramer advised investors be read for the next sell-off, sat down with the outgoing CEO of Medtronic and discussed the impact of climate change on investing. \"Like it or not, sustainability now matters to the stock market,\" CNBC\\'s Jim Cramer said. Medtronic\\'s spine business \"had its strongest year, and the robot has played a big role in that,\" CEO Omar Ishrak said in a \"Mad Money\" interview. \"Mad Money\" host Jim Cramer rings the lightning round bell, which means he\\'s giving his answers to callers\\' stock questions at rapid speed. \"So many companies [are] doing so well. I\\'d love to buy them, but at this point only on weakness,\" \"Mad Money\" host Jim Cramer said. CNBC\\'s Jim Cramer warned that Alphabet\\'s march toward the $1 trillion valuation mark could be ephemeral. The \"Mad Money\" host sat down for interviews with health care executives. CVS Health expects to open about a dozen remodeled stores per week this year as it revamps its business plan, CEO Larry Merlo told \"Mad Money\" host Jim Cramer. \"We don\\'t want to be in a situation where stocks keep roaring on the same old, same old information,\" CNBC\\'s Jim Cramer said on \"Mad Money. \"\"Mad Money\" host Jim Cramer made buy and sell calls on shares of First Horizon, IBM and more stocks in Monday\\'s lightning round. GlaxoSmithKline CEO Emma Walmsley told \"Mad Money\" host Jim Cramer the British drugmaker has received \"positive data\" for cancer and HIV drugs. \"Mad Money\" host Jim Cramer said he worries that Alphabet, alongside Microsoft, Apple and Facebook, may not hold its recent gains when the company reports earnings. CNBC\\'s Jim Cramer gave a preview of the week ahead in company earnings and sat down with the CEO of self-driving technology provider Mobileye. \"Mad Money\" host Jim Cramer gave his thoughts on Regenex, Laredo Petroleum, Invitae and more stocks in Friday\\'s lightning round. \"My suggestion is tread carefully going into earnings season,\" \"Mad Money\" host Jim Cramer said ahead of the first earnings season of 2020. Mobileye CEO Amnon Shashua broke down why \"robotaxi is not that far away\" in an interview with \"Mad Money\" host Jim Cramer. CNBC\\'s Jim Cramer warned investors not to chase stocks that are rising on momentum, said Tyson Foods is a big winner from U. S. -China trade deal and doubled down on Bed Bath & Beyond. CNBC\\'s Jim Cramer made buy and sell calls on Cronos Group, EPR Properties, Teva, Starbucks and more stocks. \"This quarter was the last gasp of the old, incompetent management team. Do not let it scare you away\" from this \"comeback story,\" Cramer said. Investors must steer clear of stocks rising from \"late-to-the-party momentum buyers,\" the \"Mad Money\" host said. China\\'s pork shortage is a boon for Tyson Foods and the meat producer\\'s earnings projections may need to be increased, the \"Mad Money\" host said. Stocks will charge higher in 2020 despite simmering Middle East tensions and the presidential elections, says Avalon CIO Bill Stone. CNBC\\'s Jim Cramer explained what Wednesday\\'s rally means for Wall Street, broke down what he sees in oil\\'s future and interviewed Constellation Brands CEO Bill Newlands. CNBC\\'s Jim Cramer made buy and sell calls on Teladoc Health, Karuna Therapeutics, Pinterest and more stocks in Wednesday\\'s lightning round. Constellation Brands CEO told CNBC\\'s Jim Cramer Corona will enter a hard-seltzer market that he expects to double in 2020. \"With the averages staging a huge rally from last night\\'s moment of crisis . . . I marvel at this market\\'s ability to overcome even the toughest of obstacles,\" CNBC\\'s Jim Cramer said. \"They were telling you this situation is only going to get worse for the industry, not better,\" CNBC\\'s Jim Cramer said. Bill Stone, chief investment officer and managing director at Avalon Investment & Advisory, shares his 2020 outlook with CNBC\\'s Mike Santoli. \"Mad Money\" host Jim Cramer advised investors to brace for a potential pullback in the market and said Tesla will take more market share in autos. \"Mad Money\" host Jim Cramer gave his opinion on the stocks of American Tower, Mattel, Nio, Pennsylvania Real Estate Investment Trust and Chewy. Tesla has strong growth, GM is barely growing and Ford is shrinking. \"Nobody wants to pay up for stagnation,\" CNBC\\'s Jim Cramer said. CNBC\\'s Jim Cramer warned that an \"exogenous event\" can cause stocks to drop. The \"Mad Money\" host is still bullish about secular trends in tech. \"Mad Money\" host Jim Cramer warns investors to be cautious about the current market, unveils defensive plays to hedge against growing conflict between the U. S. and Iran, and makes a bullish case for Nordstrom. While many people consider retailers such as Nordstrom to be down and out, Jim Cramer says a new report from a top analyst shows it may be a good buy. \"Mad Money\" host Jim Cramer rings the lightning round bell, which means he\\'s giving his answers to callers\\' stock questions at rapid speed. \"If we really get the conflagration that so many people seem to be expecting . . . you have to be ready for the market to take a beating, at least in the short-term,\" CNBC\\'s Jim Cramer says. \"The market\\'s rebound today may not be as crazy as it looks . . . but I\\'m still recommending proceeding with caution\" because of the U. S. -Iran conflict, CNBC\\'s Jim Cramer says. Crowdstrike CEO George Kurtz tells CNBC\\'s Jim Cramer it\\'s \"certainly a possibility\" that Iran will attack businesses after the U. S. killed its top commander. \"Mad Money\" host Jim Cramer rings the lightning round bell, which means he\\'s giving his answers to callers\\' stock questions at rapid speed. CNBC\\'s Jim Cramer advises investors not to panic about tensions with Iran, reflects on the top performing stocks of 2019 and recommends oil stocks worth buying. BP, Schlumberger and Pioneer Natural Resources are the three oil stocks to buy as tensions between the U. S. and Iran escalate, CNBC\\'s Jim Cramer said. The best stocks on the S&P 500 last year \"were unfairly written off as losers and then came roaring back,\" CNBC\\'s Jim Cramer says. CNBC\\'s Jim Cramer says \"these 10 are most emblematic of the upside potential in 2020, as long as the current environment persists. \"The economy is still strong, so investors should remain opportunistic, despite the headwinds of a U. S. -Iran conflict, \"Mad Money\" host Jim Cramer says. CNBC\\'s Jim Cramer breaks down the language of Wall Street to help retail investors manage their stock portfolios wisely. Jim Cramer explains how investors can apply risk-reward to determine if a stock is worth buying at a certain level. \"You need to know the vocabulary before you can evaluate a stock,\" CNBC\\'s Jim Cramer says. \"Investing isn\\'t easy, but it doesn\\'t have to be mystifying or intimidating. You just need to learn the lingo,\" CNBC\\'s Jim Cramer says. Jim Cramer spells out the importance of getting kids involved with investing at an early age. Jim Cramer addresses the lingering question of how much is the right amount of bond exposure. Jim Cramer explains why young investors stand to benefit from the magic of compounding. Jim Cramer shares his advice for how investors should manage their money and mitigate risk. Jim Cramer breaks down which stocks are worth eyeing when averages take a hit. Jim Cramer tells investors what to look for to determine whether a sell-off is built to last. Jim Cramer recounts his experience on Black Monday and explains why market crashes don\\'t always mean the economy is failing. Jim Cramer says recognizing why a sell-off is happening is the key to understanding whether it\\'s safe to buy. The S&P 500, Russell 2000 and Nasdaq Composite indexes appear to be at make-or-break levels on their weekly charts, says market strategist Matt Maley. Jim Cramer says that being willing to change your strategy on a dime is critical to maintaining the perfect portfolio. Jim Cramer breaks down why investors should listen and believe in what executives say about their companies. Jim Cramer explains why investors need to know themselves if they want to build the best possible portfolio. Jim Cramer argues that keeping your emotions in check is the hardest part of being a successful investor. Jim Cramer breaks down how investors can decipher a \"signal\" from the \"noise\" in a stock\\'s action. \"When you have a win, don\\'t lazily assume that simply [you] got it right,\" the \"Mad Money\" host says. Jim Cramer says students who graduate with no debt end up being worth more than classmates with outstanding loans. Jim Cramer shares common mistakes made by investors when buying a mutual fund or ETF. Jim Cramer exposes the good, bad and ugly when dealing with 401(k) and IRA contributions. Roth or no Roth? That is the question. Jim Cramer details how to take advantage of your company\\'s 401(k) contributions. Mattel CEO Ynon Kreiz gives \"Mad Money\" host Jim Cramer a preview of the hottest-selling toys the company launched this year. \"Mad Money\" host Jim Cramer rings the lightning round bell, which means he\\'s giving his answers to callers\\' stock questions at rapid speed. Jim Cramer reveals what he wishes to see from Boeing, the Fed, the tech industry and the broader market in the new year. CNBC\\'s Jim Cramer reveals how retail investors can discover valuable stocks before others catch wind and drive up the stock price and breaks down what stocks from the 2019 IPO class are worth buying. \"Mad Money\" host Jim Cramer rings the lightning round bell, which means he\\'s giving his answers to callers\\' stock questions at rapid speed. \"This year\\'s IPO market has been a real roller coaster, but now that the dust has settled,\" Lyft, Kontoor Brands, Levi\\'s and Revolve Group are buys, the \"Mad Money\" host says. \"So much of successful investing is about read-throughs, dissecting the less obvious pin action when a company reports earnings,\" the \"Mad Money\" host says. CNBC\\'s Jim Cramer explained why the impeachment process won\\'t disturb investing on Wall Street. The \"Mad Money\" host also breaks down what\\'s plaguing FedEx. \"Stop the predictions, stop the sham guidance, and take the time to figure it all out. Then, and only then, will FedEx the stock be able to bottom,\" the \"Mad Money\" host says. \"It\\'s really pretty astonishing how much of what was working then is also working now,\" the \"Mad Money\" host says. \"Mad Money\" host Jim Cramer rings the lightning round bell, which means he\\'s giving his answers to callers\\' stock questions at rapid speed. In 1999, President Bill Clinton\\'s impeachment \"was irrelevant [to stocks]. You had to use any weakness to buy and then to buy and then to buy,\" the \"Mad Money\" host says. The \"Mad Money\" host says there\\'s no need to worry on Wall Street, even if the market has more down days ahead. CNBC\\'s Jim Cramer breaks down the positive signs in the latest housing data, sits down with Eli Lilly\\'s CEO and reveals stocks worth buying. Microsoft is on a rocketship this year, but its stock charts indicate it could come back down to Earth soon. \"Mad Money\" host Jim Cramer rings the lightning round bell, which means he\\'s giving his answers to callers\\' stock questions at rapid speed. The \"Mad Money\" host goes off the charts to explain why investors may want to buy Shopify, Nvidia or PayPal on any weakness. Warren\\'s report shows \"what\\'s broken in the rest of the pharmaceutical system,\" Eli Lilly CEO David Ricks tells Cramer. \"Good news is actually good news, not a sign that things have gotten overheated and the end is nigh,\" the \"Mad Money\" host says about new housing data. CNBC\\'s Jim Cramer says he has hope in the U. S. -China trade deal and that investors should build cash if Elizabeth Warren wins the Democratic nomination. Mad Money\" host Jim Cramer rings the lightning round bell, which means he\\'s giving his answers to callers\\' stock questions at rapid speed. Bill. com counts Bank of America, JPMorgan Chase and American Express among its partners. \"Wall Street\\'s terrified of Warren, and anything that scares the market is bad news for stock prices,\" the \"Mad Money\" host says. \"The United States is the only country with enough pork production to actually meet China\\'s needs. We\\'ve got the upper hand, people,\" the \"Mad Money\" host says. CNBC\\'s Jim Cramer takes a look at the week ahead in earnings reports. The \"Mad Money\" host breaks down Costco\\'s challenges in China. \"Mad Money\" host Jim Cramer rings the lightning round bell, which means he\\'s giving his answers to callers\\' stock questions at rapid speed. The problem is Shanghai, a city of nearly 25 million people, has only one Costco store, CNBC\\'s Jim Cramer said. \"Now that we\\'ve got a phase one trade deal with China, we can go back to focusing on the earnings,\" the \"Mad Money\" host says. \"I think next week . . . we\\'re going to see a lot of good ones. \"\"Mad Money\" host Jim Cramer names stocks worth buying on a trade deal, argues against free trade with China and sits down with a Robinhood co-CEO. \"We see customers\\' eyes light up when they deposit $10 or $100 and the entire universe of stocks . . . is available to them,\" Robinhood co-CEO Vladimir Tenev says. \"Mad Money\" host Jim Cramer rings the lightning round bell, which means he\\'s giving his answers to callers\\' stock questions at rapid speed. The \"Mad Money\" host lays out why he has a hard-line stance on trade with China. \"Just remember, please, these are mostly short-term trades, not investments,\" the \"Mad Money\" host says. The S&P 500 could see another year of double-digit gains as investors look at some unloved groups, says National Securities\\' Art Hogan. National Securities Chief Market Strategist Art Hogan talks his bullish S&P 500 forecast for the year ahead with CNBC\\'s Mike Santoli. \"Mad Money\" host Jim Cramer breaks down why Tesla has the green light. Later in the show he reveals signs that the millennial homebuying market is heating up. \"Mad Money\" host Jim Cramer rings the lightning round bell, which means he\\'s giving his answers to callers\\' stock questions at rapid speed. \"After a decade of cocooning, millennials want to buy homes that represent value, which is in keeping with the way they shop for everything else,\" CNBC\\'s Jim Cramer says. Elon Musk \"is a great CEO when he can get out of his own way, and that seems to be what he\\'s doing,\" the \"Mad Money\" host says. National Securities Chief Market Strategist Art Hogan talks the Federal Reserve, 2020 predictions and his bullish S&P 500 forecast for the year ahead with CNBC\\'s Mike Santoli. CNBC\\'s Jim Cramer explains why investors should buy the dip in 5G stocks, ponders how natural resource sectors can carry the market higher in 2020 and reveals why trade uncertainty is creating buying opportunities. Predicting President Trump\\'s next move in the U. S. -China trade war is a difficult task, CNBC\\'s Jim Cramer said. But investors can use that uncertainty to their advantage, he says. \"Mad Money\" host Jim Cramer rings the lightning round bell, which means he\\'s giving his answers to callers\\' stock questions at rapid speed. If the metals and mining, basic materials and energy sectors can rebound, \"then 2020 could be a very good year,\" the \"Mad Money\" host says. \"At a time like this, we need big apolitical themes that work no matter what, and the best of them should work for years,\" the \"Mad Money\" host says. CNBC\\'s Jim Cramer breaks down how investors should play Wednesday\\'s Fed announcement, Trump\\'s tariff hike threat on China and invest in AT&T\\'s stock. \"The problem for Macy\\'s and Kohl\\'s and Nordstrom is that . . . their position gets worse and worse with every passing year,\" Jim Cramer says. \"Mad Money\" host Jim Cramer rings the lightning round bell, which means he\\'s giving his answers to callers\\' stock questions at rapid speed. A MoffettNathanson analyst last month issued a sell rating on AT&T\\'s stock. \"Mad Money\\'s\" Jim Cramer says the call misses the forest for the trees. If the Fed teases potential interest rate hikes and Trump follows through on higher tariffs, \"you have to be ready to buy [stocks],\" Jim Cramer says. CNBC\\'s Jim Cramer looks at the week ahead in company earnings and stock market news, sits down with Boot Barn CEO Jim Conroy to get insight into its brick-and-mortar plans and says President Trump should authorize the Dec. 15 tariff hike. The strong November jobs report shows Trump has more flexibility in trade negotiations with China, CNBC\\'s Jim Cramer says. \"We\\'ve said in the past that this is a massive retail opportunity that\\'s been hidden in plain sight for years,\" Boot Barn CEO Jim Conroy says in a \"Mad Money\" interview. \"Mad Money\" host Jim Cramer rings the lightning round bell, which means he\\'s giving his answers to callers\\' stock questions at rapid speed. \"When we get an amazing employment report, we can take a break from the on-again, off-again China news and just focus on earnings,\" \"Mad Money\" host Jim Cramer says. CNBC\\'s Jim Cramer breaks down data behind the public\\'s lack of interesting in buying stocks. The \"Mad Money\" host sits down with CEOs of Chipotle, ServiceNow and Edwards Lifesciences for interviews. Chipotle CEO Brian Niccol tells \"Mad Money\" host Jim Cramer that the second prep line prevents the process from getting \"bottlenecked. \"\"Mad Money\" host Jim Cramer rings the lightning round bell, which means he\\'s giving his answers to callers\\' stock questions at rapid speed. \"There are vast sums of money to be made here, and far too many people are missing out because they\\'ve been frightened away,\" the \"Mad Money\" host says. \"Mad Money\\'s\" Jim Cramer breaks down how big funds are shuffling their portfolios and where individual investors can pick stock. He sits down with the CEO of Mattel toy company and the co-founders of stock-trading app Robinhood. \"Mad Money\" host Jim Cramer rings the lightning round bell, which means he\\'s giving his answers to callers\\' stock questions at rapid speed. \"People are paying lower prices and that\\'s something that\\'s gone beyond Robinhood and is now available to tens of millions of consumers across the U. S. ,\" co-CEO Vladimir Tenev says. It includes robust footprints in areas closely related to toys such as movies, television and live events, Mattel CEO Ynon Kreiz says. \"The companies being thrown away are those that are surfing the biggest secular growth story of our era: the digitization of enterprises,\" the \"Mad Money\" host says. CNBC\\'s Jim Cramer says China is a \"much smaller issue than most people seem to realize,\" chats with Salesforce co-CEO Keith Block after the cloud company\\'s earnings and offers stock buying advice to callers. \"Mad Money\" host Jim Cramer rings the lightning round bell, which means he\\'s giving his answers to callers\\' stock questions at rapid speed. \"We had a great quarter. We have a lot of success,\" Salesforce co-CEO Keith Block tells Jim Cramer. Trade fears \"will eventually create fabulous discounts\" in the stock market, but \"we\\'re not totally there yet,\" the \"Mad Money\" host says. Kathryn Vera of Bulltick Capital Markets says the U. S. markets are complacent about domestic politics, Fed policy and the trade dispute with China, and that\\'s a cause for concern for investors\"Mad Money\\'s\" Jim Cramer says stocks need to come down more before they\\'re safe to buy again, breaks down the latest developments in managed-care stocks and explains why Wall Street could be under pressure in coming months. \"Mad Money\" host Jim Cramer gives callers his thoughts on the stocks of Biogen, Amgen, Caterpillar and others in rapid speed. \"Once people start worrying again, stocks will come down to more reasonable levels and then you can pounce, but we\\'re not there yet,\" the \"Mad Money\" host says. Investors are turning from bullish to bearish and Larry Williams suggests investors \"try to sidestep the pain here,\" the \"Mad Money\" host says. UnitedHealth\\'s stock has \"caught fire\" due in part to Sen. Elizabeth Warren appearing to \"back away\" from her \"Medicare for All\" proposal, according to Jim Cramer. Jim Cramer reveals his top rule when it comes to taxes and selling stocks. Jim Cramer breaks down why owning fewer stocks can help make you more money, and why investors shouldn\\'t be ashamed of having cash on hand. Jim Cramer builds on his \"nobody ever made a dime panicking\" mantra by explaining how investors can apply it to their portfolios. Jim Cramer doubles down on his key investing rule of never buying a desired stock all in one go. Jim Cramer shares the two most important investing rules he has learned after nearly 40 years in the business. \"It\\'s a lot tougher now than it was 10 or 15 years ago,\" Agnico Eagle Mines\\' Sean Boyd says. The \"Mad Money\" host explains why the stock market has kept rallying despite some concerns. He also discusses Robinhood\\'s impact on investing and talks tariff impact with the CEO of Zappos. The \"Mad Money\" host says FedEx is too cheap right now, and he also recommended taking some shares of Arrowhead Pharmaceuticals off the table. Even if tariffs end up putting pressure on Zappos, Hsieh said he believes its loyal customers would continue shopping with the company due to its commitment to customer service. The \"Mad Money\" host explains that the stock market has remained strong because tariffs haven\\'t been as impactful as expected, sensible mergers have been announced and employment remains robust. \"This has been an area that\\'s been around for 25, 30 years . . . We\\'ve cracked the code on how to do 3D printing 100 to 1,000 times faster,\" Carbon\\'s Joseph DeSimone says. Jonathan Golub of Credit Suisse says the S&P 500 could move up toward 3,425 in 2020 because of a better economic backdrop and improved earnings. He also says he\\'s not expecting a \"wonderful\" trade deal to lift markets and his optimism is not trade dependent. CNBC\\'s Jim Cramer explains what the recent mergers tell us about the stock market. The \"Mad Money\" host also explains why now is the right time to buy shares of Uber. The \"Mad Money\" host also recommends buying shares of Costco when its stock pulls back. He also does not recommend Molson Coors Brewing Company. The uncertainty of the U. S. -China trade war has been the biggest hindrance to business, PVH CEO Emanuel Chirico said. The \"Mad Money\" host has been skeptical of Uber, but he believes there is a clear path for its stock to go higher. If stocks were actually overpriced, there would not be as much merger and acquisition activity, the \"Mad Money\" host says. The last time the S&P 500\\'s chart showed this, stocks pulled back shortly thereafter, says JC O\\'Hara, chief market technician at MKM Partners. CNBC\\'s Jim Cramer takes a look at a shortened week of Wall Street that\\'s full of earnings reports heading into the Thanksgiving holiday. He sits down with the CEOs of Clorox and fintech disruptor SoFi. \"Mad Money\" host Jim Cramer rings the lightning round bell, which means he\\'s giving his answers to callers\\' stock questions at rapid speed. The financial services industry really hasn\\'t had the type of innovation that you\\'ve seen in e-commerce as you\\'ve seen in online travel,\" SoFi CEO Anthony Noto tells CNBC. \"We want to reduce the virgin plastic and fiber that we use in our products and packaging by 50% over the next 10 years,\" Clorox CEO Benno Dorer says. \"Will the president slaughter a turkey this year, or slaughter the market? I bet he goes for the former,\" \"Mad Money\\'s\" Jim Cramer says. JC O\\'Hara, chief market technician at MKM Partners, and Steve Chiavarone, equity strategist, vice president and portfolio manager at Federated, discuss what\\'s ahead for stocks with CNBC\\'s Mike Santoli. CNBC\\'s Jim Cramer explains what triggered Charles Schwab and TD Ameritrade brokerages to discuss a merger, tells investors it\\'s time to sell marijuana stocks and sits down with the CEOs of United Airlines and Advanced Micro Devices. \"Mad Money\" host Jim Cramer rings the lightning round bell, which means he\\'s giving his answers to callers\\' stock questions at rapid speed. \"These companies have to combine to cut tech spending . . . ad spending to defend their turf\" from app trading, \"Mad Money\" host Jim Cramer says. \"I\\'ve never seen a wider gap between what is being discussed and trying to be pushed and the facts and the figures that we see,\" Oscar Munoz says. \"Companies need to close, funding needs to dry up, mergers must occur. Until then, these stocks are now sell-in-the-strength detritus,\" the \"Mad Money\" host says. CNBC\\'s Jim Cramer breaks down the strengths and weakness behind the earnings reports in Home Depot, Lowe\\'s, Kohl\\'s and Target. The \"Mad Money\" host sits down with the CEOs of Okta and Tableau to get insight into the impact of technology on businesses. \"Mad Money\" host Jim Cramer rings the lightning round bell, which means he\\'s giving his answers to callers\\' stock questions at rapid speed. \"Wait for the next round of tariff hikes or nasty trade rhetoric . . . to knock down the whole group, and then buy the retail winners,\" Jim Cramer says. \"These days, people expect everything to be frictionless. The moment they hit any kind of problem, any speed bump, they just take their business elsewhere,\" the \"Mad Money\" host says. CNBC\\'s Jim Cramer advises investors not to give up software-as-a-service plays, despite boiling trade tensions. The \"Mad Money\" host sits down for interviews with executives of Salesforce, Square and RH. \"Mad Money\" host Jim Cramer rings the lightning round bell, which means he\\'s giving his answers to callers\\' stock questions at rapid speed. \"Now we\\'re entering the fourth stage of computing. It\\'s the pursuit of [the stage known as] single source of truth, and we\\'ve built that into our platform,\" Marc Benioff tells CNBC\\'s Jim Cramer. Software-as-a-service stocks \"tend to come bouncing back with alacrity because these companies are forces of nature,\" \"Mad Money\\'s\" Jim Cramer says. \"Mad Money\" host Jim Cramer rings the lightning round bell, which means he\\'s giving his answers to callers\\' stock questions at rapid speed. Most companies rushing to public markets \"need the money. We don\\'t need to raise money and so we haven\\'t been in a rush,\" Airbnb CEO Brian Chesky says. \"Completely unconstrained, an innovation organization can just get lost in the weeds,\" Chip Bergh says on \"Mad Money. \"Jim Cramer says it\\'s \"crazy\" to sell semiconductor stocks such as AMD and Nvidia \"when they report good quarters with a tiny bit of irrelevant hair on them. \"The \"Mad Money\" host offers his early take on next week\\'s earnings reports, while also learning about how artificial intelligence is changing how customers interact with brands from LivePerson\\'s CEO. The \"Mad Money\" host also says that he would not recommend buying any pipeline stocks. But if you own a company such as Kinder Morgan, \"you don\\'t have to get rid of it. \"\"We\\'re one of the few companies where it\\'s not a piece of the puzzle. It\\'s the entire puzzle,\" LivePerson CEO Robert LoCascio says. The \"Mad Money\" host explains what he will monitor closely next week, including earnings reports from Kohl\\'s and Foot Locker. He\\'s also watching for news in the U. S. -China trade war. CNBC\\'s Jim Cramer breaks down how Cisco\\'s stock woes reflect other tech stocks, sits down with Viacom CEO Bob Bakish to talk streaming and the merger with CBS, and explains why the U. S. -China trade war could be at risk of dragging for years. \"If I were the Chinese, I would rather deal with Trump now, than Trump or Warren later,\" the \"Mad Money\" host says. \"Mad Money\" host Jim Cramer rings the lightning round bell, which means he\\'s giving his answers to callers\\' stock questions at rapid speed. \"The market wants nothing to do with tech companies that serve the enterprise, but . . . it loves the consumer,\" the \"Mad Money\" host says. When Viacom and CBS merge in December, the reunited entity will combine \"free and paid\" products to reach \"the widest accessible market,\" Bob Bakish tells Jim Cramer. CNBC\\'s Jim Cramer hails Bob Iger\\'s leadership at Disney, explains the right time to buy shares of Peloton, sits down for an interview with Dexcom CEO Kevin Sayer and breaks down the 5G rollout. It\\'s that time again! \"Mad Money\" host Jim Cramer rings the lightning round bell, which means he\\'s giving his answers to callers\\' stock questions at rapid speed. \"When you can do things like that, and deliver results like that with a system, you\\'re really solving a very serious problem,\" DexCom CEO Kevin Sayer says. Jim Cramer suggests holding off from buying shares of exercise equipment manufacturer Peloton until after its lockup on insider trading expires in March. \"Not long ago, Iger told me \\'we\\'re just getting started,\\' and I say \\'it\\'s still not too late to join him on his ride of a lifetime,\\'\" the \"Mad Money\" host says. The RealReal is constantly updating its operations in an effort to prevent and remove counterfeit products from its website, founder and CEO Julie Wainwright told CNBC Tuesday. \"When employers look at the qualities that they want in candidates, military veterans have honed some of those skills in their career,\" PayPal CFO John Rainey says. CNBC\\'s Jim Cramer flags that the stock market would not be able to absorb another tariff increase on Chinese imports. He sits down with RealReal CEO Julie Wainwright to talk about the company\\'s product authentication process and chats with PayPal CFO. \"Mad Money\" host Jim Cramer rings the lightning round bell, which means he\\'s giving his answers to callers\\' stock questions at rapid speed. \"If the Chinese really are eager to make a deal, well that would give the averages a major boost,\" the \"Mad Money\" host says. CNBC\\'s Jim Cramer breaks down what bear investors are getting wrong about the market, sits down with Norwegian Cruise Line CEO Frank Del Rio on its new ship, explains why there could be more room for the market to run and defends CEO pay. \"Income inequality is a real problem in this country … but the problem is not CEO pay. I think it might be everybody else\\'s pay,\" the \"Mad Money\" host says. \"This market just keeps surprising us with companies that are doing better than anyone could\\'ve imagined, or at least their stocks were cheaper than we thought,\" the \"Mad Money\" host says. \"Mad Money\" host Jim Cramer rings the lightning round bell, which means he\\'s giving his answers to callers\\' stock questions at rapid speed. \"We ply the ocean\\'s waters. We do everything we possibly can . . . to prevent any kind of pollution in the water or in the air,\" CEO Frank Del Rio tells Jim Cramer. The S&P 500 could see even more new highs this year, says Avalon Investment & Advisory\\'s investment chief Bill Stone. CNBC\\'s Jim Cramer says Disney and Nvidia are two stocks to put in your kid\\'s portfolio. The \"Mad Money\" host also hears from Starbucks CEO Kevin Johnson on hiring veterans. Jim Cramer takes stock questions from and gives his thoughts to military members at the U. S. Airforce Academy in Colorado in a special version of the lightning round. The \"Mad Money\" host says to start your child\\'s stock portfolio with shares of Disney and Nvidia. \"They make us a better company,\" Starbucks CEO Kevin Johnson tells Jim Cramer on \"Mad Money. \"Shopping center landlords don\\'t have to worry about off-price retailers going under the next time we have a recession, the \"Mad Money\" host says. The S&P 500 could see even more new highs this year, says Avalon Investment & Advisory Chief Investment Officer and Portfolio Manager Bill Stone. The S&P 500 could see even more new highs this year, says Avalon Investment & Advisory Chief Investment Officer and Portfolio Manager Bill Stone. CNBC\\'s Jim Cramer says now is the time to take some profits out of the market. The \"Mad Money\" host also explains why 5G is back in vogue. \"We dedicate a few parking spaces, right out in front of the store,\" Brixmor Property Group\\'s James Taylor says. \"The retailers who get it . . . they\\'re seeing growth in their sales through it. \"The \"Mad Money\" host takes calls from viewers and gives advice on the stocks of Home Depot, Virgin Galactic and Advanced Micro Devices. \"After selling off over the summer, these 5G stocks they\\'re back and they\\'re better than ever,\" Jim Cramer said Thursday on \"Mad Money. \"The \"Mad Money\" host says the market rally creates an opportunity to make profits that can be deployed in a pullback later on. CNBC\\'s Jim Cramer discusses why Xerox\\'s bid for HP won\\'t happen, plus why Lyft is a buy but Uber is not. CVS\\'s CEO also sits down for a \"Mad Money\" interview. The \"Mad Money\" host says to continue owning Microsoft, but back out of Kraft Heinz. Lyft \"management\\'s promise to deliver positive EBITDA by the end of 2021 now sounds credible,\" the \"Mad Money\" host says. \"We\\'ve got to get our arms around that issue and reverse that trend,\" CEO Larry Merlo tells Jim Cramer. While the \"Mad Money\" host says he likes mergers and acquisitions, he warns viewers not to make stock decisions solely on possible deals. CNBC\\'s Jim Cramer breaks down Wall Street\\'s sentiment toward high-growth and value stocks, sits down with FireEye CEO Kevin Mandia, gets an explanation from Twilio CEO Jeff Lawson about a forecast error and berates the machine trading of stocks. \"We have instituted additional processes and controls to make sure such an error cannot happen again,\" Twilio CEO Jeff Lawson says in a \"Mad Money\" interview. Automated trading \"destroys what makes the American market so great: deep liquidity that leads to real price discovery,\" \"Mad Money\" host Jim Cramer says. The cybersecurity executive says targeted campaigns to sway voters\\' opinions is what worries him ahead of the 2020 election. \"Mad Money\" host Jim Cramer takes calls from viewers on their favorite stocks, such as Constellation Brands, and offers his advice. The \"Mad Money\" host says Walgreens Boots Alliance, Dow Inc. and Verizon are worth keeping an eye on, based on Dan Fitzpatrick\\'s technical analysis. \"At this pace, value will soon be regarded as expensive, and the growth stocks\" that were shown no mercy will look cheap, \"Mad Money\" host Jim Cramer says. CNBC\\'s Jim Cramer breaks down how Wall Street rallied to new highs, says he\\'s skeptical about China trade talks, steers investors clear of Wayfair\\'s stock price and sits down with the CEO of OjO Electric. \"Mad Money\" host Jim Cramer rings the lightning round bell, which means he\\'s giving his answers to callers\\' stock questions at rapid speed. OjO Electric is trying to differentiate itself from larger rivals such as Bird and Lime by offering rideshare scooters with seats. \"I think we\\'d better see some action soon, or we\\'ll have to become more circumspect about the negotiations,\" CNBC\\'s Jim Cramer says. The \"Mad Money\" host says Wall Street has lost its patience for Wayfair as the online furniture retailer continues to rack up losses. \"The panicked money managers . . . represent the fuel that this market needs to go higher, and right now this rally [has] fuel in spades,\" CNBC\\'s Jim Cramer says. CNBC\\'s Jim Cramer says October\\'s jobs report helped close the lid on recession fears, gives a preview of the week ahead in earnings, breaks down the rally in the home construction sector and targets analysts he says misjudged GrubHub. \"Mad Money\" host Jim Cramer previews what\\'s to come in another week of earnings as the market makes another attempt to break past its highs. \"Mad Money\" host Jim Cramer rings the lightning round bell, which means he\\'s giving his answers to callers\\' stock questions at rapid speed. \"The most common refrain here is that the industry\\'s much more competitive than they\\'d been led to believe,\" Jim Cramer says. The homebuilders have pulled back from their highs, and \"I think you\\'re getting a chance to pounce again,\" \"Mad Money\" host Jim Cramer says. Stocks jumped on a stronger-than-expected jobs report, and experts are largely taking the upside surprise as a positive sign. CNBC\\'s Jim Cramer reveals stocks worth buying after Thursday\\'s market decline, breaks down emerging Fed and China trade worries, and sits down with top brass of Columbia Sportswear, Smarties and Eurazeo. The market\\'s throwing a sale that it doesn\\'t need to throw,\" \"Mad Money\" host Jim Cramer says. Columbia Sportswear CEO Tim Doyle talks shifting apparel factories away from China, telling CNBC \"there\\'s been better opportunities in other sourcing countries. \"\"Mad Money\" host Jim Cramer rings the lightning round bell, which means he\\'s giving his answers to callers\\' stock questions at rapid speed. CNBC\\'s Jim Cramer reveals two things that worries him about affecting tech industry, checks in with Wingstop CEO after its latest quarterly earnings, says Spotify is a buy and makes predictions for Biogen. \"I\\'m sensing some skepticism . . . creeping in about both of them and I suspect some of it has to do with twin constraints of time and government,\" CNBC\\'s Jim Cramer says. Biogen, with a $54. 1 billion market cap, \"could be worth twice that if all goes well\" with regulators, Jim Cramer says. \"Mad Money\" host Jim Cramer rings the lightning round bell, which means he\\'s giving his answers to callers\\' stock questions at rapid speed. \"When you drill down, it is clear that Spotify is firing on all cylinders. There is no bear case that I can find now,\" \"Mad Money\" host Jim Cramer says. Wingstop has a \"lot of runway for growth not only here in the U. S. , but across the world,\" CEO Charlie Morrison tells \"Mad Money\\'s\" Jim Cramer. CNBC\\'s Jim Cramer warns of a \"very rude awakening\" due to looming lockup expirations, urges Wall Street to stop allowing \"junk\" Chinese IPOs, calls Twitter\\'s stock a buy and sits down with Zebra Technologies CEO Anders Gustafsson. \"They\\'re going into existing facilities, so we think the start-up issue should be minimal,\" CEO Anders Gustafsson says. \"Mad Money\" host Jim Cramer rings the lightning round bell, which means he\\'s giving his answers to callers\\' stock questions at rapid speed. CNBC\\'s Jim Cramer warns of a \"very rude awakening\" as a deluge of equity supply comes to market with little investor appetite. \"The last time this stock had a major meltdown, it found a floor of support at $27 to $28, which is one more reason to start buying right here at $29 and change,\" CNBC\\'s Jim Cramer says. CNBC\\'s Jim Cramer breaks down what\\'s driving the market toward all-time highs, explains what the $10 billion JEDI contract means for Microsoft\\'s cloud services and lays out the signs of the strong consumer economy. \"Normally these stocks get hammered in the wake of a shortfall, yet this quarter they\\'re more likely to rally,\" Jim Cramer says. \"The Pentagon\\'s basically saying that Microsoft\\'s cloud platform is just as good as Amazon\\'s, or at least close enough for government work,\" Jim Cramer says. Jim Cramer opines to the stocks of Albemarle, Iron Mountain, Realogy Holdings, Wendy\\'s, CME Group, Annaly Capital and Hershey. Cramer looks at top names in the consumer discretionary sector, which includes nonessential goods and services such as motor homes and cruises. \"Without strong demand, the averages never would have made it this far,\" \"Mad Money\" host Jim Cramer says. \"After the genuinely better-than-expected numbers we saw this week, I\\'m confident about next week,\" CNBC\\'s Jim Cramer says. CNBC\\'s Jim Cramer prepares for the week ahead in earnings reports, sits down with American Airlines CEO Doug Parker to discuss 737 Max issues, and breaks down the results of Honeywell\\'s 2018 spinoff. \"Mad Money\" host Jim Cramer rings the lightning round bell, which means he\\'s giving his answers to callers\\' stock questions at rapid speed. The world of financial services isn\\'t as gender-inclusive as it should be, but Wall Street insider Sallie Krawcheck is trying to change that. \"Honeywell\\'s a very smart company,\" and if it \"didn\\'t want exposure to autos and climate control here, then maybe you shouldn\\'t want it either,\" CNBC\\'s Jim Cramer says. \"The reality is this: We\\'ve already borne all sorts of damages to our customers, to our team and to our shareholders,\" American Airlines CEO Doug Parker says. Chad Morganlander of Washington Crossing Advisors says he expects S&P 500 returns to be between 5% and 6% for the next five to seven years, and that\\'s low from a historical perspective. CNBC\\'s Jim Cramer helps investors understand what to add to their portfolios, explains what software stocks are safe to buy here and sits down with Centene CEO Michael Neidorff to talk health care, among other topics. \"Today the cloud stocks proved they can bounce, and . . . I think you can start gradually . . . buying the highest quality names here,\" the \"Mad Money\" host says. \"Mad Money\" host Jim Cramer rings the lightning round bell, which means he\\'s giving his answers to callers\\' stock questions at rapid speed. CNBC\\'s Jim Cramer breaks down the \"buckets [investors] need to be sorting\" stocks into this earnings season as global growth slows. \"We\\'re hoping that . . . the appeals court, Fifth District, does reverse it,\" taking some uncertainty out of the health-care industry, Centene CEO Michael Neidorff tells Jim Cramer. Jim Cramer breaks down the week in earnings reports, gets an update on CSX\\'s precision railroading strategy with CEO Jim Foote, gets a read on the digital transformation story with ServiceNow and makes recommendations in chipmakers and medtech. Jim Cramer takes calls and delivers his thoughts on callers\\' favorite stock picks of the day in rapid speed. \"Cross-functional workflow is the wave of the future. That\\'s what digitization enables,\" outgoing ServiceNow CEO John Donahoe tells CNBC\\'s Jim Cramer. \"A founder who sees a huge market opportunity and she has a vision . . . has a right to access that capital alongside anyone else,\" Victress Capital\\'s Lori Cashman says. Jim Cramer breaks down the counterintuitive trading in Chipotle and Caterpillar and instructs investors to buy the dip. \"We\\'re able to move in any direction we need to in any given time much better,\" CSX CEO Jim Foote tells CNBC\\'s Jim Cramer. Long-term bonds are \"too dangerous\" at this point in the bull market\\'s cycle, warns Todd Morgan, chairman and CEO of Bel Air Investment Advisors. CNBC\\'s Jim Cramer says Biogen is one example why investors should buy individual stocks. He chats with the CEOs of Hasbro and Logitech after their earnings reports and breaks down why more downside may be in store for Beyond Meat. Hasbro \"can grow in the fourth quarter and, as we go forward, we will get through this issue related to the tariffs,\" CEO Brian Goldner says. \"Mad Money\" host Jim Cramer rings the lightning round bell, which means he\\'s giving his answers to callers\\' stock questions at rapid speed. CNBC\\'s Jim Cramer makes the case that investors should own individual stocks \"if you\\'re willing to do the work\" and \"try to beat the averages. \"The bull market is still intact and could deliver another 10% of gains by the end of next year, says Todd Morgan, chairman and CEO of Bel Air Investment Advisors. CNBC\\'s Jim Cramer breaks down how Apple and JPMorgan market action influence their respective sectors, forecasts what\\'s ahead for the S&P 500 and sits down with new StockX CEO Scott Cutler. CNBC\\'s Jim Cramer takes calls and delivers answers to viewer questions about their favorite stock picks of the day. \"We\\'re getting some tremendous positive pin action here with some very important companies putting up excellent results and it\\'s reverberating,\" \"Mad Money\\'s\" Jim Cramer says. One trusted chart analyst thinks the market is still rallying but warns investors that \"real trouble\" looms, Jim Cramer explains on \"Mad Money. \"\"We\\'re going after a global opportunity with consumers around the world and we\\'re super excited about this innovation in commerce,\" CEO Scott Cutler tells CNBC\\'s Jim Cramer. Jim Cramer preps for a jam-packed week of earnings, saying it\\'s time to replace Netflix with Microsoft in FAANG and suggests investing in financials. \"At this point in earnings season, you should simply try to stop, look and listen,\" CNBC\\'s Jim Cramer says. \"Mad Money\" host Jim Cramer rings the lightning round bell, which means he\\'s giving his answers to callers\\' stock questions at rapid speed. CNBC\\'s Jim Cramer says it\\'s time to retire \"FAANG\" to make way for a new name that represents the five most valuable technology stocks on the S&P 500. Tom Lee, Fundstrat Global Advisors managing partner, joins \\'Fast Money Halftime Report\\' to discuss why he thinks there is more more gains ahead of the stock market. Shannon Saccocia, Boston Private Wealth CIO, and Rob Sechan, UBS Private Wealth Management, also discuss. CNBC\\'s Jim Cramer explains why some stocks rallied on \"not-as-bad-as-feared\" quarterly reports, makes a case to speculate on positive trade deal news and says to \"ring the register\" on Netflix. Jim Cramer takes calls and delivers his thoughts on the stocks of SmileDirectClub, Zebra Technologies, Boston Beer and Cedar Fair. You need to factor in resolutions to the trade disputes \"before you start doing a lot of selling right into this market,\" Jim Cramer says. \"You\\'ve got to understand what Netflix is up against because when you look at these [quarterly] numbers in context I think they\\'re pretty discouraging,\" CNBC\\'s Jim Cramer says. Jim Cramer breaks down why shares of Union Pacific, Honeywell and Johnson & Johnson managed to rally on mixed-earnings reports. Jim Cramer talks earnings and stock rotations, sits down with Salesforce co-CEO Marc Benioff and corporate payments Wex CEO Melissa Smith, and explains why UnitedHealth shares jumped on a good quarterly report. \"Mad Money\" host Jim Cramer rings the lightning round bell, which means he\\'s giving his answers to callers\\' stock questions at rapid speed. \"Capitalism needs guardrails. . . . That\\'s a very important part of the future of technology as well,\" Salesforce co-CEO Marc Benioff tells CNBC\\'s Jim Cramer. Retail sales dropped in September for the first time since February, but Jim Cramer of \"Mad Money\" says, \"These banks tell a different story. \"The market is in a slump, but accomplishing three things could lead to a year-end rally, according to a report by Ned Davis Research. Earnings season unofficially begins Tuesday, but market watchers aren\\'t all in agreement over where this round of reporting will take stocks next. Jim Cramer says Trump\\'s trade strategy is working, but he\\'s not yet sold on trade talks. The \"Mad Money\" host previews the week ahead on Wall Street, chats with Wendy\\'s CEO and offers tips in golf stocks. Jim Cramer takes calls and opines on viewer stock picks of the day in rapid speed. \"We have a menu that can compete, a low-investment and a high-return model for our franchise community,\" CEO Todd Penegor says of Wendy\\'s breakfast strategy. \"I\\'m expecting many of these quarters could be better than expected,\" \"Mad Money\\'s\" Jim Cramer says. \"You don\\'t need huge assortments to shop anymore . . . Focus on the best,\" former J. Crew CEO Mickey Drexler says. Jim Cramer gives investors a cheat sheet for finding safe stocks in a volatile market, sits down with Hormel CEO Jim Snee for an interview, makes a case for buying Bed Bath & Beyond and urges that the market needs an interest rate cut. Jim Cramer takes calls and delivers answers to callers\\' questions about their favorite stock picks in rapid speed. \"Bed Bath\\'s been punished enough. Now that they\\'ve got a competent CEO, better than that, a great CEO coming in, I\\'m betting the stock could have a lot more upside,\" Jim Cramer says. The Hormel portfolio is focused on \"improving the lives of consumers\" and the three pillars of our food journey [is] \"where we\\'re making a difference,\" Jim Snee says. Jim Cramer of \"Mad Money\" walks investors through his rubric for \"what\\'s worth buying in this treacherous moment. \"Stocks are sinking to start off October, but strategist Stephen Suttmeier says the charts are suggesting that the pain won\\'t last. In Tuesday\\'s \"Mad Money\" episode, Jim Cramer derides the Trump administration\\'s ban on Chinese companies, interviews Domino\\'s CEO Ritch Allison after earnings and sees what\\'s in store for the S&P 500. Jim Cramer takes calls from viewers and delivers his thoughts on their favorite stock picks of the day in rapid speed. Technical analysis Bob Moreno, who called the bottom in December, predicts the S&P 500 is on its way to plummet 10%, CNBC\\'s Jim Cramer says. \"I think you need to be very careful as this market readjusts and re-calibrates its expectations,\" CNBC\\'s Jim Cramer says. \"We don\\'t know how long that\\'ll last, but as we look out over the next two to three years . . . we\\'ve got a terrific business model,\" Domino\\'s CEO Ritch Allison says. Stocks are sinking to start off October, but strategist Stephen Suttmeier of Bank of America Merrill Lynch says the charts are suggesting that the pain won\\'t last. Jim Cramer gives a brief history of the stock market, talks Costco\\'s quarter and Six Flags\\' rejected takeover bid for Cedar Fair, chats with RinggCentral CEO Vlad Shmunis and takes a look at what\\'s at stake for trade talks later this week. Jim Cramer takes calls and delivers answers to viewers\\' questions about their favorite stock picks in rapid speed. Investors should start a small position in amusement park operator Cedar Fair and buy more on a pullback, the \"Mad Money\" host says. \"I think if we made it through the Great Recession, we [are] going to make it through a garden-variety slowdown like we might be experiencing now,\" Jim Cramer says. \"It\\'s never been a mistake to give Costco the benefit of the doubt,\" Jim Cramer of \"Mad Money\" says days after the retailer\\'s mixed quarterly report. Jim Cramer takes a look at the week ahead in stock market news, including anticipation of U. S. -China trade talks, explains why Clorox is a buy and interviews Stitch Fix CEO Katrina Lake. Jim Cramer takes calls and delivers his thoughts to callers about their favorite stock picks of the day. \"When I see this kind of pullback in Clorox, I don\\'t think sell. I think buy, although there might be more downside before it bottoms,\" the \"Mad Money\" host says. \"Tariffs that we\\'ve had to date don\\'t impact us. The ones that are being contemplated now potentially could,\" Stitch Fix CEO Katrina Lake says. \"Better batten down the hatches and get ready for companies to adjust their numbers going into a new round of tariffs that … they\\'re most likely unprepared for,\" Jim Cramer says. The September jobs reports was slightly better than expectations. The U. S. added 136,00 nonfarm payrolls and the unemployment rate fell to 3. 5 percent, the lowest level in 50 years. Jim Cramer breaks down how to judge the coming earnings season, interviews Constellation Brands CEO after shares sink, calls Ulta Beauty a buy and bemoans Trump\\'s tariffs on the European Union. \"Mr. President: It\\'s time to get a deal done, something not unilateral, just to show that we still have a functioning government when it comes to trade,\" \"Mad Money\\'s\" Jim Cramer says. Jim Cramer takes calls and delivers his thoughts to callers\\' questions about their favorite stock picks of the day. \"With insiders buying again and the stock looking very cheap versus its growth rate, I think Ulta\\'s too tempting here to ignore,\" Jim Cramer says. Constellation Brands CEO Bill Newlands defends the beer company\\'s quarterly report and reaffirms trust in Canopy after the stock dropped 6% on earnings. If stocks drop after the September nonfarm payroll report is released, here are some stocks investors can play, says Jim Cramer. Jim Cramer explains why he\\'s not yet positive after days of sell-offs, where investors can take a chance and buy some stocks and the state of going public. He also gets a read on small business hiring. Jim Cramer takes call and delivers thoughts on callers\\' favorite stock picks of the day. While businesses have some concern about the overall economy, they\\'re hiring to meet demand for products and \"that\\'s good news,\" payroll provider Paychex CEO Martin Mucci tells Jim Cramer. \"As long as the market remains choppy, I think this stock is worth owning, and I like it even more after today\\'s pullback,\" Jim Cramer says. \"After a market becomes overbought, you wait until it gets oversold, then you pounce,\" the \"Mad Money\" host says. Jim Cramer advises that investors shake off September\\'s poor manufacturing read, worry less about a potential Elizabeth Warren presidency, examines the stocks of Chipotle, McDonald\\'s and Jack in the Box and interviews the CEO of ConEd. Consolidated Edison CEO John McAvoy tells Jim Cramer how utility stocks are related to the bond market and where the company is investing in renewable energy. Jim Cramer takes calls from viewers and delivers his thoughts about their favorite stock picks of the day. To investors who fear a recession or a Warren presidency, Jim Cramer says, \"I think you\\'re going to miss out on some terrific opportunities. \"\"This is purely about protecting investors from garbage merchandise,\" the \"Mad Money\" host says. Jim Cramer discusses the fundamentals everyone needs to know about investing and where to focus your energy when watching the markets. Jim Cramer breaks down the Trump administration considering curbs on U. S. investing in Chinese businesses, recommends foreign pharmaceutical companies, reviews Conagra\\'s earnings report and interview GoodRx CEO Doug Hirsch. \"If you want big pharma exposure, with fewer headaches related to U. S. politics, you could always buy a well-run foreign drug company,\" CNBC\\'s Jim Cramer says. Jim Cramer takes calls and delivers answers to viewers\\' questions about their favorite stock picks of the day. Overbought markets \"tend to get hit with sell-offs, especially when we\\'re being flooded with shoddy IPOs,\" Jim Cramer says. Jim Cramer explains why Elizabeth Warren\\'s presidential prospects are dropping managed care stocks, and breaks down Peloton\\'s IPO, sits down with the CEO of homebuilder Taylor Morrison and recommends stock picks. \"As long as the job market stays strong, companies will keep paying up to make their workspaces more attractive and entice the workers they need,\" Jim Cramer says. \"People are feeling good and their confidence is absolutely showing in the real estate market,\" CEO Sheryl Parker says. Exercise equipment manufacturer Peloton debuted on the Nasdaq Composite at $27 per share. Jim Cramer recommends starting a position at least $4 below the open price. Jim Cramer opines on the stocks of Lyft, Advanced Micro Devices, Activision Blizzard and more stocks in rapid speed. \"I think it\\'s too soon to count out UNH. It\\'s too soon to write off Cigna. These companies are coining money,\" Jim Cramer says. Ellen Hazen, F. L. Putnam Investment Management, and Ed Keon, QMA chief investment strategist, join \\'Squawk Box\\' to discuss how concerns on USMCA and U. S. -China trade are weighing on the market. Instead of being beholden to the trade war, \"Nike\\'s actually the most in control of its own destiny,\" Jim Cramer says. \"We use food to preserve food,\" says Apeel Sciences CEO James Rogers, whose company has partnered with Kroger to sell avocados that age at a slower rate. \"When times are good, when times are bad, every company needs to focus on growing their business . . . and that\\'s the business that we\\'re in,\" CEO Jeff Lawson says. Jim Cramer breaks down Nike\\'s performance in the face of tariffs, sits down with messaging provider Twilio CEO Jeff Lawson, analyzes Whirlpool\\'s stock and says Twitter got away from Disney and Salesforce. Jim Cramer gives callers his thoughts on the stocks of Shake Shack, Dollar Tree, Crowdstrike, Six Flags and more stocks in rapid speed. Jim Cramer reacts to House Speaker Nancy Pelosi\\'s move to open an impeachment inquiry into President Donald Trump, talks with Disney CEO about his new memoir and interviews GW Pharma CEO. \"We have 28 countries now in Europe that have approved Epidyolex\" to treat epilepsy seizures, GW Pharma CEO Justin Gover says. \"I say there\\'s no hurry to start buying here, although … history says that you\\'re going to have to try to pull the trigger soon, rather than be left behind,\" CNBC\\'s Jim Cramer says. \"There are things Disney shouldn\\'t even try to do well and that was one of them,\" Disney CEO Bob Iger says. Jim Cramer breaks down similarities he sees in between today\\'s market and the dot-com era, reviews the IPO market, and sits for interviews with the CEOs of Canopy Growth and Nutanix. Canopy Growth CEO Mark Zekulin says Canada has rules that will govern the [vape] products that we put to market,\" while the U. S. battles controversies. Jim Cramer takes calls and delivers answers to viewer questions about their favorite stock picks in rapid speed. \"When you look at how much resiliency that there is built into the marketplace, I think most of the market assumes that if prices go up, the U. S. and other countries will respond,\" oil analyst Rusty Braziel says. \"You can only go up for so long based on something other than earnings before we have to accept that valuations have gotten out of whack,\" Jim Cramer says. \"Sure, the trade war\\'s taking its toll on business . . . it\\'s just not taking its toll where it was supposed to,\" Jim Cramer says. Zscaler CEO Jay Chaudhry tells Jim Cramer the company is \"very bullish\" about its prospects, despite competition for clients from Palo Alto Networks. Jim Cramer previews the week ahead of earnings and stock market news, projects iPhone sales in China, breaks down AbbVie and Bristol-Myers\\' latest deals and interviews Zscaler CEO Jay Chaudhry. Jim Cramer previews the week ahead of earnings, analyst meetings and iPhone sales estimates. Jim Cramer takes calls and gives his thoughts on Thermo Fisher, Kratos Defense, Repligen and more stocks. \"I wouldn\\'t be surprised if Chipotle can keep climbing through the end of the year,\" the \"Mad Money\" host says. \"Costco is a best-of-breed retailer that has repeatedly reinvented itself, and if they need to reinvent themselves again, that\\'s exactly what they\\'ll do,\" the \"Mad Money\" host says. Jim Cramer explains why he disagrees with Bernstein\\'s downgrade of Costco, why Chipotle\\'s stock will win 2019 and what investors should do with oil stocks. \"After a major supply shock failed to move the forward curve, we simply can\\'t expect the oil companies to be aggressive long-term,\" Jim Cramer says. Jim Cramer takes calls and delivers thoughts on the stocks of DocuSign, AT&T, Revolve and more. The S&P 500 may be on a roll this year, but don\\'t expect it to make double-digit percentage gains in the coming years, says the longtime market strategist. Jim Cramer reveals a bright spot in Wall Street\\'s reaction to the Fed\\'s move to cut interest rates and chats with CEOs of Cronos, Agco and Tech Data. \"We always wanted to be globally diverse,\" AGCO CEO Martin Richenhagen tells Jim Cramer in a \"Mad Money\" interview. Jim Cramer hears from viewers about the stocks of General Electric, Trade Desk, Micron, Snap and other companies. \"In tech, something is always hot. We can move to where the demand is quickly,\" Tech Data CEO Rich Hume says. Investors bought bank stocks because there\\'s a chance the Federal Reserve\\'s interest rate cut may \"put an end to this artificially inverted yield curve,\" Jim Cramer says. Jim Cramer explains what to expect from the Federal Reserve\\'s September meeting, why Microsoft and Apple\\'s stock could soon pop, and his wide-ranging interview with House Speaker Nancy Pelosi. Jim Cramer takes calls and delivers answers in rapid speed about viewers\\' favorite stock picks of the day. \"It\\'s just not worth trying to game this market when you know that, eventually, we\\'re likely to get lower interest rates\" and potentially a NAFTA replacement, Jim Cramer says. In an interview with CNBC\\'s Jim Cramer, House Speaker Nancy Pelosi said the country must address income disparity, create new jobs and lead in green technologies. Jim Cramer takes a look at chart analysis of Apple and Microsoft by Stock Market Mentor founder and technician Dan Fitzpatrick, who sees bullish signs in the stocks. Jim Cramer breaks down Wall Street\\'s reaction to drone strikes on Saudi Arabian oil facilities, how Wall Street values cloud stocks and interview with Paxos CEO. \"Mad Money\" host Jim Cramer rings the lightning round bell, which means he\\'s giving his answers to callers\\' stock questions at rapid speed. Jim Cramer introduces viewers to the rule of 40 to help valuate which cloud stocks to invest in and to sell. The privately held company is offering PAX Gold, the first regulated gold-backed crypto coin that allows investors to own and trade physical gold. \"In the old days, the averages would\\'ve plunged on this kind of oil shock. I know because I\\'ve lived through a bunch of them, starting in 1973,\" Jim Cramer says. \"We\\'re inching closer\" to new record highs for bitcoin and stocks, says the Fundstrat Global Advisors co-founder and head of research. \"I don\\'t know what the right price is for SDC, but I do know I wouldn\\'t pay more than $16 and change for it,\" Jim Cramer says. CNBC\\'s Jim Cramer takes another look at stocks with high exposure to China before earnings season approaches. After a \"monster good week\" for the market, Jim Cramer warns investors to have their guards up ahead of the Federal Reserve\\'s highly anticipated policy meeting. \"Everybody loves to say you don\\'t spend money online, but the way things work now with Facebook, Instagram, and how much it goes to acquire a customer, then you have to ship it all,\" Everlane CEO Michael Preysman says on \"Mad Money. \"\"The S&P\\'s proprietary short-range oscillator . . . currently stands at eight, and that\\'s not just overbought, it\\'s way overbought,\" Jim Cramer says. Investors are under a false impression that \"we may be having a thaw in our trade war with China,\" Jim Cramer says. The stocks of Starbucks, VMWare and Splunk have dipped recently, so now is the time to add them to your portfolio, Jim Cramer says. \"Square\\'s fundamentals are sound . . . which means you can absolutely buy this one into weakness,\" CNBC\\'s Jim Cramer says\"When you see those terrific camera options for the new iPhone, you know what that\\'s for?\" asks Jim Cramer. \"Instagram. \"Jim Cramer says buy the stocks of high-quality companies that big funds are selling, gold and bond prices could be peaking, interview with VMware COO and AT&T pressure. \"If this market wants to toss out high-quality merchandise, let their trash be your treasure,\" the \"Mad Money\" host says. U. S. Treasury bond and gold prices are up dramatically and analyst Carley Garner contends it\\'s time for them to come back down, Jim Cramer says. I think you should be buying the stock of AT&T, Jim Cramer says. Jim Cramer gives viewers his thoughts on callers\\' favorite stock picks of the day. Jim Cramer breaks down what sectors investors are placing their money, chats with the CEOs of Dollar Tree, Alteryx and Zoom Video, and tariff impacts on consumers. Giving credit to the company\\'s merchants, Dollar Tree CEO tells Jim Cramer how the discount retailer worked with vendors to reduce costs on imports. Jim Cramer takes calls and delivers answers to viewer questions about their favorite stock picks of the day. Growth stocks \"are getting annihilated . . . because there\\'s a market-wide rotation out of these names,\" Jim Cramer says. Cramer reveals what he expects to see next week in market news, chats with At Home CEO Lee Bird about dodging China tariffs and praises Lululemon\\'s performance, among other things. Jim Cramer examines companies that are driving the data revolution at leading businesses. \"The charts, as interpreted by Carolyn Boroden, suggest that Amazon has finally resumed its long-term rally\" toward $2,115, the \"Mad Money\" host says. Jim Cramer takes calls and delivers answers on viewers questions about their favorite stock picks. Jim Cramer has consumer price and retail data on his radar, along with earnings reports from RH, Broadcom and Kroger circled on next week\\'s calendar. Jim Cramer reviews Thursday\\'s market moves, chats with the chief of used-car dealer Carvana and marries stock picks with fantasy football. Carvana CEO Ernie Garcia is banking on the e-commerce platform\\'s national inventory to lead it to profitability. \"Managing a diversified portfolio of stocks has a lot in common with putting together a fantasy football team,\" the \"Mad Money\" host says. \"Mad Money\" host Jim Cramer rings the lightning round bell, which means he\\'s giving his answers to callers\\' stock questions at rapid speed. With positive trade, payroll and manufacturing news, recession talk could subside over the course of a few days, Jim Cramer says. Jim Cramer shares his philosophy on owning stocks and why it\\'s important to do your homework. Jim Cramer shared the story of how he learned to get an edge on the market. Jim Cramer opened up about mistakes of investing, and his rules for owning individual stocks. Jim Cramer takes a stroll down memory lane to discuss how the Great Recession changed the mission of CNBC\\'s \"Mad Money with Jim Cramer. \"A popular megaphone pattern forming in the chart of the S&P 500 just flashed a bearish signal, warns widely followed strategist Sven Henrich. Jim Cramer offers his advice for pinpointing solid investments at a young age. Jim Cramer says teenagers\\' habits can provide valuable clues on the hottest trends in the market. Jim Cramer shares the benefits of and top strategies for investing for newborns and young children. Jim Cramer explains why the idea of suitability is crucial when it comes to individual investing. Jim Cramer gives his best advice on how to shape your portfolio for the rest of your life. Investing doesn\\'t have to be scary — it can actually be joyful, says author Danielle Town. Jim Cramer breaks down what\\'s behind the strength in Wendy\\'s stock. \"The charts, as interpreted by the legendary Larry Williams, suggest that it\\'s time to stop panicking, stop complaining and start buying,\" Jim Cramer says. \"Mad Money\" host Jim Cramer rings the lightning round bell, which means he\\'s giving his answers to callers\\' stock questions at rapid speed. \"Until we get some tangible signs that the economy\\'s picking up, you\\'re going to have to get used to the market,\" Jim Cramer says. CEO Mark Schneider tells Jim Cramer how the food and drink giant is developing aluminum packages that can find a \"useful second life. \"Jim Cramer explains what the Johnson & Johnson ruling means for the stock. Jim Cramer takes calls and delivers answers on viewers\\' stock picks of the day. Wall Street hasn\\'t seen the last of these brutal sell-offs, but \"there\\'s almost always a bounce after the worst of the carnage,\" Jim Cramer says. \"We have not seen signs in the U. S. of anything related to a slowdown, but we do know these things go in cycles,\" Starbucks CEO Kevin Johnson says. As foodies duke it out over which restaurant makes the best chicken sandwich, Jim Cramer says the biggest winner is not who you think. Jim Cramer explains why VMware\\'s acquisition doesn\\'t impact his investing thesis. \"Mad Money\" host Jim Cramer rings the lightning round bell, which means he\\'s giving his answers to callers\\' stock questions at rapid speed. Companies want to know our values and if they work with us, \"they want to be aligned with those values,\" Salesforce co-CEO Keith Block says. \"The economy may be in good shape now, but if we keep getting more and more tariffs it could deteriorate,\" Jim Cramer says. Jim Cramer breaks down how short bets against Lowe\\'s helped power the stock\\'s rally on a second quarter beat and raise. There are great cloud plays, \"but if you\\'re going to own these stocks, you need to understand what these companies actually do,\" Jim Cramer says. \"I think the economy\\'s been strong,\" Paycom CEO Chad Richison says. \"I\\'d love to say that the optimistic universe is most likely to prevail, but the talking heads talk endlessly about how a recession is inevitable,\" CNBC\\'s Jim Cramer says. Jim Cramer eases investor worry over talks that IAC may spinoff ANGI Homeservices and Match Group to boost value. Estee Lauder CEO Fabrizio Freda is \"the Bill Belichick of cosmetics. He gets the job done. He does his assignment,\" Jim Cramer says. \"Mad Money\" host Jim Cramer rings the lightning round bell, which means he\\'s giving his answers to callers\\' stock questions at rapid speed. Home Depot CFO Carol Tome says \"consumer confidence is near record high levels\" but \"consumer demand could be impacted\" by lingering U. S. -China trade tensions. Jim Cramer breaks down why investors should invest in Cedar Fairs over Six Flags. \"These days, the consumer is addicted to convenience . . . If it doesn\\'t have a great digital presence or incredible bargains, take a pass,\" Jim Cramer says. \"Mad Money\" host Jim Cramer rings the lightning round bell, which means he\\'s giving his answers to callers\\' stock questions at rapid speed. \"I explained over and over again: you get a much better read on the economy by listening to the conference calls of individual large companies,\" Jim Cramer says. Jim Cramer examines how Take-Two Interactive, Novocure and Waste Management are breaking the mold in their respective industries. Jim Cramer reveals why Caterpillar is no longer the cat\\'s meow. \"If bond yields keep plummeting, it might not matter. We\\'ll scare ourselves right out of this terrific multi-year expansion, for certain,\" Jim Cramer says. \"Mad Money\" host Jim Cramer rings the lightning round bell, which means he\\'s giving his answers to callers\\' stock questions at rapid speed. \"As long as Treasury yields keep plummeting, investors will remain unsure of themselves,\" Jim Cramer says. Jim Cramer says the performance issues at Macy\\'s are tied to the grim state of mall-based retailers and breaks down bright spots he sees in the sector. \"I\\'m aligned with our shareholders and I think it brings a different element because I\\'m at risk,\" CEO Michael DeGiglio says. \"Mad Money\" host Jim Cramer rings the lightning round bell, which means he\\'s giving his answers to callers\\' stock questions at rapid speed. Revolve Group is \"part of the reason why Macy\\'s is getting obliterated . . . disrupting what\\'s left of the department stores, and it is working,\" Jim Cramer says. \"Our stock market is handcuffed to the bond market . . . The momentum is with the bears, not the bulls,\" Jim Cramer says. Suresh Tantia of Credit Suisse says the U. S. tariff delay was good news, but doesn\\'t change the narrative. He also says American President Donald Trump will only agree to China\\'s conditions for a deal if there\\'s economic weakness in the U. S. or the S&P 500 corrects by more than 10%. Jim Cramer breaks down how the banks are impacted by US-China trade tensions. \"This a home-run day for Apple, huge wins,\" Jim Cramer says. It\\'s that time again! Jim Cramer rings the lightning round bell, which means he\\'s giving his answers to callers\\' stock questions at rapid speed. Trump gave the market a boost when it seemed like \"everything is falling apart and the stock market\\'s about to roll over,\" Jim Cramer says. \"The averages haven\\'t really digested these latest gains, and like we saw last week, big moves higher can result in some serious stock market reflux,\" he says. Jim Cramer warns investors to let the dust settle in this market before committing to the stocks of Dollar Tree and Darden. \"It\\'s part of a bigger program to make sure that our environmental footprint is down,\" says Keurig Dr Pepper chief Bob Gamgort. \"The day-to-day action is going to favor the slowdown stocks and wreak havoc for the industrials, the technology stocks, and worst of all the financials,\" Jim Cramer says. Take-Two CEO Strauss Zelnick says \"gun violence is uniquely American . . . and that will only change if we address the real issues. \"Jim Cramer takes calls and delivers thoughts about viewers\\' favorite stock picks of the day. \"Our partnerships with retailers has allowed us to access a population of pets and bring our mission forward of being advocates for those pet-parents,\" PetIQ CEO Cord Christensen tells Jim Cramer. Jim Cramer says investors should turn their attention to new stocks that are trading at a big discount versus where they were several weeks ago. \"It\\'s clear that selling stocks into the teeth of the sell-off earlier this week was a big mistake,\" Cramer says. Pharmaceuticals are \"the most cost effective way\" to treat and improve health care, Bausch Health Chariman and CEO Joseph Papa says. \"We\\'re really at the beginning of this journey,\" GW Pharmaceuticals CEO Justin Gover tells CNBC\\'s Jim Cramer. Jim Cramer says that the U. S. economy is not on the verge of a recession, despite the rush for the safety of government bonds. Jim Cramer explains why the health of the U. S. economy is not entirely dependent on a deal with China. Jim Cramer hears from viewers live in front of the New York Stock Exchange and gives them his thoughts about their stock picks. Traders violated every rule in the book during the market sell-off. \"I don\\'t want you to repeat their mistakes,\" Jim Cramer says. \"We announced three bold new initiatives this quarter each of which I think set us up for really great growth for the future,\" Josh Silverman says. Issues around currency, yields and earnings still have not been resolved, despite Tuesday\\'s market bounce, Jim Cramer saysJim Cramer explains that Microsoft is the one to buy of the large cap stocks due to its little China exposure and its recent quarter. \"There\\'s a $5 billion market out there [where] products are sold into the illicit market,\" Aphria interim CEO Irwin Simon says. Jim Cramer suggests investors begin finding new positions in stocks among the rubble after a deep market sell-off. If you slowly buy the stocks of companies with great fundamentals, you will be in good shape when the smoke clears around trade tensions, Jim Cramer says. The market\\'s roller coaster ride may have you tempted to move investments in your retirement nest egg. Here\\'s what financial advisors say you should do instead. Jim Cramer explains his rationale behind being a buyer of McDonald\\'s stock. Keep your head down. Raise some cash from stocks that made big gains. And get ready to do some buying after the markets adjust, Jim Cramer says. Jim Cramer takes calls and delivers his thoughts about callers\\' favorite stock picks of the day. \"It\\'s going to be a wholesale transition from a 4G technology to a fifth-generation technology,\" Jim Taiclet says. \"We\\'re now back in a world where international companies will be forced to cut their forecasts,\" Jim Cramer saysRecent market highs could have prompted you to take on more equity risk in your portfolio. Here\\'s why you may want to reevaluate your positions now. Jim Cramer evaluates the apparel space and explains why Levi\\'s and Kontoor Brands could be safe investments for your portfolio. \"People keep underestimating Apple\\'s new business model,\" the \"Mad Money\" host says. Stay away from companies that only have vague plans pending regulatory approval that are losing a lot of money, Jim Cramer says. \"When you get days like today . . . look to those July leaders for guidance, and, in some cases, you\\'re going to find some solid buying opportunities,\" Jim Cramer says. Jim Cramer says the recent pin action in Levi\\'s stock has created a buying opportunity for investors. \"I hope they will deliver a better-than-feared quarter when it reports on Thursday, but hope should never be part of the equation,\" Jim Cramer says. \"Thank heavens [Fed Chair] Jay Powell\\'s got our back, because the president\\'s too busy stabbing his own Treasury Secretary in the back . . . \" Jim Cramer says. It\\'s that time again! \"Mad Money\" host Jim Cramer rings the lightning round bell, which means he\\'s giving his answers to callers\\' stock questions at rapid speed. Jim Cramer discusses how tech veteran and CEO Kevin Johnson has helped Starbucks gain room to run. Jim Cramer takes calls and delivers his thoughts about callers\\' stock picks of the day. After the stock\\'s recent pullback, investors could be getting a rare buying opportunity in Amazon, Jim Cramer explains. Your job is to sit tight and find high-quality stocks to stick with for as long as the underlying business stays strong, Jim Cramer says. \"This year we\\'ll set record gold production . . . [and] grow at a steady pace,\" Agnico Eagle Mines CEO Sean Boyd says. Jim Cramer breaks down the difference in performance between the manufacturing and consumer economy and what the FED has to do about it. Jim Cramer takes calls and delivers his thoughts on callers\\' favorite stock picks of the day in rapid speed. \"I\\'m still optimistic about the market in general and what\\'s in front of us from a growth standpoint,\" Hogan says. \"If the president rolls out new tariffs on Chinese imports . . . if oil goes down, then one rate cut will not be enough,\" Jim Cramer says. \"We\\'re having a record year there. It\\'s much better than last year. It continues to improve,\" Royal Caribbean CEO Richard Fain tells Jim Cramer. Jim Cramer says investors should stay away from Kraft Heinz because the company doesn\\'t have a sustainable path to growth. Jim Cramer takes calls and delivers his thoughts about viewers\\' stock picks of the day. \"Wall Street always pays more for a secular grower than a cyclical one,\" CNBC\\'s Jim Cramer says. The merging of L3 Technologies and Harris Corp. \"was a brilliant combination that\\'s created the most high-tech operator in the industry,\" Jim Cramer says. The White House is not as business-friendly as previously thought, and it\\'s not getting enough attention, CNBC\\'s Jim Cramer says. Jim Cramer explains why investors should approach the advice of big-name money managers with skepticism and think for themselves. Jim Cramer answers caller questions about their favorite stock picks in rapid speed. \"Given how much Hershey\\'s stock has run, I feel much more confident and comfortable buying the stock of Mondelez here,\" CNBC\\'s Jim Cramer says. \"If I\\'m right that this is like the 1980s all over again, it means the likes of Coca-Cola and Kimberly-Clark have a lot more room to run,\" Jim Cramer says. Jim Cramer\\'s breaking down Micron\\'s latest upgrade. Jim Cramer takes calls and delivers his thoughts on viewers\\' stock picks of the day. Morgan Stanley made a bold call on Apple. But CNBC\\'s Jim Cramer says it would be a mistake to buy shares ahead of its earnings next week. \"They\\'ve told us through our research, \\'We want to work on our house because we think it\\'s a good investment,\\'\" Home Depot CFO Carol Tomé says. Richard Martin of IMA Asia says he\\'s keeping an eye on companies on the S&P 500 that look to be \"flat or down,\" and how they\\'re impacted by the slowing economy. Jim Cramer tells investors to consider adding Nucor to their portfolios in the positive steel cycle boosted by the Fed and President Donald Trump. Jim Cramer hears from viewers and gives them his thoughts about their stock picks of the day. \"Frankly, you can read Amazon\\'s decision . . . as an indictment of the whole industry,\" Jim Cramer says. \"You need to understand that we\\'re about to embark on the busiest week of the year for industrial earnings,\" CNBC\\'s Jim Cramer says. Jim Cramer explains the dangers of making investment decisions before listening to the conference call. Jim Cramer takes calls and delivers answers about callers\\' stock picks of the day in rapid speed. Bank of America CEO Brian Moynihan tells Jim Cramer about how mobile banking is attracting millennials customers coming off of the bank\\'s latest earnings report. \"It was a competitive situation, people, so IBM paid what they had to pay to get the job done,\" Jim Cramer says. \"We\\'ve seen Netflix stumble before, especially maybe after a price hike, but not quite like this,\" Jim Cramer says. Jim Cramer explains why JP Morgan, Citigroup, Goldman Sachs and Bank Of America have become investable again. Jim Cramer takes calls and gives his thoughts about callers\\' stock picks of the day. This is an important story that shows how companies \"written off and left for dead can, indeed, make themselves relevant again,\" Jim Cramer says. \"It\\'s clearly doing more harm than good,\" the \"Mad Money\" host says. Instead Facebook should buy Square for $70 billion and expand the payments network worldwide. \"I can\\'t think of another time … where the consumer was in such great shape while the industrials were in so much trouble,\" Jim Cramer says. \"The charts, as interpreted by Carley Garner, suggest that the upside in the stock market has gotten more limited,\" Jim Cramer says. Jim Cramer explains why he thinks now is the time to invest in Dine Brands, even as the parent company of IHOP and Applebee\\'s faces tougher year-over-year comparisons. Jim Cramer takes calls and delivers thoughts about viewers\\' favorite stock picks of the day. \"When you have a Fed chief who\\'s hellbent on cutting interest rates … then you should own stocks that benefit from lower rates,\" Jim Cramer says. Domino\\'s CEO Ritch Allison questions the long-term sustainability of third-party delivery apps that he says is putting short-term pressure on the company. Jim Cramer discusses the inverted yield curve and Fed Chair Jerome Powell\\'s response. Jim Cramer takes calls and delivers thoughts on viewers\\' stock picks in rapid speed. \"They\\'ll be the second-half winners that the big money guys just can\\'t get enough of,\" Jim Cramer says. \"The important thing is that you shouldn\\'t try to hit homeruns this week, because you\\'re much more likely to end up striking out,\" Jim Cramer says. Stellar performance from technology stocks led the S&P 500\\'s run from 2,000 to 3,000, but the sector\\'s phenomenal growth may still have some gas in the tank. Tony Nash of Complete Intelligence says some technology firms are seeing \"real sustainable gains,\" not just on growth but on productivity and efficiency as well. Jim Cramer breaks down why the stock\\'s rally on disappointing news could indicate a bottom. \"As the weak hands exit the cannabis space, investors are starting to care about the actual results,\" the \"Mad Money\" host says. Jim Cramer takes calls and delivers answers to callers\\' stock picks of the day in rapid speed. \"What happens in America matters more than what happens at OPEC,\" Tellurian Chairman Charif Souki says. \"As an investor, you need recognize which businesses can scale because those are the ones that win,\" Jim Cramer says. Jim Cramer breaks down Levi\\'s earnings report and what it could mean for apparel companies going forward. Jim Cramer takes calls and delivers his thoughts on viewers\\' stock picks of the day. Jim Cramer breaks down how investors \"can view the sell-off as a buying opportunity, not a calamity. \"The \"Mad Money\" host dispelled the idea that the Federal Reserve \"engineered\" stocks to rally and the S&P 500\\'s climb above 3,000. The S&P 500 crosses 3,000 for the first time as Fed chair Jay Powell signals a rate cut for July. CNBC\\'s Jim Cramer, David Faber and Carl Quintanilla discuss. Jim Cramer reveals how Ulta could come out ahead of Amazon in the beauty sector. Jim Cramer hears from viewers about their stock picks and gives his thoughts about whether to buy or sell in rapid speed. The weak forecast from BASF \"suggests that the global economy might be in rougher shape than that employment number might indicate,\" Jim Cramer says. \"In a retail environment dominated by a handful of players . . . there are smaller operators that we have found ways to like and win with,\" Jim Cramer says. IBM will unlock growth by expanding its new Red Hat subsidiary services across the globe, CEO Ginni Rometty tells Jim Cramer. \"I\\'d rather own the best than a mix of the best, the mediocre, and the worst,\" Jim Cramer says. Jim Cramer takes calls from viewers and gives his thoughts about their stock picks in rapid speed. \"If [interim Symantec CEO] Rick Hill can set off a bidding war, that would be the cherry on top,\" Jim Cramer says. \"Thanks to the endless and sometimes pointless guessing game on Wall Street, you get a sweet deal on all sorts of terrific stocks,\" Jim Cramer says. Constellation Brands CEO Bill Newlands tells Jim Cramer \"our board was uniform\" about removing Bruce Linton as CEO of Canopy Growth. Jim Cramer reveals a surprising fintech play that could be worth considering. \"If you\\'re making components for telco infrastructure, I think you got a pretty big problem,\" the \"Mad Money\" host says. Chart action suggests the market could pull back later this week, but analyst Carolyn Boroden is bullish about long-term prospects, Cramer says. \"After a big run, you always hear that there are just too many bulls, too much excitement, too much optimism,\" but Jim Cramer\\'s not buying it. Jim Cramer reveals why he\\'s a fan of Lululemon\\'s stock. Jim Cramer takes calls and delivers answers to viewer stock picks in rapid speed. U. S. stocks rose after President Trump met with Chinese President Xi at the G-20 summit. Five experts discuss what this means for the second half of the year. \"At a time when the department stores are being eaten alive, The RealReal could be poised to make a killing,\" Jim Cramer says. \"When I look at the top five best performers in the Dow and the S&P, I see a good group of stocks, most of which have more room to run,\" Jim Cramer says. \"Bull markets thrive on disbelief. The moment everyone believes in the bull, well the rally\\'s over, because then there\\'s no one left to buy,\" he says. \"Between Dell\\'s China exposure, and a possible slowdown in their server business driven by a weaker economy, the stock can\\'t seem to get much traction,\" the \"Mad Money\" host says. \"Remember, [Powell] didn\\'t commit to cutting rates next month, he just said he\\'s monitoring the situation,\" the \"Mad Money\" host says. Now that the S&P 500 hit a new all-time intraday high, experts are wondering what comes next. Jim Cramer explains that the uncertainty surrounding health care makes an investment in McKesson risky business. Jim Cramer zips through his lighting round in front of a live-studio audience. We have a much more modern data platform that people want to build modern applications on, CEO Dev Ittycheria says. \"We\\'ve seen this before, we\\'ve been through it, we\\'ll manage our way through this situation,\" CEO Jim Umpleby says. Jim Cramer says \"you\\'ll want to keep some powder dry so you can buy into weakness and get some real bargains. \"Jim Cramer recaps Adobe\\'s latest conference call to explain how the company is upending the retail industry. Jim Cramer hears from viewers and gives his thoughts about their stock picks. \"This is a great story, but we need to stay disciplined,\" Jim Cramer says. Investors need to be cautious because the economy will get hurt the longer the trade war drags on, Jim Cramer says. Jim Cramer breaks down Facebook\\'s new cryptocurrency initiative and its potential impact on the stock. Jim Cramer takes calls and delivers his thoughts about callers\\' stock picks of the day. \"If either stock gets brought down for whatever reason . . . you have my blessing to start buying,\" Jim Cramer says. Union Pacific CEO Lance Fritz tells Jim Cramer that he is optimistic about trade relations with China, Mexico, Japan, and the EU. \"I do expect our stock market to be hammered if nothing positive comes of this G-20 meeting,\" Jim Cramer says. Jim Cramer lays out what he anticipates from Jay Powell ahead of Wednesday\\'s Fed meeting and what it could mean for the market. \"They\\'re fun. They\\'re companies you know or can learn about,\" he said, \"and you can happily buy them into weakness if you\\'ve done the homework and you believe in their prospects. \"\"So we have planned for Brexit. I think we have plan A, B and C, and you need all these plans — I can tell you,\" CEO Andreas Fibig says. \"The humanization of pets has been a fabulous secular growth story — one that\\'s really paid off in 2019,\" Cramer says. Daryl Guppy of Guppytraders. com analyzes the charts for markets including the Hang Seng index, Nasdaq and S&P 500. He says the Hong Kong market is not concerned about the recent protests apart from the \"inconvenience of disruption. \"Foot Locker had \"a miserable conference call and a not-great last quarter,\" CNBC\\'s Jim Cramer says. Jim Cramer takes calls and delivers answers to caller questions about their favorite stock picks of the day. \"Being overly reactive and moving sourcing around in product categories like ours can present massively more risk,\" RH CEO Gary Friedman says. \"Even after today\\'s magnificent run, Chewy isn\\'t all that expensive. The company\\'s got a great growth story and they have legions of loyal customers,\" Jim Cramer says. \"The most important thing to watch next week is Twitter — we\\'re watching for a president who slags China regularly,\" Jim Cramer says. The bull is raging in the life science space, and Jim Cramer breaks down why these two stocks could have even more room to run. Dexcom CEO Kevin Sayer also says its partnership with an Alphabet subsidiary will be produce a more advanced device \"for the ages. \"Jim Cramer takes calls and delivers answers on callers\\' stock picks of the day in rapid speed. The Michael Kors parent held an analyst meeting earlier this week in which management laid out its growth plans, but it yielded conflicting opinions from the community. \"There\\'s a market for high-end luxury goods and low-end mass market merchandise, but right now there\\'s not much space in between,\" the \"Mad Money\" host says. Jim Cramer breaks down Revolve\\'s recent IPO and urges investors to wait for a pullback before getting in on the stock. Jim Cramer takes calls and gives his thoughts about viewers\\' favorite stock picks of the day. \"We\\'re having record months. This quarter will be the largest quarter in the company\\'s history,\" Quicken Loans CEO Jay Farner says. \"I salute CEO Michele Buck for masterminding this tremendous turnaround . . . but wait for a pullback,\" Jim Cramer says. \"You typically don\\'t get a real bottom until the estimate cuts have been made, the stocks been softened up, and the clueless hot money has abandoned it,\" Jim Cramer says. Jim Cramer reveals why blue chip stocks like Walmart and Proctor and Gamble may work best in this market. Jim Cramer listens to callers and delivers his thoughts on their stock picks of the day in rapid speed. Because the Volatility Index has not gone lower, \"you need to be careful when you see the averages rallying like this morning,\" Jim Cramer says. \"Our engineers can\\'t wait to pop the hood on those and check out what things that we might use on behalf of our customers,\" CEO Adam Selipsky says. \"We\\'ve had a colossal rally. After this kind of run, the bull is fatigued,\" the \"Mad Money\" host says. Shyam Devani of Citi discusses the timing of a possible Fed rate cut. He also says, if the S&P 500 falls to 2,600, it will be something the Federal Reserve can\\'t ignore. Jim Cramer breaks down the old market adage and explains why the market is signaling something different. Jim Cramer listens to callers and gives his thoughts about their stock picks of the day in rapid speed. \"Tableau didn\\'t want our cash — they wanted our equity, because they know that the real value here is in the company that we\\'re creating together,\" Benioff tells Jim Cramer in an interview. \"When you see people crowding into stocks just because they\\'re going up, it\\'s what I call a bad sign,\" Jim Cramer says. Jim Cramer breaks down his feelings on the oil and gas space. Jim Cramer takes calls and delivers his thoughts on callers\\' stock picks of the day. The newly-public companies saw their stocks rally by double-digits after beating Wall Street expectations in their first earnings reports since their recent IPOs. \"With so many media companies launching their own subscription streaming services, we need to start thinking about winners and losers here,\" the \"Mad Money\" host says. \"I bet this market can go higher still as long as the President works out something with Mexico over the weekend,\" Jim Cramer says. \"We are at a point in our industry where enough is enough,\" Marc Benioff says. We must \"get the values straight with these tech companies. \"\"The market is almost willing to tolerate it being imposed, but it will not tolerate it if it lasts,\" says UBS\\' Cashin. Jim Cramer reveals how Estee Lauder is finding success worldwide, even as retail slows down. Jim Cramer takes calls and delivers answers to viewers\\' stock picks of the day. \"FleetCor has a superb long-term story, and the fintech stocks are very hot,\" the \"Mad Money\" host says. \"[Defensive stocks] can do just fine during a slowdown,\" the \"Mad Money\" host says. Ken Peng of Citi Private Bank says, with the S&P 500 only around 6% below its all-time peak, it\\'s not yet time for the Fed to cut rates or for U. S. President Donald Trump to turn more friendly on trade. Given the ongoing trade disputes, the U. S. market is likely to be range bound for a while, says Kirk Hartman of Wells Fargo Asset Management. He also discusses which stocks investors could consider buying. Jim Cramer explains why woes could worsen for four tech titans. Jim Cramer takes calls and delivers his responses in rapid speed to viewers\\' stock picks of the day. The digital customer transformation \"is as big as Y2K was for the tech industry,\" CEO Marc Benioff says. \"[The tariffs] is an impact of about $15 million this year, a little bit more next year,\" CFO Jack Hartung says. \"Remember, good things can still happen, but don\\'t get overconfident, because bad things can happen, too,\" Jim Cramer says. Tesla is still the worst performer of 2019 on the Nasdaq 100 Index, down 42% for the year. Jim Cramer breaks down VF Corp\\'s performance over the last year and reveals the stock will be a more compelling buy towards the end of the summer. Jim Cramer takes calls and delivers his thoughts on callers\\' stock picks of the day. A digital transaction tends to have almost a $5 higher average ticket, which means better return on investment, CEO Charles Morrison says. Cannabis is going to be a booming global industry . . . \"there\\'s a huge opportunity and demand out there,\" Brinks CEO Douglas Pertz says. \"The president\\'s whims have trumped his pro-business attitude . . . [and] investors are going to pay less\" for stocks, Jim Cramer says. Jim Cramer warns CEOs to prepare their companies for a hit after President Trump\\'s latest call for tariffs. Jim Cramer takes calls and delivers answers on callers\\' questions about their stock picks of the day. \"We build these technologies so I think we have a responsibility … to prepare society for these technologies,\" CEO Ginni Rometty says. \"We do think about powering business globally, so it\\'s in everyone\\'s interest I think to have as much free trade — as much economic commerce — as possible,\" Todd McKinnon says. \"In an era where all that matters is who\\'s next for punishment, we need to be very cautious,\" Jim Cramer says. Jim Cramer explains how to find retail stories that work in a difficult environment. \"Pioneer has taken our gas to California, so we\\'re not seeing any of the negative prices,\" Pioneer Natural Resources CEO Scott Sheffield says. \"That\\'s just enough time to use all of our IP and brands to really get ahead,\" Canopy Growth CEO Bruce Linton says about its acquisition of Acreage. \"Money managers are desperate to avoid owning companies that could be facing estimate cuts, and this checklist is what protects them,\" Jim Cramer says. Jim Cramer explains that bluebird bio\\'s technology offerings make it attractive for a potential takeover. Jim Cramer talks with viewers and gives his thoughts about their stock picks of the day. Agco, an agricultural equipment manufacturer based in Georgia, upped its full-year earnings guidance by almost 30 cents. \"Now that people are really freaking out . . . I think it\\'s time to start picking up stocks into weakness,\" Jim Cramer says. Jim Cramer breaks down how consolidation in the fintech space still can\\'t overcome PayPal\\'s dominance. Jim Cramer takes a look at chart analysis by DeCarley Trading\\'s Carley Garner to determine if there is a buying opportunity in the future. With consumer and corporate confidence waning, the economy could slowdown \"if something doesn\\'t change soon,\" Jim Cramer says. Mondelez International CEO Dirk Van de Put explains how changing consumer habits are boosting the Oreo-maker\\'s sales. Jim Cramer explains why worries at the restaurant chain may be off-base. \"We still haven\\'t seen the big estimate cuts that we can expect from the analysts who weren\\'t expecting President Trump to keep raising tariffs,\" Jim Cramer says. \"Once you build a tower, you can just add another antenna to it when you pick up a new client, so the margins are terrific,\" he says. Sentiment is \"not negative enough to trigger a huge rally . . . unless we get some kind of real breakthrough with China,\" Jim Cramer says. Jim Cramer reiterates that investors should own Apple, not trade it, but cautions that the stock could be hurt by trade tensions. \"I just want you to know what you own so you\\'re not surprised when this pattern continues,\" Jim Cramer says. \"Target\\'s gutsy decision to make its stores the centerpiece of its fulfillment system has turned out to be a brilliant move,\" Jim Cramer says. \"[Millennials] are more likely to go to the vet more frequently and more willing to listen to an advanced standard of care,\" Jonathan Ayers says. Jim Cramer turns to the charts to reveal that cannabis companies like GW Pharmaceuticals and Village Farms could be good additions to your portfolio. Jim Cramer takes calls and gives his thoughts on McDonald\\'s, Nektar Technologies, L Brands, and more. Jim Cramer says there\\'s a shortage of buyable stocks on the market and that money managers are staying out of these sectors. \"I can\\'t remember a time at Novartis where year after year after year we have these significant medicines getting launched,\" CEO Vasant Narasimhan says. As of Tuesday, an imminent deal seems unlikely, with both countries refusing to compromise, Cramer said. Jim Cramer examines Luckin Coffee, the latest Chinese company to hit the tape. Jim Cramer takes calls and delivers thoughts about viewers\\' stock picks of the day. \"Unlike Bernie Sanders or Elizabeth Warren or Kamala Harris, Biden\\'s against \\'Medicare for All,\\'\" the \"Mad Money\" host says. Jim Cramer ranks the stocks of Twitter, Snap, Pinterest and Facebook. \"As long as President [Donald] Trump believes that the Chinese are the ones who pay the price, he\\'s going to keep taking a hard-line approach to these negotiations,\" Cramer said. Jim Cramer says he doesn\\'t understand why IAC is trading at current levels after reporting an amazing quarter. Jim Cramer takes calls and delivers answers to caller stock picks in the latest lightning round. \"We\\'re trying to be transparent and . . . we want to focus on the long term,\" CEO Ben Silbermann says. \"This is the week when most retailers report, so we will be listening closely to what they say about the trade war,\" Jim Cramer says. Nvidia CEO Jensen Huang tells Jim Cramer why the chipmaker won\\'t be impacted by tariffs on Chinese imports. Markets have seen a reprieve from selling in recent days, but NorthmanTrader founder Sven Henrich says the underlying technicals tell a different story. Jim Cramer explains that, while he\\'s a believer in the cannabis business, conviction should be tempered with discipline. Jim Cramer hears from callers and gives his thoughts on their stock picks of the day. Jim Cramer identifies seven stocks that have lagged the broader market and are starting to catch steam. Early investors are showing \"that they don\\'t want to put a lot of money at risk,\" SoFi CEO Anthony Soto says. The executive action against Chinese telecommunications giant Huawei \"was a major escalation from the White House,\" Jim Cramer says. Jim Cramer says the \"Cloud Kings\" are a great secular trend to invest in during times of economic uncertainty. Most Americans could go bankrupt if their health insurance won\\'t cover high pharmaceutical prices, co-CEO Doug Hirsch says. \"We can really help those companies build scale if they want to use some of the marketing techniques we have on our platform,\" CEO Anthony Wood says. \"Turns out we can get good news, too, and some days like today the stock market actually makes sense,\" Jim Cramer says. Jim Cramer reveals how some CEOs are willing to take the tariff pain because they\\'re fed up with China\\'s trade practices. It\\'s that time again! \"Mad Money\" host Jim Cramer rings the lightning round bell, which means he\\'s giving his answers to callers\\' stock questions at rapid speed. \"Our exposure to China in both [creative and enterprise] is fairly minimal,\" CEO Shantanu Narayen says. The stock market saw a broader rally than expected, and that\\'s good news, the \"Mad Money\" host says. Jim Cramer reveals that the coupling of an escalating trade war with China and Uber\\'s IPO fiasco led to the market\\'s dip. It\\'s that time again! \"Mad Money\" host Jim Cramer rings the lightning round bell, which means he\\'s giving his answers to callers\\' stock questions at rapid speed. \"That\\'s been a great business for us,\" Twitter CFO Ned Segal says. \"I think that you\\'re better off preparing for the worst,\" Laura Alber said in a one-on-one interview with \"Mad Money\\'s\" Jim Cramer Monday. The best picks may be in the managed care, insurance and telecommunication spaces. Jim Cramer explains why the Chinese have more to lose than we do when it comes to the trade debate. \"They\\'ve made a lot of the necessary adjustments,\" Jim Cramer says. Investors should fall back on their favorite long-term themes in a confusing market. The 5G buildout is one of the best, Jim Cramer says. \"We made it through hell week . . . We can finally start talking about earnings and interest rates again,\" Jim Cramer says. As the longest bull market in history wanes, it can be helpful to turn your attention to your own timeline. Jim Cramer takes a look at the warning signals one analyst points out in the charts to find out what could lie ahead in this market. It\\'s that time again! \"Mad Money\" host Jim Cramer rings the lightning round bell, which means he\\'s giving his answers to callers\\' stock questions at rapid speed. Etsy CEO Josh Silverman tells Jim Cramer he is optimistic about the rest of the year and explains the e-commerce platform\\'s plan to reduce carbon emissions. Trump can attempt to mitigate the damage by floating some good news about trade discussions as he did Thursday, Cramer says. \"When a sell-off goes into its third day, the buyers just stand there and absorb the market\\'s body blows. And then stocks start rallying like nobody\\'s business,\" Jim Cramer says. Jim Cramer explains how LendingTree has overcome the short sellers and can succeed with lower interest rates. Nestle CEO Mark Schneider explains the company\\'s plans to roll out plant-based food in Europe and the United States. Jim Cramer takes calls and delivers answers to viewers\\' favorite stock picks of the day in rapid speed. Under Armour CEO Kevin Plank breaks down how the sports apparel manufacturer is positioning itself for sustainable, long-term growth. Even if the Uber IPO gets botched and the world\\'s largest economies do not come to a trade truce on Friday, the market will remain in decent shape at the end of the week, Cramer said. The index\\'s next move could depend on Microsoft, Amazon, Apple, Alphabet, Facebook and Berkshire Hathaway, chart master Carter Worth says. Jim Cramer warns that there may be more panic – and selling – ahead as fears over U. S. -China trade relations are reignited. Jim Cramer zips through his responses to callers\\' stock picks of the day. \"When you look at the fundamentals, which no one is doing … there\\'s just not much here worth getting excited about,\" Jim Cramer says. \"Even after today\\'s huge losses, I am still concerned about what could happen on Friday,\" Jim Cramer says. Jim Cramer explains how the United States has the upper hand in trade negotiations with our stronger, cash fueled economy. Jim Cramer takes calls and delivers his assessment of viewers stock picks in rapid speed. \"I\\'m not going to tell you that it\\'s cheap, but I\\'d much rather own Twilio than these shiny new objects,\" Cramer said. \"Ford no longer wants to make cars everywhere, no matter what the cost. It doesn\\'t want a one-car-fits-all worldwide strategy,\" Jim Cram says. \"Normally when the market gets hammered, people wait around for a few days before putting their money back to work. Not today,\" Jim Cramer says. Jim Cramer breaks down Buffett\\'s investment in Occidental and why he thinks the company could get a better deal elsewhere. Jim Cramer zips through his takes on callers\\' stock picks of the day. \"If you wait for a particular cycle to turn, you\\'ll be too late — by the time there\\'s clear evidence, you\\'ve already missed the move,\" Cramer said. \"We\\'ve got a runaway freight train of a market and I\\'d love to see the darned thing cool off for more than a session or two,\" the host said. Jim Cramer explains how the retailer has hurt itself by spending fortunes buying back stock. It\\'s that time again! \"Mad Money\" host Jim Cramer rings the lightning round bell, which means he\\'s giving his answers to callers\\' stock questions at rapid speed. \"Sometimes, they reach an accommodation with management and it works. Other times they get involved in proxy fights . . . and the trade falls apart,\" Jim Cramer says. Jim Cramer on Thursday called it a \"lunatic theory\" to think that Fed Chair Jerome Powell should have gone along with President Donald Trump\\'s call to cut interest rates. \"I am pretty sanguine about this market longer-term, but the disciplined thing to do right now is to raise a little cash, prepare for a pullback\" to do more buying, Jim Cramer says. Jim Cramer breaks down how Apple\\'s subscription model is making the stock even more enticing. It\\'s that time again! \"Mad Money\" host Jim Cramer rings the lightning round bell, which means he\\'s giving his answers to callers\\' stock questions at rapid speed. \"At the midpoint of its current price range, Beyond Meat\\'s going to be very expensive — it\\'s already trading at 17-times last year\\'s sales,\" Jim Cramer says. The stock market is in \"fine shape — somewhat overheated, most definitely — but I still think it makes sense to stay the course,\" Jim Cramer says. \"As we go three to five years forward, we have a lot of things in the hopper,\" CEO Lisa Su said. Jim Cramer details the irrational moves that sent the entire FANG cohort tumbling. Jim Cramer gives callers his thoughts about their stock picks of the day in rapid speed. TRI Pointe Homes CEO Doug Bauer says if job and wage growth remains strong, demand will continue to pick up for housing in the long run. \"Not only did Apple deliver a nice top- and bottom-line beat, but China, the major source of weakness last quarter, is turning around,\" Jim Cramer says. \"It seems like this company is constitutionally incapable of admitting that they let anybody down,\" he said. Jim Cramer breaks down what the 2020 election could mean for UnitedHealth Group. Jim Cramer takes calls from viewers and lets them know his thoughts about their stock picks in rapid speed. Roman blamed challenges in China as well as in the automotive and electronics sectors for the manufacturing giant\\'s weak first quarter earnings. In February, he declared that Skyworks Solutions, Intel, Qualcomm, Broadcom, and Xilinx were the top five semiconductor companies that stand to benefit from the building of 5G infrastructure. \"A gentle dip ahead of earnings can be the best vaccination against a sell-off,\" Jim Cramer says. Jim Cramer breaks down the recent strength behind Lockheed Martin\\'s stock. Jim Cramer runs through his thoughts about callers\\' favorite stock picks of the day. \"The auto industry just isn\\'t a bedrock part of this economy anymore, and very few companies saw this coming,\" Jim Cramer says. Jim Cramer predicts that the April non-farm payroll report will be strong. He says it may trigger some to call for a more hawkish Federal Reserve. Jim Cramer says the barrage of IPOs flooding the market are looking frothy, adding that it could be a sign of irrational exuberance. Cramer weighs in on which celebrity stock-pickers he\\'s betting on to win, and offers tips for at-home investors to play along. Jim Cramer says Chipotle CEO Brian Niccol gave a blueprint on how to succeed in retail in the company\\'s earnings call Wednesday. Jim Cramer zips through his responses to callers\\' favorite stock picks in the lightning round. Jim Cramer dishes on how low expectations have set the scene for positive first-quarter earnings. Jim Cramer zips through his response to caller questions about their favorite stock picks. Zuora CEO Tien Tzuo breaks down for Jim Cramer why more companies are picking up on the subscription economy to better serve their customers. \"It\\'s all part of our strategy to fortress the markets that we operate in, which brings a lot of benefits,\" CEO Ritch Allison says. Jim Cramer is warning investors not to miss out on easy gains by waiting until the end of the semiconductor cycle to buy Texas Instruments. Randy Frederick of Charles Schwab says he\\'s surprised by how good corporate earnings in the U. S. have been. He also says the gain may have helped lift the S&P 500 to an all-time record. Jim Cramer explains why investors should stick with PepsiCo for the long term, especially after the company\\'s blowout quarter. Jim Cramer takes calls and gives his thoughts about different stocks in lightning speed. The toymaker saw its franchise brands, emerging brands, and gaming business grow in the second quarter and is focused on digital gaming expansion. \"Days like today remind us that short-sellers can serve as rocket fuel for a bull market,\" Jim Cramer says. Jim Cramer details how the group is doing better than expected and remains cheap even after the latest leg higher. Jim Cramer takes calls from viewers and opines on their stock picks of the day. \"The top of the market always comes when there is tremendous euphoria, and today we saw that euphoria in the two deals that went off hot,\" Jim Cramer says. Jim Cramer breaks down the week ahead in earnings and stock trading. Jim Cramer explains why investors should consider Waste Management for their portfolios after the company\\'s latest acquisition. Jim Cramer explains why more mergers in the energy and oil space could be in the works. \"It\\'s all about peer pressure. That\\'s why [CEO] Reed Hastings is right when he says: \\'the real metric is can we keep members happy,\\'\" Jim Cramer says. Jim Cramer breaks down CSX Transportation\\'s revenue data to discover industries and stocks that are worth making a buy. Jim Cramer says J. B. Hunt\\'s recent remarks on the state of business should prompt the Federal Reserve to consider rate cuts, not hikes. It\\'s that time again! \"Mad Money\" host Jim Cramer rings the lightning round bell, which means he\\'s giving his answers to callers\\' stock questions at rapid speed. \"As much as we hate to chase on \\'Mad Money,\\' the charts, as interpreted by Bob Lang, suggest that all three of these internet stocks have more room to run,\" the \"Mad Money\" host said. Jim Cramer breaks down the latest action on Wall street and explains why certain stocks have risen when analysts said they would fall. Jim Cramer\\'s sending a signal to Trump as his central bank criticism continues. Jim Cramer takes calls and opines on callers\\' stock picks of the day in rapid speed. Jim Cramer says the \"golf renaissance\" is coming and breaks down the best golf plays on the stock market. \"Any company with any kind of consumer product could potentially end up in their crosshairs, and that\\'s a very dangerous place to be,\" the \"Mad Money\" host says. Jim Cramer explains why he\\'s using caution ahead of Pinterest\\'s IPO. Jim Cramer takes calls and gives answers to stock picks in rapid speed. Celgene brings to Bristol-Myers five late-stage products that could be approved in the near term, Caforio said. Jim Cramer takes a look at the week ahead as earnings season heats up. Jim Cramer explains why the troubled retailer can be saved if it makes major management changes. Jim Cramer checks in with Macy\\'s CEO Jeffrey Gennette, who explains how tax reform made a way for employees to share in the company\\'s performance. Jim Cramer explains why the banking sector will set the tone when they kick off earnings season on Friday. Cramer says the millennial generation\\'s desire to make purchases through digital platforms could lead to little wage inflation, as businesses turn to automation over hiring new workers. It\\'s that time again! \"Mad Money\" host Jim Cramer rings the lightning round bell, which means he\\'s giving his answers to callers\\' stock questions at rapid speed. The discount retailer plans to soon expand to 25 states, while its store count currently stands at 318 with four more in the pipeline, Ollie\\'s CEO Mark Butler says. Kohl\\'s plans to expand its kiosk and returns program with Amazon to 200 stores, while active and wellness has become 20% of its business, CEO Michelle Gass says. Jim Cramer breaks down Wednesday\\'s banking hearing on Capitol Hill and explains what he\\'s looking for when the first banks report earnings Friday. Jim Cramer advises investors not to panic after Tuesday\\'s dip, citing a down day could lead to big rallies for companies ahead of earnings season. Jim Cramer zips through his thoughts on callers\\' questions about their stock picks of the day. Jim Cramer takes a look at chart action as explained by DeCarley Trading co-founder Carley Garner to understand the moves in oil and tech stocks. \"I liked the old Zillow, even if it was slowing down a bit, as it was a lot less risky. I\\'m not yet sold on the new Zillow, even with a much better class of CEO,\" Jim Cramer says. Jim Cramer breaks down 10 reasons that people forecast the market could soon reverse course. Jim Cramer breaks down how a truce between the U. S. and China could alleviate the headwinds for 3M. Jim Cramer explains why stockholders of household names should not be too quick to pull the trigger when they hit a rough patch. Jim Cramer says the stock market has had an \"incredible\" run and that investors should consider the action-orientated downgrades of multiple stocks. Jim Cramer explains why Chemical Financial is unlike the rest of the bank stocks. Jim Cramer breaks down Tradeweb\\'s IPO and explains why the stock could be worth buying. Jim Cramer breaks down Burlington Stores\\' most recent earnings and explains why he thinks the stock is ready to rebound. Jim Cramer reviews the latest nonfarm payroll report and takes a look at the trading week ahead. Jim Cramer discusses what the drop in cloud stocks signals for the IPO market. Jim Cramer catches up with Constellation CEO Bill Newlands after the company\\'s latest earnings report and gets insight on the future of cannabis. GrubHub CEO Matt Maloney tells Jim Cramer how the company is differentiating itself in a crowded food ordering industry. Jim Cramer explains why industrial and retail stocks made gains Thursday, even if the moves seems counterintuitive. Kirk Hartman of Wells Fargo Asset Management says there could be another leg up for U. S. markets if earnings are \"pretty good\" and a trade deal is reached between Washington and Beijing. Jim Cramer digs into the packaged food industry and reveals how General Mills and JM Smucker have rebounded after its toxic turn. Jim Cramer breaks down Dave & Busters\\' latest earnings beat and explains how the entertainment chain is bringing patrons to the mall. Jim Cramer says if he had to pick a tobacco stock, he\\'d buy Altria as the company takes aggressive moves to offset the secular decline in smoking. \"The more downbeat stories we see about the market, the more likely it will be that we\\'ll have a decent earnings season,\" Jim Cramer says. David Blitzer, S&P Dow Jones Index Committee, sits down with CNBC\\'s Bob Pisani to discuss his legacy, his career and the differences he sees between the Dow Jones from when he first started to now. Jim Cramer breaks down the performance of the athleisure space. Jim Cramer takes a look at the charts as interpreted by Bob Moreno, an analyst who called the market\\'s December bottom, to see how Tesla could reverse its trend. Jim Cramer says Lyft\\'s \"ice cold\" entrance to the Nasdaq turns out to be \"great news for the rest of the market because a flood of hot IPOs is the last thing the bulls need. \"Jim Cramer says China must follow through on its fentanyl-related promise or risk President Trump suspending talks. Jim Cramer breaks down how investors can make money from the IPO boom without investing directly in them. Jim Cramer explains why the stocks of Exxon, Apple, United Technologies, and other names give insight into what\\'s next for Wall Street. Jim Cramer breaks down why Monster Beverage is a battleground stock that you don\\'t need. \"Tim Sloan did the right thing and took one for the team, which I think is actually something worth celebrating,\" Jim Cramer says. Jim Cramer takes a look at the week ahead in earnings reports, and data on retail sales and unemployment. Jim Cramer discusses what\\'s next for Wells Fargo following Tim Sloan\\'s resignation. Jim Cramer breaks down Apple\\'s Goldman Sachs-backed credit card and explains why it will rise to be the best of its new group of offerings. Jim Cramer explains why individual stock picking is making an exciting comeback. Jim Cramer breaks down why it\\'s illogical to sell the bank\\'s stock but emotionally very hard to own. Jim Cramer zips through his thoughts on callers\\' stock picks of the day. Centene CEO Michael Neidorff defends his company\\'s acquisition of WellCare Health Plans telling Jim Cramer some opportunities \"don\\'t come back around. \"The major indexes finished Wednesday in the red. Jim Cramer says you should expect the selling to continue as big funds build capital to buy IPOs. In nine of 10 times the S&P returned more than 10 percent in Q1 since 1950, it went on to post double-digit gains for the year, Ryan Detrick says. Jim Cramer breaks down the companies he\\'s seeing opportunity in following the release of disappointing February housing data. Jim Cramer says investors shouldn\\'t panic about February\\'s weak housing starts because the market is about to rebound. Jim Cramer says the health care, cloud, and transports sectors are crowded, and the lineup of IPOs could dry up investment funds. How Nike\\'s move after Avenatti\\'s arrest means it could be time to buy. Jim Cramer explains why Chicken Alfredo sales at Olive Garden could help investors gauge the health of the U. S. economy. Jim Cramer says don\\'t sweat Nike\\'s conservative guidance. Jim Cramer explains why the analysts are wrong about Apple\\'s new products and why investors should be buying the stock. Jim Cramer explains why the Apple bears could come out of hibernation after its big announcement on MondayJim Cramer bets Lyft\\'s stock can work in a slow growing economy, but warns investors should be cautious with \"fresh-faced\" IPOs. Jim Cramer explains an inverted yield curve does not mean a recession is coming and reveals what companies he\\'ll be paying attention to next week. The iconic apparel company came public with a bang, and Jim Cramer details why investors should wait for a pullback to get in. Jim Cramer talks with CVS CEO Larry Merlo, who says reducing medical costs with the Aetna merger will unlock billions of dollars in value for the company. Jim Cramer gives his playbook and stock picks for a low-growth economy now that the Federal Reserve won\\'t raise intrest rates this year. Jim Cramer reveals why Nike is an ideal investment that can do well with or without a trade deal. Jim Cramer explains why a federal judge must remove Musk as CEO, install a watch on the board, or charge the Tesla co-founder for violating a court-approved order. Jim Cramer explains why he thinks President Donald Trump plans to leave tariffs in place and why the Federal Reserve helped in his trade standoff with China. Jim Cramer chats with FedEx CEO Fred Smith about the company\\'s reduction in growth expectations as U. S. -China trade and Brexit linger. Jim Cramer reveals how Ulta Beauty is profiting off of its partnership with the billionaire mogul and how it could benefit your portfolio. Jim Cramer talks with Norwegian Cruise Lines CEO Frank Del Rio about the company\\'s plans to add more ships to its line and going after its fastest-growing customer base. Jim Cramer says all of the rising on the market is not justified, but investors have some breathing room. Jim Cramer explains why he will not recommend Ford until the company puts up more than one good quarter. \"There\\'s a lot of capital there that we\\'re gonna be able to put to use to bring down the leverage on the industrial balance sheet,\" General Electric CEO Larry Culp says. Jim Cramer takes a look at some of the biggest headlines of the week that have rocked stocks on the market. Jim Cramer runs through his thoughts on callers\\' questions about their favorite stock picks. Jim Cramer talks with Dell CEO Michael Dell about move the company is making since making its return to public markets in late December. Jim Cramer talks about why traditional names like Kraft Heinz must be willing to get into cannabis or end up like roadkill. Jim Cramer takes a look at the charts to see if the U. S. dollar could weaken and why that could benefit the market. Jim Cramer zips through his thoughts about callers\\' stock picks of the day. Jim Cramer says semiconductor stocks are bouncing back from 2018\\'s slump and they \"punch well above their weight. \"Jim Cramer says Dick\\'s Sporting Goods\\' plans to invest online could ruin the company\\'s gross margins. Jim Cramer explains why eBay\\'s corporate split is a great prospect for the company and investors. Jim Cramer explains why he thinks Costco has an advantage Kroger is vulnerable as Amazon explores a new supermarket concept. Jim Cramer says a sentiment change and optimistic analysts will help the market rise higher. Jim Cramer dishes on why investors can expect strong numbers from Ulta Beauty\\'s earnings next week. Jim Cramer dishes out on why WW has lost its subscriber base since its rebrand and how Planet Fitness\\' stock is still climbing toward to the sky. Jim Cramer takes a look at the week ahead and talks about what earnings reports he will be watching. Jim Cramer zips through callers\\' questions about their stock picks. Jim Cramer breaks down why Funko\\'s stock is a steal at these levels. Jim Cramer talks with Barrick Gold CEO Mark Bristow about his company\\'s bid for Newmont Mining. Jim Cramer describes why investors can get a pulse of the market tracking companies like CVS, FedEx, and Facebook, among others. Jim Cramer reveals what he thinks about Bristol-Myers\\' bid to buy Celgene. Jim Cramer sits down with Dollar Tree CEO Gary Philbin to learn how the company is reducing its Family Dollar footprint and bringing more customers into its stores. Jim Cramer says big institutions are being pushed to sell off stocks in fear that there won\\'t be enough buyers. Jim Cramer says not to discount all of the so-called FANG companies, as he sees buying opportunities in two of the names. Jim Cramer sits down with Jackie Reses, the head of Square Inc. \\'s Square Capital, to discuss how the lending arm is helping businesses that have trouble getting traditional loans. Jim Cramer says Trump could abandon trade negotiations with China, but it could come at a cost he might not want to take on. Jim Cramer breaks down the action behind Yeti\\'s recent moves. Salesforce co-CEO Marc Benioff tells Jim Cramer how three computing trends are driving growth at the cloud software company. Jim Cramer says this could be the first of multiple days of machine-driven stock selling. Jim Cramer reveals that Norwegian Cruise Line is a stand out stock now that oil prices have declined. \"I think we could see a dramatic comeback\" if CEO Art Peck plays his cards right, Jim Cramer says. \"The one thing that might stand in the way of a continued rally . . . is the non-farm payroll report on Friday,\" Jim Cramer says. Jim Cramer explains why investors need to be cautious when it comes to cannabis and Chinese stocks. Jim Cramer talks with Amazon Web Services CEO Andy Jassy about how its cloud service is helping companies to \"innovate much quicker. \"Jim Cramer takes the time to talk about his top \"woulda, shoulda, coulda\" stocks. David Dietze of Point View Wealth Management says he remains bullish on U. S. markets in part because the fear of higher interest rates has been \"tamed. \"Jim Cramer breaks down how General Electric has transformed with Larry Culp at the helm. Jim Cramer says CEO Larry Culp\\'s first letter to shareholders is \"the most un-GE piece of correspondence I\\'ve ever seen. The culture shock here is downright stunning. \"From a patient Federal Reserve to CEO turnaround plans, Jim Cramer talks about the key reasons why he is pressing the snooze button more often. Jim Cramer breaks down why Cisco Systems is a strong way to invest in the rise of 5G. Jim Cramer says \"if we are talking about just any old retailer, I would say it\\'s time to sell. A miss is a miss. But Home Depot is different. \"Jim Cramer says \"we\\'re no longer fighting the Fed . . . So don\\'t be misled by data from the fourth quarter when Jerome Powell was still stock market enemy number one. \"Jim Cramer speeds through his thoughts on viewers\\' favorite stock picks. Jim Cramer breaks down the drivers behind Kraft Heinz\\'s significant stock decline. Jim Cramer explores how stock traders can win on M&A deals, earnings, and the tech sector even if a trade deal does not pan out. Billionaire investor Warren Buffett said Berkshire Hathaway\\'s chief stock pickers, Ted Weschler and Todd Combs, have failed to beat the S&P 500. \"[The economy\\'s] slowing down, but . . . we think it\\'s way above the stall speed,\" top J. P. Morgan strategist Marko Kolanovic says. The \"real deal\" could spark a 10 percent rally in the S&P, Bank of America\\'s Savita Subramanian says. Jim Cramer seconds Nvidia\\'s call for more computing and explains why investors have reason to believe in the stock\\'s bottom. Jim Cramer ticks down the reasons why he believes Nvidia\\'s call that its weakest end markets are turning positive. Jim Cramer flies through his responses to callers\\' stock questions. Jim Cramer takes a look at the week ahead and says good news on a U. S. -China trade deal can give international companies a guidance boost and cause stocks to rally. Jim Cramer sits down with Johnson & Johnson Chairman and CEO Alex Gorsky, who speaks to his company\\'s partnership with Apple, deal to buy Auris Health and more. Jim Cramer explains why the writing was on the wall when it came to CenturyLink\\'s dividend cut. Jim Cramer zips through his responses to callers\\' stock questions, including one on an amusement park play. Jim Cramer recaps recent earnings reports in the retail space to see who wins out among the apparel brands. Jim Cramer hears from the CEOs of Twilio and SendGrid after the companies\\' recent tie-up. Jim Cramer says the action in the stocks of Coca-Cola and Cisco could be signaling fundamental change in the market. Jim Cramer explains why the market may not be able to handle an upcoming surge in IPOs. Jim Cramer highlights a new long-term theme that can help investors boost their capital and support small business. Jim Cramer rattles off his responses to callers\\' stock questions, including one on a top cannabis play. Jim Cramer supports the bull thesis about where the stock of industrial giant Cummins could go next. Jim Cramer warns investors that an upcoming \"deluge of deals\" could hurt their portfolios more than China or the Federal Reserve. Jim Cramer and technician Carley Garner check on Wall Street exuberance with several key charts. Jim Cramer breaks down the real reasons behind the market\\'s latest moves. Jim Cramer and technician Carley Garner check on Wall Street exuberance with several key charts. Jim Cramer zooms through his responses to callers\\' stock questions, including one on whether it\\'s worth holding onto shares of Domino\\'s Pizza going into its earnings report. Jim Cramer and technician Carley Garner check on Wall Street exuberance with several key charts. Jim Cramer speaks to Shopify Chief Operating Officer Harley Finkelstein about the e-commerce company\\'s push into Canadian cannabis. Jim Cramer cites five trends that support staying invested in stocks at these levels. Jim Cramer explains why the worries of a near-term recession are overblown. Jim Cramer flies through his responses to callers\\' stock questions, including one on a popular pot play. Jim Cramer sits down with S&P Global President and CEO Doug Peterson, who stresses the importance of female economic participation. Jim Cramer and Hasbro Chairman and CEO Brian Goldner break down exactly how much Toys R Us\\' liquidation is still impacting the toymaker. Jim Cramer guides investors on how to approach developments in U. S. -China trade talks. Jim Cramer explains why the Amazon CEO\\'s transgression gives him pause. Jim Cramer says the tie-up has more to do with technology than any traditional success metric for big banks. Jim Cramer sprints through his thoughts on callers\\' stock picks of the day. Jim Cramer says Wall Street misread Spotify\\'s guidance even though the music streaming platform has recently made some great acquisitions. Jim Cramer eyes the week ahead and says developments in U. S. -China trade talks will drive most of the stock market\\'s moves. Jim Cramer explains why Cisco could be a winner if the market heads lower. Jim Cramer flies through his takes on callers\\' questions about their stock picks. Jim Cramer goes over Chipotle\\'s blowout earnings report and pinpoints the two things he thinks were major tailwinds this quarter. Jim Cramer and IAC CEO Joey Levin get to the heart of why Wall Street tends to undervalue the diversified holding company. Jim Cramer says his charitable trust sold some stocks Thursday in part on news that the U. S. and China will likely not strike a trade deal by March 1. Jim Cramer details Nokia\\'s recent turnaround and explains how it could get even more attractive. Jim Cramer tears through his responses to callers\\' stock questions, including one on a winter apparel play that\\'s been a rough trader. Jim Cramer says short squeezes on stocks like Skyworks, Snap, and new York Times helped give Wall Street an unexpected boost Wednesday. Jim Cramer says Skyworks Solutions, Intel, Qualcomm, Broadcom and Xilinx stand to gain from the ongoing rollout of the fifth generation of wireless communications. Jim Cramer says Nokia and Ericsson could come out on top now that U. S. authorities are cracking down on their Chinese competitors. Jim Cramer calls on technician Rob Moreno to predict what could be next for stocks in 2019. Jim Cramer calls on technician Rob Moreno to predict what could be next for stocks in 2019. Jim Cramer explains why companies can have a difficult time managing a profitable business with conflicting investor goals. Jim Cramer runs through his reaction to callers\\' questions about their stock picks. Jim Cramer calls on technician Rob Moreno to predict what could be next for stocks in 2019. Jim Cramer breaks down the market\\'s obsession with how large technology companies like Alphabet and Apple use their cash. Jim Cramer says investors can weather the storm of uncertainty this year with \"prestige\" stocks like Ralph Lauren, Estee Lauder, and Apple. Jim Cramer says a Dexcom-Apple merger could be an \"unbelievable\" move for the iPhone maker. Jim Cramer unpacks the \"bizarre\" inverse action in the stocks of the chipmakers and their suppliers. Jim Cramer shares his rapid-fire responses to callers\\' stock questions, including one on a popular aerospace play. Jim Cramer applies a football concept to the world of business to help investors pick better stocks. Jim Cramer tells investors to focus on the long term when it comes to stock market stalwarts like Apple, Facebook and Microsoft. Jim Cramer breaks down how the Fed was the driving force behind the December slump. Jim Cramer zooms through his responses to callers\\' stock questions, including one of the top names in banking. Jim Cramer argues that, together, eBay and activist fund Elliott Management can create a lot of value at the e-commerce company. Jim Cramer says the Federal Reserve played a leading role in the stock market\\'s late-2018 collapse and subsequent recovery. Jim Cramer shares his game plan for the week ahead and tells investors that 2019 might turn out to be \"surprisingly rewarding. \"Jim Cramer explains how cloud royalty are taking the crown in the tech sector. Jim Cramer flies through his responses to callers\\' stock questions, including one on the stock of online e-commerce platform Groupon. Jim Cramer checks in with Sen. Elizabeth Warren, who calls on billionaires like Howard Schultz and Michael Bloomberg to pay \"their fair share\" in taxes. Jim Cramer and PayPal\\'s Chief Financial Officer, John Rainey, speak after earnings about PayPal\\'s points of strength and weakness. Jim Cramer says low expectations helped Facebook, General Electric and Apple\\'s stocks come out on top after earnings. Jim Cramer explains why the Federal Reserve\\'s new approach is about much more than just stock prices. Jim Cramer rattles off his responses to callers\\' stock questions, including one on a beleaguered automaker. Jim Cramer shares explains U. S. companies\\' currency problem and how it\\'s affecting giants like Apple. UBS\\' Art Cashin says \"there\\'s no question\" that there was a \"Powell put\" from the Fed chairman. Jim Cramer gets the latest on Domino\\'s Pizza\\'s technological ventures with President and CEO Ritch Allison. Jim Cramer says people who think Federal Reserve Chairman Jerome Powell is choosing not to raise interest rates for the benefit of the stock market are mistaken. Jim Cramer breaks down the action in the chipmaker\\'s shares and explains how to spot a better buying opportunity. Jim Cramer speaks with Nucor Chairman and CEO John Ferriola to gauge how the United States\\' tariffs on steel imports affected the business in 2018. Jim Cramer tears through his responses to callers\\' stock questions in the lightning round. Jim Cramer and technician Carolyn Boroden analyze the charts of a top semiconductor ETF to see where the group could go from here. Jim Cramer says five companies were able to buck Wall Street negativity by delivering earnings reports that weren\\'t as bad as many feared. Jim Cramer says Apple\\'s haters are at a loss for ammo against the iPhone maker after its first-quarter earnings report. Jim Cramer explains how Alibaba is an investor\\'s best bet when it comes to investing in Chinese stocks during the trade war. Jim Cramer shares his outlook for the year ahead in the budding cannabis industry. Jim Cramer says the CVS-Aetna deal created much more value than investors are giving it credit for in his rapid-fire lightning round. Jim Cramer and energy expert Rusty Braziel discuss trends in the energy industry and what oil\\'s price collapse in October meant for the market. Jim Cramer says recent earnings results from railroad operators Norfolk Southern and Union Pacific offer key insights into the state of U. S. commerce. Jim Cramer examines how World Wrestling Entertainment\\'s subscription service platform could be a pioneer in sports streaming. Jim Cramer races through his responses to callers\\' stock questions, including one about a popular cannabis play. Jim Cramer reveals his top stock picks for investors looking to seize on the long-term trends of cord-cutting and over-the-top streaming. Jim Cramer goes over his plan for the week ahead, which will see a flurry of earnings reports from major companies including Apple. Jim Cramer gets Wells Fargo CEO Tim Sloan\\'s take on Massachusetts Sen. Elizabeth Warren\\'s repeated calls for him to be fired for his implication in a 2016 scandal. Jim Cramer sits down with Wells Fargo CEO Tim Sloan, who speaks to how his bank is aiding its customers that have been affected by the ongoing government shutdown. Several U. S. S&P 500 companies have significant revenue in the U. K. , raising concerns among investors. Goldman Sachs has outlined 20 of the most vulnerable to the Brexit outcome. Jim Cramer explains why Merck could be the perfect stock for an uncertain market. Jim Cramer flags seven long-term trends that are working despite political turmoil, slowing growth around the world and a fairly hawkish Federal Reserve. Jim Cramer flies through his responses to callers\\' stock questions, including one on a refinery play that could put investors in the \"house of pain. \"Jim Cramer and Okta co-founder and CEO Todd McKinnon discuss Okta\\'s growth over the years on the heels of its 10th anniversary as a company. Jim Cramer says investors still have time to take advantage of the rotation out of \"safe\" stocks and into faster-growing plays. Jim Cramer breaks down his case for why it\\'s too soon to own Emerson Electric. \"The revenues are knock-the-lights-out good, [but] the margins are horrifically bad, based on Wall Street consensus expectations,\" Credit Suisse\\'s Jonathan Golub says. Jim Cramer steers investors away from the automotive sector in a response to a caller\\'s stock question in the lightning round. Jim Cramer addresses the internet\\'s backlash to his suggestion that Apple buy electronic health records company Epic Systems. Jim Cramer says federal authorities should investigate rapid sell-offs like the one that occurred on Christmas Eve because they erode trust in the stock market. Jim Cramer laments the power that oil prices currently wield over individual stocks. The \"tech bubble 2. 0 popped\" last year and it\\'s looking just like the tech bubble of the early 2000s, Morgan Creek Capital\\'s Mark Yusko says. Jim Cramer explains that while Dell Technologies is far from perfect, its cheap price makes it a good buy after its return to public trading. Jim Cramer tears through his responses to callers\\' stock questions, including one on a former Wall Street darling. Jim Cramer and technician Dan Fitzpatrick examine the charts of some Chinese stocks that could soon be ripe for the picking. Jim Cramer argues that China\\'s economic weakness raises the odds for a U. S. -China trade resolution. Jim Cramer says investors need to practice discipline when deciding how much stock to sell during the stock market\\'s recent declines. Jim Cramer looks ahead at a busy week of earnings reports that he says might drive investors crazy. Jim Cramer explains how the market\\'s overreaction in late 2018 has investors feeling a sense of certainty in the new year. Jim Cramer shares his responses to callers\\' stock questions, including that of an automaker that recently lost its leader. Jim Cramer advises hedging against government shutdown weakness by trimming your consumer-tied stock positions and investing in long-term winners. Jim Cramer gets Kirkland Lake Gold President and CEO Tony Makuch\\'s take on recent, high-profile deals in the gold market. Jim Cramer says U. S. investors seem to be willing to accept a bad trade deal with China if it means getting back to \"business as usual. \"Wall Street strategist Paulsen advises investors to \"remain fairly bullish in the face of a stream of bad news\" in 2019. Jim Cramer breaks down the potential behind struggling shipping giant UPS. Jim Cramer explains why there\\'s been more merger and acquisition activity in recent months and says it\\'s \"just getting started. \"Jim Cramer races through his responses to callers\\' stock questions, including one on social media platform Twitter. Jim Cramer says Lululemon, Yeti Holdings and Crocs offer insight into a different, higher-performing part of the broader retail sector. Jim Cramer says several top-tier bank stocks are still undervalued and encourages investors to buy in ahead of their inevitable rallies. Blackstone\\'s new chief investment strategist says he doesn\\'t see \"any real lasting effects\" of the government shutdown on the economy. Jim Cramer explains that the retail sector has both winners and losers, and it pays to know the difference. Jim Cramer rattles off his responses to callers\\' stock questions, including one tied to a sector he\\'s trying to avoid. Jim Cramer says the move would boost Apple\\'s stock price and give the company a surefire way to solidify its place in the health-care arena. Jim Cramer and technician Mark Sebastian review recent volatility in the stock market and explain how the layout has changed. Jim Cramer explains what Netflix\\'s subscription price increase means for other service providers. Jim Cramer explains how PVH was able to change the outlook for other retail plays — and itself. Jim Cramer says technology executives are telling him off camera that they support the Trump administration\\'s hawkish approach to trade with China. Jim Cramer zips through his responses to callers\\' stock questions, including one on a high-profile coffee play. Jim Cramer says activist hedge fund Starboard Value\\'s involvement in Dollar Tree is bringing some trading opportunities to light. Jim Cramer unpacks what Citigroup\\'s post-earnings stock action says about the broader market. Jim Cramer explains how data stocks are igniting a market rebound after being wrongly written off by investors. Jim Cramer zooms through his responses to callers\\' stock questions, including one on the prospects for Lockheed Martin. Jim Cramer shares his favorite ways to add gold to a portfolio and encourages investing in the precious metal if you\\'re nervous about 2019. Jim Cramer flags some pain points in the U. S. -China trade war and tells investors how to gauge progress in the ongoing dispute. Jim Cramer looks ahead to key events in the week ahead as earnings season begins with quarterly reports from the biggest U. S. banks. \"The probability of a double-digit year we think is the highest since 2009,\" Fundstrat Global Advisors\\' Tom Lee says. Jim Cramer lays out why retailers have to adapt to a more informed consumer or suffer the consequences. Jim Cramer flies through his responses to callers\\' stock questions, including one on a Fed-sensitive name. Jim Cramer revisits the race between Apple, Amazon, Alphabet and Microsoft to reach a $1 trillion market cap. Jim Cramer sits down with Intel\\'s interim CEO and permanent CFO Bob Swan to get his take on the technology giant\\'s future. Jim Cramer explains why the weakness in retail and airline stocks on Thursday didn\\'t drag the broader market lower. Jim Cramer breaks down how U. S. -China trade tensions and the Fed hold the key to the economy\\'s future. Jim Cramer tears through his responses to callers\\' favorite stocks, including one on a company bent on shrinking its share count. Jim Cramer says only a pickup in iPhone sales or growth in Apple\\'s services business can set the stock back on its course. Jim Cramer hears from Constellation Brands\\' outgoing and incoming CEOs after the alcohol distributor disappointed Wall Street with its 2019 forecast. Jim Cramer says stocks like Micron, Nvidia and Lam Research have bottomed, and that waiting for \"ironclad proof\" that business is getting better isn\\'t the best strategy. Apple CEO Tim Cook and CNBC\\'s Jim Cramer discuss business in China, pessimism on Wall Street, disputes with Qualcomm and what\\'s next for the consumer tech giant. Jim Cramer explains why renewed strength in the retail and housing stocks could make the Fed rethink the rate hike pause. Jim Cramer shares his responses to callers\\' stock questions at lightning speed, including one on a popular marijuana play. Apple CEO Tim Cook says his company will \"announce new services\" in 2019 in an interview with Jim Cramer. Qualcomm and CEO Steve Mollenkopf have repeatedly said the company expects to settle the dispute with Apple outside of court. Apple CEO Tim Cook talked to CNBC\\'s Jim Cramer about iPhone sales, the Chinese economy and the future of Apple. Apple CEO Tim Cook says that the revenue from his company\\'s wearable products, namely the Apple Watch and the AirPods, has already topped that of the iPod at its peak. Jim Cramer says the majority of FAANG, his acronym for the stocks of Facebook, Amazon, Apple, Netflix and Alphabet, is still ripe for the picking. Apple CEO Tim Cook was notably reassuring when asked about the prospects of U. S. -China trade talks in a Tuesday interview with CNBC\\'s Jim Cramer. Apple CEO Tim Cook addresses the negative sentiment around his company in an interview with CNBC\\'s Jim Cramer. Jim Cramer explains why it might be worth picking up shares of Micron now despite a possible negative quarter on the horizon. Jim Cramer answers callers\\' stock questions at rapid speed, including a query about the stock of an online postage seller. Jim Cramer sits down with Amgen Chairman and CEO Bob Bradway to hear about the company\\'s recent price cut for one of its key drugs. Jim Cramer and Novartis CEO Vas Narasimhan discuss how the drugmaker is refocusing its business to leverage new-age treatments and potential cures. Jim Cramer says leading drugmakers are innovating more than ever before and many of their stocks are worth owning. Jim Cramer shares his thoughts on how the Fed should act going forward. Jim Cramer rattles off his responses to callers\\' stock questions, including one on a technology company with ties to China. Jim Cramer reviews the biggest winners and losers in the Dow Jones Industrial Average since October and finds a number of buying opportunities. Jim Cramer sees more upside in the stock market as he looks back on its performance under President Donald Trump\\'s administration. Jim Cramer flags the earnings reports and events to watch next week after strong jobs data and a key Fed announcement sent stocks higher. Jim Cramer offers insight on what long-awaited drug company consolidation could mean for the space. Jim Cramer flies through his responses to callers\\' stock questions, including one on a telecommunications stock with a high dividend yield. Jim Cramer and AMN Healthcare Services President and CEO Susan Salka discuss how the workforce solutions provider is faring at a time of record job openings in health care. Jim Cramer reviews the best and worst performing stocks for the fourth quarter of 2018 and highlights the ones with the brightest prospects. Jim Cramer blames the Federal Reserve for making it hard to profit from stock-picking and offers investors some safety in a bruised market. \"I do think we\\'re going into a recession, I think that next year is going to be a very rough year for markets and I can see another 10 to 15 to 20 percent, and a sell-off,\" said Todd Horwitz, chief strategist at investment advisor Bubba Trading. Jim Cramer explains why you should ignore the market\\'s negativity ahead of the new year. Jim Cramer discusses the prospect of U. S. marijuana legalization with Acreage Holdings founder and CEO Kevin Murphy. Jim Cramer races through his responses to callers\\' stock questions, including one on a group he\\'s telling investors to buy right now. Jim Cramer says now may not be the time to buy shares of General Electric despite a recent upgrade from a key analyst. Jim Cramer shares his frustration about the Federal Reserve\\'s policy decisions, but says that selling stocks now may prove to be a mistake. Jim Cramer breaks down how some of Wall Street\\'s biggest companies that are facing lawsuits could create buying opportunities in the long run. Jim Cramer rattles off his responses to callers\\' stock questions, including one on a high-profile pharmaceutical stock. Jim Cramer and Eli Lilly CEO Dave Ricks speak about competition in the migraine treatment space and how Eli Lilly plans to win out. Jim Cramer reviews the Federal Reserve\\'s decision to hike interest rates by a quarter-point and spells out what could lie in store for stocks. Jim Cramer speaks to Micron Technology CEO Sanjay Mehrotra about the chipmaker\\'s outlook on the year ahead after a weaker than anticipated earnings report. Jim Cramer explains why the Fed is more to blame than the president for any slowdown looming on the horizon. Jim Cramer zooms through his responses to callers\\' stock questions, including one on whether investors should hold onto shares of a declining industrial name. Jim Cramer sits down with Walmart E-Commerce USA President and CEO Marc Lore for more on the future of food delivery and Walmart\\'s approach to online retail. Jim Cramer speaks with Boeing Chief Financial Officer Greg Smith about the company\\'s recently approved share buyback program. Jim Cramer goes over the possible outcomes of Wednesday\\'s announcement from the Federal Reserve and the best scenario for the stock market. Jim Cramer reveals why Johnson & Johnson could hold the key to this market\\'s ability to turn around. Jim Cramer tells investors to find stocks of high-quality companies with large dividend yields to shield themselves from the stock market\\'s swings. Jim Cramer says four things need to happen for the stock market to find a true bottom as sellers drive the major averages lower. Jim Cramer sits down with Johnson & Johnson Chairman and CEO Alex Gorsky to address reports of his company knowing that its talc-based baby powder contained traces of asbestos. CNBC\\'s \"Closing Bell\" team discusses the S&P 500\\'s lows and what to look for with Steve Grasso. Jim Cramer explains why he thinks Adobe and Costco are ripe for a rebound. Jim Cramer zooms through his responses to callers\\' stock questions about various sectors in \"bear market mode. \"Jim Cramer sits down with\\xa0Starbucks President and CEO Kevin Johnson and Uber CEO Dara Khosrowshahi to discuss the importance of company culture and their new partnership. Jim Cramer argues that the stock market\\'s bearish downturns shouldn\\'t stop investors from doing some cautious buying of high-quality stocks. Jim Cramer laments the state of the stock market as he looks ahead to a pivotal week during which the Federal Reserve is expected to raise interest rates. \"I think, to me, anything that happens between now and year-end is a lot more about positioning than macro development,\"\\xa0Fundstrat\\'s Tom Lee says. The market is ending a wild 2018 with an even wilder December. The options market is warning that these wild swings could stick around. A combination of declining price-to-earnings ratios on the S&P 500, a rate hike pull back and progress in U. S. -China trade talks is a recipe for success,\\xa0UBS\\' Keith Parker says. Jim Cramer tells investors not to wait around for a bounce in the oil and bank stocks when there are more profitable near-term plays. Jim Cramer shares his outlook on the stock of big-box retailer Walmart in a lightning-fast question-and-answer session with callers. Jim Cramer breaks down Tencent Music\\'s initial public offering and and says context is the biggest deterrent to buying shares. Jim Cramer speaks with\\xa0Adobe Chairman and CEO Shantanu Narayen about his company\\'s recent acquisitions after earnings. Jim Cramer says the economy is showing signs of weakness that should make the Federal Reserve think twice about raising interest rates. Jim Cramer dials into digital media\\'s role in attracting customers and the future of Facebook. Jim Cramer gets cautiously bullish on the stock of Facebook as retailers continue to advertise on its Instagram platform and the company boosts its buyback. Jim Cramer steers investors away from the banking sector in a rapid-fire question-and-answer session. Jim Cramer sits down with\\xa0FireEye CEO Kevin Mandia to discuss how the global rules of engagement in cyberspace have eroded in recent years. Jim Cramer expects a couple of stock groups to benefit from improved trade talks on Thursday, beginning with the technology space. Jim Cramer uses the tech sector to make a case for picking individual stocks over risky exchange-traded funds. Jim Cramer zooms through his responses to callers\\' stock questions, including one on a growth stock that seems to be struggling. Jim Cramer gets a historical take on the major averages from technician Rob Moreno, who says the stock market\\'s recent volatility may not be as bad as it seems. Jim Cramer continues to back Canopy Growth Corp. as the best way to invest in the growing Canadian cannabis space after tobacco giant Altria invests in its rival, Cronos Group. Jim Cramer recommends steering clear of stocks and exchange-traded funds with China exposure as the stock market endures drastic swings. Jim Cramer reveals a play that could be worth considering despite the recent volatility. \\xa0Jim Cramer rattles off his responses to callers\\' stock questions, including one on tech giant Cisco Systems. Jim Cramer says there\\'s more to Wall Street newcomer Moderna than the action in the biotechnology company\\'s stock. Jim Cramer gets the latest on Splunk with President and CEO Doug Merritt, who details his platform\\'s latest upgrades. Jim Cramer argues that the market\\'s lack of conviction is perfectly captured by the movements in shares of Apple. Jim Cramer explains that the U. S. -China trade war is actually about the global hegemony and who really rules the world. Jim Cramer flies through his responses to callers\\' stock questions, including one about the prospects for a drugmaker\\'s stock. Jim Cramer recommends scaling into the stocks of cloud companies with strong fundamentals when the stock market drops. Jim Cramer says panic will reign on Wall Street if the Federal Reserve chooses not to raise interest rates in December. Jim Cramer goes over his game plan for the week ahead and tells investors to expect more volatility. \"If you buy today, will you be happy\" by the end of 2019, Wells Fargo equity strategist Chris Harvey says. Jim Cramer rips through his responses to callers\\' stock questions, including one on a high-profile bank name that had a volatile day. Jim Cramer and U. S. Concrete chief Bill Sandbrook break down the concrete producer\\'s outlook on U. S. infrastructure and address the recent weakness in its stock. Jim Cramer breaks down how Tesla could benefit from a Chinese tariff rollback. Jim Cramer warns that the arrest of a top Huawei executive automatically makes U. S. technology companies with business in China less valuable. Jim Cramer and Yum Brands CEO Greg Creed talk about how the world\\'s biggest restaurant operator is chasing growth in an era of health-focused, digitally savvy consumers. Jim Cramer flags four trends complicating the Federal Reserve\\'s tasks of keeping inflation at bay while keeping Americans employed. Jim Cramer explains why Federal Reserve officials are doing more harm than good. Jim Cramer tears through his responses to callers\\' questions, including one about the action in a book retailer\\'s stock. Jim Cramer blames trading algorithms for the stock market\\'s nosedive on Tuesday. Jim Cramer sits down with\\xa0Marathon Petroleum Corp. Chairman and CEO Gary Heminger to discuss the United States\\' place in global energy markets. Jim Cramer attributes part of Tuesday\\'s marketwide collapse to political uncertainty brought about by the Trump administration. Jim Cramer highlights high-quality slowdown stocks that he says investors should consider buying gradually into weakness. Jim Cramer and technician Tim Collins survey the stock charts of industrial giant Caterpillar, which has become something of a proxy for progress in the U. S. -China trade war. Jim Cramer races through his answers to callers\\' stock questions, including one on a software play ahead of the company\\'s earnings report. Jim Cramer and Groupon CEO Rich Williams discuss the e-commerce platform\\'s trajectory and its recent partnership with movie theater giant AMC Networks. Jim Cramer gives investors his playbook for how to make money on the U. S. -China trade truce. Jim Cramer explains how Toll Brothers\\' earnings could highlight the slowing housing market and confirm that the U. S. economy is weakening. Jim Cramer zips through his answers to callers\\' stock questions, including one about streaming video giant Netflix. Jim Cramer says it\\'s \"ill-advised\" to buy shares of social media play Snap Inc. as the company\\'s revenue growth decelerates and daily active user numbers drop. Jim Cramer breaks down all the possible outcomes of U. S. -China trade talks at the G-20 summit and gives investors the best way to play the developments. Jim Cramer flags key stocks and events in the week ahead, which will see the aftereffects of a critical meeting between the presidents of the United States and China. Jim Cramer explains that without a U. S. -China trade deal, the U. S. economy could hit the brakes next year. Jim Cramer flies through his responses to callers\\' stock questions, including one on a massive industrial preparing for a corporate split. Jim Cramer and PVH chief Manny Chirico discuss how the Calvin Klein parent will be affected by higher tariffs and the state of retail worldwide. Jim Cramer says the stocks of Dollar Tree, CVS, McDonald\\'s and Constellation Brands are all buys if the United States and China can\\'t agree on trade. Jim Cramer details why anti-competitive mergers tend to be bad for customers but winners in your portfolio. Jim Cramer says non-bank lending companies like Quicken Loans, PennyMac and LoanDepot could cause a financial crisis if the Federal Reserve doesn\\'t regulate them. Jim Cramer zooms through his answers to callers\\' stock questions, including a pharmaceutical play investors have been jumping at the bit to buy. Jim Cramer and Qualcomm CEO Steve Mollenkopf discuss the future of 5G cellular service and its effect on the cellular industry as a whole. Jim Cramer gets more on the Qualcomm-Apple dispute with Qualcomm CEO Steve Mollenkopf. Jim Cramer highlights trade as a lingering obstacle for Wall Street\\'s bulls after the Federal Reserve seemed to walk back its hawkish interest rate hike plans. Jim Cramer explains why wishy-washy opinions are not useful for average investors. Jim Cramer fires off his answers to callers\\' stock questions, including a query on a regional banking play. Jim Cramer and volatility expert Mark Sebastian parse the charts of the market\\'s fear gauge and spot some surprisingly bullish signs. Jim Cramer and Salesforce. com chief Marc Benioff discuss whether companies like Facebook can redeem themselves after breaching consumers\\' trust. Jim Cramer says that the stock market won\\'t be able to break out of its bear mode until Apple\\'s stock gets some positive catalysts. Jim Cramer hears from Salesforce. com CEO Marc Benioff after the software giant\\'s third-quarter earnings report. Jim Cramer explains why Wall Street may be misinterpreting the market\\'s Fed-induced slowdown. Jim Cramer rattles off his answers to callers\\' stock questions, including one about the long-term welfare of a certain oil play. Jim Cramer bargain-hunts in the retail sector and finds good deals on shares of Macy\\'s, Kohl\\'s, Target and Amazon. Jim Cramer tells investors to be careful with the stock of United Technologies as the industrial finalizes its purchase of aircraft parts manufacturer Rockwell Collins. Jim Cramer says trading history shows that stocks could continue Monday\\'s rally, especially if things go right with trade, oil prices, the Fed and Europe. Jim Cramer explains why bad news is all that matters lately when it comes to the tech sector. Jim Cramer fires off his take on callers\\' favorite stocks at lightning speed, including a pressured retail play. Jim Cramer sits down with\\xa0Dag Kittlaus, the creator of Apple\\'s voice-enabled assistant Siri and Samsung\\'s counterpart, Bixby. Jim Cramer and technician Carley Garner explain how action in the oil market is weighing on the broader stock market. Jim Cramer lists the various pressures that could stop the Federal Reserve from raising interest rates three more times in 2019. Jim Cramer explains why Apple could hold the key to this market stabilizing. Jim Cramer warns that the Trump administration\\'s mixed messaging on trade with China could result in increased tensions between the United States and the People\\'s Republic. Jim Cramer says Schlumberger and BP are facing a brighter 2019 outlook after sustaining declines in oil prices this year. Jim Cramer says he\\'s waiting to see \"real improvement\" in Molson Coors\\' core business before recommending the stock as a steady investment. Jim Cramer pinpoints the drivers of the sell-off and explains what it\\'ll take for the stock market to recover. Jim Cramer breaks down how Take-Two Interactive is still a buy despite the market\\'s disregard for the sector. Jim Cramer tells investors to steer clear of Nvidia\\'s stock as it hovers near its 52-week lows. Jim Cramer advises callers\\' on their favorite stocks at lightning speed, including a retail play under pressure. Jim Cramer sits down with Coca-Cola President and CEO James Quincey for a wide-ranging interview about his company\\'s global strategy. Jim Cramer guides investors through his plan for the week ahead, which will include key housing data and may bring news on interest rates and a potential trade deal. Jim Cramer reveals that Constellation Brands and Canopy Growth are the best plays for investors in the marijuana market. \\xa0Jim Cramer rattles off his take on callers\\' favorite stocks, including a biotechnology play ripe for the picking. Jim Cramer applauds analysts Stephen Tusa and John Inch for their negative calls on General Electric and labels them the authorities on the crumbling industrial. Jim Cramer outlines what he\\'s hearing from chief executives about the state of the U. S. economy. Jim Cramer says the chairman of the Federal Reserve is at a critical juncture that will determine the trajectory of the U. S. economy in 2019. Jim Cramer reflects on Federal Reserve Chair Jerome Powell\\'s comments about the U. S. economy. Jim Cramer hears from\\xa0Cisco Systems Chairman and CEO Chuck Robbins about how his networking hardware giant is faring in a time of trade war. Jim Cramer goes against the grain and recommends the stock of investment giant Blackstone. Jim Cramer checks in with SVMK Inc. CEO Zander Lurie, who shares his take on SAP\\'s recent acquisition of Qualtrics and what it means for the industry. Jim Cramer uses a story about a real-life bear encounter to illustrate how investors should approach the stock market\\'s bearish moves. Jim Cramer makes a case for why the fog over cloud stocks doesn\\'t impact Twilio\\'s long-term story. The traditional end-of-the-year stock market rally could come a little later this year, says the veteran trader. Jim Cramer reveals how Bausch Health has put together an amazing comeback. Jim Cramer flags an opportunity in shares of data-focused technology play Dropbox in the lightning round. Jim Cramer and technician Larry Williams outline some potentially lucrative trades in the retail sector. Jim Cramer says that between signals of slowing inflation and the U. S. -China trade dispute, stocks could benefit from a more \"rational\" Federal Reserve. Jim Cramer reviews the negative coverage of Apple, Facebook, Amazon, Netflix and Alphabet\\'s stocks and offers his counterarguments. Jim Cramer explains why it\\'s only a matter of time before investors come around on Alphabet. Jim Cramer hosts a special Veterans Day edition of the lightning round, taking current and former U. S. Armed Forces members\\' stock questions. Jim Cramer uses the stock of General Electric and others to teach investors how to spot a faulty dividend. Jim Cramer speaks with Starbucks CEO Kevin Johnson, who says that his coffee giant\\'s business in China has been built \"in China, for China. \"Jim Cramer unpacks Monday\\'s sell-off and says a combination of seven factors will help the stock market find a bottom. Jim Cramer explains how a strong consumer snapshot could force an ugly reaction from the Fed. \\xa0Jim Cramer tells investors not to buy shares of Square as two pessimistic sides of Wall Street come to bear on the stock. Jim Cramer speaks with Funko CEO Brian Mariotti, who says his toymaker\\'s popular big-headed dolls and other products serve as \"an index fund of pop culture. \"Jim Cramer applauds clog company Crocs for its comeback, but warns investors that the stock is only for speculation. Jim Cramer tells investors to tune out the panic around a bear market in oil and readies them for the week ahead. Jim Cramer explains how FANG\\'s movements can be attributed to being in an ETF. Jim Cramer speeds through his take on callers\\' favorite stocks, including a sports apparel play that\\'s running hot. Jim Cramer sits down with Take-Two Interactive Software\\xa0Chairman and CEO Strauss Zelnick to discuss the release of his video game company\\'s newest blockbuster. Jim Cramer sits down with\\xa0DowDuPont CEO Ed Breen to talk about the industrial giant\\'s upcoming split. Jim Cramer says October\\'s sell-offs set key stocks up for a stronger November. Jim Cramer reveals why the White House remains the best source for stock opportunities. Jim Cramer flies through his take on callers\\' favorite stocks, including a Silicon Valley giant that his charitable trust is eyeing. Jim Cramer spies an opportunity in the stocks of cloud companies, many of which endured dramatic sell-offs in the month of October. Jim Cramer sits down with\\xa0Etsy President and CEO Josh Silverman after earnings to hear how his online handmade goods retailer is faring. Jim Cramer recommends stocks like Amazon and Apple in the wake of the 2018 midterm elections, in which Democrats regained control in the House of Representatives. Jim Cramer consults the charts to see where the tech company is headed after recent declines. Jim Cramer says a biotechnology stock could launch a recovery if the midterm elections bring a blue wave to Congress. Jim Cramer and technician Carolyn Boroden use the charts to predict upcoming moves in the stock of Apple. Jim Cramer speaks to\\xa0John Ferriola, the chairman and CEO of steel producer Nucor, about his company\\'s recent performance and the nationwide demand for steel. Jim Cramer anticipates how the outcome of the 2018 midterm elections might affect investors, consumers and the stock market. Jim Cramer explains why the sky\\'s the limit for Symantec now that activist Starboard Value is involved. Jim Cramer recommends the wrestling entertainment giant WWE for its subscription-based television network. \"This is one of those situations where all publicity is good publicity,\" says CNBC\\'s Jim Cramer on President Trump\\'s frequent criticisms of The New York Times. Jim Cramer believes that the major oil companies\\' rosy outlook doesn\\'t reflect the economic reality, where even renewed U. S. sanctions on Iran can\\'t boost the price of oil. Jim Cramer suggests investors take note of recent insider buying at IBM and GE, along with corporate buybacks at Apple and Berkshire Hathaway. President Reagan\\'s OMB director warns a recession is closing in on Wall Street. Jim Cramer explains why he thinks McDonald\\'s has even more upside after its latest earnings report. Jim Cramer and Foursquare CEO Jeff Glueck discuss the under-the-radar location technology company\\'s latest deals and competitive advantages. Jim Cramer says it\\'s time to buy Microsoft on its \"great\" earnings report after tech-sector weakness pulled its shares lower. Jim Cramer and Just Capital co-founder Paul Tudor Jones explore how the private sector can bring social change. Jim Cramer says Apple\\'s announcement about a change in its earnings reports has created an opportunity in the stock. Jim Cramer tells investors not to be too positive or too negative in a week with major earnings reports, a potential trade deal with China and the midterm elections. Jim Cramer and billionaire hedge fund manager Paul Tudor Jones discuss the possibility of stocks entering a bear market. Jim Cramer warns investors not to panic in the wake of Apple\\'s earnings. \\xa0Jim Cramer zooms through his take on callers\\' favorite stocks, including a consumer goods play that\\'s down on its luck. Jim Cramer hears from\\xa0GW Pharmaceuticals CEO Justin Gover about his company\\'s cannabis-based epilepsy treatment that just launched in the United States. Jim Cramer tells investors it\\'s not worth trading the stock of Apple after the iPhone maker reported earnings that seemed to disappoint Wall Street. Jim Cramer issues a warning to investors about the pharmaceutical sector, which includes high-profile stocks like Allergan and Gilead. Jim Cramer explains why two key pieces of news on Thursday enabled the stock market to continue its recovery rally. Jim Cramer details how big advertisers are key to the social media company\\'s revival. Jim Cramer breaks down how a disappointing quarterly report from Masco led to a roughly 7 percent surge in its stock. Jim Cramer shares his take on callers\\' favorite stocks at lightning speed, including that of a popular wholesale retailer. Jim Cramer sits down with\\xa0Wingstop Chairman and CEO Charlie Morrison, who speaks to his company\\'s technological initiatives. Jim Cramer\\xa0maintains that even when Facebook, Amazon, Netflix and Alphabet \"screw up,\" they\\'re still great companies. Jim Cramer breaks down the action in Facebook\\'s stock after its earnings report. Jim Cramer zips through his take on callers\\' favorite stocks, including an oil giant that produced what he thought was one of the best earnings reports this season. Jim Cramer turns to technician Bob Lang to help explain why the stock market could still have more downside. Jim Cramer flags five things that tell him Tuesday\\'s market action wasn\\'t a market anomaly. Jim Cramer says stocks could rally if weak economic indicators lead the Federal Reserve to pause its rate hikes. Jim Cramer explains why commercial real estate may be the next industry to fall. Jim Cramer rattles off his take on callers\\' favorite stocks, many of which he says are currently in \"bear market mode. \"Jim Cramer sits down with the CEOs of IBM and Red Hat after a blockbuster deal between the two cloud companies. Jim Cramer attributes the stock market\\'s weakness to\\xa0President Donald Trump and the Federal Reserve\\'s \\'toxic\\' policies. Jim Cramer compares the stock market\\'s recent action to four brutal crashes and says the Federal Reserve could cause a smaller version of the 2008 financial crisis. Financial advisors have one message for investors amid this week\\'s wild stock market swings: Don\\'t panic. Jim Cramer breaks down the signs to watch ahead of a bottom. Jim Cramer speeds through his take on callers\\' favorite stocks, including a surgery play that\\'s preparing for a takeover. Jim Cramer points to three reasons for Nucor\\'s muted performance as the Trump administration\\'s tariffs on steel imports kick in. Jim Cramer sits down with Visa CEO Al Kelly to discuss the financial giant\\'s business and Kelly\\'s take on the rise of cryptocurrencies. Jim Cramer calms investors\\' fears about the potential for another recession and explains what\\'s really in store for stocks in the near term. Jim Cramer says a combination of tariffs and a Federal Reserve under attack caused Wednesday\\'s dramatic sell-off and asks investors not to be rash. Jim Cramer breaks down the rationality behind AMD\\'s post-earnings decline. Jim Cramer rattles off his take on callers\\' favorite stocks, including a high-profile fast-food play. Jim Cramer flags opportunities in the technology stocks that \"nobody cares\" about amid the rabid selling. Jim Cramer says a quote from legendary investor Warren Buffett about \"swimming naked\" applies to a lot of companies this earnings season. Jim Cramer warns that with the Federal Reserve and the president on opposite sides when it comes to the U. S. economy, the real losers are investors. Jim Cramer urges investors to give Southwest Airlines another look after today. Jim Cramer flies through his take on callers\\' favorite stocks, including that of a biotechnology company developing non-opioid pain medication. Jim Cramer sits down with\\xa0Workday CEO Aneel Bhusri and Adaptive Insights CEO Tom Bogan to hear about how their $1. 5 billion deal came to fruition so quickly. Jim Cramer says Facebook, Amazon, Netflix and Alphabet\\'s prospects are undeniable with the Trump administration clamping down on trade with China and the Federal Reserve \"squelching\" inflation. Jim Cramer says the action among housing stocks is promising, but warns that broader economic trends might keep them unattractive for a while. Jim Cramer argues that the Cboe Volatility Index and strong earnings reports from key companies helped stocks recover intraday in a rally that could last. Jim Cramer speaks to Hasbro Chairman and CEO Brian Goldner, who says the liquidation of Toys R Us will stop having a significant impact on his toymaker by next quarter. Jim Cramer explains how VF Corp. should return to excellent growth once it spins off its Wrangler and Lee brands. Jim Cramer says the Federal Reserve won\\'t \"blink\" on its planned interest rate hikes if the chairman doesn\\'t consider the action in the stock market. Jim Cramer zooms through his take on callers\\' favorite stocks, including a data-storage play that\\'s been dropping of late. Jim Cramer and technician Larry Williams inspect the charts of IBM, which seem to show the beleaguered tech stock on the cusp of a rally. Jim Cramer hears from Hasbro Chairman and CEO Brian Goldner about the toy and game maker\\'s ongoing foray into the world of esports. Jim Cramer and Hasbro Chairman and CEO Brian Goldner discuss how the ongoing trade dispute between the United States and China affects the toymaker\\'s business. Jim Cramer says the escalation in the United States\\' trade war with China could end in an outright cold war that debilitates parts of the stock market. Jim Cramer outlines why the industrial giant is getting beaten down by the bears in an aggressive-Fed environment. Jim Cramer emphasizes the power of Silicon Valley when it comes to countering inflation in the workforce. Jim Cramer whips through his take on callers\\' favorite stocks, including a speculative play on tech devices. Jim Cramer and PayPal CFO John Rainey break down the financial technology company\\'s strong earnings and the \"inflection point\" in its millennial-focused payment app, Venmo. Jim Cramer prepares for what he thinks may be the \"toughest\" earnings week yet and issues a warning about companies with links to China trade or the Federal Reserve. Jim Cramer explains how strong earnings can take the guesswork out of your next investment. Jim Cramer races through his take on callers\\' favorite stocks, including a pharmaceutical play that\\'s ripe for some selling. Jim Cramer hears from Peter Horvath, a former Victoria\\'s Secret and American Eagle Outfitters executive, about his new gig as CEO of a cannabis products company. Jim Cramer reveals his top \"power\" players in the information technology space, including consumer tech plays, software giants and a fintech kicker. Jim Cramer recommends four stocks for investors to start buying as the market\\'s October volatility continues. Jim Cramer says there\\'s \"no cause\" for the Federal Reserve to raise interest rates four more times and calls on the central bank to take its time. Jim Cramer reveals how the Fed\\'s rose-colored glasses could impact your money. Jim Cramer speeds through his take on callers\\' favorite stocks, including his favorite pick for \"decent growth with good yield. \"Jim Cramer ranks the most investable stocks in the industrial space, which includes railroad operators, manufacturers and aerospace plays. Jim Cramer checks in on FAANG after Netflix\\'s earnings beat to see how shares of the technology giants are holding up. Jim Cramer points to \"pockets of weakness\" in the U. S. economy and questions the Federal Reserve\\'s plans to hike rates three more times in 2019. Jim Cramer breaks down how Netflix\\'s recent quarter proved the FANG haters wrong. Jim Cramer surveys the pot craze as Canada prepares to legalize cannabis nationwide and flags the companies he thinks will be long-term winners. Jim Cramer flies through his take on callers\\' favorite stocks, including that of a money management giant run by the reputable Larry Fink. Jim Cramer and volatility expert Mark Sebastian unpack the action in the market\\'s fear gauge to see if the sell-off is really over. Jim Cramer continues his \"power rankings\" with the health-care sector. His stock picks include a hospital operator, an animal health play and a medical robot maker. Jim Cramer explains what led the market to soar on Tuesday after days of selling and says the strength can last if the Fed behaves accordingly. Jim Cramer breaks down why last week\\'s sell-off is making Yum Brands\\' stock an attractive buy into weakness. Jim Cramer zips through his take on callers\\' favorite stocks, including a technology hardware giant in the throes of marketwide weakness. Jim Cramer sits down with\\xa0MedMen co-founder and CEO Adam Bierman, whose cannabis retailer will absorb PharmaCann in the largest marijuana-related acquisition in U. S. history. Jim Cramer picks the energy sector\\'s power players, which include shares of oil refiners as well as exploration and production entities. Jim Cramer explains why a surge in a stock like Clorox can mean bad news for the broader economy. Jim Cramer brings meaning to the latest market moves and explains what could be ahead. Jim Cramer hears from Canopy Growth chief Bruce Linton about the cannabis producer\\'s recent deal with the Drug Enforcement Administration and what Canada\\'s legalization will mean for the marijuana industry. Jim Cramer zooms through his take on callers\\' favorite stocks, including the ailing industrial everybody has their eyes on. Jim Cramer backs the stock of J. P. Morgan Chase despite CEO Jamie Dimon\\'s not-so-encouraging remarks about the global economy on the big bank\\'s conference call. Jim Cramer warns that U. S. companies could feel the heat of the Fed\\'s lockstep rate hikes in 2019. Jim Cramer clues investors in to what he\\'ll be watching in the week ahead as stocks try to recover from a dramatic sell-off. Jim Cramer explains how the cost of tariffs will squeeze retailers\\' margins. Jim Cramer shares his take on callers\\' favorite stock at lightning speed, including a telecommunications play that\\'s starting to look suspicious. Jim Cramer suggests building a position in the downtrodden technology stocks rather than taking shelter in the market\\'s traditional safe havens. Jim Cramer recommends seven technology stocks to investors as the stock market continues its multi-day losing streak. Jim Cramer lays out his reasons for why the Federal Reserve should back off its aggressive rate hike agenda. Rising costs for companies are worrying investors already concerned about a step down in U. S. corporate profit growth next year as Wall Street\\'s focus turns away from 2018\\'s tax-fueled earnings boost. \"The fact is, I do have a better handle on the situation than the Fed does, just like in 2007,\" says CNBC\\'s Jim Cramer. Jim Cramer rattles off his take on callers\\' favorite stocks, including a biotech play that\\'s ripe for the picking. Jim Cramer takes callers\\' questions amid the marketwide sell-off and approves of investors starting to slowly buy back into the stock market. The utility sector is catching a bid this month as its safe-haven status outweighs its negative correlation with rising interest rates. Jim Cramer breaks down what activist investors could bring to the table at Starbucks, Campbell Soup and PPG Industries. Jim Cramer says the stock market\\'s recovery hinges on the Federal Reserve, oil prices, the transportation industry and the trade war with China. Two-thirds of the stocks in the S&P 500 were in correction territory or worse on Wednesday, amid a sell-off led by technology names. Jim Cramer highlights how companies exposed to the auto or oil industries were impacted by PPG\\'s earnings news. Jim Cramer opines on callers\\' favorite stocks at lightning speed, including a health-care play being absorbed by Cigna. Jim Cramer flags the power players in the consumer staples space, which includes makers of household needs like food, beverages and personal care products. Jim Cramer lists the power players of the consumer discretionary sector, which covers non-essential goods and services like apparel and entertainment. Jim Cramer lays out his bear case for the Federal Reserve\\'s rate hike plans and explains why he\\'s getting a little bit cautious. Jim Cramer reveals why the real estate company\\'s strategy in the housing market was the wrong move at the wrong time. Jim Cramer sits down with\\xa0Trulieve CEO Kim Rivers to see how Florida\\'s largest fully licensed medical marijuana company is faring amid the cannabis craze. Jim Cramer flies through his take on callers\\' favorite stocks, including medical device play Edwards Lifesciences. Jim Cramer points out the power players in the communication services space, a new market category that includes everything from telecom to TV. Jim Cramer explains how overseas markets, ETFs and overselling contributed to Monday\\'s stock market reversal. Jim Cramer details Eli Lilly\\'s miraculous rally and how it went from loathed to loved in a matter of months. Jim Cramer explains why the \"death of retail\" narrative isn\\'t going away anytime soon. Jim Cramer rattles off his take on callers\\' favorite stocks, including a DNA sequencing play that\\'s been dragged down by the sell-off. Jim Cramer hears from\\xa0Cloudera CEO Thomas Reilly about how his company\\'s recently announced merger with rival Hortonworks could create the \"Oracle of the future. \"Jim Cramer shares his outlook on the week ahead and tells investors how he thinks the market could regain bull status. Jim\\xa0Cramer\\'s telling you why the big pharmaceutical companies could signal what\\'s next for the market. Jim Cramer shares his take on callers\\' favorite stocks at lightning speed, including a defense play that he got flak for recommending. Jim Cramer sits down with\\xa0Chipotle Mexican Grill CEO Brian Niccol and CFO Jack Hartung to hear about how they\\'re moving on from the chain\\'s past food safety problems. Jim Cramer and Constellation Brands CEO Rob Sands discuss the shifting politics surrounding the legalization of marijuana, in which Sands\\' alcohol distributor has a major stake. Jim Cramer hears from Constellation Brands CEO Rob Sands about his company\\'s investment in cannabis producer Canopy Growth. Jim Cramer flags the various ways the stock market could continue its broad-based sell-off. Jim Cramer explains why despite its wage increase, Amazon is working harder than ever to keep prices down. Jim Cramer warns investors not to take market pessimists too seriously when they warn that financial trouble overseas could affect U. S. stocks. Jim Cramer zooms through his take on callers\\' favorite stocks, including a consumer products play that\\'s declining because of rising interest rates. Jim Cramer breaks down the declines in shares of chipmakers Western Digital and Micron and explains why he thinks Micron is more valuable. Jim Cramer wonders if the Federal Reserve needs to step on the brakes so methodically in a growing economy with seemingly healthy inflation. Jim Cramer reveals why you shouldn\\'t worry about TJX, Ross, and Burlington  —   and why they should even be bought into weakness. Jim Cramer rattles off his take on callers\\' favorite stocks, including a cloud play that\\'s been experiencing some stormy weather. Jim Cramer and Carolyn Boroden inspect the charts of some key semiconductor stocks and determine that investors may see quicker gains by buying the more established plays. Jim Cramer argues that the former General Electric CEO wasn\\'t removed because of the speed of his turnaround. Jim Cramer says employment trends and a stock shortage have allowed the stock market to continue its extended climb. Jim Cramer warns investors that Grand Canyon Education could be impacted by a political party change in Congress. Jim Cramer zips through his take on callers\\' favorite stocks, including an athletic retail play that could be on the cusp of a rally. Jim Cramer revisits some \"Amazon survivors\" to prove that the Death Star\\'s competition doesn\\'t always mean total annihilation. Jim Cramer advises against investing in SurveyMonkey, a nearly 20-year-old software company that\\'s new to the public market. Jim Cramer says that while General Electric\\'s CEO replacement was a win for the stock, it could mean the company\\'s situation is more dire than previously thought. Jim Cramer applauds Stitch Fix\\'s profitable approach to personalization thanks to its CEO. Jim Cramer sits down with\\xa0ServiceNow President and CEO John Donahoe to hear how the leader of the \"cloud king\" is trying to simplify the way we do work. Jim Cramer flies through his take on callers\\' favorite stocks, including a discount retail play with an e-commerce twist. Jim Cramer shares his take on \"cult stock\" Tesla following news of CEO Elon Musk being sued by the Securities and Exchange Commission. Jim Cramer flags key stocks and events in the week ahead, including a Labor Department report that could prompt a sell-off. Jim Cramer is breaking down how personalization is hurting CarMax\\'s profitability. Jim Cramer voices concern about the trade tensions between the U. S. and Canada after the president said he rejected a meeting with Canadian authorities. Jim Cramer breezes through his take on callers\\' favorite stocks, including an insurance play that could be one-upped by a Cramer fave. Jim Cramer gets an exclusive read on Cisco Systems\\' recent projects and deals in an interview with Chairman and CEO Chuck Robbins. Jim Cramer sits down with Box co-founder and CEO Aaron Levie, who speaks to the importance of data protection and explains his reasons for backing big tech regulation. Jim Cramer explains how personalization has become synonymous with the digital revolution as demonstrated by companies like Salesforce and Nike. Jim Cramer sits down with Oscar Munoz, the CEO of United Continental Holdings, to hear more about how the airline is trying to improve the customer experience. Jim Cramer explains why investors are circling back to retail stocks and shares his top picks in the space. Jim Cramer analyzes the Federal Reserve\\'s latest interest rate hike and tells investors not to be worried about an economic slowdown. Jim Cramer sits down with Salesforce. com chief Marc Benioff, who speaks to his company\\'s newly forged deal with Apple. Jim Cramer explains why investors shouldn\\'t let caution trick you into missing straightforward moves. Jim Cramer rattles off his take on callers\\' favorite stocks, including a high-profile auto play with a heavy trading volume. Jim Cramer gets the latest on cybersecurity from FireEye CEO Kevin Mandia, whose company was hired by Google to defend against state-sponsored cyberattacks. Jim Cramer hears from Salesforce. com\\xa0co-founder, Chairman and co-CEO Marc Benioff, who explains why he and his wife purchased Time Magazine. Jim Cramer breaks down the weakness in the semiconductor stock cohort. Jim Cramer makes a case for maintaining a long-term outlook in this market. Jim Cramer shares his take on callers\\' favorite stocks at lightning speed, including an oil play that\\'s benefiting from the current market layout. Jim Cramer says that while his \"humanization of pets\" thesis remains intact, the newly public Elanco Animal Health is not the way to play it. Jim Cramer sits down with\\xa0J. P. Morgan Chase & Co. Chairman and CEO Jamie Dimon, who speaks to the current political climate, why he won\\'t run and his vision for government. Jim Cramer defends Comcast\\'s long-term track record despite the media giant\\'s share drop in the wake of winning the bidding war for Sky. Jim Cramer zooms through his take on callers\\' favorite stocks, including a small independent energy play that he wouldn\\'t recommend to investors. Jim Cramer explains how a demand for Micron\\'s chips combined with its buyback could send the company soaring. Jim Cramer sits down with Q6 Cyber founder and CEO Eli Dominitz, who says companies that think their mission is to stop attacks in real time are \"dead wrong. \"Jim Cramer hears from Red Hat President and CEO Jim Whitehurst, who addresses his company\\'s second-quarter revenue miss. Jim Cramer shares his game plan for the week ahead and explains why tariffs may not weigh on stocks as much as investors think. Jim Cramer details what the rotation out of growth and into value means for the bull market. Jim Cramer flies through his take on callers\\' favorite stocks, including a high-profile social media play. Jim Cramer sits down with Yuval Cohen, the CEO of a company that is creating treatments derived from manmade cannabinoids for rare diseases like cystic fibrosis. Jim Cramer doubles down on his warning about investing in marijuana stocks like Tilray, which has been trading wildly since CEO Brendan Kennedy\\'s appearance on \"Mad Money. \"Jim Cramer points to the action in retail stocks as a sign that the economic windfall from the U. S. -China trade spat won\\'t affect U. S. consumers as much as people think. Jim Cramer explains how China\\'s manufacturing-based economy leaves it vulnerable to U. S. trade tariffs. Jim Cramer shares his take on callers\\' favorite stocks at lightning speed, including a video-game retailer that could soon be acquired. Jim Cramer hears from Square CFO Sarah Friar, who explains how her company leverages small business data to make transactions more seamless. Jim Cramer sits down with Tilray CEO Brendan Kennedy to get his take on the future of medical and recreational marijuana. Jim Cramer says hedge fund managers are looking at the U. S. -China trade war the wrong way. Daryl Guppy of Guppytraders. com also says there appears to be a \"reluctance\" to let the Chinese yuan move much beyond the 7 level. Jim Cramer reveals the big opportunity behind the decline in medical device stocks. Jim Cramer zips through his take on callers\\' favorite stocks, including a fast-food play that\\'s seen better days. Jim Cramer says apparel giant VF Corp. has struck gold in Vans, its fast-growing subsidiary that could be the next Nike. Jim Cramer sits down with Camping World Holdings Chairman and CEO Marcus Lemonis, who recently bought 25,000 shares of his company as a vote of confidence. Jim Cramer points out the difference in market performance in China and the United States and ties it to the trade war fears that are rattling investors. Jim Cramer explains why it\\'s best to disregard the top Trump advisor when it comes to China. Jim Cramer asks investors to curb their enthusiasm when it comes to the marijuana market. Jim Cramer zooms through his take on callers\\' favorite stocks, including a subscription economy play on which Cramer\\'s taking a long-term view. Jim Cramer says Wingstop\\'s global expansion goals make the fast-food wing restaurant\\'s stock attractive on a pullback. Jim Cramer outlines his game plan for the week ahead and tells investors how to navigate potential trade- and stock-related controversy. Jim Cramer explains why Apple\\'s sustained innovation is what keeps driving its stock higher. Jim Cramer flies through his take on callers\\' favorite stocks, including an industrial at the top of investors\\' minds. Jim Cramer sits down with Barstool Sports founder Dave Portnoy and CEO Erika Nardini to hear about the multimedia company\\'s recent push into pizza. Jim Cramer sits down with AeroVironment President and CEO Wahid Nawabi to hear about the drone maker\\'s joint venture with SoftBank. Jim Cramer doubles down on his praise of Apple after the iPhone maker reveals its newest line of devices. Jim Cramer explains why gaming headset maker Turtle Beach is too risky after its big move. Jim Cramer flags ways for investors to play small business optimism, which hit a record all-time high in August. Jim Cramer rattles off his take on callers\\' favorite stocks, including a streaming play that he\\'s gotten wrong in the past. Jim Cramer highlights several speculative cloud stocks for investors who can afford to take some risks in their portfolios. Jim Cramer sees a \"big problem\" in the U. S. energy market. Wednesday\\'s oil price boost could help curb it. Jim Cramer digs through what could be causing the auto stocks to weaken even though the economy is growing. Jim Cramer zips through his take on callers\\' favorite stocks, including a chipmaker that\\'s having trouble picking up the pieces. Jim Cramer sits down with\\xa0Toll Brothers CEO Douglas C. Yearley, Jr. to hear his take on trends in the U. S. housing market. Jim Cramer argues that the action in stocks like Honeywell suggests that China could soon give in to the United States\\' trade demands. Jim Cramer breaks down what\\'s going right at Advanced Micro Devices, a semiconductor company going up against Intel and Nvidia. Jim Cramer explains why he thinks Home Depot and Lowe\\'s will trounce Floor & Decor in the home improvement sector. Jim Cramer shares his take on callers\\' favorite stocks, including an apparel retailer with a strong track record. Jim Cramer sits down with S&P Global President and CEO Douglas Peterson to discuss how his financial services and ratings giant has changed its ways since 2008. Jim Cramer lays out his game plan for the week ahead and warns of potential market weakness after the president\\'s latest warning to China. Jim Cramer explains how ad revenue will keep flowing to social media despite Congressional hearings and Wall Street naysayers. Jim Cramer zooms through his take on fans\\' favorite stocks in a special edition of the lightning round. Jim Cramer celebrates the start of football season by building a fantasy football-style portfolio for investors. Jim Cramer hears from Brian Roberts, the chairman and CEO of NBCUniversal parent Comcast, who speaks to his company\\'s dealmaking and the era of connectivity. Jim Cramer says institutional money moving in and out of stocks is the primary reason for widespread losses in the technology sector. Jim Cramer details why the standout retailer is worth buying into any weakness. Jim Cramer flies through his take on callers\\' favorite stocks, including a cloud play that could be worth its current premium. Jim Cramer hears from Honeywell Chairman and CEO Darius Adamczyk on Honeywell\\'s latest brushes with tech and trade. Jim Cramer sits down with RH Chairman and CEO Gary Friedman at the company\\'s newest gallery to discuss e-commerce and RH\\'s transformation. Jim Cramer digs into the concept of sector rotations and explains how investors can use them to refine their portfolios. Jim\\xa0Cramer\\'s telling you why Amazon looks cheap, even with its trillion-dollar valuation. Jim Cramer admits he misjudged the stock of Autodesk and issues apologies to the company\\'s management and investors. Jim Cramer rattles off his take on callers\\' favorite stocks, including a longtime Cramer-fave oilfield services play. Jim Cramer recommends using market-wide pullbacks to buy shares of stocks like Adobe, Red Hat, Salesforce and Workday. Jim Cramer says Amazon\\'s growth and investor base helped propel the e-commerce giant to a $1 trillion market cap. CNBC\\'s Dom Chu reports on the stocks within the S&P 500 that are underappreciated. Jim Cramer details his game plan for the week ahead as earnings season comes to a close. As Intel struggles to fix its chipmaking process, semiconductor company Advanced Micro Devices will continue gaining market share, Wall Street analyst Hans Mosesmann told CNBC on Friday. Jim Cramer sits down with ThirdLove CEO to hear more about how the start-up uses data to make key business decisions. As stocks hit all-time highs, some fear that bull market will take a sharp turn and that history might repeat itself. Jim Cramer reveals the reason behind Micron’s recent declines. \\xa0Jim Cramer speeds through callers\\' favorite stocks, including which tech stock he predicts will report good quarterly earnings numbers next week. Jim Cramer sits down with Tellurian\\'s founder Charif Souki to discuss the trade conflict\\'s potential impacts on liquefied natural gas. Jim Cramer takes a deep dive into Williams-Sonoma to show why short-sellers are wrong about the retailer. Jim Cramer\\xa0gave a rundown of several stocks where the market missed the mark during earnings season, including Home Depot and Lowe\\'s. Jim Cramer explains how consumer spending is what drives our economy, not political turmoil. Jim Cramer sits down with Bad Blood author John Carreyrou to discuss Theranos and its former CEO Elizabeth Holmes. Cramer flies through callers\\' favorite stocks, including which stock to pick to get into biotech. Jim Cramer discusses how recent political turmoil involving Michael Cohen and Paul Manafort could propel the markets in either direction. Cramer discusses the reasons why Wall Street analysts have underestimated retailers. Investors shouldn\\'t get carried away by the bull market\\'s record, some strategists warn, as soaring equities are currently unique to the U. S. amid weak returns everywhere else. \\xa0As Wall Street embraces the longest U. S. bull market in history, Bleakley Advisory Group\\'s Peter Boockvar is focusing on what could disrupt it. Jim Cramer breaks down why investors’ recession worries are overblown. \\xa0\\xa0Jim Cramer and technician Tim Collins take a look at the charts to check on Starbucks and see if the coffee chain is headed for a run. \\xa0\\xa0Cramer flies through callers\\' favorite stocks, including which company could be a good defensive play. Jim Cramer says that Cisco\\'s fourth quarter is finally bearing the fruit from CEO Chuck Robbins\\' plan for the company. Jim Cramer named the top 10 obstacles the market had to overcome in order to achieve this record rally. Jim Cramer breaks down the strategy behind Constellation Brands’ investment in Canopy Growth. Jim Cramer shares his take on callers\\' favorite stocks, including why he thinks Twitter is worth buying. Jim Cramer explains why Walmart still has room to run. Jim Cramer says Nordstrom is the latest retailer to rise from the dead after the company reported strong results last week. Jim Cramer discusses how PepsiCo\\'s acquisition of SodaStream and Constellation Brands\\' investment in Canopy Growth are disrupting their businesses in the right ways. Jim Cramer looks back on August days that were more lackadaisical before launching into next week\\'s game plan. Jim Cramer explains how Walmart investing in its employees helped to boost its latest earnings. While Senator Elizabeth Warren’s economic policies are known to spark divisive reactions, CNBC’s Jim Cramer thinks that investors shouldn’t be too quick to write off her ideas as bad for business. Jim Cramer zips through his take on callers\\' favorite stocks, including why it\\'s a good time to buy the industry everyone hates. Jim Cramer recommends buying IAC\\'s stock, especially after a lawsuit from the co-founders of subsidiary Tinder caused shares to dip. \\xa0Jim Cramer thinks it might be time to rethink FANG. Given Thursday\\'s market moves, Cramer thinks WANG – Walmart, Apple, Netflix and Google – might be the new group to watch. Jim Cramer explains why the stock shortage gives this bull market a real edge. Jim Cramer shares his take on callers\\' favorite stocks, including what casino stock investors should take a gamble on. Jim Cramer says Post Holdings\\' spin-off of its private label division and smart acquisitions have shown that the company knows how to unlock value. Jim Cramer sits down with Sen. Elizabeth Warren to discuss her new bill, the Accountable Capitalism Act, and also hear her views on U. S. trade policies. Jim Cramer explains how the global sell-off is related to Turkey, China and Macy\\'s and why it isn\\'t as big of a deal as investors might think. \\xa0Brinks CEO Douglas Pertz says that the cash management company is ready to benefit from legal cannabis in Canada, starting October 17. Jim Cramer explains how CVS could crush the competition once the Aetna deal is complete. \\xa0Jim Cramer says that even skeptical Tesla investors should stay away from shorting the stock because it never ends well. Tapestry CEO Victor Luis tells Jim Cramer how his company beat top and bottom line expectations for its fourth quarter. Jim Cramer shares his take on callers\\' favorite stocks, including why he doesn\\'t \"want anything to do with\" housing-related stocks. Jim Cramer and technician Carley Garner find reasons to believe U. S. Treasury bonds still have some upside. Jim Cramer gives his take on shifting consumer spending habits. Jim Cramer breaks down why Dropbox’s recent decline is not worth fretting aboutJim Cramer shares his take on callers\\' favorite stocks, including which cruise line\\'s numbers show the best growth. Jim Cramer reviews Booking Holdings\\' pivot from boosting growth to boosting profits. Jim Cramer says that the Turkish currency crisis could be a buying opportunity for smart investors, as long as they stay away from banks and other contaminated stocks. Jim Cramer recommends investors use next week\\'s lack of earnings reports to do their homework and make informed decisions. While the dog days of summer have failed to produce record highs for the S&P 500, one widely followed strategist has a simple message for investors: wait until winter. \\xa0Jim Cramer breaks down why hedge funds are feeling the pain when it comes to tariffs. Jim Cramer shares his take on callers\\' favorite stocks at lightning speed, including a coal play that might seem intriguing. Jim Cramer tracks professional wrestling broadcaster WWE\\'s growth story and explains why the stock is worth buying on a pullback. Jim Cramer sits down with Magna International\\xa0CEO Don Walker, who explains the effects of the Trump administration\\'s tariffs on his manufacturing company. Jim Cramer backs Viacom\\'s turnaround and says it has \"much more opportunity for upside\" than the beloved CBS. Jim Cramer details how the stocks of CVS and AutoZone escaped from Amazon’s grips. \\xa0Jim Cramer explains why Tesla\\'s short-sellers might be up against \"the greatest short-buster in modern memory\" in Elon Musk. Jim Cramer zooms through his take on callers\\' favorite stocks, including a play on the growing subscription economy. Jim Cramer has his doubts about Sonos\\' IPO after being burned by the similarly structured Fitbit. Jim Cramer puts faith in Disney CEO Bob Iger after the entertainment giant missed Wall Street\\'s third-quarter earnings expectations. Jim Cramer breaks down how Elon Musk’s tweet on taking Tesla private impacted the bond market. Jim Cramer flies through his take on callers\\' favorite stocks, including an entire group of stocks that aren\\'t exactly piquing his interest. Jim Cramer turns to technicians Tim Collins and Larry Williams for a look at the charts of big-box retailers boosting their e-commerce wares to compete with Amazon. Jim Cramer sits down with\\xa0Logitech International President and CEO Bracken Darrell, who says esports will be in the Olympics and could be the biggest sport in the world. Jim Cramer attributes the market\\'s rally to the confluence of two drivers: increased index fund investing and corporate share buybacks. Jim Cramer is explaining why buyers are forgiving and forgetting Disney’s troubles ahead of its third-quarter earnings. \\xa0Jim Cramer shoots through his take on callers\\' favorite stocks, including a red-hot advertising technology stock. Cramer talks about how Expedia has once again won over the market after its standout second-quarter earnings results. Jim Cramer talks about his personal experience with outgoing PepsiCo CEO Indra Nooyi. Jim Cramer makes the case that investors should be slow to forgive and forget Facebook\\'s past missteps after a report that the company is looking to get more banks and financial institutions to use Messenger. Steve Chiavarone predicts stocks will fall 5 to 8 percent before summer ends. Jim Cramer picks through the earnings confusion in the week ahead and advises investors on how to play the action. Jim Cramer sounded off on the Federal Reserve for not anticipating the coming financial crisis 10 years ago today. Jim Cramer explains what makes Apple’s trillion dollar market cap so meaningful. Jim Cramer sits down with Jim Fitterling, CEO of DowDuPont subsidiary The Dow Chemical Company, to hear about its impending spin-off and the chemical business at large. Jim Cramer shares his take on callers\\' favorite stocks at lightning speed, including an airline play that could soon fly higher. Jim Cramer tells investors to steer clear of buying shares in companies like Red Robin Gourmet that are facing fierce industry competition. Jim Cramer breaks down why Apple\\'s trillion-dollar breakthrough speaks volumes about the state of the stock market. Starbucks CEO Kevin Johnson tells CNBC that the coffeemaker\\'s just-announced partnership with Alibaba will, without a doubt, \"be an accelerator for our business. \"Jim Cramer explains why Amazon remains on fire despite other FANG stocks faltering. Jim Cramer zooms through his take on callers\\' favorite stocks, including a fresh-faced technology play dipping ahead of earnings. Jim Cramer takes a new approach to the \"stay-at-home\" economy by flagging plays like Conagra Brands, Disney and Spotify. Jim Cramer doubles down on his call for Apple\\'s stock to be valued like any other consumer products company. Jim Cramer says the market\\'s trade-war-related dips create bountiful investment opportunities in the hardest-hit sectors. Jim Cramer explains why the tech giant could have staying power as a consumer product story. Jim Cramer flies through his take on callers\\' favorite stocks, including a health care play that\\'s leading its sector. Jim Cramer and technician Carley Garner inspect the charts related to gold to see if the precious metal could be ripe for a run. Jim Cramer makes the case for embracing the strength of the U. S. economy by tracking the gains in top retail stocks like Walmart. Jim Cramer argues that Apple should be seen as a consumer products company rather than a technology player after its third-quarter earnings beat. Jim Cramer breaks down how the collateral damage of Monday’s panic could create a prime buying opportunity. Jim Cramer rattles off his take on callers\\' favorite stocks, including a pharmaceutical play on a tear. Jim Cramer argues that NXP Semiconductors\\' prospects are still intact after Qualcomm dropped its bid for the chipmaker. Jim Cramer highlights the companies that wowed analysts and investors with their mid-2018 earnings results. Jim Cramer recommends picking through the stocks damaged by investors\\' panic around Facebook earnings for hidden potential. According to CNBC\\'s analysis, the portfolio rapper Kanye West chose for wife Kim Kardashian has outperformed the S&P 500 Index by more than 40 percent. The Bleakley Advisory Group\\'s Peter Boockvar sees \"early tremors\" in the global bond market. Despite the booming economy, market strategist and Wall Street bull Tony Dwyer predicts a near-term pullback of 5 to 10 percent. PepsiCo taking a century-old Madison Square Garden contract from Coca-Cola is more a symbolic than economic win, says investor. Jim Cramer calculates how health-focused conglomerate Danaher could still get its groove back. Jim Cramer zips through his take on callers\\' favorite stocks, including a subscription-based entertainment play that could still be packing a punch. Jim Cramer says Alphabet\\'s latest quarter proved that shares of the Google parent and other tech titans could still have room to run. Jim Cramer enlists technician Mark Sebastian to vet the action in the VIX and ensure that another major sell-off isn\\'t in the works. Jim Cramer cautions against investing in extreme moves in the market before knowing what\\'s really going on. Gluskin Sheff’s David Rosenberg predicts the widening credit spreads will take down stocks. \\xa0\\xa0Jim Cramer explains how Alphabet has debunked the stock’s trend in sliding post-earnings. Jim Cramer flies through his take on callers\\' favorite stocks, including the beer space and why he thinks it\\'s risky. Jim Cramer sits down with McCormick Chairman, President and CEO to get the latest on the spice maker\\'s growth-driven business. Jim Cramer speaks to Hasbro Chairman and CEO Brian Goldner, who touts his toymaker\\'s legacy games and budding esports properties. Jim Cramer says that a deal between the European Union and the United States on tariffs could spark a stock market rally. Thursday will mark the 6-month mark since the last S&P 500 market high. CNBC\\'s Mike Santoli joins the \\'Fast Money Halftime Report\\' to discuss if there are enough factors at play to take the market to a new recovery period. Jim Cramer explains why analysts can’t resist the digital payment space. \\xa0Jim Cramer shares his take on callers\\' favorite stocks, including an investment management play that\\'s on an unusual downtrend. Jim Cramer hears from Nucor Chairman, President and CEO John Ferriola, who touts the effects of President Donald Trump\\'s steel and aluminum tariffs. Jim Cramer gets the latest on pizza trends with Domino\\'s Pizza\\'s new President and CEO Richard Allison. Jim Cramer anticipates more gains for shares of Disney and Comcast as the companies\\' battle over Twenty-First Century Fox\\'s assets comes to a close. Kevin Landis of Firsthand Capital Management and Scott Kessler of CFRA research join the \\'Closing Bell\\' crew to discuss Microsoft\\'s Q2 earnings announcement and its Github acquisition. Erin Browne, UBS Asset management asset allocation head, joins Joe Terranova of Virtus Investment Partners; Steve Weiss of Short Hill Capital Partners; Jon Najarian of Investitute. com; Pete Najarian of Najarian Family Office; and CNBC\\'s Scott Wapner to discuss the market future and how the market\\'s run has been. Jim Cramer explains why investors shouldn’t worry about the slumping transportation stocks after United Continental’s quarter. Jim Cramer zooms through his take on callers\\' favorite stocks, including a chipmaker that\\'s making a comeback. Jim Cramer says the retail resurgence is boosting business at affiliated real estate investment trusts, but says he\\'s not enthusiastic about REIT stocks just yet. Jim Cramer sits down with\\xa0Martin Schroeter, senior vice president of IBM global markets, who says IBM is a leading choice for blockchain implementation among international companies. Jim Cramer warns investors of Boeing, Caterpillar and other China-reliant stocks that the trade war could still get worse. Jim Cramer reveals why Williams-Sonoma is in a sweet spot in the home goods space. Jim Cramer flies through his take on callers\\' favorite stocks, including a toolmaker that\\'s out of step with its shares. Jim Cramer and technician Bob Lang inspect the charts to see if big-cap biotechnology stocks like Gilead and Celgene could have more room to run. Jim Cramer says a \"keen grasp of fashion\" and strong execution have made the stocks of Canada Goose, Lululemon and Urban Outfitters stellar investments. Jim Cramer breaks down his theories on why shares of Netflix were able to pare their losses after the company\\'s second-quarter earnings report failed to appease investors. Jim Cramer sits down with\\xa0Bank of America Chairman and CEO Brian Moynihan, who outlines the U. S. economy\\'s growth drivers. Jim Cramer explains that even though the price of oil is dropping, now could be the time to buy shares of oil companies. Jim Cramer rattles off his take on callers\\' favorite stocks, including his take on how investors should approach the gold market. Jim Cramer sits down with Bank of America Chairman and CEO Brian Moynihan after earnings to crunch the numbers and hear what’s next for the financial giant. Jim Cramer says spice maker McCormick\\'s stock is finally escaping the pain brought about by a January analyst report from Deutsche Bank. Jim Cramer spots a chance to invest in the FANG and subscription-service stocks after what he calls a \"disappointing\" quarter from Netflix. President Trump continues his unorthodox approach to the presidency, upsetting some people, while others are left \"numb\" to his behavior, says Wall Street investor. \\xa0Michael Jones of RiverFront Investment Group says he is \"skeptical that we\\'re in the final innings\" of the trade war between the U. S. and China. Jim Cramer makes the case to value the market just as it is. Jim Cramer delivers his take on callers\\' favorite stocks at lightning speed, including a health care play he thinks is incorrectly priced. Jim Cramer suggests alternate investments to the beleaguered casino gaming stocks that have properties in Chinese territory Macau. Several large banks report earnings before the bell Friday. Investor Steve Grasso anticipates positive earnings and the S&P 500 passing the 2,800 mark. \\xa0Jim Cramer pushes back on some market commentators that see stocks as too pricey. Jim Cramer says\\xa0China seems to have blinked in its trade dispute with the United States. Institutional Investor Hall of Famer Richard Bernstein blames a 2008 financial crisis hangover for too much bearishness in the market. Despite the recent round of tariffs, Tony Dwyer, chief market strategist at Canaccord Genuity, says the upcoming earnings cycle will move the market higher. \\xa0Jim Cramer reveals why U. S. defense and natural gas stocks are strong picks after the NATO Summit. Jim Cramer shares his take on callers\\' favorite stocks at lightning speed, including a streaming device maker that he thought would be threatened by Amazon. Jim Cramer sits down with the CEOs of Bluestone Lane and its investor RSE Ventures to find out what\\'s next for the Australian-born coffeehouse. Jim Cramer sits down with Canopy Growth CEO Bruce Linton, who outlines his cannabis company\\'s game plan for when recreational marijuana becomes fully legal in Canada. Jim Cramer explains why the stocks of Mastercard and Visa have strong safeguards against the brewing U. S. -China trade conflict. Invesco\\'s Kristina Hooper believes Wall Street should brace for trouble. Jim Cramer reveals why patience may be the best strategy before getting into Jack Henry & Associates. Jim Cramer unpacks what Supreme Court nominee Brett Kavanaugh will mean for the stock market. Jim Cramer zooms through his take on callers\\' favorite stocks, including a lithium play gearing up for earnings. Jim Cramer sits down with Core Laboratories Chairman and CEO David Demshur to get his outlook on the future of crude oil. Jim Cramer and technician Tim Collins review Allergan\\'s stock charts to figure out what might be next for the Botox maker. Jim Cramer applauds how PepsiCo\\'s second-quarter earnings beat managed to stifle the short positions building up in the company\\'s stock. Jim Cramer highlights a buying opportunity in the aftermath of the Toys R Us closure. Jim Cramer flies through his take on callers\\' favorite stocks, including an airline play feeling the heat. Jim Cramer recommends buying into the stock of Hasbro on the back of Toys R Us\\' liquidation. Jim Cramer renews his call on Stitch Fix, an online clothing and accessories retailer that uses algorithmic technology to build customized outfits for its clients. Jim Cramer deciphers what Monday\\'s stock market action means for the stocks of major U. S. banks. Jim Cramer reveals which company is kicking off earnings season. Jim Cramer rattles off his take on callers\\' favorite stocks, including a drugmaker that\\'s topping its competition. Jim Cramer says shares of General Electric are finally finding a bottom thanks to CEO John Flannery\\'s turnaround strategy. Jim Cramer argues that a lack of international oil drilling has made stocks like Schlumberger very attractive investments. Jim Cramer details his game plan for the week ahead as opposing economic forces come head to head. Jim Cramer reveals why it may be too soon to value iQiyi’s recent run up. Jim Cramer flies through his take on callers\\' favorite stocks, including a fast-food restaurant operator finally gaining steam. Jim Cramer warns investors about chasing fresh-faced Chinese companies that have recently begun trading on U. S. exchanges. Jim Cramer lists the reasons why investors should focus on FANG in a turbulent time for the rest of the stock market. Jim Cramer says that if the Fed keeps raising interest rates, the U. S. economy could be on a path to recession. DataTrek Research’s Nicholas Colas says it can’t get much better for consumers and that bodes badly for stocks. Jim Cramer sits down with\\xa0Stephen'"
            ],
            "application/vnd.google.colaboratory.intrinsic+json": {
              "type": "string"
            }
          },
          "metadata": {},
          "execution_count": 12
        }
      ]
    },
    {
      "cell_type": "code",
      "source": [
        "# split the dataset into training (90%) and testing (10%)\n",
        "d = dataset.train_test_split(test_size=0.1)\n",
        "d[\"train\"], d[\"test\"]"
      ],
      "metadata": {
        "colab": {
          "base_uri": "https://localhost:8080/"
        },
        "id": "wIDNKitztCU0",
        "outputId": "cadbfaad-5e32-4a9e-c67a-cdb05d09d6e0"
      },
      "execution_count": 15,
      "outputs": [
        {
          "output_type": "execute_result",
          "data": {
            "text/plain": [
              "(Dataset({\n",
              "     features: ['text'],\n",
              "     num_rows: 64718\n",
              " }),\n",
              " Dataset({\n",
              "     features: ['text'],\n",
              "     num_rows: 7191\n",
              " }))"
            ]
          },
          "metadata": {},
          "execution_count": 15
        }
      ]
    },
    {
      "cell_type": "code",
      "execution_count": 16,
      "metadata": {
        "id": "fOA9GizPuFlB"
      },
      "outputs": [],
      "source": [
        "# if you want to train the tokenizer from scratch (especially if you have custom\n",
        "# dataset loaded as datasets object), then run this cell to save it as files\n",
        "# but if you already have your custom data as text files, there is no point using this\n",
        "def dataset_to_text(dataset, output_filename=\"data.txt\"):\n",
        "  \"\"\"Utility function to save dataset text to disk,\n",
        "  useful for using the texts to train the tokenizer\n",
        "  (as the tokenizer accepts files)\"\"\"\n",
        "  with open(output_filename, \"w\") as f:\n",
        "    for t in dataset[\"text\"]:\n",
        "      print(t, file=f)\n",
        "\n",
        "# save the training set to train.txt\n",
        "dataset_to_text(d[\"train\"], \"train.txt\")\n",
        "# save the testing set to test.txt\n",
        "dataset_to_text(d[\"test\"], \"test.txt\")"
      ]
    },
    {
      "cell_type": "code",
      "execution_count": 18,
      "metadata": {
        "id": "bOBSHkbFuu5H"
      },
      "outputs": [],
      "source": [
        "special_tokens = [\n",
        "  \"[PAD]\", \"[UNK]\", \"[CLS]\", \"[SEP]\", \"[MASK]\", \"<S>\", \"<T>\"\n",
        "]\n",
        "# if you want to train the tokenizer on both sets\n",
        "# files = [\"train.txt\", \"test.txt\"]\n",
        "# training the tokenizer on the training set\n",
        "files = [\"train.txt\"]\n",
        "# 30,522 vocab is BERT's default vocab size, feel free to tweak\n",
        "vocab_size = 20000\n",
        "# maximum sequence length, lowering will result to faster training (when increasing batch size)\n",
        "max_length = 512\n",
        "# whether to truncate\n",
        "truncate_longer_samples = False"
      ]
    },
    {
      "cell_type": "code",
      "execution_count": 19,
      "metadata": {
        "id": "-CVoZ3bC_j6K"
      },
      "outputs": [],
      "source": [
        "# initialize the WordPiece tokenizer\n",
        "tokenizer = BertWordPieceTokenizer()\n",
        "# train the tokenizer\n",
        "tokenizer.train(files=files, vocab_size=vocab_size, special_tokens=special_tokens)\n",
        "# enable truncation up to the maximum 512 tokens\n",
        "tokenizer.enable_truncation(max_length=max_length)"
      ]
    },
    {
      "cell_type": "code",
      "execution_count": null,
      "metadata": {
        "colab": {
          "background_save": true
        },
        "id": "vix0oz7XzI_w"
      },
      "outputs": [],
      "source": [
        "model_path = \"pretrained-bert\"\n",
        "# make the directory if not already there\n",
        "if not os.path.isdir(model_path):\n",
        "  os.mkdir(model_path)"
      ]
    },
    {
      "cell_type": "code",
      "execution_count": null,
      "metadata": {
        "colab": {
          "background_save": true
        },
        "id": "vmeI9Vgx06VB",
        "outputId": "5ce209ce-dd99-45a0-ed54-f42124be7305"
      },
      "outputs": [
        {
          "data": {
            "text/plain": [
              "['pretrained-bert/vocab.txt']"
            ]
          },
          "execution_count": null,
          "metadata": {},
          "output_type": "execute_result"
        }
      ],
      "source": [
        "# save the tokenizer\n",
        "tokenizer.save_model(model_path)"
      ]
    },
    {
      "cell_type": "code",
      "execution_count": null,
      "metadata": {
        "colab": {
          "background_save": true
        },
        "id": "d-HZAthp0SNk"
      },
      "outputs": [],
      "source": [
        "# dumping some of the tokenizer config to config file,\n",
        "# including special tokens, whether to lower case and the maximum sequence length\n",
        "with open(os.path.join(model_path, \"config.json\"), \"w\") as f:\n",
        "  tokenizer_cfg = {\n",
        "      \"do_lower_case\": True,\n",
        "      \"unk_token\": \"[UNK]\",\n",
        "      \"sep_token\": \"[SEP]\",\n",
        "      \"pad_token\": \"[PAD]\",\n",
        "      \"cls_token\": \"[CLS]\",\n",
        "      \"mask_token\": \"[MASK]\",\n",
        "      \"model_max_length\": max_length,\n",
        "      \"max_len\": max_length,\n",
        "  }\n",
        "  json.dump(tokenizer_cfg, f)"
      ]
    },
    {
      "cell_type": "code",
      "execution_count": null,
      "metadata": {
        "colab": {
          "background_save": true
        },
        "id": "OkJ_tU4B0jNf",
        "outputId": "a632ee1e-b82d-4967-a83b-7ed4a70333c3"
      },
      "outputs": [
        {
          "name": "stderr",
          "output_type": "stream",
          "text": [
            "Didn't find file pretrained-bert/tokenizer.json. We won't load it.\n",
            "Didn't find file pretrained-bert/added_tokens.json. We won't load it.\n",
            "Didn't find file pretrained-bert/special_tokens_map.json. We won't load it.\n",
            "Didn't find file pretrained-bert/tokenizer_config.json. We won't load it.\n",
            "loading file pretrained-bert/vocab.txt\n",
            "loading file None\n",
            "loading file None\n",
            "loading file None\n",
            "loading file None\n",
            "loading configuration file pretrained-bert/config.json\n",
            "Model config BertConfig {\n",
            "  \"_name_or_path\": \"pretrained-bert\",\n",
            "  \"attention_probs_dropout_prob\": 0.1,\n",
            "  \"classifier_dropout\": null,\n",
            "  \"cls_token\": \"[CLS]\",\n",
            "  \"do_lower_case\": true,\n",
            "  \"hidden_act\": \"gelu\",\n",
            "  \"hidden_dropout_prob\": 0.1,\n",
            "  \"hidden_size\": 768,\n",
            "  \"initializer_range\": 0.02,\n",
            "  \"intermediate_size\": 3072,\n",
            "  \"layer_norm_eps\": 1e-12,\n",
            "  \"mask_token\": \"[MASK]\",\n",
            "  \"max_len\": 512,\n",
            "  \"max_position_embeddings\": 512,\n",
            "  \"model_max_length\": 512,\n",
            "  \"model_type\": \"bert\",\n",
            "  \"num_attention_heads\": 12,\n",
            "  \"num_hidden_layers\": 12,\n",
            "  \"pad_token\": \"[PAD]\",\n",
            "  \"pad_token_id\": 0,\n",
            "  \"position_embedding_type\": \"absolute\",\n",
            "  \"sep_token\": \"[SEP]\",\n",
            "  \"transformers_version\": \"4.18.0\",\n",
            "  \"type_vocab_size\": 2,\n",
            "  \"unk_token\": \"[UNK]\",\n",
            "  \"use_cache\": true,\n",
            "  \"vocab_size\": 30522\n",
            "}\n",
            "\n",
            "loading configuration file pretrained-bert/config.json\n",
            "Model config BertConfig {\n",
            "  \"_name_or_path\": \"pretrained-bert\",\n",
            "  \"attention_probs_dropout_prob\": 0.1,\n",
            "  \"classifier_dropout\": null,\n",
            "  \"cls_token\": \"[CLS]\",\n",
            "  \"do_lower_case\": true,\n",
            "  \"hidden_act\": \"gelu\",\n",
            "  \"hidden_dropout_prob\": 0.1,\n",
            "  \"hidden_size\": 768,\n",
            "  \"initializer_range\": 0.02,\n",
            "  \"intermediate_size\": 3072,\n",
            "  \"layer_norm_eps\": 1e-12,\n",
            "  \"mask_token\": \"[MASK]\",\n",
            "  \"max_len\": 512,\n",
            "  \"max_position_embeddings\": 512,\n",
            "  \"model_max_length\": 512,\n",
            "  \"model_type\": \"bert\",\n",
            "  \"num_attention_heads\": 12,\n",
            "  \"num_hidden_layers\": 12,\n",
            "  \"pad_token\": \"[PAD]\",\n",
            "  \"pad_token_id\": 0,\n",
            "  \"position_embedding_type\": \"absolute\",\n",
            "  \"sep_token\": \"[SEP]\",\n",
            "  \"transformers_version\": \"4.18.0\",\n",
            "  \"type_vocab_size\": 2,\n",
            "  \"unk_token\": \"[UNK]\",\n",
            "  \"use_cache\": true,\n",
            "  \"vocab_size\": 30522\n",
            "}\n",
            "\n"
          ]
        }
      ],
      "source": [
        "# when the tokenizer is trained and configured, load it as BertTokenizerFast\n",
        "tokenizer = BertTokenizerFast.from_pretrained(model_path)"
      ]
    },
    {
      "cell_type": "code",
      "execution_count": null,
      "metadata": {
        "colab": {
          "background_save": true,
          "base_uri": "https://localhost:8080/",
          "height": 66,
          "referenced_widgets": [
            "c3a30fb959aa47f889692b518b2c1664",
            "bed4e885cf5d4b82a38833820b8e118f",
            "4589cb842c7842ddb0e9bca6db71d590",
            "3748fb75842f4392b40fbfab0b7c9caa",
            "938c3b47fef24ad48b0ace7e7dcfcd80",
            "f10afe04e61d4edeb33d8907a1192891",
            "d84d85ce2d3f4dd491a44b97e653e175",
            "54b4cf2d58ba4f87aec5070dbd1ff801",
            "bc97183430e34db4b073305ce07d6f41",
            "c082e56c91ce4bb4a4bb1e0b0001eaa2",
            "6c082c2cd59f483981b4839dff47e071",
            "62fe563ea6a74aa59833ce78423213da"
          ]
        },
        "id": "sYw3cjdQ0pHT",
        "outputId": "277e31b9-2391-4538-d02d-4458e23f3100"
      },
      "outputs": [
        {
          "data": {
            "application/vnd.jupyter.widget-view+json": {
              "model_id": "c3a30fb959aa47f889692b518b2c1664",
              "version_major": 2,
              "version_minor": 0
            },
            "text/plain": [
              "  0%|          | 0/638 [00:00<?, ?ba/s]"
            ]
          },
          "metadata": {},
          "output_type": "display_data"
        },
        {
          "data": {
            "application/vnd.jupyter.widget-view+json": {
              "model_id": "bed4e885cf5d4b82a38833820b8e118f",
              "version_major": 2,
              "version_minor": 0
            },
            "text/plain": [
              "  0%|          | 0/71 [00:00<?, ?ba/s]"
            ]
          },
          "metadata": {},
          "output_type": "display_data"
        }
      ],
      "source": [
        "def encode_with_truncation(examples):\n",
        "  \"\"\"Mapping function to tokenize the sentences passed with truncation\"\"\"\n",
        "  return tokenizer(examples[\"text\"], truncation=True, padding=\"max_length\",\n",
        "                   max_length=max_length, return_special_tokens_mask=True)\n",
        "\n",
        "def encode_without_truncation(examples):\n",
        "  \"\"\"Mapping function to tokenize the sentences passed without truncation\"\"\"\n",
        "  return tokenizer(examples[\"text\"], return_special_tokens_mask=True)\n",
        "\n",
        "# the encode function will depend on the truncate_longer_samples variable\n",
        "encode = encode_with_truncation if truncate_longer_samples else encode_without_truncation\n",
        "\n",
        "# tokenizing the train dataset\n",
        "train_dataset = d[\"train\"].map(encode, batched=True)\n",
        "# tokenizing the testing dataset\n",
        "test_dataset = d[\"test\"].map(encode, batched=True)\n",
        "\n",
        "if truncate_longer_samples:\n",
        "  # remove other columns and set input_ids and attention_mask as PyTorch tensors\n",
        "  train_dataset.set_format(type=\"torch\", columns=[\"input_ids\", \"attention_mask\"])\n",
        "  test_dataset.set_format(type=\"torch\", columns=[\"input_ids\", \"attention_mask\"])\n",
        "else:\n",
        "  # remove other columns, and remain them as Python lists\n",
        "  test_dataset.set_format(columns=[\"input_ids\", \"attention_mask\", \"special_tokens_mask\"])\n",
        "  train_dataset.set_format(columns=[\"input_ids\", \"attention_mask\", \"special_tokens_mask\"])"
      ]
    },
    {
      "cell_type": "code",
      "execution_count": null,
      "metadata": {
        "colab": {
          "background_save": true,
          "base_uri": "https://localhost:8080/",
          "referenced_widgets": [
            "50163d0ddc164a139121adf8f9310e36",
            "40d2d394b8c24beaaa485d7c30dac2ac",
            "6a02439ddba246679fb53b91ccca4d2c",
            "1b57fe0adf5641ddb23713fa97cf28b6",
            "f36b2a7aa3944a5e856e5b17d286a488",
            "362fe85f7741438995a52ea0c85e6474"
          ]
        },
        "id": "5Pe5ZkpvVBl1",
        "outputId": "66a22a43-cc27-48e8-aa92-0f08a76cb48f"
      },
      "outputs": [
        {
          "data": {
            "application/vnd.jupyter.widget-view+json": {
              "model_id": "50163d0ddc164a139121adf8f9310e36",
              "version_major": 2,
              "version_minor": 0
            },
            "text/plain": [
              "Grouping texts in chunks of 512:   0%|          | 0/638 [00:00<?, ?ba/s]"
            ]
          },
          "metadata": {},
          "output_type": "display_data"
        },
        {
          "data": {
            "application/vnd.jupyter.widget-view+json": {
              "model_id": "362fe85f7741438995a52ea0c85e6474",
              "version_major": 2,
              "version_minor": 0
            },
            "text/plain": [
              "Grouping texts in chunks of 512:   0%|          | 0/71 [00:00<?, ?ba/s]"
            ]
          },
          "metadata": {},
          "output_type": "display_data"
        }
      ],
      "source": [
        "from itertools import chain\n",
        "# Main data processing function that will concatenate all texts from our dataset and generate chunks of\n",
        "# max_seq_length.\n",
        "# grabbed from: https://github.com/huggingface/transformers/blob/main/examples/pytorch/language-modeling/run_mlm.py\n",
        "def group_texts(examples):\n",
        "    # Concatenate all texts.\n",
        "    concatenated_examples = {k: list(chain(*examples[k])) for k in examples.keys()}\n",
        "    total_length = len(concatenated_examples[list(examples.keys())[0]])\n",
        "    # We drop the small remainder, we could add padding if the model supported it instead of this drop, you can\n",
        "    # customize this part to your needs.\n",
        "    if total_length >= max_length:\n",
        "        total_length = (total_length // max_length) * max_length\n",
        "    # Split by chunks of max_len.\n",
        "    result = {\n",
        "        k: [t[i : i + max_length] for i in range(0, total_length, max_length)]\n",
        "        for k, t in concatenated_examples.items()\n",
        "    }\n",
        "    return result\n",
        "\n",
        "# Note that with `batched=True`, this map processes 1,000 texts together, so group_texts throws away a\n",
        "# remainder for each of those groups of 1,000 texts. You can adjust that batch_size here but a higher value\n",
        "# might be slower to preprocess.\n",
        "#\n",
        "# To speed up this part, we use multiprocessing. See the documentation of the map method for more information:\n",
        "# https://huggingface.co/docs/datasets/package_reference/main_classes.html#datasets.Dataset.map\n",
        "if not truncate_longer_samples:\n",
        "  train_dataset = train_dataset.map(group_texts, batched=True,\n",
        "                                    desc=f\"Grouping texts in chunks of {max_length}\")\n",
        "  test_dataset = test_dataset.map(group_texts, batched=True,\n",
        "                                  desc=f\"Grouping texts in chunks of {max_length}\")\n",
        "  # convert them from lists to torch tensors\n",
        "  train_dataset.set_format(\"torch\")\n",
        "  test_dataset.set_format(\"torch\")"
      ]
    },
    {
      "cell_type": "code",
      "execution_count": null,
      "metadata": {
        "colab": {
          "background_save": true
        },
        "id": "dZ0oYZbk-SSh",
        "outputId": "bf5b60bb-917a-42b9-eba8-531fa86df0f9"
      },
      "outputs": [
        {
          "data": {
            "text/plain": [
              "(643843, 71357)"
            ]
          },
          "execution_count": null,
          "metadata": {},
          "output_type": "execute_result"
        }
      ],
      "source": [
        "len(train_dataset), len(test_dataset)"
      ]
    },
    {
      "cell_type": "code",
      "execution_count": null,
      "metadata": {
        "colab": {
          "background_save": true
        },
        "id": "Mslndt81024t"
      },
      "outputs": [],
      "source": [
        "# initialize the model with the config\n",
        "model_config = BertConfig(vocab_size=vocab_size, max_position_embeddings=max_length)\n",
        "model = BertForMaskedLM(config=model_config)"
      ]
    },
    {
      "cell_type": "code",
      "execution_count": null,
      "metadata": {
        "colab": {
          "background_save": true
        },
        "id": "kmFCTByJ1OI3"
      },
      "outputs": [],
      "source": [
        "# initialize the data collator, randomly masking 20% (default is 15%) of the tokens for the Masked Language\n",
        "# Modeling (MLM) task\n",
        "data_collator = DataCollatorForLanguageModeling(\n",
        "    tokenizer=tokenizer, mlm=True, mlm_probability=0.2\n",
        ")"
      ]
    },
    {
      "cell_type": "code",
      "execution_count": null,
      "metadata": {
        "colab": {
          "background_save": true
        },
        "id": "IKJdnkAd1uYT",
        "outputId": "81928d26-95d6-4805-a180-683af3a88a2e"
      },
      "outputs": [
        {
          "name": "stderr",
          "output_type": "stream",
          "text": [
            "using `logging_steps` to initialize `eval_steps` to 1000\n",
            "PyTorch: setting up devices\n",
            "The default value for the training argument `--report_to` will change in v5 (from all installed integrations to none). In v5, you will need to use `--report_to all` to get the same behavior as now. You should start updating your code and make this info disappear :-).\n"
          ]
        }
      ],
      "source": [
        "training_args = TrainingArguments(\n",
        "    output_dir=model_path,          # output directory to where save model checkpoint\n",
        "    evaluation_strategy=\"steps\",    # evaluate each `logging_steps` steps\n",
        "    overwrite_output_dir=True,\n",
        "    num_train_epochs=10,            # number of training epochs, feel free to tweak\n",
        "    per_device_train_batch_size=10, # the training batch size, put it as high as your GPU memory fits\n",
        "    gradient_accumulation_steps=8,  # accumulating the gradients before updating the weights\n",
        "    per_device_eval_batch_size=64,  # evaluation batch size\n",
        "    logging_steps=1000,             # evaluate, log and save model checkpoints every 1000 step\n",
        "    save_steps=1000,\n",
        "    # load_best_model_at_end=True,  # whether to load the best model (in terms of loss) at the end of training\n",
        "    # save_total_limit=3,           # whether you don't have much space so you let only 3 model weights saved in the disk\n",
        ")"
      ]
    },
    {
      "cell_type": "code",
      "execution_count": null,
      "metadata": {
        "colab": {
          "background_save": true
        },
        "id": "OMKVmXZN2o7c"
      },
      "outputs": [],
      "source": [
        "# initialize the trainer and pass everything to it\n",
        "trainer = Trainer(\n",
        "    model=model,\n",
        "    args=training_args,\n",
        "    data_collator=data_collator,\n",
        "    train_dataset=train_dataset,\n",
        "    eval_dataset=test_dataset,\n",
        ")"
      ]
    },
    {
      "cell_type": "code",
      "execution_count": null,
      "metadata": {
        "id": "HYsgN58E2tFD",
        "colab": {
          "base_uri": "https://localhost:8080/",
          "height": 1000
        },
        "outputId": "bd4a522a-4fd4-4d4f-fce6-a9fc0cb4cbef"
      },
      "outputs": [
        {
          "metadata": {
            "tags": null
          },
          "name": "stderr",
          "output_type": "stream",
          "text": [
            "The following columns in the training set  don't have a corresponding argument in `BertForMaskedLM.forward` and have been ignored: special_tokens_mask. If special_tokens_mask are not expected by `BertForMaskedLM.forward`,  you can safely ignore this message.\n",
            "/usr/local/lib/python3.7/dist-packages/transformers/optimization.py:309: FutureWarning: This implementation of AdamW is deprecated and will be removed in a future version. Use the PyTorch implementation torch.optim.AdamW instead, or set `no_deprecation_warning=True` to disable this warning\n",
            "  FutureWarning,\n",
            "***** Running training *****\n",
            "  Num examples = 643843\n",
            "  Num Epochs = 10\n",
            "  Instantaneous batch size per device = 10\n",
            "  Total train batch size (w. parallel, distributed & accumulation) = 80\n",
            "  Gradient Accumulation steps = 8\n",
            "  Total optimization steps = 80480\n"
          ]
        },
        {
          "data": {
            "text/html": [
              "\n",
              "    <div>\n",
              "      \n",
              "      <progress value='6001' max='80480' style='width:300px; height:20px; vertical-align: middle;'></progress>\n",
              "      [ 6001/80480 10:33:18 < 131:02:39, 0.16 it/s, Epoch 0.75/10]\n",
              "    </div>\n",
              "    <table border=\"1\" class=\"dataframe\">\n",
              "  <thead>\n",
              " <tr style=\"text-align: left;\">\n",
              "      <th>Step</th>\n",
              "      <th>Training Loss</th>\n",
              "      <th>Validation Loss</th>\n",
              "    </tr>\n",
              "  </thead>\n",
              "  <tbody>\n",
              "    <tr>\n",
              "      <td>1000</td>\n",
              "      <td>6.860800</td>\n",
              "      <td>6.550845</td>\n",
              "    </tr>\n",
              "    <tr>\n",
              "      <td>2000</td>\n",
              "      <td>6.518700</td>\n",
              "      <td>6.451167</td>\n",
              "    </tr>\n",
              "    <tr>\n",
              "      <td>3000</td>\n",
              "      <td>6.431700</td>\n",
              "      <td>6.387487</td>\n",
              "    </tr>\n",
              "    <tr>\n",
              "      <td>4000</td>\n",
              "      <td>6.376600</td>\n",
              "      <td>6.341373</td>\n",
              "    </tr>\n",
              "    <tr>\n",
              "      <td>5000</td>\n",
              "      <td>6.332300</td>\n",
              "      <td>6.307063</td>\n",
              "    </tr>\n",
              "  </tbody>\n",
              "</table><p>\n",
              "    <div>\n",
              "      \n",
              "      <progress value='356' max='1115' style='width:300px; height:20px; vertical-align: middle;'></progress>\n",
              "      [ 356/1115 07:19 < 15:40, 0.81 it/s]\n",
              "    </div>\n",
              "    "
            ],
            "text/plain": [
              "<IPython.core.display.HTML object>"
            ]
          },
          "metadata": {},
          "output_type": "display_data"
        },
        {
          "metadata": {
            "tags": null
          },
          "name": "stderr",
          "output_type": "stream",
          "text": [
            "The following columns in the evaluation set  don't have a corresponding argument in `BertForMaskedLM.forward` and have been ignored: special_tokens_mask. If special_tokens_mask are not expected by `BertForMaskedLM.forward`,  you can safely ignore this message.\n",
            "***** Running Evaluation *****\n",
            "  Num examples = 71357\n",
            "  Batch size = 64\n",
            "Saving model checkpoint to pretrained-bert/checkpoint-1000\n",
            "Configuration saved in pretrained-bert/checkpoint-1000/config.json\n",
            "Model weights saved in pretrained-bert/checkpoint-1000/pytorch_model.bin\n",
            "The following columns in the evaluation set  don't have a corresponding argument in `BertForMaskedLM.forward` and have been ignored: special_tokens_mask. If special_tokens_mask are not expected by `BertForMaskedLM.forward`,  you can safely ignore this message.\n",
            "***** Running Evaluation *****\n",
            "  Num examples = 71357\n",
            "  Batch size = 64\n",
            "Saving model checkpoint to pretrained-bert/checkpoint-2000\n",
            "Configuration saved in pretrained-bert/checkpoint-2000/config.json\n",
            "Model weights saved in pretrained-bert/checkpoint-2000/pytorch_model.bin\n",
            "The following columns in the evaluation set  don't have a corresponding argument in `BertForMaskedLM.forward` and have been ignored: special_tokens_mask. If special_tokens_mask are not expected by `BertForMaskedLM.forward`,  you can safely ignore this message.\n",
            "***** Running Evaluation *****\n",
            "  Num examples = 71357\n",
            "  Batch size = 64\n",
            "Saving model checkpoint to pretrained-bert/checkpoint-3000\n",
            "Configuration saved in pretrained-bert/checkpoint-3000/config.json\n",
            "Model weights saved in pretrained-bert/checkpoint-3000/pytorch_model.bin\n",
            "The following columns in the evaluation set  don't have a corresponding argument in `BertForMaskedLM.forward` and have been ignored: special_tokens_mask. If special_tokens_mask are not expected by `BertForMaskedLM.forward`,  you can safely ignore this message.\n",
            "***** Running Evaluation *****\n",
            "  Num examples = 71357\n",
            "  Batch size = 64\n",
            "Saving model checkpoint to pretrained-bert/checkpoint-4000\n",
            "Configuration saved in pretrained-bert/checkpoint-4000/config.json\n",
            "Model weights saved in pretrained-bert/checkpoint-4000/pytorch_model.bin\n",
            "The following columns in the evaluation set  don't have a corresponding argument in `BertForMaskedLM.forward` and have been ignored: special_tokens_mask. If special_tokens_mask are not expected by `BertForMaskedLM.forward`,  you can safely ignore this message.\n",
            "***** Running Evaluation *****\n",
            "  Num examples = 71357\n",
            "  Batch size = 64\n",
            "Saving model checkpoint to pretrained-bert/checkpoint-5000\n",
            "Configuration saved in pretrained-bert/checkpoint-5000/config.json\n",
            "Model weights saved in pretrained-bert/checkpoint-5000/pytorch_model.bin\n",
            "The following columns in the evaluation set  don't have a corresponding argument in `BertForMaskedLM.forward` and have been ignored: special_tokens_mask. If special_tokens_mask are not expected by `BertForMaskedLM.forward`,  you can safely ignore this message.\n",
            "***** Running Evaluation *****\n",
            "  Num examples = 71357\n",
            "  Batch size = 64\n"
          ]
        },
        {
          "output_type": "display_data",
          "data": {
            "text/plain": [
              "<IPython.core.display.HTML object>"
            ],
            "text/html": [
              "\n",
              "    <div>\n",
              "      \n",
              "      <progress value='6056' max='80480' style='width:300px; height:20px; vertical-align: middle;'></progress>\n",
              "      [ 6056/80480 11:01:09 < 135:27:46, 0.15 it/s, Epoch 0.75/10]\n",
              "    </div>\n",
              "    <table border=\"1\" class=\"dataframe\">\n",
              "  <thead>\n",
              " <tr style=\"text-align: left;\">\n",
              "      <th>Step</th>\n",
              "      <th>Training Loss</th>\n",
              "      <th>Validation Loss</th>\n",
              "    </tr>\n",
              "  </thead>\n",
              "  <tbody>\n",
              "    <tr>\n",
              "      <td>1000</td>\n",
              "      <td>6.860800</td>\n",
              "      <td>6.550845</td>\n",
              "    </tr>\n",
              "    <tr>\n",
              "      <td>2000</td>\n",
              "      <td>6.518700</td>\n",
              "      <td>6.451167</td>\n",
              "    </tr>\n",
              "    <tr>\n",
              "      <td>3000</td>\n",
              "      <td>6.431700</td>\n",
              "      <td>6.387487</td>\n",
              "    </tr>\n",
              "    <tr>\n",
              "      <td>4000</td>\n",
              "      <td>6.376600</td>\n",
              "      <td>6.341373</td>\n",
              "    </tr>\n",
              "    <tr>\n",
              "      <td>5000</td>\n",
              "      <td>6.332300</td>\n",
              "      <td>6.307063</td>\n",
              "    </tr>\n",
              "    <tr>\n",
              "      <td>6000</td>\n",
              "      <td>6.298900</td>\n",
              "      <td>6.275374</td>\n",
              "    </tr>\n",
              "  </tbody>\n",
              "</table><p>"
            ]
          },
          "metadata": {}
        },
        {
          "output_type": "stream",
          "name": "stderr",
          "text": [
            "Saving model checkpoint to pretrained-bert/checkpoint-6000\n",
            "Configuration saved in pretrained-bert/checkpoint-6000/config.json\n",
            "Model weights saved in pretrained-bert/checkpoint-6000/pytorch_model.bin\n"
          ]
        },
        {
          "output_type": "error",
          "ename": "KeyboardInterrupt",
          "evalue": "ignored",
          "traceback": [
            "\u001b[0;31m---------------------------------------------------------------------------\u001b[0m",
            "\u001b[0;31mKeyboardInterrupt\u001b[0m                         Traceback (most recent call last)",
            "\u001b[0;32m<ipython-input-21-2820d0f34efe>\u001b[0m in \u001b[0;36m<module>\u001b[0;34m()\u001b[0m\n\u001b[1;32m      1\u001b[0m \u001b[0;31m# train the model\u001b[0m\u001b[0;34m\u001b[0m\u001b[0;34m\u001b[0m\u001b[0;34m\u001b[0m\u001b[0m\n\u001b[0;32m----> 2\u001b[0;31m \u001b[0mtrainer\u001b[0m\u001b[0;34m.\u001b[0m\u001b[0mtrain\u001b[0m\u001b[0;34m(\u001b[0m\u001b[0;34m)\u001b[0m\u001b[0;34m\u001b[0m\u001b[0;34m\u001b[0m\u001b[0m\n\u001b[0m",
            "\u001b[0;32m/usr/local/lib/python3.7/dist-packages/transformers/trainer.py\u001b[0m in \u001b[0;36mtrain\u001b[0;34m(self, resume_from_checkpoint, trial, ignore_keys_for_eval, **kwargs)\u001b[0m\n\u001b[1;32m   1420\u001b[0m                         \u001b[0mtr_loss_step\u001b[0m \u001b[0;34m=\u001b[0m \u001b[0mself\u001b[0m\u001b[0;34m.\u001b[0m\u001b[0mtraining_step\u001b[0m\u001b[0;34m(\u001b[0m\u001b[0mmodel\u001b[0m\u001b[0;34m,\u001b[0m \u001b[0minputs\u001b[0m\u001b[0;34m)\u001b[0m\u001b[0;34m\u001b[0m\u001b[0;34m\u001b[0m\u001b[0m\n\u001b[1;32m   1421\u001b[0m                 \u001b[0;32melse\u001b[0m\u001b[0;34m:\u001b[0m\u001b[0;34m\u001b[0m\u001b[0;34m\u001b[0m\u001b[0m\n\u001b[0;32m-> 1422\u001b[0;31m                     \u001b[0mtr_loss_step\u001b[0m \u001b[0;34m=\u001b[0m \u001b[0mself\u001b[0m\u001b[0;34m.\u001b[0m\u001b[0mtraining_step\u001b[0m\u001b[0;34m(\u001b[0m\u001b[0mmodel\u001b[0m\u001b[0;34m,\u001b[0m \u001b[0minputs\u001b[0m\u001b[0;34m)\u001b[0m\u001b[0;34m\u001b[0m\u001b[0;34m\u001b[0m\u001b[0m\n\u001b[0m\u001b[1;32m   1423\u001b[0m \u001b[0;34m\u001b[0m\u001b[0m\n\u001b[1;32m   1424\u001b[0m                 if (\n",
            "\u001b[0;32m/usr/local/lib/python3.7/dist-packages/transformers/trainer.py\u001b[0m in \u001b[0;36mtraining_step\u001b[0;34m(self, model, inputs)\u001b[0m\n\u001b[1;32m   2027\u001b[0m             \u001b[0mloss\u001b[0m \u001b[0;34m=\u001b[0m \u001b[0mself\u001b[0m\u001b[0;34m.\u001b[0m\u001b[0mdeepspeed\u001b[0m\u001b[0;34m.\u001b[0m\u001b[0mbackward\u001b[0m\u001b[0;34m(\u001b[0m\u001b[0mloss\u001b[0m\u001b[0;34m)\u001b[0m\u001b[0;34m\u001b[0m\u001b[0;34m\u001b[0m\u001b[0m\n\u001b[1;32m   2028\u001b[0m         \u001b[0;32melse\u001b[0m\u001b[0;34m:\u001b[0m\u001b[0;34m\u001b[0m\u001b[0;34m\u001b[0m\u001b[0m\n\u001b[0;32m-> 2029\u001b[0;31m             \u001b[0mloss\u001b[0m\u001b[0;34m.\u001b[0m\u001b[0mbackward\u001b[0m\u001b[0;34m(\u001b[0m\u001b[0;34m)\u001b[0m\u001b[0;34m\u001b[0m\u001b[0;34m\u001b[0m\u001b[0m\n\u001b[0m\u001b[1;32m   2030\u001b[0m \u001b[0;34m\u001b[0m\u001b[0m\n\u001b[1;32m   2031\u001b[0m         \u001b[0;32mreturn\u001b[0m \u001b[0mloss\u001b[0m\u001b[0;34m.\u001b[0m\u001b[0mdetach\u001b[0m\u001b[0;34m(\u001b[0m\u001b[0;34m)\u001b[0m\u001b[0;34m\u001b[0m\u001b[0;34m\u001b[0m\u001b[0m\n",
            "\u001b[0;32m/usr/local/lib/python3.7/dist-packages/torch/_tensor.py\u001b[0m in \u001b[0;36mbackward\u001b[0;34m(self, gradient, retain_graph, create_graph, inputs)\u001b[0m\n\u001b[1;32m    361\u001b[0m                 \u001b[0mcreate_graph\u001b[0m\u001b[0;34m=\u001b[0m\u001b[0mcreate_graph\u001b[0m\u001b[0;34m,\u001b[0m\u001b[0;34m\u001b[0m\u001b[0;34m\u001b[0m\u001b[0m\n\u001b[1;32m    362\u001b[0m                 inputs=inputs)\n\u001b[0;32m--> 363\u001b[0;31m         \u001b[0mtorch\u001b[0m\u001b[0;34m.\u001b[0m\u001b[0mautograd\u001b[0m\u001b[0;34m.\u001b[0m\u001b[0mbackward\u001b[0m\u001b[0;34m(\u001b[0m\u001b[0mself\u001b[0m\u001b[0;34m,\u001b[0m \u001b[0mgradient\u001b[0m\u001b[0;34m,\u001b[0m \u001b[0mretain_graph\u001b[0m\u001b[0;34m,\u001b[0m \u001b[0mcreate_graph\u001b[0m\u001b[0;34m,\u001b[0m \u001b[0minputs\u001b[0m\u001b[0;34m=\u001b[0m\u001b[0minputs\u001b[0m\u001b[0;34m)\u001b[0m\u001b[0;34m\u001b[0m\u001b[0;34m\u001b[0m\u001b[0m\n\u001b[0m\u001b[1;32m    364\u001b[0m \u001b[0;34m\u001b[0m\u001b[0m\n\u001b[1;32m    365\u001b[0m     \u001b[0;32mdef\u001b[0m \u001b[0mregister_hook\u001b[0m\u001b[0;34m(\u001b[0m\u001b[0mself\u001b[0m\u001b[0;34m,\u001b[0m \u001b[0mhook\u001b[0m\u001b[0;34m)\u001b[0m\u001b[0;34m:\u001b[0m\u001b[0;34m\u001b[0m\u001b[0;34m\u001b[0m\u001b[0m\n",
            "\u001b[0;32m/usr/local/lib/python3.7/dist-packages/torch/autograd/__init__.py\u001b[0m in \u001b[0;36mbackward\u001b[0;34m(tensors, grad_tensors, retain_graph, create_graph, grad_variables, inputs)\u001b[0m\n\u001b[1;32m    173\u001b[0m     Variable._execution_engine.run_backward(  # Calls into the C++ engine to run the backward pass\n\u001b[1;32m    174\u001b[0m         \u001b[0mtensors\u001b[0m\u001b[0;34m,\u001b[0m \u001b[0mgrad_tensors_\u001b[0m\u001b[0;34m,\u001b[0m \u001b[0mretain_graph\u001b[0m\u001b[0;34m,\u001b[0m \u001b[0mcreate_graph\u001b[0m\u001b[0;34m,\u001b[0m \u001b[0minputs\u001b[0m\u001b[0;34m,\u001b[0m\u001b[0;34m\u001b[0m\u001b[0;34m\u001b[0m\u001b[0m\n\u001b[0;32m--> 175\u001b[0;31m         allow_unreachable=True, accumulate_grad=True)  # Calls into the C++ engine to run the backward pass\n\u001b[0m\u001b[1;32m    176\u001b[0m \u001b[0;34m\u001b[0m\u001b[0m\n\u001b[1;32m    177\u001b[0m def grad(\n",
            "\u001b[0;31mKeyboardInterrupt\u001b[0m: "
          ]
        }
      ],
      "source": [
        "# train the model\n",
        "trainer.train()"
      ]
    },
    {
      "cell_type": "code",
      "execution_count": null,
      "metadata": {
        "id": "dUZSRAxV2vp-",
        "colab": {
          "base_uri": "https://localhost:8080/"
        },
        "outputId": "9aac4c86-199d-4ba3-9b79-614ba8c97fe1"
      },
      "outputs": [
        {
          "output_type": "stream",
          "name": "stderr",
          "text": [
            "loading configuration file pretrained-bert/checkpoint-6000/config.json\n",
            "Model config BertConfig {\n",
            "  \"architectures\": [\n",
            "    \"BertForMaskedLM\"\n",
            "  ],\n",
            "  \"attention_probs_dropout_prob\": 0.1,\n",
            "  \"classifier_dropout\": null,\n",
            "  \"hidden_act\": \"gelu\",\n",
            "  \"hidden_dropout_prob\": 0.1,\n",
            "  \"hidden_size\": 768,\n",
            "  \"initializer_range\": 0.02,\n",
            "  \"intermediate_size\": 3072,\n",
            "  \"layer_norm_eps\": 1e-12,\n",
            "  \"max_position_embeddings\": 512,\n",
            "  \"model_type\": \"bert\",\n",
            "  \"num_attention_heads\": 12,\n",
            "  \"num_hidden_layers\": 12,\n",
            "  \"pad_token_id\": 0,\n",
            "  \"position_embedding_type\": \"absolute\",\n",
            "  \"torch_dtype\": \"float32\",\n",
            "  \"transformers_version\": \"4.18.0\",\n",
            "  \"type_vocab_size\": 2,\n",
            "  \"use_cache\": true,\n",
            "  \"vocab_size\": 30522\n",
            "}\n",
            "\n",
            "loading weights file pretrained-bert/checkpoint-6000/pytorch_model.bin\n",
            "All model checkpoint weights were used when initializing BertForMaskedLM.\n",
            "\n",
            "All the weights of BertForMaskedLM were initialized from the model checkpoint at pretrained-bert/checkpoint-6000.\n",
            "If your task is similar to the task the model of the checkpoint was trained on, you can already use BertForMaskedLM for predictions without further training.\n",
            "Didn't find file pretrained-bert/tokenizer.json. We won't load it.\n",
            "Didn't find file pretrained-bert/added_tokens.json. We won't load it.\n",
            "Didn't find file pretrained-bert/special_tokens_map.json. We won't load it.\n",
            "Didn't find file pretrained-bert/tokenizer_config.json. We won't load it.\n",
            "loading file pretrained-bert/vocab.txt\n",
            "loading file None\n",
            "loading file None\n",
            "loading file None\n",
            "loading file None\n",
            "loading configuration file pretrained-bert/config.json\n",
            "Model config BertConfig {\n",
            "  \"_name_or_path\": \"pretrained-bert\",\n",
            "  \"attention_probs_dropout_prob\": 0.1,\n",
            "  \"classifier_dropout\": null,\n",
            "  \"cls_token\": \"[CLS]\",\n",
            "  \"do_lower_case\": true,\n",
            "  \"hidden_act\": \"gelu\",\n",
            "  \"hidden_dropout_prob\": 0.1,\n",
            "  \"hidden_size\": 768,\n",
            "  \"initializer_range\": 0.02,\n",
            "  \"intermediate_size\": 3072,\n",
            "  \"layer_norm_eps\": 1e-12,\n",
            "  \"mask_token\": \"[MASK]\",\n",
            "  \"max_len\": 512,\n",
            "  \"max_position_embeddings\": 512,\n",
            "  \"model_max_length\": 512,\n",
            "  \"model_type\": \"bert\",\n",
            "  \"num_attention_heads\": 12,\n",
            "  \"num_hidden_layers\": 12,\n",
            "  \"pad_token\": \"[PAD]\",\n",
            "  \"pad_token_id\": 0,\n",
            "  \"position_embedding_type\": \"absolute\",\n",
            "  \"sep_token\": \"[SEP]\",\n",
            "  \"transformers_version\": \"4.18.0\",\n",
            "  \"type_vocab_size\": 2,\n",
            "  \"unk_token\": \"[UNK]\",\n",
            "  \"use_cache\": true,\n",
            "  \"vocab_size\": 30522\n",
            "}\n",
            "\n",
            "loading configuration file pretrained-bert/config.json\n",
            "Model config BertConfig {\n",
            "  \"_name_or_path\": \"pretrained-bert\",\n",
            "  \"attention_probs_dropout_prob\": 0.1,\n",
            "  \"classifier_dropout\": null,\n",
            "  \"cls_token\": \"[CLS]\",\n",
            "  \"do_lower_case\": true,\n",
            "  \"hidden_act\": \"gelu\",\n",
            "  \"hidden_dropout_prob\": 0.1,\n",
            "  \"hidden_size\": 768,\n",
            "  \"initializer_range\": 0.02,\n",
            "  \"intermediate_size\": 3072,\n",
            "  \"layer_norm_eps\": 1e-12,\n",
            "  \"mask_token\": \"[MASK]\",\n",
            "  \"max_len\": 512,\n",
            "  \"max_position_embeddings\": 512,\n",
            "  \"model_max_length\": 512,\n",
            "  \"model_type\": \"bert\",\n",
            "  \"num_attention_heads\": 12,\n",
            "  \"num_hidden_layers\": 12,\n",
            "  \"pad_token\": \"[PAD]\",\n",
            "  \"pad_token_id\": 0,\n",
            "  \"position_embedding_type\": \"absolute\",\n",
            "  \"sep_token\": \"[SEP]\",\n",
            "  \"transformers_version\": \"4.18.0\",\n",
            "  \"type_vocab_size\": 2,\n",
            "  \"unk_token\": \"[UNK]\",\n",
            "  \"use_cache\": true,\n",
            "  \"vocab_size\": 30522\n",
            "}\n",
            "\n"
          ]
        }
      ],
      "source": [
        "# when you load from pretrained\n",
        "model = BertForMaskedLM.from_pretrained(os.path.join(model_path, \"checkpoint-6000\"))\n",
        "tokenizer = BertTokenizerFast.from_pretrained(model_path)\n",
        "# or simply use pipeline\n",
        "fill_mask = pipeline(\"fill-mask\", model=model, tokenizer=tokenizer)"
      ]
    },
    {
      "cell_type": "code",
      "execution_count": null,
      "metadata": {
        "colab": {
          "base_uri": "https://localhost:8080/"
        },
        "id": "vJO-1w15ARHs",
        "outputId": "346b2c7b-d65b-44f1-9fca-e3493435aca2"
      },
      "outputs": [
        {
          "output_type": "stream",
          "name": "stdout",
          "text": [
            "{'score': 0.06537885963916779, 'token': 1556, 'token_str': 'the', 'sequence': 'it is known that the is the capital of germany'}\n",
            "{'score': 0.036817438900470734, 'token': 20, 'token_str': '.', 'sequence': 'it is known that. is the capital of germany'}\n",
            "{'score': 0.0335884727537632, 'token': 18, 'token_str': ',', 'sequence': 'it is known that, is the capital of germany'}\n",
            "{'score': 0.027838902547955513, 'token': 1573, 'token_str': 'of', 'sequence': 'it is known that of is the capital of germany'}\n",
            "{'score': 0.027804739773273468, 'token': 1609, 'token_str': 'is', 'sequence': 'it is known that is is the capital of germany'}\n"
          ]
        }
      ],
      "source": [
        "# perform predictions\n",
        "example = \"It is known that [MASK] is the capital of Germany\"\n",
        "for prediction in fill_mask(example):\n",
        "  print(prediction)"
      ]
    },
    {
      "cell_type": "code",
      "source": [
        "# perform predictions\n",
        "examples = [\n",
        "  \"Today's most trending hashtags on [MASK] is Donald Trump\",\n",
        "  \"The [MASK] was cloudy yesterday, but today it's rainy.\",\n",
        "]\n",
        "for example in examples:\n",
        "  for prediction in fill_mask(example):\n",
        "    print(f\"{prediction['sequence']}, confidence: {prediction['score']}\")\n",
        "  print(\"=\"*50)"
      ],
      "metadata": {
        "colab": {
          "base_uri": "https://localhost:8080/"
        },
        "id": "8ROoCqpssCb9",
        "outputId": "cb795c9c-b77d-42ed-c779-0cf963fcddd2"
      },
      "execution_count": null,
      "outputs": [
        {
          "output_type": "stream",
          "name": "stdout",
          "text": [
            "today's most trending hashtags on trump is donald trump, confidence: 0.05097166821360588\n",
            "today's most trending hashtags on. is donald trump, confidence: 0.04177526384592056\n",
            "today's most trending hashtags on'is donald trump, confidence: 0.040809836238622665\n",
            "today's most trending hashtags on the is donald trump, confidence: 0.03832641988992691\n",
            "today's most trending hashtags on, is donald trump, confidence: 0.024022724479436874\n",
            "==================================================\n",
            "the. was cloudy yesterday, but today it's rainy., confidence: 0.0627809464931488\n",
            "the the was cloudy yesterday, but today it's rainy., confidence: 0.0463297963142395\n",
            "the, was cloudy yesterday, but today it's rainy., confidence: 0.03323638439178467\n",
            "the to was cloudy yesterday, but today it's rainy., confidence: 0.025685036554932594\n",
            "the'was cloudy yesterday, but today it's rainy., confidence: 0.024147875607013702\n",
            "==================================================\n"
          ]
        }
      ]
    },
    {
      "cell_type": "code",
      "execution_count": null,
      "metadata": {
        "id": "gGkOvmFaYkF2",
        "colab": {
          "base_uri": "https://localhost:8080/"
        },
        "outputId": "8deff2cf-85dd-42ef-eb1d-4a03a78cc9fc"
      },
      "outputs": [
        {
          "output_type": "stream",
          "name": "stdout",
          "text": [
            "Fri Jun  3 08:32:51 2022       \n",
            "+-----------------------------------------------------------------------------+\n",
            "| NVIDIA-SMI 460.32.03    Driver Version: 460.32.03    CUDA Version: 11.2     |\n",
            "|-------------------------------+----------------------+----------------------+\n",
            "| GPU  Name        Persistence-M| Bus-Id        Disp.A | Volatile Uncorr. ECC |\n",
            "| Fan  Temp  Perf  Pwr:Usage/Cap|         Memory-Usage | GPU-Util  Compute M. |\n",
            "|                               |                      |               MIG M. |\n",
            "|===============================+======================+======================|\n",
            "|   0  Tesla P100-PCIE...  Off  | 00000000:00:04.0 Off |                    0 |\n",
            "| N/A   52C    P0    38W / 250W |  14725MiB / 16280MiB |      0%      Default |\n",
            "|                               |                      |                  N/A |\n",
            "+-------------------------------+----------------------+----------------------+\n",
            "                                                                               \n",
            "+-----------------------------------------------------------------------------+\n",
            "| Processes:                                                                  |\n",
            "|  GPU   GI   CI        PID   Type   Process name                  GPU Memory |\n",
            "|        ID   ID                                                   Usage      |\n",
            "|=============================================================================|\n",
            "+-----------------------------------------------------------------------------+\n"
          ]
        }
      ],
      "source": [
        "!nvidia-smi"
      ]
    }
  ],
  "metadata": {
    "accelerator": "GPU",
    "colab": {
      "provenance": []
    },
    "kernelspec": {
      "display_name": "Python 3",
      "name": "python3"
    },
    "language_info": {
      "name": "python"
    },
    "widgets": {
      "application/vnd.jupyter.widget-state+json": {
        "3748fb75842f4392b40fbfab0b7c9caa": {
          "model_module": "@jupyter-widgets/controls",
          "model_module_version": "1.5.0",
          "model_name": "FloatProgressModel",
          "state": {
            "_dom_classes": [],
            "_model_module": "@jupyter-widgets/controls",
            "_model_module_version": "1.5.0",
            "_model_name": "FloatProgressModel",
            "_view_count": null,
            "_view_module": "@jupyter-widgets/controls",
            "_view_module_version": "1.5.0",
            "_view_name": "ProgressView",
            "bar_style": "success",
            "description": "",
            "description_tooltip": null,
            "layout": "IPY_MODEL_bc97183430e34db4b073305ce07d6f41",
            "max": 71,
            "min": 0,
            "orientation": "horizontal",
            "style": "IPY_MODEL_c082e56c91ce4bb4a4bb1e0b0001eaa2",
            "value": 71
          }
        },
        "4589cb842c7842ddb0e9bca6db71d590": {
          "model_module": "@jupyter-widgets/controls",
          "model_module_version": "1.5.0",
          "model_name": "HTMLModel",
          "state": {
            "_dom_classes": [],
            "_model_module": "@jupyter-widgets/controls",
            "_model_module_version": "1.5.0",
            "_model_name": "HTMLModel",
            "_view_count": null,
            "_view_module": "@jupyter-widgets/controls",
            "_view_module_version": "1.5.0",
            "_view_name": "HTMLView",
            "description": "",
            "description_tooltip": null,
            "layout": "IPY_MODEL_d84d85ce2d3f4dd491a44b97e653e175",
            "placeholder": "​",
            "style": "IPY_MODEL_54b4cf2d58ba4f87aec5070dbd1ff801",
            "value": "100%"
          }
        },
        "50163d0ddc164a139121adf8f9310e36": {
          "model_module": "@jupyter-widgets/controls",
          "model_module_version": "1.5.0",
          "model_name": "HBoxModel",
          "state": {
            "_dom_classes": [],
            "_model_module": "@jupyter-widgets/controls",
            "_model_module_version": "1.5.0",
            "_model_name": "HBoxModel",
            "_view_count": null,
            "_view_module": "@jupyter-widgets/controls",
            "_view_module_version": "1.5.0",
            "_view_name": "HBoxView",
            "box_style": "",
            "children": [
              "IPY_MODEL_40d2d394b8c24beaaa485d7c30dac2ac",
              "IPY_MODEL_6a02439ddba246679fb53b91ccca4d2c",
              "IPY_MODEL_1b57fe0adf5641ddb23713fa97cf28b6"
            ],
            "layout": "IPY_MODEL_f36b2a7aa3944a5e856e5b17d286a488"
          }
        },
        "54b4cf2d58ba4f87aec5070dbd1ff801": {
          "model_module": "@jupyter-widgets/controls",
          "model_module_version": "1.5.0",
          "model_name": "DescriptionStyleModel",
          "state": {
            "_model_module": "@jupyter-widgets/controls",
            "_model_module_version": "1.5.0",
            "_model_name": "DescriptionStyleModel",
            "_view_count": null,
            "_view_module": "@jupyter-widgets/base",
            "_view_module_version": "1.2.0",
            "_view_name": "StyleView",
            "description_width": ""
          }
        },
        "62fe563ea6a74aa59833ce78423213da": {
          "model_module": "@jupyter-widgets/controls",
          "model_module_version": "1.5.0",
          "model_name": "DescriptionStyleModel",
          "state": {
            "_model_module": "@jupyter-widgets/controls",
            "_model_module_version": "1.5.0",
            "_model_name": "DescriptionStyleModel",
            "_view_count": null,
            "_view_module": "@jupyter-widgets/base",
            "_view_module_version": "1.2.0",
            "_view_name": "StyleView",
            "description_width": ""
          }
        },
        "6c082c2cd59f483981b4839dff47e071": {
          "model_module": "@jupyter-widgets/base",
          "model_module_version": "1.2.0",
          "model_name": "LayoutModel",
          "state": {
            "_model_module": "@jupyter-widgets/base",
            "_model_module_version": "1.2.0",
            "_model_name": "LayoutModel",
            "_view_count": null,
            "_view_module": "@jupyter-widgets/base",
            "_view_module_version": "1.2.0",
            "_view_name": "LayoutView",
            "align_content": null,
            "align_items": null,
            "align_self": null,
            "border": null,
            "bottom": null,
            "display": null,
            "flex": null,
            "flex_flow": null,
            "grid_area": null,
            "grid_auto_columns": null,
            "grid_auto_flow": null,
            "grid_auto_rows": null,
            "grid_column": null,
            "grid_gap": null,
            "grid_row": null,
            "grid_template_areas": null,
            "grid_template_columns": null,
            "grid_template_rows": null,
            "height": null,
            "justify_content": null,
            "justify_items": null,
            "left": null,
            "margin": null,
            "max_height": null,
            "max_width": null,
            "min_height": null,
            "min_width": null,
            "object_fit": null,
            "object_position": null,
            "order": null,
            "overflow": null,
            "overflow_x": null,
            "overflow_y": null,
            "padding": null,
            "right": null,
            "top": null,
            "visibility": null,
            "width": null
          }
        },
        "938c3b47fef24ad48b0ace7e7dcfcd80": {
          "model_module": "@jupyter-widgets/controls",
          "model_module_version": "1.5.0",
          "model_name": "HTMLModel",
          "state": {
            "_dom_classes": [],
            "_model_module": "@jupyter-widgets/controls",
            "_model_module_version": "1.5.0",
            "_model_name": "HTMLModel",
            "_view_count": null,
            "_view_module": "@jupyter-widgets/controls",
            "_view_module_version": "1.5.0",
            "_view_name": "HTMLView",
            "description": "",
            "description_tooltip": null,
            "layout": "IPY_MODEL_6c082c2cd59f483981b4839dff47e071",
            "placeholder": "​",
            "style": "IPY_MODEL_62fe563ea6a74aa59833ce78423213da",
            "value": " 71/71 [01:46&lt;00:00,  1.42s/ba]"
          }
        },
        "bc97183430e34db4b073305ce07d6f41": {
          "model_module": "@jupyter-widgets/base",
          "model_module_version": "1.2.0",
          "model_name": "LayoutModel",
          "state": {
            "_model_module": "@jupyter-widgets/base",
            "_model_module_version": "1.2.0",
            "_model_name": "LayoutModel",
            "_view_count": null,
            "_view_module": "@jupyter-widgets/base",
            "_view_module_version": "1.2.0",
            "_view_name": "LayoutView",
            "align_content": null,
            "align_items": null,
            "align_self": null,
            "border": null,
            "bottom": null,
            "display": null,
            "flex": null,
            "flex_flow": null,
            "grid_area": null,
            "grid_auto_columns": null,
            "grid_auto_flow": null,
            "grid_auto_rows": null,
            "grid_column": null,
            "grid_gap": null,
            "grid_row": null,
            "grid_template_areas": null,
            "grid_template_columns": null,
            "grid_template_rows": null,
            "height": null,
            "justify_content": null,
            "justify_items": null,
            "left": null,
            "margin": null,
            "max_height": null,
            "max_width": null,
            "min_height": null,
            "min_width": null,
            "object_fit": null,
            "object_position": null,
            "order": null,
            "overflow": null,
            "overflow_x": null,
            "overflow_y": null,
            "padding": null,
            "right": null,
            "top": null,
            "visibility": null,
            "width": null
          }
        },
        "bed4e885cf5d4b82a38833820b8e118f": {
          "model_module": "@jupyter-widgets/controls",
          "model_module_version": "1.5.0",
          "model_name": "HBoxModel",
          "state": {
            "_dom_classes": [],
            "_model_module": "@jupyter-widgets/controls",
            "_model_module_version": "1.5.0",
            "_model_name": "HBoxModel",
            "_view_count": null,
            "_view_module": "@jupyter-widgets/controls",
            "_view_module_version": "1.5.0",
            "_view_name": "HBoxView",
            "box_style": "",
            "children": [
              "IPY_MODEL_4589cb842c7842ddb0e9bca6db71d590",
              "IPY_MODEL_3748fb75842f4392b40fbfab0b7c9caa",
              "IPY_MODEL_938c3b47fef24ad48b0ace7e7dcfcd80"
            ],
            "layout": "IPY_MODEL_f10afe04e61d4edeb33d8907a1192891"
          }
        },
        "c082e56c91ce4bb4a4bb1e0b0001eaa2": {
          "model_module": "@jupyter-widgets/controls",
          "model_module_version": "1.5.0",
          "model_name": "ProgressStyleModel",
          "state": {
            "_model_module": "@jupyter-widgets/controls",
            "_model_module_version": "1.5.0",
            "_model_name": "ProgressStyleModel",
            "_view_count": null,
            "_view_module": "@jupyter-widgets/base",
            "_view_module_version": "1.2.0",
            "_view_name": "StyleView",
            "bar_color": null,
            "description_width": ""
          }
        },
        "d84d85ce2d3f4dd491a44b97e653e175": {
          "model_module": "@jupyter-widgets/base",
          "model_module_version": "1.2.0",
          "model_name": "LayoutModel",
          "state": {
            "_model_module": "@jupyter-widgets/base",
            "_model_module_version": "1.2.0",
            "_model_name": "LayoutModel",
            "_view_count": null,
            "_view_module": "@jupyter-widgets/base",
            "_view_module_version": "1.2.0",
            "_view_name": "LayoutView",
            "align_content": null,
            "align_items": null,
            "align_self": null,
            "border": null,
            "bottom": null,
            "display": null,
            "flex": null,
            "flex_flow": null,
            "grid_area": null,
            "grid_auto_columns": null,
            "grid_auto_flow": null,
            "grid_auto_rows": null,
            "grid_column": null,
            "grid_gap": null,
            "grid_row": null,
            "grid_template_areas": null,
            "grid_template_columns": null,
            "grid_template_rows": null,
            "height": null,
            "justify_content": null,
            "justify_items": null,
            "left": null,
            "margin": null,
            "max_height": null,
            "max_width": null,
            "min_height": null,
            "min_width": null,
            "object_fit": null,
            "object_position": null,
            "order": null,
            "overflow": null,
            "overflow_x": null,
            "overflow_y": null,
            "padding": null,
            "right": null,
            "top": null,
            "visibility": null,
            "width": null
          }
        },
        "f10afe04e61d4edeb33d8907a1192891": {
          "model_module": "@jupyter-widgets/base",
          "model_module_version": "1.2.0",
          "model_name": "LayoutModel",
          "state": {
            "_model_module": "@jupyter-widgets/base",
            "_model_module_version": "1.2.0",
            "_model_name": "LayoutModel",
            "_view_count": null,
            "_view_module": "@jupyter-widgets/base",
            "_view_module_version": "1.2.0",
            "_view_name": "LayoutView",
            "align_content": null,
            "align_items": null,
            "align_self": null,
            "border": null,
            "bottom": null,
            "display": null,
            "flex": null,
            "flex_flow": null,
            "grid_area": null,
            "grid_auto_columns": null,
            "grid_auto_flow": null,
            "grid_auto_rows": null,
            "grid_column": null,
            "grid_gap": null,
            "grid_row": null,
            "grid_template_areas": null,
            "grid_template_columns": null,
            "grid_template_rows": null,
            "height": null,
            "justify_content": null,
            "justify_items": null,
            "left": null,
            "margin": null,
            "max_height": null,
            "max_width": null,
            "min_height": null,
            "min_width": null,
            "object_fit": null,
            "object_position": null,
            "order": null,
            "overflow": null,
            "overflow_x": null,
            "overflow_y": null,
            "padding": null,
            "right": null,
            "top": null,
            "visibility": null,
            "width": null
          }
        },
        "5c3ff787b37c40e4a88a5c0c9008db0c": {
          "model_module": "@jupyter-widgets/controls",
          "model_name": "HBoxModel",
          "model_module_version": "1.5.0",
          "state": {
            "_dom_classes": [],
            "_model_module": "@jupyter-widgets/controls",
            "_model_module_version": "1.5.0",
            "_model_name": "HBoxModel",
            "_view_count": null,
            "_view_module": "@jupyter-widgets/controls",
            "_view_module_version": "1.5.0",
            "_view_name": "HBoxView",
            "box_style": "",
            "children": [
              "IPY_MODEL_25f38261f7c148e691b04ef2aebbbfb2",
              "IPY_MODEL_09551de47d7e43899888a57b4f522943",
              "IPY_MODEL_d8ee64be3368445282274e55facd5c15"
            ],
            "layout": "IPY_MODEL_8c8385d6463b47749bb503cffac72c4c"
          }
        },
        "25f38261f7c148e691b04ef2aebbbfb2": {
          "model_module": "@jupyter-widgets/controls",
          "model_name": "HTMLModel",
          "model_module_version": "1.5.0",
          "state": {
            "_dom_classes": [],
            "_model_module": "@jupyter-widgets/controls",
            "_model_module_version": "1.5.0",
            "_model_name": "HTMLModel",
            "_view_count": null,
            "_view_module": "@jupyter-widgets/controls",
            "_view_module_version": "1.5.0",
            "_view_name": "HTMLView",
            "description": "",
            "description_tooltip": null,
            "layout": "IPY_MODEL_8d95f0c34eb44bd7bfa21217c5b2baf8",
            "placeholder": "​",
            "style": "IPY_MODEL_22c7ea7c05374b0f8198c43bc5024f7a",
            "value": "README.md: 100%"
          }
        },
        "09551de47d7e43899888a57b4f522943": {
          "model_module": "@jupyter-widgets/controls",
          "model_name": "FloatProgressModel",
          "model_module_version": "1.5.0",
          "state": {
            "_dom_classes": [],
            "_model_module": "@jupyter-widgets/controls",
            "_model_module_version": "1.5.0",
            "_model_name": "FloatProgressModel",
            "_view_count": null,
            "_view_module": "@jupyter-widgets/controls",
            "_view_module_version": "1.5.0",
            "_view_name": "ProgressView",
            "bar_style": "success",
            "description": "",
            "description_tooltip": null,
            "layout": "IPY_MODEL_ddb2620bc13f4a8ea7655ffabb80ec77",
            "max": 7567,
            "min": 0,
            "orientation": "horizontal",
            "style": "IPY_MODEL_d4a4933158e54cf1839c8e3bd82941b8",
            "value": 7567
          }
        },
        "d8ee64be3368445282274e55facd5c15": {
          "model_module": "@jupyter-widgets/controls",
          "model_name": "HTMLModel",
          "model_module_version": "1.5.0",
          "state": {
            "_dom_classes": [],
            "_model_module": "@jupyter-widgets/controls",
            "_model_module_version": "1.5.0",
            "_model_name": "HTMLModel",
            "_view_count": null,
            "_view_module": "@jupyter-widgets/controls",
            "_view_module_version": "1.5.0",
            "_view_name": "HTMLView",
            "description": "",
            "description_tooltip": null,
            "layout": "IPY_MODEL_60e1fc4d9dfb4197abdb54a2b69f87e5",
            "placeholder": "​",
            "style": "IPY_MODEL_8022e21766534cee854ac9f344ffc58a",
            "value": " 7.57k/7.57k [00:00&lt;00:00, 280kB/s]"
          }
        },
        "8c8385d6463b47749bb503cffac72c4c": {
          "model_module": "@jupyter-widgets/base",
          "model_name": "LayoutModel",
          "model_module_version": "1.2.0",
          "state": {
            "_model_module": "@jupyter-widgets/base",
            "_model_module_version": "1.2.0",
            "_model_name": "LayoutModel",
            "_view_count": null,
            "_view_module": "@jupyter-widgets/base",
            "_view_module_version": "1.2.0",
            "_view_name": "LayoutView",
            "align_content": null,
            "align_items": null,
            "align_self": null,
            "border": null,
            "bottom": null,
            "display": null,
            "flex": null,
            "flex_flow": null,
            "grid_area": null,
            "grid_auto_columns": null,
            "grid_auto_flow": null,
            "grid_auto_rows": null,
            "grid_column": null,
            "grid_gap": null,
            "grid_row": null,
            "grid_template_areas": null,
            "grid_template_columns": null,
            "grid_template_rows": null,
            "height": null,
            "justify_content": null,
            "justify_items": null,
            "left": null,
            "margin": null,
            "max_height": null,
            "max_width": null,
            "min_height": null,
            "min_width": null,
            "object_fit": null,
            "object_position": null,
            "order": null,
            "overflow": null,
            "overflow_x": null,
            "overflow_y": null,
            "padding": null,
            "right": null,
            "top": null,
            "visibility": null,
            "width": null
          }
        },
        "8d95f0c34eb44bd7bfa21217c5b2baf8": {
          "model_module": "@jupyter-widgets/base",
          "model_name": "LayoutModel",
          "model_module_version": "1.2.0",
          "state": {
            "_model_module": "@jupyter-widgets/base",
            "_model_module_version": "1.2.0",
            "_model_name": "LayoutModel",
            "_view_count": null,
            "_view_module": "@jupyter-widgets/base",
            "_view_module_version": "1.2.0",
            "_view_name": "LayoutView",
            "align_content": null,
            "align_items": null,
            "align_self": null,
            "border": null,
            "bottom": null,
            "display": null,
            "flex": null,
            "flex_flow": null,
            "grid_area": null,
            "grid_auto_columns": null,
            "grid_auto_flow": null,
            "grid_auto_rows": null,
            "grid_column": null,
            "grid_gap": null,
            "grid_row": null,
            "grid_template_areas": null,
            "grid_template_columns": null,
            "grid_template_rows": null,
            "height": null,
            "justify_content": null,
            "justify_items": null,
            "left": null,
            "margin": null,
            "max_height": null,
            "max_width": null,
            "min_height": null,
            "min_width": null,
            "object_fit": null,
            "object_position": null,
            "order": null,
            "overflow": null,
            "overflow_x": null,
            "overflow_y": null,
            "padding": null,
            "right": null,
            "top": null,
            "visibility": null,
            "width": null
          }
        },
        "22c7ea7c05374b0f8198c43bc5024f7a": {
          "model_module": "@jupyter-widgets/controls",
          "model_name": "DescriptionStyleModel",
          "model_module_version": "1.5.0",
          "state": {
            "_model_module": "@jupyter-widgets/controls",
            "_model_module_version": "1.5.0",
            "_model_name": "DescriptionStyleModel",
            "_view_count": null,
            "_view_module": "@jupyter-widgets/base",
            "_view_module_version": "1.2.0",
            "_view_name": "StyleView",
            "description_width": ""
          }
        },
        "ddb2620bc13f4a8ea7655ffabb80ec77": {
          "model_module": "@jupyter-widgets/base",
          "model_name": "LayoutModel",
          "model_module_version": "1.2.0",
          "state": {
            "_model_module": "@jupyter-widgets/base",
            "_model_module_version": "1.2.0",
            "_model_name": "LayoutModel",
            "_view_count": null,
            "_view_module": "@jupyter-widgets/base",
            "_view_module_version": "1.2.0",
            "_view_name": "LayoutView",
            "align_content": null,
            "align_items": null,
            "align_self": null,
            "border": null,
            "bottom": null,
            "display": null,
            "flex": null,
            "flex_flow": null,
            "grid_area": null,
            "grid_auto_columns": null,
            "grid_auto_flow": null,
            "grid_auto_rows": null,
            "grid_column": null,
            "grid_gap": null,
            "grid_row": null,
            "grid_template_areas": null,
            "grid_template_columns": null,
            "grid_template_rows": null,
            "height": null,
            "justify_content": null,
            "justify_items": null,
            "left": null,
            "margin": null,
            "max_height": null,
            "max_width": null,
            "min_height": null,
            "min_width": null,
            "object_fit": null,
            "object_position": null,
            "order": null,
            "overflow": null,
            "overflow_x": null,
            "overflow_y": null,
            "padding": null,
            "right": null,
            "top": null,
            "visibility": null,
            "width": null
          }
        },
        "d4a4933158e54cf1839c8e3bd82941b8": {
          "model_module": "@jupyter-widgets/controls",
          "model_name": "ProgressStyleModel",
          "model_module_version": "1.5.0",
          "state": {
            "_model_module": "@jupyter-widgets/controls",
            "_model_module_version": "1.5.0",
            "_model_name": "ProgressStyleModel",
            "_view_count": null,
            "_view_module": "@jupyter-widgets/base",
            "_view_module_version": "1.2.0",
            "_view_name": "StyleView",
            "bar_color": null,
            "description_width": ""
          }
        },
        "60e1fc4d9dfb4197abdb54a2b69f87e5": {
          "model_module": "@jupyter-widgets/base",
          "model_name": "LayoutModel",
          "model_module_version": "1.2.0",
          "state": {
            "_model_module": "@jupyter-widgets/base",
            "_model_module_version": "1.2.0",
            "_model_name": "LayoutModel",
            "_view_count": null,
            "_view_module": "@jupyter-widgets/base",
            "_view_module_version": "1.2.0",
            "_view_name": "LayoutView",
            "align_content": null,
            "align_items": null,
            "align_self": null,
            "border": null,
            "bottom": null,
            "display": null,
            "flex": null,
            "flex_flow": null,
            "grid_area": null,
            "grid_auto_columns": null,
            "grid_auto_flow": null,
            "grid_auto_rows": null,
            "grid_column": null,
            "grid_gap": null,
            "grid_row": null,
            "grid_template_areas": null,
            "grid_template_columns": null,
            "grid_template_rows": null,
            "height": null,
            "justify_content": null,
            "justify_items": null,
            "left": null,
            "margin": null,
            "max_height": null,
            "max_width": null,
            "min_height": null,
            "min_width": null,
            "object_fit": null,
            "object_position": null,
            "order": null,
            "overflow": null,
            "overflow_x": null,
            "overflow_y": null,
            "padding": null,
            "right": null,
            "top": null,
            "visibility": null,
            "width": null
          }
        },
        "8022e21766534cee854ac9f344ffc58a": {
          "model_module": "@jupyter-widgets/controls",
          "model_name": "DescriptionStyleModel",
          "model_module_version": "1.5.0",
          "state": {
            "_model_module": "@jupyter-widgets/controls",
            "_model_module_version": "1.5.0",
            "_model_name": "DescriptionStyleModel",
            "_view_count": null,
            "_view_module": "@jupyter-widgets/base",
            "_view_module_version": "1.2.0",
            "_view_name": "StyleView",
            "description_width": ""
          }
        },
        "7b6c698fa3654bae8c005031560577a5": {
          "model_module": "@jupyter-widgets/controls",
          "model_name": "HBoxModel",
          "model_module_version": "1.5.0",
          "state": {
            "_dom_classes": [],
            "_model_module": "@jupyter-widgets/controls",
            "_model_module_version": "1.5.0",
            "_model_name": "HBoxModel",
            "_view_count": null,
            "_view_module": "@jupyter-widgets/controls",
            "_view_module_version": "1.5.0",
            "_view_name": "HBoxView",
            "box_style": "",
            "children": [
              "IPY_MODEL_4f9ff82bd009450f95d83e5b3134b191",
              "IPY_MODEL_d8a387f40d1d46e58d4a5168be07d0ec",
              "IPY_MODEL_c5faff38f8944756bcecb3ca43798f81"
            ],
            "layout": "IPY_MODEL_7cc9189f4af4441f96dd7d52ef72f974"
          }
        },
        "4f9ff82bd009450f95d83e5b3134b191": {
          "model_module": "@jupyter-widgets/controls",
          "model_name": "HTMLModel",
          "model_module_version": "1.5.0",
          "state": {
            "_dom_classes": [],
            "_model_module": "@jupyter-widgets/controls",
            "_model_module_version": "1.5.0",
            "_model_name": "HTMLModel",
            "_view_count": null,
            "_view_module": "@jupyter-widgets/controls",
            "_view_module_version": "1.5.0",
            "_view_name": "HTMLView",
            "description": "",
            "description_tooltip": null,
            "layout": "IPY_MODEL_70f28fb652c446a182b521c7ffe1ff47",
            "placeholder": "​",
            "style": "IPY_MODEL_748acb6a31594a8f962a8a2e1125f45e",
            "value": "train-00000-of-00005.parquet: 100%"
          }
        },
        "d8a387f40d1d46e58d4a5168be07d0ec": {
          "model_module": "@jupyter-widgets/controls",
          "model_name": "FloatProgressModel",
          "model_module_version": "1.5.0",
          "state": {
            "_dom_classes": [],
            "_model_module": "@jupyter-widgets/controls",
            "_model_module_version": "1.5.0",
            "_model_name": "FloatProgressModel",
            "_view_count": null,
            "_view_module": "@jupyter-widgets/controls",
            "_view_module_version": "1.5.0",
            "_view_name": "ProgressView",
            "bar_style": "success",
            "description": "",
            "description_tooltip": null,
            "layout": "IPY_MODEL_65895e6c786f45d0bd51b4b017b48c6f",
            "max": 211044294,
            "min": 0,
            "orientation": "horizontal",
            "style": "IPY_MODEL_f8e357bc21cf4364b1597d455fa4c5d1",
            "value": 211044294
          }
        },
        "c5faff38f8944756bcecb3ca43798f81": {
          "model_module": "@jupyter-widgets/controls",
          "model_name": "HTMLModel",
          "model_module_version": "1.5.0",
          "state": {
            "_dom_classes": [],
            "_model_module": "@jupyter-widgets/controls",
            "_model_module_version": "1.5.0",
            "_model_name": "HTMLModel",
            "_view_count": null,
            "_view_module": "@jupyter-widgets/controls",
            "_view_module_version": "1.5.0",
            "_view_name": "HTMLView",
            "description": "",
            "description_tooltip": null,
            "layout": "IPY_MODEL_a3c3c2286b0646d9b89581abf4d3b29c",
            "placeholder": "​",
            "style": "IPY_MODEL_c6975ef367074583ac8948efbb0a414f",
            "value": " 211M/211M [00:01&lt;00:00, 251MB/s]"
          }
        },
        "7cc9189f4af4441f96dd7d52ef72f974": {
          "model_module": "@jupyter-widgets/base",
          "model_name": "LayoutModel",
          "model_module_version": "1.2.0",
          "state": {
            "_model_module": "@jupyter-widgets/base",
            "_model_module_version": "1.2.0",
            "_model_name": "LayoutModel",
            "_view_count": null,
            "_view_module": "@jupyter-widgets/base",
            "_view_module_version": "1.2.0",
            "_view_name": "LayoutView",
            "align_content": null,
            "align_items": null,
            "align_self": null,
            "border": null,
            "bottom": null,
            "display": null,
            "flex": null,
            "flex_flow": null,
            "grid_area": null,
            "grid_auto_columns": null,
            "grid_auto_flow": null,
            "grid_auto_rows": null,
            "grid_column": null,
            "grid_gap": null,
            "grid_row": null,
            "grid_template_areas": null,
            "grid_template_columns": null,
            "grid_template_rows": null,
            "height": null,
            "justify_content": null,
            "justify_items": null,
            "left": null,
            "margin": null,
            "max_height": null,
            "max_width": null,
            "min_height": null,
            "min_width": null,
            "object_fit": null,
            "object_position": null,
            "order": null,
            "overflow": null,
            "overflow_x": null,
            "overflow_y": null,
            "padding": null,
            "right": null,
            "top": null,
            "visibility": null,
            "width": null
          }
        },
        "70f28fb652c446a182b521c7ffe1ff47": {
          "model_module": "@jupyter-widgets/base",
          "model_name": "LayoutModel",
          "model_module_version": "1.2.0",
          "state": {
            "_model_module": "@jupyter-widgets/base",
            "_model_module_version": "1.2.0",
            "_model_name": "LayoutModel",
            "_view_count": null,
            "_view_module": "@jupyter-widgets/base",
            "_view_module_version": "1.2.0",
            "_view_name": "LayoutView",
            "align_content": null,
            "align_items": null,
            "align_self": null,
            "border": null,
            "bottom": null,
            "display": null,
            "flex": null,
            "flex_flow": null,
            "grid_area": null,
            "grid_auto_columns": null,
            "grid_auto_flow": null,
            "grid_auto_rows": null,
            "grid_column": null,
            "grid_gap": null,
            "grid_row": null,
            "grid_template_areas": null,
            "grid_template_columns": null,
            "grid_template_rows": null,
            "height": null,
            "justify_content": null,
            "justify_items": null,
            "left": null,
            "margin": null,
            "max_height": null,
            "max_width": null,
            "min_height": null,
            "min_width": null,
            "object_fit": null,
            "object_position": null,
            "order": null,
            "overflow": null,
            "overflow_x": null,
            "overflow_y": null,
            "padding": null,
            "right": null,
            "top": null,
            "visibility": null,
            "width": null
          }
        },
        "748acb6a31594a8f962a8a2e1125f45e": {
          "model_module": "@jupyter-widgets/controls",
          "model_name": "DescriptionStyleModel",
          "model_module_version": "1.5.0",
          "state": {
            "_model_module": "@jupyter-widgets/controls",
            "_model_module_version": "1.5.0",
            "_model_name": "DescriptionStyleModel",
            "_view_count": null,
            "_view_module": "@jupyter-widgets/base",
            "_view_module_version": "1.2.0",
            "_view_name": "StyleView",
            "description_width": ""
          }
        },
        "65895e6c786f45d0bd51b4b017b48c6f": {
          "model_module": "@jupyter-widgets/base",
          "model_name": "LayoutModel",
          "model_module_version": "1.2.0",
          "state": {
            "_model_module": "@jupyter-widgets/base",
            "_model_module_version": "1.2.0",
            "_model_name": "LayoutModel",
            "_view_count": null,
            "_view_module": "@jupyter-widgets/base",
            "_view_module_version": "1.2.0",
            "_view_name": "LayoutView",
            "align_content": null,
            "align_items": null,
            "align_self": null,
            "border": null,
            "bottom": null,
            "display": null,
            "flex": null,
            "flex_flow": null,
            "grid_area": null,
            "grid_auto_columns": null,
            "grid_auto_flow": null,
            "grid_auto_rows": null,
            "grid_column": null,
            "grid_gap": null,
            "grid_row": null,
            "grid_template_areas": null,
            "grid_template_columns": null,
            "grid_template_rows": null,
            "height": null,
            "justify_content": null,
            "justify_items": null,
            "left": null,
            "margin": null,
            "max_height": null,
            "max_width": null,
            "min_height": null,
            "min_width": null,
            "object_fit": null,
            "object_position": null,
            "order": null,
            "overflow": null,
            "overflow_x": null,
            "overflow_y": null,
            "padding": null,
            "right": null,
            "top": null,
            "visibility": null,
            "width": null
          }
        },
        "f8e357bc21cf4364b1597d455fa4c5d1": {
          "model_module": "@jupyter-widgets/controls",
          "model_name": "ProgressStyleModel",
          "model_module_version": "1.5.0",
          "state": {
            "_model_module": "@jupyter-widgets/controls",
            "_model_module_version": "1.5.0",
            "_model_name": "ProgressStyleModel",
            "_view_count": null,
            "_view_module": "@jupyter-widgets/base",
            "_view_module_version": "1.2.0",
            "_view_name": "StyleView",
            "bar_color": null,
            "description_width": ""
          }
        },
        "a3c3c2286b0646d9b89581abf4d3b29c": {
          "model_module": "@jupyter-widgets/base",
          "model_name": "LayoutModel",
          "model_module_version": "1.2.0",
          "state": {
            "_model_module": "@jupyter-widgets/base",
            "_model_module_version": "1.2.0",
            "_model_name": "LayoutModel",
            "_view_count": null,
            "_view_module": "@jupyter-widgets/base",
            "_view_module_version": "1.2.0",
            "_view_name": "LayoutView",
            "align_content": null,
            "align_items": null,
            "align_self": null,
            "border": null,
            "bottom": null,
            "display": null,
            "flex": null,
            "flex_flow": null,
            "grid_area": null,
            "grid_auto_columns": null,
            "grid_auto_flow": null,
            "grid_auto_rows": null,
            "grid_column": null,
            "grid_gap": null,
            "grid_row": null,
            "grid_template_areas": null,
            "grid_template_columns": null,
            "grid_template_rows": null,
            "height": null,
            "justify_content": null,
            "justify_items": null,
            "left": null,
            "margin": null,
            "max_height": null,
            "max_width": null,
            "min_height": null,
            "min_width": null,
            "object_fit": null,
            "object_position": null,
            "order": null,
            "overflow": null,
            "overflow_x": null,
            "overflow_y": null,
            "padding": null,
            "right": null,
            "top": null,
            "visibility": null,
            "width": null
          }
        },
        "c6975ef367074583ac8948efbb0a414f": {
          "model_module": "@jupyter-widgets/controls",
          "model_name": "DescriptionStyleModel",
          "model_module_version": "1.5.0",
          "state": {
            "_model_module": "@jupyter-widgets/controls",
            "_model_module_version": "1.5.0",
            "_model_name": "DescriptionStyleModel",
            "_view_count": null,
            "_view_module": "@jupyter-widgets/base",
            "_view_module_version": "1.2.0",
            "_view_name": "StyleView",
            "description_width": ""
          }
        },
        "65deb23fe6054528822b5fffa74c7031": {
          "model_module": "@jupyter-widgets/controls",
          "model_name": "HBoxModel",
          "model_module_version": "1.5.0",
          "state": {
            "_dom_classes": [],
            "_model_module": "@jupyter-widgets/controls",
            "_model_module_version": "1.5.0",
            "_model_name": "HBoxModel",
            "_view_count": null,
            "_view_module": "@jupyter-widgets/controls",
            "_view_module_version": "1.5.0",
            "_view_name": "HBoxView",
            "box_style": "",
            "children": [
              "IPY_MODEL_d24679331da44a748964f2ff8617852e",
              "IPY_MODEL_a053511eb22346f29c11a1e260ca9185",
              "IPY_MODEL_274702260fb54832ae6fbf1588ecab76"
            ],
            "layout": "IPY_MODEL_f67e3c34d6f2426986b4f97193fd6ea9"
          }
        },
        "d24679331da44a748964f2ff8617852e": {
          "model_module": "@jupyter-widgets/controls",
          "model_name": "HTMLModel",
          "model_module_version": "1.5.0",
          "state": {
            "_dom_classes": [],
            "_model_module": "@jupyter-widgets/controls",
            "_model_module_version": "1.5.0",
            "_model_name": "HTMLModel",
            "_view_count": null,
            "_view_module": "@jupyter-widgets/controls",
            "_view_module_version": "1.5.0",
            "_view_name": "HTMLView",
            "description": "",
            "description_tooltip": null,
            "layout": "IPY_MODEL_e18e30e2a9414f70b2651ce55b42d595",
            "placeholder": "​",
            "style": "IPY_MODEL_7d19c85c92da497b92f37a943a554a36",
            "value": "train-00001-of-00005.parquet: 100%"
          }
        },
        "a053511eb22346f29c11a1e260ca9185": {
          "model_module": "@jupyter-widgets/controls",
          "model_name": "FloatProgressModel",
          "model_module_version": "1.5.0",
          "state": {
            "_dom_classes": [],
            "_model_module": "@jupyter-widgets/controls",
            "_model_module_version": "1.5.0",
            "_model_name": "FloatProgressModel",
            "_view_count": null,
            "_view_module": "@jupyter-widgets/controls",
            "_view_module_version": "1.5.0",
            "_view_name": "ProgressView",
            "bar_style": "success",
            "description": "",
            "description_tooltip": null,
            "layout": "IPY_MODEL_4f336025149244e68ac74bb1a43ea660",
            "max": 233804414,
            "min": 0,
            "orientation": "horizontal",
            "style": "IPY_MODEL_e2c50d83994343b8a8f139f9876b0648",
            "value": 233804414
          }
        },
        "274702260fb54832ae6fbf1588ecab76": {
          "model_module": "@jupyter-widgets/controls",
          "model_name": "HTMLModel",
          "model_module_version": "1.5.0",
          "state": {
            "_dom_classes": [],
            "_model_module": "@jupyter-widgets/controls",
            "_model_module_version": "1.5.0",
            "_model_name": "HTMLModel",
            "_view_count": null,
            "_view_module": "@jupyter-widgets/controls",
            "_view_module_version": "1.5.0",
            "_view_name": "HTMLView",
            "description": "",
            "description_tooltip": null,
            "layout": "IPY_MODEL_99e161a5369c46ce8aad471b7c65e0c5",
            "placeholder": "​",
            "style": "IPY_MODEL_d4c8cb91b83748b3b6f9db0350708723",
            "value": " 234M/234M [00:04&lt;00:00, 99.7MB/s]"
          }
        },
        "f67e3c34d6f2426986b4f97193fd6ea9": {
          "model_module": "@jupyter-widgets/base",
          "model_name": "LayoutModel",
          "model_module_version": "1.2.0",
          "state": {
            "_model_module": "@jupyter-widgets/base",
            "_model_module_version": "1.2.0",
            "_model_name": "LayoutModel",
            "_view_count": null,
            "_view_module": "@jupyter-widgets/base",
            "_view_module_version": "1.2.0",
            "_view_name": "LayoutView",
            "align_content": null,
            "align_items": null,
            "align_self": null,
            "border": null,
            "bottom": null,
            "display": null,
            "flex": null,
            "flex_flow": null,
            "grid_area": null,
            "grid_auto_columns": null,
            "grid_auto_flow": null,
            "grid_auto_rows": null,
            "grid_column": null,
            "grid_gap": null,
            "grid_row": null,
            "grid_template_areas": null,
            "grid_template_columns": null,
            "grid_template_rows": null,
            "height": null,
            "justify_content": null,
            "justify_items": null,
            "left": null,
            "margin": null,
            "max_height": null,
            "max_width": null,
            "min_height": null,
            "min_width": null,
            "object_fit": null,
            "object_position": null,
            "order": null,
            "overflow": null,
            "overflow_x": null,
            "overflow_y": null,
            "padding": null,
            "right": null,
            "top": null,
            "visibility": null,
            "width": null
          }
        },
        "e18e30e2a9414f70b2651ce55b42d595": {
          "model_module": "@jupyter-widgets/base",
          "model_name": "LayoutModel",
          "model_module_version": "1.2.0",
          "state": {
            "_model_module": "@jupyter-widgets/base",
            "_model_module_version": "1.2.0",
            "_model_name": "LayoutModel",
            "_view_count": null,
            "_view_module": "@jupyter-widgets/base",
            "_view_module_version": "1.2.0",
            "_view_name": "LayoutView",
            "align_content": null,
            "align_items": null,
            "align_self": null,
            "border": null,
            "bottom": null,
            "display": null,
            "flex": null,
            "flex_flow": null,
            "grid_area": null,
            "grid_auto_columns": null,
            "grid_auto_flow": null,
            "grid_auto_rows": null,
            "grid_column": null,
            "grid_gap": null,
            "grid_row": null,
            "grid_template_areas": null,
            "grid_template_columns": null,
            "grid_template_rows": null,
            "height": null,
            "justify_content": null,
            "justify_items": null,
            "left": null,
            "margin": null,
            "max_height": null,
            "max_width": null,
            "min_height": null,
            "min_width": null,
            "object_fit": null,
            "object_position": null,
            "order": null,
            "overflow": null,
            "overflow_x": null,
            "overflow_y": null,
            "padding": null,
            "right": null,
            "top": null,
            "visibility": null,
            "width": null
          }
        },
        "7d19c85c92da497b92f37a943a554a36": {
          "model_module": "@jupyter-widgets/controls",
          "model_name": "DescriptionStyleModel",
          "model_module_version": "1.5.0",
          "state": {
            "_model_module": "@jupyter-widgets/controls",
            "_model_module_version": "1.5.0",
            "_model_name": "DescriptionStyleModel",
            "_view_count": null,
            "_view_module": "@jupyter-widgets/base",
            "_view_module_version": "1.2.0",
            "_view_name": "StyleView",
            "description_width": ""
          }
        },
        "4f336025149244e68ac74bb1a43ea660": {
          "model_module": "@jupyter-widgets/base",
          "model_name": "LayoutModel",
          "model_module_version": "1.2.0",
          "state": {
            "_model_module": "@jupyter-widgets/base",
            "_model_module_version": "1.2.0",
            "_model_name": "LayoutModel",
            "_view_count": null,
            "_view_module": "@jupyter-widgets/base",
            "_view_module_version": "1.2.0",
            "_view_name": "LayoutView",
            "align_content": null,
            "align_items": null,
            "align_self": null,
            "border": null,
            "bottom": null,
            "display": null,
            "flex": null,
            "flex_flow": null,
            "grid_area": null,
            "grid_auto_columns": null,
            "grid_auto_flow": null,
            "grid_auto_rows": null,
            "grid_column": null,
            "grid_gap": null,
            "grid_row": null,
            "grid_template_areas": null,
            "grid_template_columns": null,
            "grid_template_rows": null,
            "height": null,
            "justify_content": null,
            "justify_items": null,
            "left": null,
            "margin": null,
            "max_height": null,
            "max_width": null,
            "min_height": null,
            "min_width": null,
            "object_fit": null,
            "object_position": null,
            "order": null,
            "overflow": null,
            "overflow_x": null,
            "overflow_y": null,
            "padding": null,
            "right": null,
            "top": null,
            "visibility": null,
            "width": null
          }
        },
        "e2c50d83994343b8a8f139f9876b0648": {
          "model_module": "@jupyter-widgets/controls",
          "model_name": "ProgressStyleModel",
          "model_module_version": "1.5.0",
          "state": {
            "_model_module": "@jupyter-widgets/controls",
            "_model_module_version": "1.5.0",
            "_model_name": "ProgressStyleModel",
            "_view_count": null,
            "_view_module": "@jupyter-widgets/base",
            "_view_module_version": "1.2.0",
            "_view_name": "StyleView",
            "bar_color": null,
            "description_width": ""
          }
        },
        "99e161a5369c46ce8aad471b7c65e0c5": {
          "model_module": "@jupyter-widgets/base",
          "model_name": "LayoutModel",
          "model_module_version": "1.2.0",
          "state": {
            "_model_module": "@jupyter-widgets/base",
            "_model_module_version": "1.2.0",
            "_model_name": "LayoutModel",
            "_view_count": null,
            "_view_module": "@jupyter-widgets/base",
            "_view_module_version": "1.2.0",
            "_view_name": "LayoutView",
            "align_content": null,
            "align_items": null,
            "align_self": null,
            "border": null,
            "bottom": null,
            "display": null,
            "flex": null,
            "flex_flow": null,
            "grid_area": null,
            "grid_auto_columns": null,
            "grid_auto_flow": null,
            "grid_auto_rows": null,
            "grid_column": null,
            "grid_gap": null,
            "grid_row": null,
            "grid_template_areas": null,
            "grid_template_columns": null,
            "grid_template_rows": null,
            "height": null,
            "justify_content": null,
            "justify_items": null,
            "left": null,
            "margin": null,
            "max_height": null,
            "max_width": null,
            "min_height": null,
            "min_width": null,
            "object_fit": null,
            "object_position": null,
            "order": null,
            "overflow": null,
            "overflow_x": null,
            "overflow_y": null,
            "padding": null,
            "right": null,
            "top": null,
            "visibility": null,
            "width": null
          }
        },
        "d4c8cb91b83748b3b6f9db0350708723": {
          "model_module": "@jupyter-widgets/controls",
          "model_name": "DescriptionStyleModel",
          "model_module_version": "1.5.0",
          "state": {
            "_model_module": "@jupyter-widgets/controls",
            "_model_module_version": "1.5.0",
            "_model_name": "DescriptionStyleModel",
            "_view_count": null,
            "_view_module": "@jupyter-widgets/base",
            "_view_module_version": "1.2.0",
            "_view_name": "StyleView",
            "description_width": ""
          }
        },
        "bc02bb8189214409bfaaea26ed2f3a1c": {
          "model_module": "@jupyter-widgets/controls",
          "model_name": "HBoxModel",
          "model_module_version": "1.5.0",
          "state": {
            "_dom_classes": [],
            "_model_module": "@jupyter-widgets/controls",
            "_model_module_version": "1.5.0",
            "_model_name": "HBoxModel",
            "_view_count": null,
            "_view_module": "@jupyter-widgets/controls",
            "_view_module_version": "1.5.0",
            "_view_name": "HBoxView",
            "box_style": "",
            "children": [
              "IPY_MODEL_91d29c287bbc477381cf3b5499a0d2f8",
              "IPY_MODEL_858693e998074c3cbf28c324b90601cf",
              "IPY_MODEL_bb0baf8d13454e9aac4b743b4a087d40"
            ],
            "layout": "IPY_MODEL_49e7171f080f4e0eb1b2cd2acaea60e6"
          }
        },
        "91d29c287bbc477381cf3b5499a0d2f8": {
          "model_module": "@jupyter-widgets/controls",
          "model_name": "HTMLModel",
          "model_module_version": "1.5.0",
          "state": {
            "_dom_classes": [],
            "_model_module": "@jupyter-widgets/controls",
            "_model_module_version": "1.5.0",
            "_model_name": "HTMLModel",
            "_view_count": null,
            "_view_module": "@jupyter-widgets/controls",
            "_view_module_version": "1.5.0",
            "_view_name": "HTMLView",
            "description": "",
            "description_tooltip": null,
            "layout": "IPY_MODEL_5413ca44c9e4403c85f0006ddbea6e73",
            "placeholder": "​",
            "style": "IPY_MODEL_a85852db3e154897bfabe0d142a47ca9",
            "value": "train-00002-of-00005.parquet: 100%"
          }
        },
        "858693e998074c3cbf28c324b90601cf": {
          "model_module": "@jupyter-widgets/controls",
          "model_name": "FloatProgressModel",
          "model_module_version": "1.5.0",
          "state": {
            "_dom_classes": [],
            "_model_module": "@jupyter-widgets/controls",
            "_model_module_version": "1.5.0",
            "_model_name": "FloatProgressModel",
            "_view_count": null,
            "_view_module": "@jupyter-widgets/controls",
            "_view_module_version": "1.5.0",
            "_view_name": "ProgressView",
            "bar_style": "success",
            "description": "",
            "description_tooltip": null,
            "layout": "IPY_MODEL_89b2d435aca642fab81386ad849415d4",
            "max": 218914067,
            "min": 0,
            "orientation": "horizontal",
            "style": "IPY_MODEL_a038c36118cc402ca3769f77aa4d2127",
            "value": 218914067
          }
        },
        "bb0baf8d13454e9aac4b743b4a087d40": {
          "model_module": "@jupyter-widgets/controls",
          "model_name": "HTMLModel",
          "model_module_version": "1.5.0",
          "state": {
            "_dom_classes": [],
            "_model_module": "@jupyter-widgets/controls",
            "_model_module_version": "1.5.0",
            "_model_name": "HTMLModel",
            "_view_count": null,
            "_view_module": "@jupyter-widgets/controls",
            "_view_module_version": "1.5.0",
            "_view_name": "HTMLView",
            "description": "",
            "description_tooltip": null,
            "layout": "IPY_MODEL_ba0fa06bcb1744e8aa596fef10106e54",
            "placeholder": "​",
            "style": "IPY_MODEL_a24e70bb1d43448cb7ca1821f64ab7ed",
            "value": " 219M/219M [00:00&lt;00:00, 270MB/s]"
          }
        },
        "49e7171f080f4e0eb1b2cd2acaea60e6": {
          "model_module": "@jupyter-widgets/base",
          "model_name": "LayoutModel",
          "model_module_version": "1.2.0",
          "state": {
            "_model_module": "@jupyter-widgets/base",
            "_model_module_version": "1.2.0",
            "_model_name": "LayoutModel",
            "_view_count": null,
            "_view_module": "@jupyter-widgets/base",
            "_view_module_version": "1.2.0",
            "_view_name": "LayoutView",
            "align_content": null,
            "align_items": null,
            "align_self": null,
            "border": null,
            "bottom": null,
            "display": null,
            "flex": null,
            "flex_flow": null,
            "grid_area": null,
            "grid_auto_columns": null,
            "grid_auto_flow": null,
            "grid_auto_rows": null,
            "grid_column": null,
            "grid_gap": null,
            "grid_row": null,
            "grid_template_areas": null,
            "grid_template_columns": null,
            "grid_template_rows": null,
            "height": null,
            "justify_content": null,
            "justify_items": null,
            "left": null,
            "margin": null,
            "max_height": null,
            "max_width": null,
            "min_height": null,
            "min_width": null,
            "object_fit": null,
            "object_position": null,
            "order": null,
            "overflow": null,
            "overflow_x": null,
            "overflow_y": null,
            "padding": null,
            "right": null,
            "top": null,
            "visibility": null,
            "width": null
          }
        },
        "5413ca44c9e4403c85f0006ddbea6e73": {
          "model_module": "@jupyter-widgets/base",
          "model_name": "LayoutModel",
          "model_module_version": "1.2.0",
          "state": {
            "_model_module": "@jupyter-widgets/base",
            "_model_module_version": "1.2.0",
            "_model_name": "LayoutModel",
            "_view_count": null,
            "_view_module": "@jupyter-widgets/base",
            "_view_module_version": "1.2.0",
            "_view_name": "LayoutView",
            "align_content": null,
            "align_items": null,
            "align_self": null,
            "border": null,
            "bottom": null,
            "display": null,
            "flex": null,
            "flex_flow": null,
            "grid_area": null,
            "grid_auto_columns": null,
            "grid_auto_flow": null,
            "grid_auto_rows": null,
            "grid_column": null,
            "grid_gap": null,
            "grid_row": null,
            "grid_template_areas": null,
            "grid_template_columns": null,
            "grid_template_rows": null,
            "height": null,
            "justify_content": null,
            "justify_items": null,
            "left": null,
            "margin": null,
            "max_height": null,
            "max_width": null,
            "min_height": null,
            "min_width": null,
            "object_fit": null,
            "object_position": null,
            "order": null,
            "overflow": null,
            "overflow_x": null,
            "overflow_y": null,
            "padding": null,
            "right": null,
            "top": null,
            "visibility": null,
            "width": null
          }
        },
        "a85852db3e154897bfabe0d142a47ca9": {
          "model_module": "@jupyter-widgets/controls",
          "model_name": "DescriptionStyleModel",
          "model_module_version": "1.5.0",
          "state": {
            "_model_module": "@jupyter-widgets/controls",
            "_model_module_version": "1.5.0",
            "_model_name": "DescriptionStyleModel",
            "_view_count": null,
            "_view_module": "@jupyter-widgets/base",
            "_view_module_version": "1.2.0",
            "_view_name": "StyleView",
            "description_width": ""
          }
        },
        "89b2d435aca642fab81386ad849415d4": {
          "model_module": "@jupyter-widgets/base",
          "model_name": "LayoutModel",
          "model_module_version": "1.2.0",
          "state": {
            "_model_module": "@jupyter-widgets/base",
            "_model_module_version": "1.2.0",
            "_model_name": "LayoutModel",
            "_view_count": null,
            "_view_module": "@jupyter-widgets/base",
            "_view_module_version": "1.2.0",
            "_view_name": "LayoutView",
            "align_content": null,
            "align_items": null,
            "align_self": null,
            "border": null,
            "bottom": null,
            "display": null,
            "flex": null,
            "flex_flow": null,
            "grid_area": null,
            "grid_auto_columns": null,
            "grid_auto_flow": null,
            "grid_auto_rows": null,
            "grid_column": null,
            "grid_gap": null,
            "grid_row": null,
            "grid_template_areas": null,
            "grid_template_columns": null,
            "grid_template_rows": null,
            "height": null,
            "justify_content": null,
            "justify_items": null,
            "left": null,
            "margin": null,
            "max_height": null,
            "max_width": null,
            "min_height": null,
            "min_width": null,
            "object_fit": null,
            "object_position": null,
            "order": null,
            "overflow": null,
            "overflow_x": null,
            "overflow_y": null,
            "padding": null,
            "right": null,
            "top": null,
            "visibility": null,
            "width": null
          }
        },
        "a038c36118cc402ca3769f77aa4d2127": {
          "model_module": "@jupyter-widgets/controls",
          "model_name": "ProgressStyleModel",
          "model_module_version": "1.5.0",
          "state": {
            "_model_module": "@jupyter-widgets/controls",
            "_model_module_version": "1.5.0",
            "_model_name": "ProgressStyleModel",
            "_view_count": null,
            "_view_module": "@jupyter-widgets/base",
            "_view_module_version": "1.2.0",
            "_view_name": "StyleView",
            "bar_color": null,
            "description_width": ""
          }
        },
        "ba0fa06bcb1744e8aa596fef10106e54": {
          "model_module": "@jupyter-widgets/base",
          "model_name": "LayoutModel",
          "model_module_version": "1.2.0",
          "state": {
            "_model_module": "@jupyter-widgets/base",
            "_model_module_version": "1.2.0",
            "_model_name": "LayoutModel",
            "_view_count": null,
            "_view_module": "@jupyter-widgets/base",
            "_view_module_version": "1.2.0",
            "_view_name": "LayoutView",
            "align_content": null,
            "align_items": null,
            "align_self": null,
            "border": null,
            "bottom": null,
            "display": null,
            "flex": null,
            "flex_flow": null,
            "grid_area": null,
            "grid_auto_columns": null,
            "grid_auto_flow": null,
            "grid_auto_rows": null,
            "grid_column": null,
            "grid_gap": null,
            "grid_row": null,
            "grid_template_areas": null,
            "grid_template_columns": null,
            "grid_template_rows": null,
            "height": null,
            "justify_content": null,
            "justify_items": null,
            "left": null,
            "margin": null,
            "max_height": null,
            "max_width": null,
            "min_height": null,
            "min_width": null,
            "object_fit": null,
            "object_position": null,
            "order": null,
            "overflow": null,
            "overflow_x": null,
            "overflow_y": null,
            "padding": null,
            "right": null,
            "top": null,
            "visibility": null,
            "width": null
          }
        },
        "a24e70bb1d43448cb7ca1821f64ab7ed": {
          "model_module": "@jupyter-widgets/controls",
          "model_name": "DescriptionStyleModel",
          "model_module_version": "1.5.0",
          "state": {
            "_model_module": "@jupyter-widgets/controls",
            "_model_module_version": "1.5.0",
            "_model_name": "DescriptionStyleModel",
            "_view_count": null,
            "_view_module": "@jupyter-widgets/base",
            "_view_module_version": "1.2.0",
            "_view_name": "StyleView",
            "description_width": ""
          }
        },
        "bfbc8d7081434ebbbdb3fb14694b9908": {
          "model_module": "@jupyter-widgets/controls",
          "model_name": "HBoxModel",
          "model_module_version": "1.5.0",
          "state": {
            "_dom_classes": [],
            "_model_module": "@jupyter-widgets/controls",
            "_model_module_version": "1.5.0",
            "_model_name": "HBoxModel",
            "_view_count": null,
            "_view_module": "@jupyter-widgets/controls",
            "_view_module_version": "1.5.0",
            "_view_name": "HBoxView",
            "box_style": "",
            "children": [
              "IPY_MODEL_942af90d2e9f4111b7dff041b7ced6a4",
              "IPY_MODEL_9b1dda51a11d4752917a1295ea83499a",
              "IPY_MODEL_c0b2419c67004f1b9a0623291b2c35d8"
            ],
            "layout": "IPY_MODEL_6a0e9be1e67949f58c40a12cd8b07e39"
          }
        },
        "942af90d2e9f4111b7dff041b7ced6a4": {
          "model_module": "@jupyter-widgets/controls",
          "model_name": "HTMLModel",
          "model_module_version": "1.5.0",
          "state": {
            "_dom_classes": [],
            "_model_module": "@jupyter-widgets/controls",
            "_model_module_version": "1.5.0",
            "_model_name": "HTMLModel",
            "_view_count": null,
            "_view_module": "@jupyter-widgets/controls",
            "_view_module_version": "1.5.0",
            "_view_name": "HTMLView",
            "description": "",
            "description_tooltip": null,
            "layout": "IPY_MODEL_1d2339b6e6fc40ab8b366c9a4939ff0f",
            "placeholder": "​",
            "style": "IPY_MODEL_280b26fb389f4cd2a4a664229df90897",
            "value": "train-00003-of-00005.parquet: 100%"
          }
        },
        "9b1dda51a11d4752917a1295ea83499a": {
          "model_module": "@jupyter-widgets/controls",
          "model_name": "FloatProgressModel",
          "model_module_version": "1.5.0",
          "state": {
            "_dom_classes": [],
            "_model_module": "@jupyter-widgets/controls",
            "_model_module_version": "1.5.0",
            "_model_name": "FloatProgressModel",
            "_view_count": null,
            "_view_module": "@jupyter-widgets/controls",
            "_view_module_version": "1.5.0",
            "_view_name": "ProgressView",
            "bar_style": "success",
            "description": "",
            "description_tooltip": null,
            "layout": "IPY_MODEL_abf6c26f3559410b9b19179c24821eb9",
            "max": 244540595,
            "min": 0,
            "orientation": "horizontal",
            "style": "IPY_MODEL_f31c83c25d93452c923d89735daa789f",
            "value": 244540595
          }
        },
        "c0b2419c67004f1b9a0623291b2c35d8": {
          "model_module": "@jupyter-widgets/controls",
          "model_name": "HTMLModel",
          "model_module_version": "1.5.0",
          "state": {
            "_dom_classes": [],
            "_model_module": "@jupyter-widgets/controls",
            "_model_module_version": "1.5.0",
            "_model_name": "HTMLModel",
            "_view_count": null,
            "_view_module": "@jupyter-widgets/controls",
            "_view_module_version": "1.5.0",
            "_view_name": "HTMLView",
            "description": "",
            "description_tooltip": null,
            "layout": "IPY_MODEL_46b245ff5fc4499989f155d243f56937",
            "placeholder": "​",
            "style": "IPY_MODEL_36288d7391db4923bc366beb792d03ce",
            "value": " 245M/245M [00:00&lt;00:00, 244MB/s]"
          }
        },
        "6a0e9be1e67949f58c40a12cd8b07e39": {
          "model_module": "@jupyter-widgets/base",
          "model_name": "LayoutModel",
          "model_module_version": "1.2.0",
          "state": {
            "_model_module": "@jupyter-widgets/base",
            "_model_module_version": "1.2.0",
            "_model_name": "LayoutModel",
            "_view_count": null,
            "_view_module": "@jupyter-widgets/base",
            "_view_module_version": "1.2.0",
            "_view_name": "LayoutView",
            "align_content": null,
            "align_items": null,
            "align_self": null,
            "border": null,
            "bottom": null,
            "display": null,
            "flex": null,
            "flex_flow": null,
            "grid_area": null,
            "grid_auto_columns": null,
            "grid_auto_flow": null,
            "grid_auto_rows": null,
            "grid_column": null,
            "grid_gap": null,
            "grid_row": null,
            "grid_template_areas": null,
            "grid_template_columns": null,
            "grid_template_rows": null,
            "height": null,
            "justify_content": null,
            "justify_items": null,
            "left": null,
            "margin": null,
            "max_height": null,
            "max_width": null,
            "min_height": null,
            "min_width": null,
            "object_fit": null,
            "object_position": null,
            "order": null,
            "overflow": null,
            "overflow_x": null,
            "overflow_y": null,
            "padding": null,
            "right": null,
            "top": null,
            "visibility": null,
            "width": null
          }
        },
        "1d2339b6e6fc40ab8b366c9a4939ff0f": {
          "model_module": "@jupyter-widgets/base",
          "model_name": "LayoutModel",
          "model_module_version": "1.2.0",
          "state": {
            "_model_module": "@jupyter-widgets/base",
            "_model_module_version": "1.2.0",
            "_model_name": "LayoutModel",
            "_view_count": null,
            "_view_module": "@jupyter-widgets/base",
            "_view_module_version": "1.2.0",
            "_view_name": "LayoutView",
            "align_content": null,
            "align_items": null,
            "align_self": null,
            "border": null,
            "bottom": null,
            "display": null,
            "flex": null,
            "flex_flow": null,
            "grid_area": null,
            "grid_auto_columns": null,
            "grid_auto_flow": null,
            "grid_auto_rows": null,
            "grid_column": null,
            "grid_gap": null,
            "grid_row": null,
            "grid_template_areas": null,
            "grid_template_columns": null,
            "grid_template_rows": null,
            "height": null,
            "justify_content": null,
            "justify_items": null,
            "left": null,
            "margin": null,
            "max_height": null,
            "max_width": null,
            "min_height": null,
            "min_width": null,
            "object_fit": null,
            "object_position": null,
            "order": null,
            "overflow": null,
            "overflow_x": null,
            "overflow_y": null,
            "padding": null,
            "right": null,
            "top": null,
            "visibility": null,
            "width": null
          }
        },
        "280b26fb389f4cd2a4a664229df90897": {
          "model_module": "@jupyter-widgets/controls",
          "model_name": "DescriptionStyleModel",
          "model_module_version": "1.5.0",
          "state": {
            "_model_module": "@jupyter-widgets/controls",
            "_model_module_version": "1.5.0",
            "_model_name": "DescriptionStyleModel",
            "_view_count": null,
            "_view_module": "@jupyter-widgets/base",
            "_view_module_version": "1.2.0",
            "_view_name": "StyleView",
            "description_width": ""
          }
        },
        "abf6c26f3559410b9b19179c24821eb9": {
          "model_module": "@jupyter-widgets/base",
          "model_name": "LayoutModel",
          "model_module_version": "1.2.0",
          "state": {
            "_model_module": "@jupyter-widgets/base",
            "_model_module_version": "1.2.0",
            "_model_name": "LayoutModel",
            "_view_count": null,
            "_view_module": "@jupyter-widgets/base",
            "_view_module_version": "1.2.0",
            "_view_name": "LayoutView",
            "align_content": null,
            "align_items": null,
            "align_self": null,
            "border": null,
            "bottom": null,
            "display": null,
            "flex": null,
            "flex_flow": null,
            "grid_area": null,
            "grid_auto_columns": null,
            "grid_auto_flow": null,
            "grid_auto_rows": null,
            "grid_column": null,
            "grid_gap": null,
            "grid_row": null,
            "grid_template_areas": null,
            "grid_template_columns": null,
            "grid_template_rows": null,
            "height": null,
            "justify_content": null,
            "justify_items": null,
            "left": null,
            "margin": null,
            "max_height": null,
            "max_width": null,
            "min_height": null,
            "min_width": null,
            "object_fit": null,
            "object_position": null,
            "order": null,
            "overflow": null,
            "overflow_x": null,
            "overflow_y": null,
            "padding": null,
            "right": null,
            "top": null,
            "visibility": null,
            "width": null
          }
        },
        "f31c83c25d93452c923d89735daa789f": {
          "model_module": "@jupyter-widgets/controls",
          "model_name": "ProgressStyleModel",
          "model_module_version": "1.5.0",
          "state": {
            "_model_module": "@jupyter-widgets/controls",
            "_model_module_version": "1.5.0",
            "_model_name": "ProgressStyleModel",
            "_view_count": null,
            "_view_module": "@jupyter-widgets/base",
            "_view_module_version": "1.2.0",
            "_view_name": "StyleView",
            "bar_color": null,
            "description_width": ""
          }
        },
        "46b245ff5fc4499989f155d243f56937": {
          "model_module": "@jupyter-widgets/base",
          "model_name": "LayoutModel",
          "model_module_version": "1.2.0",
          "state": {
            "_model_module": "@jupyter-widgets/base",
            "_model_module_version": "1.2.0",
            "_model_name": "LayoutModel",
            "_view_count": null,
            "_view_module": "@jupyter-widgets/base",
            "_view_module_version": "1.2.0",
            "_view_name": "LayoutView",
            "align_content": null,
            "align_items": null,
            "align_self": null,
            "border": null,
            "bottom": null,
            "display": null,
            "flex": null,
            "flex_flow": null,
            "grid_area": null,
            "grid_auto_columns": null,
            "grid_auto_flow": null,
            "grid_auto_rows": null,
            "grid_column": null,
            "grid_gap": null,
            "grid_row": null,
            "grid_template_areas": null,
            "grid_template_columns": null,
            "grid_template_rows": null,
            "height": null,
            "justify_content": null,
            "justify_items": null,
            "left": null,
            "margin": null,
            "max_height": null,
            "max_width": null,
            "min_height": null,
            "min_width": null,
            "object_fit": null,
            "object_position": null,
            "order": null,
            "overflow": null,
            "overflow_x": null,
            "overflow_y": null,
            "padding": null,
            "right": null,
            "top": null,
            "visibility": null,
            "width": null
          }
        },
        "36288d7391db4923bc366beb792d03ce": {
          "model_module": "@jupyter-widgets/controls",
          "model_name": "DescriptionStyleModel",
          "model_module_version": "1.5.0",
          "state": {
            "_model_module": "@jupyter-widgets/controls",
            "_model_module_version": "1.5.0",
            "_model_name": "DescriptionStyleModel",
            "_view_count": null,
            "_view_module": "@jupyter-widgets/base",
            "_view_module_version": "1.2.0",
            "_view_name": "StyleView",
            "description_width": ""
          }
        },
        "808880d0807248abb95bb87c6c79a79b": {
          "model_module": "@jupyter-widgets/controls",
          "model_name": "HBoxModel",
          "model_module_version": "1.5.0",
          "state": {
            "_dom_classes": [],
            "_model_module": "@jupyter-widgets/controls",
            "_model_module_version": "1.5.0",
            "_model_name": "HBoxModel",
            "_view_count": null,
            "_view_module": "@jupyter-widgets/controls",
            "_view_module_version": "1.5.0",
            "_view_name": "HBoxView",
            "box_style": "",
            "children": [
              "IPY_MODEL_db8c1155f0b349d9adaa4582e581c7d6",
              "IPY_MODEL_ef15758d1c974ed4b608fdef4aed9fd2",
              "IPY_MODEL_c9726f0d1e3c4f79b370148cc3c6c331"
            ],
            "layout": "IPY_MODEL_29aaf7f51fa843df95c97b509cbb2bc3"
          }
        },
        "db8c1155f0b349d9adaa4582e581c7d6": {
          "model_module": "@jupyter-widgets/controls",
          "model_name": "HTMLModel",
          "model_module_version": "1.5.0",
          "state": {
            "_dom_classes": [],
            "_model_module": "@jupyter-widgets/controls",
            "_model_module_version": "1.5.0",
            "_model_name": "HTMLModel",
            "_view_count": null,
            "_view_module": "@jupyter-widgets/controls",
            "_view_module_version": "1.5.0",
            "_view_name": "HTMLView",
            "description": "",
            "description_tooltip": null,
            "layout": "IPY_MODEL_ae43e344fb614a1881e98c43443cb306",
            "placeholder": "​",
            "style": "IPY_MODEL_2b9ac0d32b7949649220a1bc9a001e82",
            "value": "train-00004-of-00005.parquet: 100%"
          }
        },
        "ef15758d1c974ed4b608fdef4aed9fd2": {
          "model_module": "@jupyter-widgets/controls",
          "model_name": "FloatProgressModel",
          "model_module_version": "1.5.0",
          "state": {
            "_dom_classes": [],
            "_model_module": "@jupyter-widgets/controls",
            "_model_module_version": "1.5.0",
            "_model_name": "FloatProgressModel",
            "_view_count": null,
            "_view_module": "@jupyter-widgets/controls",
            "_view_module_version": "1.5.0",
            "_view_name": "ProgressView",
            "bar_style": "success",
            "description": "",
            "description_tooltip": null,
            "layout": "IPY_MODEL_646d1ce06621459d929d4f39cb5ea3b9",
            "max": 214502216,
            "min": 0,
            "orientation": "horizontal",
            "style": "IPY_MODEL_ebd4f36d4d2b413e8a4eb0cbdd9e2f40",
            "value": 214502216
          }
        },
        "c9726f0d1e3c4f79b370148cc3c6c331": {
          "model_module": "@jupyter-widgets/controls",
          "model_name": "HTMLModel",
          "model_module_version": "1.5.0",
          "state": {
            "_dom_classes": [],
            "_model_module": "@jupyter-widgets/controls",
            "_model_module_version": "1.5.0",
            "_model_name": "HTMLModel",
            "_view_count": null,
            "_view_module": "@jupyter-widgets/controls",
            "_view_module_version": "1.5.0",
            "_view_name": "HTMLView",
            "description": "",
            "description_tooltip": null,
            "layout": "IPY_MODEL_2a27845c879246789ecde9ba990d5a50",
            "placeholder": "​",
            "style": "IPY_MODEL_f302c8d540a1443681f3f3a7c078333b",
            "value": " 215M/215M [00:00&lt;00:00, 205MB/s]"
          }
        },
        "29aaf7f51fa843df95c97b509cbb2bc3": {
          "model_module": "@jupyter-widgets/base",
          "model_name": "LayoutModel",
          "model_module_version": "1.2.0",
          "state": {
            "_model_module": "@jupyter-widgets/base",
            "_model_module_version": "1.2.0",
            "_model_name": "LayoutModel",
            "_view_count": null,
            "_view_module": "@jupyter-widgets/base",
            "_view_module_version": "1.2.0",
            "_view_name": "LayoutView",
            "align_content": null,
            "align_items": null,
            "align_self": null,
            "border": null,
            "bottom": null,
            "display": null,
            "flex": null,
            "flex_flow": null,
            "grid_area": null,
            "grid_auto_columns": null,
            "grid_auto_flow": null,
            "grid_auto_rows": null,
            "grid_column": null,
            "grid_gap": null,
            "grid_row": null,
            "grid_template_areas": null,
            "grid_template_columns": null,
            "grid_template_rows": null,
            "height": null,
            "justify_content": null,
            "justify_items": null,
            "left": null,
            "margin": null,
            "max_height": null,
            "max_width": null,
            "min_height": null,
            "min_width": null,
            "object_fit": null,
            "object_position": null,
            "order": null,
            "overflow": null,
            "overflow_x": null,
            "overflow_y": null,
            "padding": null,
            "right": null,
            "top": null,
            "visibility": null,
            "width": null
          }
        },
        "ae43e344fb614a1881e98c43443cb306": {
          "model_module": "@jupyter-widgets/base",
          "model_name": "LayoutModel",
          "model_module_version": "1.2.0",
          "state": {
            "_model_module": "@jupyter-widgets/base",
            "_model_module_version": "1.2.0",
            "_model_name": "LayoutModel",
            "_view_count": null,
            "_view_module": "@jupyter-widgets/base",
            "_view_module_version": "1.2.0",
            "_view_name": "LayoutView",
            "align_content": null,
            "align_items": null,
            "align_self": null,
            "border": null,
            "bottom": null,
            "display": null,
            "flex": null,
            "flex_flow": null,
            "grid_area": null,
            "grid_auto_columns": null,
            "grid_auto_flow": null,
            "grid_auto_rows": null,
            "grid_column": null,
            "grid_gap": null,
            "grid_row": null,
            "grid_template_areas": null,
            "grid_template_columns": null,
            "grid_template_rows": null,
            "height": null,
            "justify_content": null,
            "justify_items": null,
            "left": null,
            "margin": null,
            "max_height": null,
            "max_width": null,
            "min_height": null,
            "min_width": null,
            "object_fit": null,
            "object_position": null,
            "order": null,
            "overflow": null,
            "overflow_x": null,
            "overflow_y": null,
            "padding": null,
            "right": null,
            "top": null,
            "visibility": null,
            "width": null
          }
        },
        "2b9ac0d32b7949649220a1bc9a001e82": {
          "model_module": "@jupyter-widgets/controls",
          "model_name": "DescriptionStyleModel",
          "model_module_version": "1.5.0",
          "state": {
            "_model_module": "@jupyter-widgets/controls",
            "_model_module_version": "1.5.0",
            "_model_name": "DescriptionStyleModel",
            "_view_count": null,
            "_view_module": "@jupyter-widgets/base",
            "_view_module_version": "1.2.0",
            "_view_name": "StyleView",
            "description_width": ""
          }
        },
        "646d1ce06621459d929d4f39cb5ea3b9": {
          "model_module": "@jupyter-widgets/base",
          "model_name": "LayoutModel",
          "model_module_version": "1.2.0",
          "state": {
            "_model_module": "@jupyter-widgets/base",
            "_model_module_version": "1.2.0",
            "_model_name": "LayoutModel",
            "_view_count": null,
            "_view_module": "@jupyter-widgets/base",
            "_view_module_version": "1.2.0",
            "_view_name": "LayoutView",
            "align_content": null,
            "align_items": null,
            "align_self": null,
            "border": null,
            "bottom": null,
            "display": null,
            "flex": null,
            "flex_flow": null,
            "grid_area": null,
            "grid_auto_columns": null,
            "grid_auto_flow": null,
            "grid_auto_rows": null,
            "grid_column": null,
            "grid_gap": null,
            "grid_row": null,
            "grid_template_areas": null,
            "grid_template_columns": null,
            "grid_template_rows": null,
            "height": null,
            "justify_content": null,
            "justify_items": null,
            "left": null,
            "margin": null,
            "max_height": null,
            "max_width": null,
            "min_height": null,
            "min_width": null,
            "object_fit": null,
            "object_position": null,
            "order": null,
            "overflow": null,
            "overflow_x": null,
            "overflow_y": null,
            "padding": null,
            "right": null,
            "top": null,
            "visibility": null,
            "width": null
          }
        },
        "ebd4f36d4d2b413e8a4eb0cbdd9e2f40": {
          "model_module": "@jupyter-widgets/controls",
          "model_name": "ProgressStyleModel",
          "model_module_version": "1.5.0",
          "state": {
            "_model_module": "@jupyter-widgets/controls",
            "_model_module_version": "1.5.0",
            "_model_name": "ProgressStyleModel",
            "_view_count": null,
            "_view_module": "@jupyter-widgets/base",
            "_view_module_version": "1.2.0",
            "_view_name": "StyleView",
            "bar_color": null,
            "description_width": ""
          }
        },
        "2a27845c879246789ecde9ba990d5a50": {
          "model_module": "@jupyter-widgets/base",
          "model_name": "LayoutModel",
          "model_module_version": "1.2.0",
          "state": {
            "_model_module": "@jupyter-widgets/base",
            "_model_module_version": "1.2.0",
            "_model_name": "LayoutModel",
            "_view_count": null,
            "_view_module": "@jupyter-widgets/base",
            "_view_module_version": "1.2.0",
            "_view_name": "LayoutView",
            "align_content": null,
            "align_items": null,
            "align_self": null,
            "border": null,
            "bottom": null,
            "display": null,
            "flex": null,
            "flex_flow": null,
            "grid_area": null,
            "grid_auto_columns": null,
            "grid_auto_flow": null,
            "grid_auto_rows": null,
            "grid_column": null,
            "grid_gap": null,
            "grid_row": null,
            "grid_template_areas": null,
            "grid_template_columns": null,
            "grid_template_rows": null,
            "height": null,
            "justify_content": null,
            "justify_items": null,
            "left": null,
            "margin": null,
            "max_height": null,
            "max_width": null,
            "min_height": null,
            "min_width": null,
            "object_fit": null,
            "object_position": null,
            "order": null,
            "overflow": null,
            "overflow_x": null,
            "overflow_y": null,
            "padding": null,
            "right": null,
            "top": null,
            "visibility": null,
            "width": null
          }
        },
        "f302c8d540a1443681f3f3a7c078333b": {
          "model_module": "@jupyter-widgets/controls",
          "model_name": "DescriptionStyleModel",
          "model_module_version": "1.5.0",
          "state": {
            "_model_module": "@jupyter-widgets/controls",
            "_model_module_version": "1.5.0",
            "_model_name": "DescriptionStyleModel",
            "_view_count": null,
            "_view_module": "@jupyter-widgets/base",
            "_view_module_version": "1.2.0",
            "_view_name": "StyleView",
            "description_width": ""
          }
        },
        "eaddbf9a120f4d3d96d5893285da1ccd": {
          "model_module": "@jupyter-widgets/controls",
          "model_name": "HBoxModel",
          "model_module_version": "1.5.0",
          "state": {
            "_dom_classes": [],
            "_model_module": "@jupyter-widgets/controls",
            "_model_module_version": "1.5.0",
            "_model_name": "HBoxModel",
            "_view_count": null,
            "_view_module": "@jupyter-widgets/controls",
            "_view_module_version": "1.5.0",
            "_view_name": "HBoxView",
            "box_style": "",
            "children": [
              "IPY_MODEL_ed739785f2814de5b14ece3f136730c5",
              "IPY_MODEL_39b45ce297b445b09f74a1a3feed2be2",
              "IPY_MODEL_7c00e73405844d10b82d93b759a887ce"
            ],
            "layout": "IPY_MODEL_061dcb59cc1b4fcbb450af98ee8f398a"
          }
        },
        "ed739785f2814de5b14ece3f136730c5": {
          "model_module": "@jupyter-widgets/controls",
          "model_name": "HTMLModel",
          "model_module_version": "1.5.0",
          "state": {
            "_dom_classes": [],
            "_model_module": "@jupyter-widgets/controls",
            "_model_module_version": "1.5.0",
            "_model_name": "HTMLModel",
            "_view_count": null,
            "_view_module": "@jupyter-widgets/controls",
            "_view_module_version": "1.5.0",
            "_view_name": "HTMLView",
            "description": "",
            "description_tooltip": null,
            "layout": "IPY_MODEL_dd01c1d1a18f49f68637216c0fb7891e",
            "placeholder": "​",
            "style": "IPY_MODEL_1c553bc6e9f54ea69bd32f27e48d37b1",
            "value": "Generating train split: 100%"
          }
        },
        "39b45ce297b445b09f74a1a3feed2be2": {
          "model_module": "@jupyter-widgets/controls",
          "model_name": "FloatProgressModel",
          "model_module_version": "1.5.0",
          "state": {
            "_dom_classes": [],
            "_model_module": "@jupyter-widgets/controls",
            "_model_module_version": "1.5.0",
            "_model_name": "FloatProgressModel",
            "_view_count": null,
            "_view_module": "@jupyter-widgets/controls",
            "_view_module_version": "1.5.0",
            "_view_name": "ProgressView",
            "bar_style": "success",
            "description": "",
            "description_tooltip": null,
            "layout": "IPY_MODEL_0c1d0819498645e7be63e95132a5a918",
            "max": 708241,
            "min": 0,
            "orientation": "horizontal",
            "style": "IPY_MODEL_374311c7c77d4d91833cf04b70b6d5f0",
            "value": 708241
          }
        },
        "7c00e73405844d10b82d93b759a887ce": {
          "model_module": "@jupyter-widgets/controls",
          "model_name": "HTMLModel",
          "model_module_version": "1.5.0",
          "state": {
            "_dom_classes": [],
            "_model_module": "@jupyter-widgets/controls",
            "_model_module_version": "1.5.0",
            "_model_name": "HTMLModel",
            "_view_count": null,
            "_view_module": "@jupyter-widgets/controls",
            "_view_module_version": "1.5.0",
            "_view_name": "HTMLView",
            "description": "",
            "description_tooltip": null,
            "layout": "IPY_MODEL_b4ae4cd932cf43e489a0e5783c883959",
            "placeholder": "​",
            "style": "IPY_MODEL_e8fd13f844f6424a990f8c481c477807",
            "value": " 708241/708241 [00:10&lt;00:00, 37410.02 examples/s]"
          }
        },
        "061dcb59cc1b4fcbb450af98ee8f398a": {
          "model_module": "@jupyter-widgets/base",
          "model_name": "LayoutModel",
          "model_module_version": "1.2.0",
          "state": {
            "_model_module": "@jupyter-widgets/base",
            "_model_module_version": "1.2.0",
            "_model_name": "LayoutModel",
            "_view_count": null,
            "_view_module": "@jupyter-widgets/base",
            "_view_module_version": "1.2.0",
            "_view_name": "LayoutView",
            "align_content": null,
            "align_items": null,
            "align_self": null,
            "border": null,
            "bottom": null,
            "display": null,
            "flex": null,
            "flex_flow": null,
            "grid_area": null,
            "grid_auto_columns": null,
            "grid_auto_flow": null,
            "grid_auto_rows": null,
            "grid_column": null,
            "grid_gap": null,
            "grid_row": null,
            "grid_template_areas": null,
            "grid_template_columns": null,
            "grid_template_rows": null,
            "height": null,
            "justify_content": null,
            "justify_items": null,
            "left": null,
            "margin": null,
            "max_height": null,
            "max_width": null,
            "min_height": null,
            "min_width": null,
            "object_fit": null,
            "object_position": null,
            "order": null,
            "overflow": null,
            "overflow_x": null,
            "overflow_y": null,
            "padding": null,
            "right": null,
            "top": null,
            "visibility": null,
            "width": null
          }
        },
        "dd01c1d1a18f49f68637216c0fb7891e": {
          "model_module": "@jupyter-widgets/base",
          "model_name": "LayoutModel",
          "model_module_version": "1.2.0",
          "state": {
            "_model_module": "@jupyter-widgets/base",
            "_model_module_version": "1.2.0",
            "_model_name": "LayoutModel",
            "_view_count": null,
            "_view_module": "@jupyter-widgets/base",
            "_view_module_version": "1.2.0",
            "_view_name": "LayoutView",
            "align_content": null,
            "align_items": null,
            "align_self": null,
            "border": null,
            "bottom": null,
            "display": null,
            "flex": null,
            "flex_flow": null,
            "grid_area": null,
            "grid_auto_columns": null,
            "grid_auto_flow": null,
            "grid_auto_rows": null,
            "grid_column": null,
            "grid_gap": null,
            "grid_row": null,
            "grid_template_areas": null,
            "grid_template_columns": null,
            "grid_template_rows": null,
            "height": null,
            "justify_content": null,
            "justify_items": null,
            "left": null,
            "margin": null,
            "max_height": null,
            "max_width": null,
            "min_height": null,
            "min_width": null,
            "object_fit": null,
            "object_position": null,
            "order": null,
            "overflow": null,
            "overflow_x": null,
            "overflow_y": null,
            "padding": null,
            "right": null,
            "top": null,
            "visibility": null,
            "width": null
          }
        },
        "1c553bc6e9f54ea69bd32f27e48d37b1": {
          "model_module": "@jupyter-widgets/controls",
          "model_name": "DescriptionStyleModel",
          "model_module_version": "1.5.0",
          "state": {
            "_model_module": "@jupyter-widgets/controls",
            "_model_module_version": "1.5.0",
            "_model_name": "DescriptionStyleModel",
            "_view_count": null,
            "_view_module": "@jupyter-widgets/base",
            "_view_module_version": "1.2.0",
            "_view_name": "StyleView",
            "description_width": ""
          }
        },
        "0c1d0819498645e7be63e95132a5a918": {
          "model_module": "@jupyter-widgets/base",
          "model_name": "LayoutModel",
          "model_module_version": "1.2.0",
          "state": {
            "_model_module": "@jupyter-widgets/base",
            "_model_module_version": "1.2.0",
            "_model_name": "LayoutModel",
            "_view_count": null,
            "_view_module": "@jupyter-widgets/base",
            "_view_module_version": "1.2.0",
            "_view_name": "LayoutView",
            "align_content": null,
            "align_items": null,
            "align_self": null,
            "border": null,
            "bottom": null,
            "display": null,
            "flex": null,
            "flex_flow": null,
            "grid_area": null,
            "grid_auto_columns": null,
            "grid_auto_flow": null,
            "grid_auto_rows": null,
            "grid_column": null,
            "grid_gap": null,
            "grid_row": null,
            "grid_template_areas": null,
            "grid_template_columns": null,
            "grid_template_rows": null,
            "height": null,
            "justify_content": null,
            "justify_items": null,
            "left": null,
            "margin": null,
            "max_height": null,
            "max_width": null,
            "min_height": null,
            "min_width": null,
            "object_fit": null,
            "object_position": null,
            "order": null,
            "overflow": null,
            "overflow_x": null,
            "overflow_y": null,
            "padding": null,
            "right": null,
            "top": null,
            "visibility": null,
            "width": null
          }
        },
        "374311c7c77d4d91833cf04b70b6d5f0": {
          "model_module": "@jupyter-widgets/controls",
          "model_name": "ProgressStyleModel",
          "model_module_version": "1.5.0",
          "state": {
            "_model_module": "@jupyter-widgets/controls",
            "_model_module_version": "1.5.0",
            "_model_name": "ProgressStyleModel",
            "_view_count": null,
            "_view_module": "@jupyter-widgets/base",
            "_view_module_version": "1.2.0",
            "_view_name": "StyleView",
            "bar_color": null,
            "description_width": ""
          }
        },
        "b4ae4cd932cf43e489a0e5783c883959": {
          "model_module": "@jupyter-widgets/base",
          "model_name": "LayoutModel",
          "model_module_version": "1.2.0",
          "state": {
            "_model_module": "@jupyter-widgets/base",
            "_model_module_version": "1.2.0",
            "_model_name": "LayoutModel",
            "_view_count": null,
            "_view_module": "@jupyter-widgets/base",
            "_view_module_version": "1.2.0",
            "_view_name": "LayoutView",
            "align_content": null,
            "align_items": null,
            "align_self": null,
            "border": null,
            "bottom": null,
            "display": null,
            "flex": null,
            "flex_flow": null,
            "grid_area": null,
            "grid_auto_columns": null,
            "grid_auto_flow": null,
            "grid_auto_rows": null,
            "grid_column": null,
            "grid_gap": null,
            "grid_row": null,
            "grid_template_areas": null,
            "grid_template_columns": null,
            "grid_template_rows": null,
            "height": null,
            "justify_content": null,
            "justify_items": null,
            "left": null,
            "margin": null,
            "max_height": null,
            "max_width": null,
            "min_height": null,
            "min_width": null,
            "object_fit": null,
            "object_position": null,
            "order": null,
            "overflow": null,
            "overflow_x": null,
            "overflow_y": null,
            "padding": null,
            "right": null,
            "top": null,
            "visibility": null,
            "width": null
          }
        },
        "e8fd13f844f6424a990f8c481c477807": {
          "model_module": "@jupyter-widgets/controls",
          "model_name": "DescriptionStyleModel",
          "model_module_version": "1.5.0",
          "state": {
            "_model_module": "@jupyter-widgets/controls",
            "_model_module_version": "1.5.0",
            "_model_name": "DescriptionStyleModel",
            "_view_count": null,
            "_view_module": "@jupyter-widgets/base",
            "_view_module_version": "1.2.0",
            "_view_name": "StyleView",
            "description_width": ""
          }
        },
        "6e1a4d219ca441719448bd5cafc10efe": {
          "model_module": "@jupyter-widgets/controls",
          "model_name": "HBoxModel",
          "model_module_version": "1.5.0",
          "state": {
            "_dom_classes": [],
            "_model_module": "@jupyter-widgets/controls",
            "_model_module_version": "1.5.0",
            "_model_name": "HBoxModel",
            "_view_count": null,
            "_view_module": "@jupyter-widgets/controls",
            "_view_module_version": "1.5.0",
            "_view_name": "HBoxView",
            "box_style": "",
            "children": [
              "IPY_MODEL_31d5620c83ba490eaf6f203354348c8d",
              "IPY_MODEL_381c4bb8da684e64986fc90d4ccee5e4",
              "IPY_MODEL_c69fbb27538f4c9b8bacadf5f4702bbe"
            ],
            "layout": "IPY_MODEL_f315e0eec04147e79c2cdb8e65da38b6"
          }
        },
        "31d5620c83ba490eaf6f203354348c8d": {
          "model_module": "@jupyter-widgets/controls",
          "model_name": "HTMLModel",
          "model_module_version": "1.5.0",
          "state": {
            "_dom_classes": [],
            "_model_module": "@jupyter-widgets/controls",
            "_model_module_version": "1.5.0",
            "_model_name": "HTMLModel",
            "_view_count": null,
            "_view_module": "@jupyter-widgets/controls",
            "_view_module_version": "1.5.0",
            "_view_name": "HTMLView",
            "description": "",
            "description_tooltip": null,
            "layout": "IPY_MODEL_41d51228f32649dd8541ad7b12b1a6e4",
            "placeholder": "​",
            "style": "IPY_MODEL_aba6b8925bd04717a7a97b078178b0a1",
            "value": "Generating train split: "
          }
        },
        "381c4bb8da684e64986fc90d4ccee5e4": {
          "model_module": "@jupyter-widgets/controls",
          "model_name": "FloatProgressModel",
          "model_module_version": "1.5.0",
          "state": {
            "_dom_classes": [],
            "_model_module": "@jupyter-widgets/controls",
            "_model_module_version": "1.5.0",
            "_model_name": "FloatProgressModel",
            "_view_count": null,
            "_view_module": "@jupyter-widgets/controls",
            "_view_module_version": "1.5.0",
            "_view_name": "ProgressView",
            "bar_style": "success",
            "description": "",
            "description_tooltip": null,
            "layout": "IPY_MODEL_9e27b048282440aa9b9ec9b8de354394",
            "max": 1,
            "min": 0,
            "orientation": "horizontal",
            "style": "IPY_MODEL_898be2e0f8aa442187f07877fe6e220e",
            "value": 1
          }
        },
        "c69fbb27538f4c9b8bacadf5f4702bbe": {
          "model_module": "@jupyter-widgets/controls",
          "model_name": "HTMLModel",
          "model_module_version": "1.5.0",
          "state": {
            "_dom_classes": [],
            "_model_module": "@jupyter-widgets/controls",
            "_model_module_version": "1.5.0",
            "_model_name": "HTMLModel",
            "_view_count": null,
            "_view_module": "@jupyter-widgets/controls",
            "_view_module_version": "1.5.0",
            "_view_name": "HTMLView",
            "description": "",
            "description_tooltip": null,
            "layout": "IPY_MODEL_5dacedee21e24ea8a87fd75e9934fa70",
            "placeholder": "​",
            "style": "IPY_MODEL_357dfc9fbb40446585b32773e549e8b3",
            "value": " 71909/0 [00:00&lt;00:00, 121341.76 examples/s]"
          }
        },
        "f315e0eec04147e79c2cdb8e65da38b6": {
          "model_module": "@jupyter-widgets/base",
          "model_name": "LayoutModel",
          "model_module_version": "1.2.0",
          "state": {
            "_model_module": "@jupyter-widgets/base",
            "_model_module_version": "1.2.0",
            "_model_name": "LayoutModel",
            "_view_count": null,
            "_view_module": "@jupyter-widgets/base",
            "_view_module_version": "1.2.0",
            "_view_name": "LayoutView",
            "align_content": null,
            "align_items": null,
            "align_self": null,
            "border": null,
            "bottom": null,
            "display": null,
            "flex": null,
            "flex_flow": null,
            "grid_area": null,
            "grid_auto_columns": null,
            "grid_auto_flow": null,
            "grid_auto_rows": null,
            "grid_column": null,
            "grid_gap": null,
            "grid_row": null,
            "grid_template_areas": null,
            "grid_template_columns": null,
            "grid_template_rows": null,
            "height": null,
            "justify_content": null,
            "justify_items": null,
            "left": null,
            "margin": null,
            "max_height": null,
            "max_width": null,
            "min_height": null,
            "min_width": null,
            "object_fit": null,
            "object_position": null,
            "order": null,
            "overflow": null,
            "overflow_x": null,
            "overflow_y": null,
            "padding": null,
            "right": null,
            "top": null,
            "visibility": null,
            "width": null
          }
        },
        "41d51228f32649dd8541ad7b12b1a6e4": {
          "model_module": "@jupyter-widgets/base",
          "model_name": "LayoutModel",
          "model_module_version": "1.2.0",
          "state": {
            "_model_module": "@jupyter-widgets/base",
            "_model_module_version": "1.2.0",
            "_model_name": "LayoutModel",
            "_view_count": null,
            "_view_module": "@jupyter-widgets/base",
            "_view_module_version": "1.2.0",
            "_view_name": "LayoutView",
            "align_content": null,
            "align_items": null,
            "align_self": null,
            "border": null,
            "bottom": null,
            "display": null,
            "flex": null,
            "flex_flow": null,
            "grid_area": null,
            "grid_auto_columns": null,
            "grid_auto_flow": null,
            "grid_auto_rows": null,
            "grid_column": null,
            "grid_gap": null,
            "grid_row": null,
            "grid_template_areas": null,
            "grid_template_columns": null,
            "grid_template_rows": null,
            "height": null,
            "justify_content": null,
            "justify_items": null,
            "left": null,
            "margin": null,
            "max_height": null,
            "max_width": null,
            "min_height": null,
            "min_width": null,
            "object_fit": null,
            "object_position": null,
            "order": null,
            "overflow": null,
            "overflow_x": null,
            "overflow_y": null,
            "padding": null,
            "right": null,
            "top": null,
            "visibility": null,
            "width": null
          }
        },
        "aba6b8925bd04717a7a97b078178b0a1": {
          "model_module": "@jupyter-widgets/controls",
          "model_name": "DescriptionStyleModel",
          "model_module_version": "1.5.0",
          "state": {
            "_model_module": "@jupyter-widgets/controls",
            "_model_module_version": "1.5.0",
            "_model_name": "DescriptionStyleModel",
            "_view_count": null,
            "_view_module": "@jupyter-widgets/base",
            "_view_module_version": "1.2.0",
            "_view_name": "StyleView",
            "description_width": ""
          }
        },
        "9e27b048282440aa9b9ec9b8de354394": {
          "model_module": "@jupyter-widgets/base",
          "model_name": "LayoutModel",
          "model_module_version": "1.2.0",
          "state": {
            "_model_module": "@jupyter-widgets/base",
            "_model_module_version": "1.2.0",
            "_model_name": "LayoutModel",
            "_view_count": null,
            "_view_module": "@jupyter-widgets/base",
            "_view_module_version": "1.2.0",
            "_view_name": "LayoutView",
            "align_content": null,
            "align_items": null,
            "align_self": null,
            "border": null,
            "bottom": null,
            "display": null,
            "flex": null,
            "flex_flow": null,
            "grid_area": null,
            "grid_auto_columns": null,
            "grid_auto_flow": null,
            "grid_auto_rows": null,
            "grid_column": null,
            "grid_gap": null,
            "grid_row": null,
            "grid_template_areas": null,
            "grid_template_columns": null,
            "grid_template_rows": null,
            "height": null,
            "justify_content": null,
            "justify_items": null,
            "left": null,
            "margin": null,
            "max_height": null,
            "max_width": null,
            "min_height": null,
            "min_width": null,
            "object_fit": null,
            "object_position": null,
            "order": null,
            "overflow": null,
            "overflow_x": null,
            "overflow_y": null,
            "padding": null,
            "right": null,
            "top": null,
            "visibility": null,
            "width": "20px"
          }
        },
        "898be2e0f8aa442187f07877fe6e220e": {
          "model_module": "@jupyter-widgets/controls",
          "model_name": "ProgressStyleModel",
          "model_module_version": "1.5.0",
          "state": {
            "_model_module": "@jupyter-widgets/controls",
            "_model_module_version": "1.5.0",
            "_model_name": "ProgressStyleModel",
            "_view_count": null,
            "_view_module": "@jupyter-widgets/base",
            "_view_module_version": "1.2.0",
            "_view_name": "StyleView",
            "bar_color": null,
            "description_width": ""
          }
        },
        "5dacedee21e24ea8a87fd75e9934fa70": {
          "model_module": "@jupyter-widgets/base",
          "model_name": "LayoutModel",
          "model_module_version": "1.2.0",
          "state": {
            "_model_module": "@jupyter-widgets/base",
            "_model_module_version": "1.2.0",
            "_model_name": "LayoutModel",
            "_view_count": null,
            "_view_module": "@jupyter-widgets/base",
            "_view_module_version": "1.2.0",
            "_view_name": "LayoutView",
            "align_content": null,
            "align_items": null,
            "align_self": null,
            "border": null,
            "bottom": null,
            "display": null,
            "flex": null,
            "flex_flow": null,
            "grid_area": null,
            "grid_auto_columns": null,
            "grid_auto_flow": null,
            "grid_auto_rows": null,
            "grid_column": null,
            "grid_gap": null,
            "grid_row": null,
            "grid_template_areas": null,
            "grid_template_columns": null,
            "grid_template_rows": null,
            "height": null,
            "justify_content": null,
            "justify_items": null,
            "left": null,
            "margin": null,
            "max_height": null,
            "max_width": null,
            "min_height": null,
            "min_width": null,
            "object_fit": null,
            "object_position": null,
            "order": null,
            "overflow": null,
            "overflow_x": null,
            "overflow_y": null,
            "padding": null,
            "right": null,
            "top": null,
            "visibility": null,
            "width": null
          }
        },
        "357dfc9fbb40446585b32773e549e8b3": {
          "model_module": "@jupyter-widgets/controls",
          "model_name": "DescriptionStyleModel",
          "model_module_version": "1.5.0",
          "state": {
            "_model_module": "@jupyter-widgets/controls",
            "_model_module_version": "1.5.0",
            "_model_name": "DescriptionStyleModel",
            "_view_count": null,
            "_view_module": "@jupyter-widgets/base",
            "_view_module_version": "1.2.0",
            "_view_name": "StyleView",
            "description_width": ""
          }
        }
      }
    }
  },
  "nbformat": 4,
  "nbformat_minor": 0
}